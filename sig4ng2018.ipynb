{
 "cells": [
  {
   "cell_type": "markdown",
   "metadata": {
    "lc_cell_meme": {
     "current": "2ff68b48-fab8-11e7-82b9-0242ac110002",
     "next": "7b5a1412-fab1-11e7-82b9-0242ac110002",
     "previous": null
    }
   },
   "source": [
    "# IGDA日本 SIG-for NextGeneration\n",
    "\n",
    "```\n",
    "正世話人：長久勝\n",
    "副世話人：尾形美幸\n",
    "　　　　　後藤誠\n",
    "　　　　　湊和久\n",
    "```\n",
    "\n",
    "## ミッション\n",
    "\n",
    "ゲーム開発者が、<font color=\"Red\">次世代を担う若者・子供たち</font>に対して、ゲームタイトルの提供以外にできることを考え、実践する。プロのゲーム開発者との交流、ゲーム業界を支える人材の育成、ゲーム開発を通じたモノづくりや協働の体験提供などを通じ、ゲーム開発者の知見を、<font color=\"Red\">未来の社会に還元</font>する。\n",
    "\n",
    "## スカラーシップ\n",
    "\n",
    "![スカラーシップ](https://i2.wp.com/www.igda.jp/wp-content/uploads/2017/09/20170830-DSC_0323.jpg)\n",
    "\n",
    "CESAなどの支援を受け、CEDECおよびTGSでスカラーシップを提供。合わせてスタジオツアー（株式会社Aiming、株式会社サイバード、ジープラ株式会社、あまた株式会社、株式会社ディー・エヌ・エー）も実施。\n",
    "\n",
    "## ワークショップ\n",
    "\n",
    "![ワークショップ](https://i1.wp.com/www.igda.jp/wp-content/uploads/2017/12/20171103-DSC_0040.jpg)\n",
    "\n",
    "中山隼雄科学技術文化財団などの支援を受け、日本全国に向けた取り組みを実施。今年度は、東京都文京区、山口県周南市、神奈川県逗子市（2/11予定）の3ヶ所。\n",
    "\n",
    "## まだ見ぬあなたへ\n",
    "\n",
    "![まだ見ぬあなたへ](https://auctions.c.yimg.jp/images.auctions.yahoo.co.jp/image/dr187/auc0303/users/5/0/2/6/rumors_r-img313x600-1433922746s8qdny14106.jpg)\n"
   ]
  },
  {
   "cell_type": "markdown",
   "metadata": {
    "lc_cell_meme": {
     "current": "7b5a1412-fab1-11e7-82b9-0242ac110002",
     "history": [
      {
       "current": "7b5a1412-fab1-11e7-82b9-0242ac110002",
       "next": "98b17368-f415-11e7-95ed-0242ac130002",
       "previous": null
      }
     ],
     "next": "98b17368-f415-11e7-95ed-0242ac130002",
     "previous": "2ff68b48-fab8-11e7-82b9-0242ac110002"
    }
   },
   "source": [
    "# 都市雇用圏を用いたデジタルワークショップ体験機会格差の分析\n",
    "\n",
    "中心都市とその都市に通勤する者が一定割合いる周辺地域を合わせたものを「都市雇用圏」と呼ぶ。この都市圏は、雇用のみならず、経済的な結び付き、通学など含めた生活圏を実態として良く表していると考えられる。\n",
    "\n",
    "都市雇用圏は市区町村の集合として定義されており、圏内の市区町村でデジタルワークショップを体験する機会が提供されていれば、開催地の市区町村のみならず、圏内全域に対して機会提供されていると考えることができる。\n",
    "\n",
    "そこで、子供向けプログラミング教室の全国的なリストをいくつか用いて、都市雇用圏ベースでの体験機会空白地特定を試みる。"
   ]
  },
  {
   "cell_type": "markdown",
   "metadata": {
    "heading_collapsed": true,
    "lc_cell_meme": {
     "current": "98b17368-f415-11e7-95ed-0242ac130002",
     "history": [
      {
       "current": "98b17368-f415-11e7-95ed-0242ac130002",
       "next": "35a81ee2-f29f-11e7-b919-0242ac130002",
       "previous": null
      }
     ],
     "next": "35a81ee2-f29f-11e7-b919-0242ac130002",
     "previous": "7b5a1412-fab1-11e7-82b9-0242ac110002"
    }
   },
   "source": [
    "## 都市雇用圏および市区町村のリストを取得\n",
    "\n",
    "\n",
    "\n",
    "大都市雇用圏2010年基準\n",
    "\n",
    "郊外市町村"
   ]
  },
  {
   "cell_type": "code",
   "execution_count": 1,
   "metadata": {
    "deletable": false,
    "editable": false,
    "hidden": true,
    "lc_cell_meme": {
     "current": "35a81ee2-f29f-11e7-b919-0242ac130002",
     "history": [
      {
       "current": "35a81ee2-f29f-11e7-b919-0242ac130002",
       "next": null,
       "previous": null
      },
      {
       "current": "35a81ee2-f29f-11e7-b919-0242ac130002",
       "next": "7ccc6af8-f29f-11e7-b919-0242ac130002",
       "previous": null
      },
      {
       "current": "35a81ee2-f29f-11e7-b919-0242ac130002",
       "next": "7ccc6af8-f29f-11e7-b919-0242ac130002",
       "previous": "98b17368-f415-11e7-95ed-0242ac130002"
      }
     ],
     "next": "27b53f36-f416-11e7-95ed-0242ac130002",
     "previous": "98b17368-f415-11e7-95ed-0242ac130002"
    },
    "pinned_outputs": [],
    "run_through_control": {
     "frozen": true
    }
   },
   "outputs": [
    {
     "name": "stdout",
     "output_type": "stream",
     "text": [
      "1 logs recorded\n",
      "\n",
      "path: /home/jovyan/sig4ng2018/.log/20180226/20180226-033109-0903.log\n",
      "start time: 2018-02-26 03:31:09(UTC)\n",
      "end time: 2018-02-26 03:31:10(UTC)\n",
      "output size: 947 bytes\n",
      "1 chunks with matched keywords or errors\n",
      "----\n",
      "--2018-02-26 03:31:10--  http://www.csis.u-tokyo.ac.jp/UEA/MEA2010.csv\n",
      "Resolving www.csis.u-tokyo.ac.jp (www.csis.u-tokyo.ac.jp)... \n",
      "157.82.234.36\n",
      "Connecting to www.csis.u-tokyo.ac.jp (www.csis.u-tokyo.ac.jp)|157.82.234.36|:80... connected.\n",
      "HTTP request sent, awaiting response... \n",
      "200 OK\n",
      "Length: 60078 (59K) [text/csv]\n",
      "Saving to: ‘MEA2010.csv’\n",
      "\n",
      "\n",
      "MEA2010.csv           0%[                    ]       0  --.-KB/s               \n",
      "\n",
      "MEA2010.csv         100%[===================>]  58.67K  --.-KB/s    in 0.02s   \n",
      "\n",
      "2018-02-26 03:31:10 (2.53 MB/s) - ‘MEA2010.csv’ saved [60078/60078]\n"
     ]
    }
   ],
   "source": [
    "!wget http://www.csis.u-tokyo.ac.jp/UEA/MEA2010.csv"
   ]
  },
  {
   "cell_type": "markdown",
   "metadata": {
    "hidden": true,
    "lc_cell_meme": {
     "current": "27b53f36-f416-11e7-95ed-0242ac130002",
     "next": "7ccc6af8-f29f-11e7-b919-0242ac130002",
     "previous": "35a81ee2-f29f-11e7-b919-0242ac130002"
    }
   },
   "source": [
    "中心市町村"
   ]
  },
  {
   "cell_type": "code",
   "execution_count": 2,
   "metadata": {
    "deletable": false,
    "editable": false,
    "hidden": true,
    "lc_cell_meme": {
     "current": "7ccc6af8-f29f-11e7-b919-0242ac130002",
     "history": [
      {
       "current": "7ccc6af8-f29f-11e7-b919-0242ac130002",
       "next": "7ccc6d0a-f29f-11e7-b919-0242ac130002",
       "previous": "35a81ee2-f29f-11e7-b919-0242ac130002"
      }
     ],
     "next": "27b5403a-f416-11e7-95ed-0242ac130002",
     "previous": "27b53f36-f416-11e7-95ed-0242ac130002"
    },
    "pinned_outputs": [],
    "run_through_control": {
     "frozen": true
    }
   },
   "outputs": [
    {
     "name": "stdout",
     "output_type": "stream",
     "text": [
      "1 logs recorded\n",
      "\n",
      "path: /home/jovyan/sig4ng2018/.log/20180226/20180226-033110-0624.log\n",
      "start time: 2018-02-26 03:31:10(UTC)\n",
      "end time: 2018-02-26 03:31:10(UTC)\n",
      "output size: 951 bytes\n",
      "1 chunks with matched keywords or errors\n",
      "----\n",
      "--2018-02-26 03:31:10--  http://www.csis.u-tokyo.ac.jp/UEA/MEA2010C.csv\n",
      "Resolving www.csis.u-tokyo.ac.jp (www.csis.u-tokyo.ac.jp)... 157.82.234.36\n",
      "Connecting to www.csis.u-tokyo.ac.jp (www.csis.u-tokyo.ac.jp)|157.82.234.36|:80... connected.\n",
      "HTTP request sent, awaiting response... 200 OK\n",
      "Length: 11425 (11K) [text/csv]\n",
      "Saving to: ‘MEA2010C.csv’\n",
      "\n",
      "\n",
      "MEA2010C.csv          0%[                    ]       0  --.-KB/s               \n",
      "MEA2010C.csv        100%[===================>]  11.16K  --.-KB/s    in 0.005s  \n",
      "\n",
      "2018-02-26 03:31:10 (2.17 MB/s) - ‘MEA2010C.csv’ saved [11425/11425]\n"
     ]
    }
   ],
   "source": [
    "!wget http://www.csis.u-tokyo.ac.jp/UEA/MEA2010C.csv"
   ]
  },
  {
   "cell_type": "markdown",
   "metadata": {
    "hidden": true,
    "lc_cell_meme": {
     "current": "27b5403a-f416-11e7-95ed-0242ac130002",
     "next": "7ccc6d0a-f29f-11e7-b919-0242ac130002",
     "previous": "7ccc6af8-f29f-11e7-b919-0242ac130002"
    }
   },
   "source": [
    "小都市雇用圏2010年基準\n",
    "\n",
    "郊外市町村"
   ]
  },
  {
   "cell_type": "code",
   "execution_count": 3,
   "metadata": {
    "deletable": false,
    "editable": false,
    "hidden": true,
    "lc_cell_meme": {
     "current": "7ccc6d0a-f29f-11e7-b919-0242ac130002",
     "history": [
      {
       "current": "7ccc6d0a-f29f-11e7-b919-0242ac130002",
       "next": null,
       "previous": "7ccc6af8-f29f-11e7-b919-0242ac130002"
      },
      {
       "current": "7ccc6d0a-f29f-11e7-b919-0242ac130002",
       "next": "c4b46604-f29f-11e7-b919-0242ac130002",
       "previous": "7ccc6af8-f29f-11e7-b919-0242ac130002"
      },
      {
       "current": "7ccc6d0a-f29f-11e7-b919-0242ac130002",
       "next": "c4b46604-f29f-11e7-b919-0242ac130002",
       "previous": "27b5403a-f416-11e7-95ed-0242ac130002"
      }
     ],
     "next": "6f5f2946-f416-11e7-95ed-0242ac130002",
     "previous": "27b5403a-f416-11e7-95ed-0242ac130002"
    },
    "pinned_outputs": [],
    "run_through_control": {
     "frozen": true
    }
   },
   "outputs": [
    {
     "name": "stdout",
     "output_type": "stream",
     "text": [
      "1 logs recorded\n",
      "\n",
      "path: /home/jovyan/sig4ng2018/.log/20180226/20180226-033110-0949.log\n",
      "start time: 2018-02-26 03:31:10(UTC)\n",
      "end time: 2018-02-26 03:31:11(UTC)\n",
      "output size: 951 bytes\n",
      "1 chunks with matched keywords or errors\n",
      "----\n",
      "--2018-02-26 03:31:11--  http://www.csis.u-tokyo.ac.jp/UEA/MCEA2010.csv\n",
      "Resolving www.csis.u-tokyo.ac.jp (www.csis.u-tokyo.ac.jp)... 157.82.234.36\n",
      "Connecting to www.csis.u-tokyo.ac.jp (www.csis.u-tokyo.ac.jp)|157.82.234.36|:80... connected.\n",
      "HTTP request sent, awaiting response... 200 OK\n",
      "Length: 31964 (31K) [text/csv]\n",
      "Saving to: ‘MCEA2010.csv’\n",
      "\n",
      "\n",
      "MCEA2010.csv          0%[                    ]       0  --.-KB/s               \n",
      "MCEA2010.csv        100%[===================>]  31.21K  --.-KB/s    in 0.02s   \n",
      "\n",
      "2018-02-26 03:31:11 (1.62 MB/s) - ‘MCEA2010.csv’ saved [31964/31964]\n"
     ]
    }
   ],
   "source": [
    "!wget http://www.csis.u-tokyo.ac.jp/UEA/MCEA2010.csv"
   ]
  },
  {
   "cell_type": "markdown",
   "metadata": {
    "hidden": true,
    "lc_cell_meme": {
     "current": "6f5f2946-f416-11e7-95ed-0242ac130002",
     "next": "c4b46604-f29f-11e7-b919-0242ac130002",
     "previous": "7ccc6d0a-f29f-11e7-b919-0242ac130002"
    }
   },
   "source": [
    "中心市町村"
   ]
  },
  {
   "cell_type": "code",
   "execution_count": 4,
   "metadata": {
    "deletable": false,
    "editable": false,
    "hidden": true,
    "lc_cell_meme": {
     "current": "c4b46604-f29f-11e7-b919-0242ac130002",
     "history": [
      {
       "current": "c4b46604-f29f-11e7-b919-0242ac130002",
       "next": "c4b46712-f29f-11e7-b919-0242ac130002",
       "previous": "7ccc6d0a-f29f-11e7-b919-0242ac130002"
      }
     ],
     "next": "6f5f2a4a-f416-11e7-95ed-0242ac130002",
     "previous": "6f5f2946-f416-11e7-95ed-0242ac130002"
    },
    "pinned_outputs": [],
    "run_through_control": {
     "frozen": true
    }
   },
   "outputs": [
    {
     "name": "stdout",
     "output_type": "stream",
     "text": [
      "1 logs recorded\n",
      "\n",
      "path: /home/jovyan/sig4ng2018/.log/20180226/20180226-033111-0293.log\n",
      "start time: 2018-02-26 03:31:11(UTC)\n",
      "end time: 2018-02-26 03:31:11(UTC)\n",
      "output size: 955 bytes\n",
      "1 chunks with matched keywords or errors\n",
      "----\n",
      "--2018-02-26 03:31:11--  http://www.csis.u-tokyo.ac.jp/UEA/MCEA2010C.csv\n",
      "Resolving www.csis.u-tokyo.ac.jp (www.csis.u-tokyo.ac.jp)... 157.82.234.36\n",
      "Connecting to www.csis.u-tokyo.ac.jp (www.csis.u-tokyo.ac.jp)|157.82.234.36|:80... connected.\n",
      "HTTP request sent, awaiting response... 200 OK\n",
      "Length: 10918 (11K) [text/csv]\n",
      "Saving to: ‘MCEA2010C.csv’\n",
      "\n",
      "\n",
      "MCEA2010C.csv         0%[                    ]       0  --.-KB/s               \n",
      "MCEA2010C.csv       100%[===================>]  10.66K  --.-KB/s    in 0.002s  \n",
      "\n",
      "2018-02-26 03:31:11 (5.06 MB/s) - ‘MCEA2010C.csv’ saved [10918/10918]\n"
     ]
    }
   ],
   "source": [
    "!wget http://www.csis.u-tokyo.ac.jp/UEA/MCEA2010C.csv"
   ]
  },
  {
   "cell_type": "markdown",
   "metadata": {
    "hidden": true,
    "lc_cell_meme": {
     "current": "6f5f2a4a-f416-11e7-95ed-0242ac130002",
     "next": "c4b46712-f29f-11e7-b919-0242ac130002",
     "previous": "c4b46604-f29f-11e7-b919-0242ac130002"
    }
   },
   "source": [
    "都市圏人口（大都市雇用圏）"
   ]
  },
  {
   "cell_type": "code",
   "execution_count": 5,
   "metadata": {
    "deletable": false,
    "editable": false,
    "hidden": true,
    "lc_cell_meme": {
     "current": "c4b46712-f29f-11e7-b919-0242ac130002",
     "history": [
      {
       "current": "c4b46712-f29f-11e7-b919-0242ac130002",
       "next": "c4b467a8-f29f-11e7-b919-0242ac130002",
       "previous": "c4b46604-f29f-11e7-b919-0242ac130002"
      },
      {
       "current": "c4b46712-f29f-11e7-b919-0242ac130002",
       "next": "c4b467a8-f29f-11e7-b919-0242ac130002",
       "previous": "6f5f2a4a-f416-11e7-95ed-0242ac130002"
      }
     ],
     "next": "b6c2b6a4-f416-11e7-95ed-0242ac130002",
     "previous": "6f5f2a4a-f416-11e7-95ed-0242ac130002"
    },
    "pinned_outputs": [],
    "run_through_control": {
     "frozen": true
    }
   },
   "outputs": [
    {
     "name": "stdout",
     "output_type": "stream",
     "text": [
      "1 logs recorded\n",
      "\n",
      "path: /home/jovyan/sig4ng2018/.log/20180226/20180226-033111-0612.log\n",
      "start time: 2018-02-26 03:31:11(UTC)\n",
      "end time: 2018-02-26 03:31:11(UTC)\n",
      "output size: 951 bytes\n",
      "1 chunks with matched keywords or errors\n",
      "----\n",
      "--2018-02-26 03:31:11--  http://www.csis.u-tokyo.ac.jp/UEA/MEA2010P.csv\n",
      "Resolving www.csis.u-tokyo.ac.jp (www.csis.u-tokyo.ac.jp)... 157.82.234.36\n",
      "Connecting to www.csis.u-tokyo.ac.jp (www.csis.u-tokyo.ac.jp)|157.82.234.36|:80... connected.\n",
      "HTTP request sent, awaiting response... 200 OK\n",
      "Length: 10249 (10K) [text/csv]\n",
      "Saving to: ‘MEA2010P.csv’\n",
      "\n",
      "\n",
      "MEA2010P.csv          0%[                    ]       0  --.-KB/s               \n",
      "MEA2010P.csv        100%[===================>]  10.01K  --.-KB/s    in 0s      \n",
      "\n",
      "2018-02-26 03:31:11 (49.5 MB/s) - ‘MEA2010P.csv’ saved [10249/10249]\n"
     ]
    }
   ],
   "source": [
    "!wget http://www.csis.u-tokyo.ac.jp/UEA/MEA2010P.csv"
   ]
  },
  {
   "cell_type": "markdown",
   "metadata": {
    "hidden": true,
    "lc_cell_meme": {
     "current": "b6c2b6a4-f416-11e7-95ed-0242ac130002",
     "next": "c4b467a8-f29f-11e7-b919-0242ac130002",
     "previous": "c4b46712-f29f-11e7-b919-0242ac130002"
    }
   },
   "source": [
    "都市圏人口（小都市雇用圏）"
   ]
  },
  {
   "cell_type": "code",
   "execution_count": 6,
   "metadata": {
    "deletable": false,
    "editable": false,
    "hidden": true,
    "lc_cell_meme": {
     "current": "c4b467a8-f29f-11e7-b919-0242ac130002",
     "history": [
      {
       "current": "c4b467a8-f29f-11e7-b919-0242ac130002",
       "next": "c4b4682a-f29f-11e7-b919-0242ac130002",
       "previous": "c4b46712-f29f-11e7-b919-0242ac130002"
      }
     ],
     "next": "b6c2b7a8-f416-11e7-95ed-0242ac130002",
     "previous": "b6c2b6a4-f416-11e7-95ed-0242ac130002"
    },
    "pinned_outputs": [],
    "run_through_control": {
     "frozen": true
    }
   },
   "outputs": [
    {
     "name": "stdout",
     "output_type": "stream",
     "text": [
      "1 logs recorded\n",
      "\n",
      "path: /home/jovyan/sig4ng2018/.log/20180226/20180226-033111-0918.log\n",
      "start time: 2018-02-26 03:31:11(UTC)\n",
      "end time: 2018-02-26 03:31:12(UTC)\n",
      "output size: 955 bytes\n",
      "1 chunks with matched keywords or errors\n",
      "----\n",
      "--2018-02-26 03:31:12--  http://www.csis.u-tokyo.ac.jp/UEA/MCEA2010P.csv\n",
      "Resolving www.csis.u-tokyo.ac.jp (www.csis.u-tokyo.ac.jp)... 157.82.234.36\n",
      "Connecting to www.csis.u-tokyo.ac.jp (www.csis.u-tokyo.ac.jp)|157.82.234.36|:80... connected.\n",
      "HTTP request sent, awaiting response... 200 OK\n",
      "Length: 10742 (10K) [text/csv]\n",
      "Saving to: ‘MCEA2010P.csv’\n",
      "\n",
      "\n",
      "MCEA2010P.csv         0%[                    ]       0  --.-KB/s               \n",
      "MCEA2010P.csv       100%[===================>]  10.49K  --.-KB/s    in 0.001s  \n",
      "\n",
      "2018-02-26 03:31:12 (12.1 MB/s) - ‘MCEA2010P.csv’ saved [10742/10742]\n"
     ]
    }
   ],
   "source": [
    "!wget http://www.csis.u-tokyo.ac.jp/UEA/MCEA2010P.csv"
   ]
  },
  {
   "cell_type": "markdown",
   "metadata": {
    "hidden": true,
    "lc_cell_meme": {
     "current": "b6c2b7a8-f416-11e7-95ed-0242ac130002",
     "next": "c4b4682a-f29f-11e7-b919-0242ac130002",
     "previous": "c4b467a8-f29f-11e7-b919-0242ac130002"
    }
   },
   "source": [
    "大都市雇用圏統計データ"
   ]
  },
  {
   "cell_type": "code",
   "execution_count": 7,
   "metadata": {
    "deletable": false,
    "editable": false,
    "hidden": true,
    "lc_cell_meme": {
     "current": "c4b4682a-f29f-11e7-b919-0242ac130002",
     "history": [
      {
       "current": "c4b4682a-f29f-11e7-b919-0242ac130002",
       "next": null,
       "previous": "c4b467a8-f29f-11e7-b919-0242ac130002"
      },
      {
       "current": "c4b4682a-f29f-11e7-b919-0242ac130002",
       "next": "0c3d8d70-f2a0-11e7-b919-0242ac130002",
       "previous": "c4b467a8-f29f-11e7-b919-0242ac130002"
      },
      {
       "current": "c4b4682a-f29f-11e7-b919-0242ac130002",
       "next": "98b1758e-f415-11e7-95ed-0242ac130002",
       "previous": "c4b467a8-f29f-11e7-b919-0242ac130002"
      }
     ],
     "next": "b6c2b834-f416-11e7-95ed-0242ac130002",
     "previous": "b6c2b7a8-f416-11e7-95ed-0242ac130002"
    },
    "pinned_outputs": [],
    "run_through_control": {
     "frozen": true
    }
   },
   "outputs": [
    {
     "name": "stdout",
     "output_type": "stream",
     "text": [
      "1 logs recorded\n",
      "\n",
      "path: /home/jovyan/sig4ng2018/.log/20180226/20180226-033112-0252.log\n",
      "start time: 2018-02-26 03:31:12(UTC)\n",
      "end time: 2018-02-26 03:31:12(UTC)\n",
      "output size: 963 bytes\n",
      "1 chunks with matched keywords or errors\n",
      "----\n",
      "--2018-02-26 03:31:12--  http://www.csis.u-tokyo.ac.jp/UEA/MEASTAT2010.csv\n",
      "Resolving www.csis.u-tokyo.ac.jp (www.csis.u-tokyo.ac.jp)... 157.82.234.36\n",
      "Connecting to www.csis.u-tokyo.ac.jp (www.csis.u-tokyo.ac.jp)|157.82.234.36|:80... connected.\n",
      "HTTP request sent, awaiting response... 200 OK\n",
      "Length: 69260 (68K) [text/csv]\n",
      "Saving to: ‘MEASTAT2010.csv’\n",
      "\n",
      "\n",
      "MEASTAT2010.csv       0%[                    ]       0  --.-KB/s               \n",
      "\n",
      "MEASTAT2010.csv     100%[===================>]  67.64K  --.-KB/s    in 0.06s   \n",
      "\n",
      "2018-02-26 03:31:12 (1.16 MB/s) - ‘MEASTAT2010.csv’ saved [69260/69260]\n"
     ]
    }
   ],
   "source": [
    "!wget http://www.csis.u-tokyo.ac.jp/UEA/MEASTAT2010.csv"
   ]
  },
  {
   "cell_type": "markdown",
   "metadata": {
    "hidden": true,
    "lc_cell_meme": {
     "current": "b6c2b834-f416-11e7-95ed-0242ac130002",
     "next": "98b1758e-f415-11e7-95ed-0242ac130002",
     "previous": "c4b4682a-f29f-11e7-b919-0242ac130002"
    }
   },
   "source": [
    "市区町村コード"
   ]
  },
  {
   "cell_type": "code",
   "execution_count": 8,
   "metadata": {
    "deletable": false,
    "editable": false,
    "hidden": true,
    "lc_cell_meme": {
     "current": "98b1758e-f415-11e7-95ed-0242ac130002",
     "history": [
      {
       "current": "98b1758e-f415-11e7-95ed-0242ac130002",
       "next": "0c3d8d70-f2a0-11e7-b919-0242ac130002",
       "previous": "c4b4682a-f29f-11e7-b919-0242ac130002"
      },
      {
       "current": "98b1758e-f415-11e7-95ed-0242ac130002",
       "next": "0c3d8d70-f2a0-11e7-b919-0242ac130002",
       "previous": "b6c2b834-f416-11e7-95ed-0242ac130002"
      },
      {
       "current": "98b1758e-f415-11e7-95ed-0242ac130002",
       "next": "fe49fc44-f416-11e7-95ed-0242ac130002",
       "previous": "b6c2b834-f416-11e7-95ed-0242ac130002"
      }
     ],
     "next": "d0636ccc-16ab-11e8-a91b-0242ac120002",
     "previous": "b6c2b834-f416-11e7-95ed-0242ac130002"
    },
    "pinned_outputs": [],
    "run_through_control": {
     "frozen": true
    }
   },
   "outputs": [
    {
     "name": "stdout",
     "output_type": "stream",
     "text": [
      "1 logs recorded\n",
      "\n",
      "path: /home/jovyan/sig4ng2018/.log/20180226/20180226-033112-0635.log\n",
      "start time: 2018-02-26 03:31:12(UTC)\n",
      "end time: 2018-02-26 03:31:13(UTC)\n",
      "output size: 977 bytes\n",
      "1 chunks with matched keywords or errors\n",
      "----\n",
      "--2018-02-26 03:31:12--  http://www.soumu.go.jp/main_content/000442937.xls\n",
      "Resolving www.soumu.go.jp (www.soumu.go.jp)... 203.180.216.224, 2001:240:bb81::21:e0\n",
      "Connecting to www.soumu.go.jp (www.soumu.go.jp)|203.180.216.224|:80... connected.\n",
      "HTTP request sent, awaiting response... \n",
      "200 OK\n",
      "Length: 280064 (274K) [application/vnd.ms-excel]\n",
      "Saving to: ‘000442937.xls’\n",
      "\n",
      "\n",
      "000442937.xls         0%[                    ]       0  --.-KB/s               \n",
      "\n",
      "000442937.xls       100%[===================>] 273.50K  --.-KB/s    in 0.05s   \n",
      "\n",
      "2018-02-26 03:31:13 (5.50 MB/s) - ‘000442937.xls’ saved [280064/280064]\n"
     ]
    }
   ],
   "source": [
    "!wget http://www.soumu.go.jp/main_content/000442937.xls"
   ]
  },
  {
   "cell_type": "markdown",
   "metadata": {
    "hidden": true,
    "lc_cell_meme": {
     "current": "d0636ccc-16ab-11e8-a91b-0242ac120002",
     "next": "d0636eac-16ab-11e8-a91b-0242ac120002",
     "previous": "98b1758e-f415-11e7-95ed-0242ac130002"
    }
   },
   "source": [
    "【総計】平成29年住民基本台帳年齢階級別人口(市区町村別)"
   ]
  },
  {
   "cell_type": "code",
   "execution_count": 9,
   "metadata": {
    "deletable": false,
    "editable": false,
    "hidden": true,
    "lc_cell_meme": {
     "current": "d0636eac-16ab-11e8-a91b-0242ac120002",
     "next": "fe49fc44-f416-11e7-95ed-0242ac130002",
     "previous": "d0636ccc-16ab-11e8-a91b-0242ac120002"
    },
    "pinned_outputs": [],
    "run_through_control": {
     "frozen": true
    }
   },
   "outputs": [
    {
     "name": "stdout",
     "output_type": "stream",
     "text": [
      "1 logs recorded\n",
      "\n",
      "path: /home/jovyan/sig4ng2018/.log/20180226/20180226-033113-0150.log\n",
      "start time: 2018-02-26 03:31:13(UTC)\n",
      "end time: 2018-02-26 03:31:13(UTC)\n",
      "output size: 1061 bytes\n",
      "1 chunks with matched keywords or errors\n",
      "----\n",
      "--2018-02-26 03:31:13--  http://www.soumu.go.jp/main_content/000494086.xls\n",
      "Resolving www.soumu.go.jp (www.soumu.go.jp)... 203.180.216.224, ffff:ffff:bb81::21:e0\n",
      "Connecting to www.soumu.go.jp (www.soumu.go.jp)|203.180.216.224|:80... connected.\n",
      "HTTP request sent, awaiting response... \n",
      "200 OK\n",
      "Length: 1613824 (1.5M) [application/vnd.ms-excel]\n",
      "Saving to: ‘000494086.xls’\n",
      "\n",
      "\n",
      "000494086.xls         0%[                    ]       0  --.-KB/s               \n",
      "\n",
      "000494086.xls        99%[==================> ]   1.52M  7.61MB/s               \n",
      "000494086.xls       100%[===================>]   1.54M  7.62MB/s    in 0.2s    \n",
      "\n",
      "2018-02-26 03:31:13 (7.62 MB/s) - ‘000494086.xls’ saved [1613824/1613824]\n"
     ]
    }
   ],
   "source": [
    "!wget http://www.soumu.go.jp/main_content/000494086.xls"
   ]
  },
  {
   "cell_type": "markdown",
   "metadata": {
    "heading_collapsed": true,
    "lc_cell_meme": {
     "current": "fe49fc44-f416-11e7-95ed-0242ac130002",
     "history": [
      {
       "current": "fe49fc44-f416-11e7-95ed-0242ac130002",
       "next": "9ae6f73c-f2a0-11e7-b919-0242ac130002",
       "previous": "98b1758e-f415-11e7-95ed-0242ac130002"
      }
     ],
     "next": "9ae6f73c-f2a0-11e7-b919-0242ac130002",
     "previous": "d0636eac-16ab-11e8-a91b-0242ac120002"
    }
   },
   "source": [
    "## データ分析準備\n",
    "\n",
    "pandas他の必要なモジュールをインストールする。"
   ]
  },
  {
   "cell_type": "code",
   "execution_count": 10,
   "metadata": {
    "deletable": false,
    "editable": false,
    "hidden": true,
    "lc_cell_meme": {
     "current": "9ae6f73c-f2a0-11e7-b919-0242ac130002",
     "history": [
      {
       "current": "9ae6f73c-f2a0-11e7-b919-0242ac130002",
       "next": "9ae6fa34-f2a0-11e7-b919-0242ac130002",
       "previous": "0c3d8d70-f2a0-11e7-b919-0242ac130002"
      },
      {
       "current": "9ae6f73c-f2a0-11e7-b919-0242ac130002",
       "next": "fe49ff0a-f416-11e7-95ed-0242ac130002",
       "previous": "fe49fc44-f416-11e7-95ed-0242ac130002"
      }
     ],
     "next": "ff1456b2-fab3-11e7-82b9-0242ac110002",
     "previous": "fe49fc44-f416-11e7-95ed-0242ac130002"
    },
    "pinned_outputs": [],
    "run_through_control": {
     "frozen": true
    }
   },
   "outputs": [
    {
     "name": "stdout",
     "output_type": "stream",
     "text": [
      "1 logs recorded\n",
      "\n",
      "path: /home/jovyan/sig4ng2018/.log/20180226/20180226-033113-0775.log\n",
      "start time: 2018-02-26 03:31:13(UTC)\n",
      "end time: 2018-02-26 03:31:31(UTC)\n",
      "output size: 407235 bytes\n",
      "7 chunks with matched keywords or errors\n",
      "----\n",
      "Collecting pandas\n",
      "  Downloading pandas-0.22.0-cp36-cp36m-manylinux1_x86_64.whl (26.2MB)\n",
      "\u001b[?25l\n",
      "\u001b[K    0% |                                | 10kB 2.5MB/s eta 0:00:11\n",
      "\u001b[K    0% |                                | 20kB 2.4MB/s eta 0:00:11\n",
      "\u001b[K    0% |                                | 30kB 3.5MB/s eta 0:00:08\n",
      "\u001b[K    0% |                                | 40kB 3.5MB/s eta 0:00:08\n",
      "\u001b[K    0% |                                | 51kB 3.5MB/s eta 0:00:08\n",
      "\u001b[K    0% |                                | 61kB 4.2MB/s eta 0:00:07\n",
      "\u001b[K    0% |                                | 71kB 4.3MB/s eta 0:00:07\n",
      "\u001b[K    0% |                                | 81kB 4.9MB/s eta 0:00:06\n",
      "\u001b[K    0% |▏                               | 92kB 4.9MB/s eta 0:00:06\n",
      "\u001b[K    0% |▏                               | 102kB 4.7MB/s eta 0:00:06\n",
      "\u001b[K    0% |▏                               | 112kB 5.7MB/s eta 0:00:05\n",
      "\u001b[K    0% |▏                               | 122kB 6.9MB/s eta 0:00:04\n",
      "\u001b[K    0% |▏                               | 133kB 6.1MB/s eta 0:00:05\n",
      "\u001b[K    0% |▏                               | 143kB 6.9MB/s eta 0:00:04\n",
      "\u001b[K    0% |▏                               | 153kB 8.0MB/s eta 0:00:04\n",
      "\u001b[K    0% |▏                               | 163kB 7.9MB/s eta 0:00:04\n",
      "\u001b[K    0% |▏                               | 174kB 5.2MB/s eta 0:00:06\n",
      "...\n",
      "  Down\u001b[0;31mload\u001b[0ming pandas-0.22.0-cp36-cp36m-manylinux1_x86_64.whl (26.2MB)\n",
      "  Down\u001b[0;31mload\u001b[0ming xlrd-1.1.0-py2.py3-none-any.whl (108kB)\n",
      "  Down\u001b[0;31mload\u001b[0ming jaconv-0.2.3.tar.gz\n",
      "  Down\u001b[0;31mload\u001b[0ming beautifulsoup4-4.6.0-py3-none-any.whl (86kB)\n",
      "  Down\u001b[0;31mload\u001b[0ming numpy-1.14.1-cp36-cp36m-manylinux1_x86_64.whl (12.2MB)\n",
      "  Down\u001b[0;31mload\u001b[0ming pytz-2018.3-py2.py3-none-any.whl (509kB)\n",
      "\b \b\\\b \b\u001b[0;31mdone\u001b[0m\n",
      "...\n",
      "\u001b[K    80% |█████████████████████████▊      | 409kB 89.6MB/s eta 0:00:01\n",
      "\u001b[K    82% |██████████████████████████▍     | 419kB 90.4MB/s eta 0:00:01\n",
      "\u001b[K    84% |███████████████████████████     | 430kB 89.2MB/s eta 0:00:01\n",
      "\u001b[K    86% |███████████████████████████▋    | 440kB 89.1MB/s eta 0:00:01\n",
      "\u001b[K    88% |████████████████████████████▎   | 450kB 89.3MB/s eta 0:00:01\n",
      "\u001b[K    90% |█████████████████████████████   | 460kB 87.4MB/s eta 0:00:01\n",
      "\u001b[K    92% |█████████████████████████████▋  | 471kB 82.9MB/s eta 0:00:01\n",
      "\u001b[K    94% |██████████████████████████████▏ | 481kB 83.5MB/s eta 0:00:01\n",
      "\u001b[K    96% |██████████████████████████████▉ | 491kB 82.3MB/s eta 0:00:01\n",
      "\u001b[K    98% |███████████████████████████████▌| 501kB 82.9MB/s eta 0:00:01\n",
      "\n",
      "\u001b[K    100% |████████████████████████████████| 512kB 1.5MB/s \n",
      "\u001b[?25hRequirement already satisfied: six>=1.5 in /opt/conda/lib/python3.6/site-packages (from python-dateutil>=2->pandas)\n",
      "Building wheels for collected packages: jaconv\n",
      "  Running setup.py bdist_wheel for jaconv ... \u001b[?25l-\n",
      "\b \b\\\b \bdone\n",
      "\u001b[?25h  Stored in directory: /home/jovyan/.cache/pip/wheels/92/c8/de/414e5ec6770311ae9331f1a475c0445e7f89c306973c9e9960\n",
      "Successfully built jaconv\n",
      "Installing collected packages: numpy, pytz, pandas, xlrd, jaconv, beautifulsoup4\n",
      "Successfully installed beautifulsoup4-4.6.0 jaconv-0.2.3 numpy-1.14.1 pandas-0.22.0 pytz-2018.3 xlrd-1.1.0"
     ]
    }
   ],
   "source": [
    "!pip install pandas xlrd jaconv beautifulsoup4 lxml chardet"
   ]
  },
  {
   "cell_type": "markdown",
   "metadata": {
    "hidden": true,
    "lc_cell_meme": {
     "current": "ff1456b2-fab3-11e7-82b9-0242ac110002",
     "next": "fe49ff0a-f416-11e7-95ed-0242ac130002",
     "previous": "9ae6f73c-f2a0-11e7-b919-0242ac130002"
    }
   },
   "source": [
    "市区町村リストを読み込む。"
   ]
  },
  {
   "cell_type": "code",
   "execution_count": 11,
   "metadata": {
    "deletable": false,
    "editable": false,
    "hidden": true,
    "lc_cell_meme": {
     "current": "fe49ff0a-f416-11e7-95ed-0242ac130002",
     "history": [
      {
       "current": "fe49ff0a-f416-11e7-95ed-0242ac130002",
       "next": "9ae6fa34-f2a0-11e7-b919-0242ac130002",
       "previous": "9ae6f73c-f2a0-11e7-b919-0242ac130002"
      },
      {
       "current": "fe49ff0a-f416-11e7-95ed-0242ac130002",
       "next": "ff145856-fab3-11e7-82b9-0242ac110002",
       "previous": "ff1456b2-fab3-11e7-82b9-0242ac110002"
      }
     ],
     "next": "17ebe038-16ac-11e8-a91b-0242ac120002",
     "previous": "ff1456b2-fab3-11e7-82b9-0242ac110002"
    },
    "pinned_outputs": [],
    "run_through_control": {
     "frozen": true
    }
   },
   "outputs": [
    {
     "name": "stdout",
     "output_type": "stream",
     "text": [
      "1 logs recorded\n",
      "\n",
      "path: /home/jovyan/sig4ng2018/.log/20180226/20180226-033131-0817.log\n",
      "start time: 2018-02-26 03:31:31(UTC)\n",
      "end time: 2018-02-26 03:31:32(UTC)\n",
      "output size: 4638 bytes\n",
      "0 chunks with matched keywords or errors\n",
      "----\n",
      "      団体コード 市区町村名         カナ 都道府県名\n",
      "0      1100   札幌市      サッポロシ   北海道\n",
      "1      1202   函館市      ハコダテシ   北海道\n",
      "2      1203   小樽市       オタルシ   北海道\n",
      "3      1204   旭川市     アサヒカワシ   北海道\n",
      "4      1205   室蘭市      ムロランシ   北海道\n",
      "5      1206   釧路市       クシロシ   北海道\n",
      "6      1207   帯広市      オビヒロシ   北海道\n",
      "7      1208   北見市       キタミシ   北海道\n",
      "8      1209   夕張市      ユウバリシ   北海道\n",
      "9      1210  岩見沢市     イワミザワシ   北海道\n",
      "10     1211   網走市      アバシリシ   北海道\n",
      "11     1212   留萌市       ルモイシ   北海道\n",
      "12     1213  苫小牧市     トマコマイシ   北海道\n",
      "13     1214   稚内市     ワッカナイシ   北海道\n",
      "14     1215   美唄市       ビバイシ   北海道\n",
      "15     1216   芦別市      アシベツシ   北海道\n",
      "16     1217   江別市       エベツシ   北海道\n",
      "17     1218   赤平市      アカビラシ   北海道\n",
      "18     1219   紋別市      モンベツシ   北海道\n",
      "...\n",
      "1723  47327  北中城村  キタナカグスクソン   沖縄県\n",
      "1724  47328   中城村    ナカグスクソン   沖縄県\n",
      "1725  47329   西原町    ニシハラチョウ   沖縄県\n",
      "1726  47348  与那原町    ヨナバルチョウ   沖縄県\n",
      "1727  47350  南風原町    ハエバルチョウ   沖縄県\n",
      "1728  47353  渡嘉敷村     トカシキソン   沖縄県\n",
      "1729  47354  座間味村      ザマミソン   沖縄県\n",
      "1730  47355   粟国村      アグニソン   沖縄県\n",
      "1731  47356  渡名喜村      トナキソン   沖縄県\n",
      "1732  47357  南大東村  ミナミダイトウソン   沖縄県\n",
      "1733  47358  北大東村   キタダイトウソン   沖縄県\n",
      "1734  47359  伊平屋村      イヘヤソン   沖縄県\n",
      "1735  47360  伊是名村      イゼナソン   沖縄県\n",
      "1736  47361  久米島町    クメジマチョウ   沖縄県\n",
      "1737  47362  八重瀬町     ヤエセチョウ   沖縄県\n",
      "1738  47375  多良間村      タラマソン   沖縄県\n",
      "1739  47381   竹富町    タケトミチョウ   沖縄県\n",
      "1740  47382  与那国町    ヨナグニチョウ   沖縄県\n",
      "\n",
      "[1741 rows x 4 columns]"
     ]
    }
   ],
   "source": [
    "import pandas as pd\n",
    "import jaconv\n",
    "import math\n",
    "\n",
    "file = pd.ExcelFile(\"000442937.xls\")\n",
    "df = file.parse(file.sheet_names[0])\n",
    "\n",
    "df = df.rename(columns={\n",
    "    \"都道府県名\\n（漢字）\": \"都道府県名\",\n",
    "    \"市区町村名\\n（漢字）\": \"市区町村名\",\n",
    "    \"市区町村名\\n（カナ）\": \"カナ\"\n",
    "})\n",
    "df = df.drop(columns=[\"都道府県名\\n（カナ）\"])\n",
    "df = df.loc[:,[\"団体コード\",\"市区町村名\",\"カナ\",\"都道府県名\"]]\n",
    "df = df[df[\"市区町村名\"].isnull() == False].reset_index(drop=True)\n",
    "df[\"カナ\"] = df[\"カナ\"].map(jaconv.h2z)\n",
    "df[\"団体コード\"] = df[\"団体コード\"].map(lambda x: math.floor(x / 10))\n",
    "\n",
    "municipality_list = df\n",
    "\n",
    "print(municipality_list)"
   ]
  },
  {
   "cell_type": "markdown",
   "metadata": {
    "hidden": true,
    "lc_cell_meme": {
     "current": "17ebe038-16ac-11e8-a91b-0242ac120002",
     "next": "17ebe38a-16ac-11e8-a91b-0242ac120002",
     "previous": "fe49ff0a-f416-11e7-95ed-0242ac130002"
    }
   },
   "source": [
    "年齢階級別人口を読み込み、市区町村リストに情報を追記する。"
   ]
  },
  {
   "cell_type": "code",
   "execution_count": 12,
   "metadata": {
    "deletable": false,
    "editable": false,
    "hidden": true,
    "lc_cell_meme": {
     "current": "17ebe38a-16ac-11e8-a91b-0242ac120002",
     "next": "ff145856-fab3-11e7-82b9-0242ac110002",
     "previous": "17ebe038-16ac-11e8-a91b-0242ac120002"
    },
    "pinned_outputs": [],
    "run_through_control": {
     "frozen": true
    }
   },
   "outputs": [
    {
     "name": "stdout",
     "output_type": "stream",
     "text": [
      "1 logs recorded\n",
      "\n",
      "path: /home/jovyan/sig4ng2018/.log/20180226/20180226-033132-0257.log\n",
      "start time: 2018-02-26 03:31:32(UTC)\n",
      "end time: 2018-02-26 03:31:40(UTC)\n",
      "output size: 4974 bytes\n",
      "0 chunks with matched keywords or errors\n",
      "----\n",
      "      団体コード 市区町村名         カナ 都道府県名    小中学生\n",
      "0      1100   札幌市      サッポロシ   北海道  152061\n",
      "1      1202   函館市      ハコダテシ   北海道   18798\n",
      "2      1203   小樽市       オタルシ   北海道    7888\n",
      "3      1204   旭川市     アサヒカワシ   北海道   26789\n",
      "4      1205   室蘭市      ムロランシ   北海道    6285\n",
      "5      1206   釧路市       クシロシ   北海道   13621\n",
      "6      1207   帯広市      オビヒロシ   北海道   13665\n",
      "7      1208   北見市       キタミシ   北海道    9384\n",
      "8      1209   夕張市      ユウバリシ   北海道     350\n",
      "9      1210  岩見沢市     イワミザワシ   北海道    6305\n",
      "10     1211   網走市      アバシリシ   北海道    3034\n",
      "11     1212   留萌市       ルモイシ   北海道    1503\n",
      "12     1213  苫小牧市     トマコマイシ   北海道   15395\n",
      "13     1214   稚内市     ワッカナイシ   北海道    2777\n",
      "14     1215   美唄市       ビバイシ   北海道    1355\n",
      "15     1216   芦別市      アシベツシ   北海道     743\n",
      "16     1217   江別市       エベツシ   北海道    9683\n",
      "17     1218   赤平市      アカビラシ   北海道     587\n",
      "18     1219   紋別市      モンベツシ   北海道    1584\n",
      "...\n",
      "1723  47327  北中城村  キタナカグスクソン   沖縄県    1925\n",
      "1724  47328   中城村    ナカグスクソン   沖縄県    2318\n",
      "1725  47329   西原町    ニシハラチョウ   沖縄県    4130\n",
      "1726  47348  与那原町    ヨナバルチョウ   沖縄県    2337\n",
      "1727  47350  南風原町    ハエバルチョウ   沖縄県    4878\n",
      "1728  47353  渡嘉敷村     トカシキソン   沖縄県      84\n",
      "1729  47354  座間味村      ザマミソン   沖縄県     106\n",
      "1730  47355   粟国村      アグニソン   沖縄県      63\n",
      "1731  47356  渡名喜村      トナキソン   沖縄県      25\n",
      "1732  47357  南大東村  ミナミダイトウソン   沖縄県     142\n",
      "1733  47358  北大東村   キタダイトウソン   沖縄県      62\n",
      "1734  47359  伊平屋村      イヘヤソン   沖縄県     158\n",
      "1735  47360  伊是名村      イゼナソン   沖縄県     139\n",
      "1736  47361  久米島町    クメジマチョウ   沖縄県     796\n",
      "1737  47362  八重瀬町     ヤエセチョウ   沖縄県    3581\n",
      "1738  47375  多良間村      タラマソン   沖縄県     132\n",
      "1739  47381   竹富町    タケトミチョウ   沖縄県     447\n",
      "1740  47382  与那国町    ヨナグニチョウ   沖縄県     186\n",
      "\n",
      "[1741 rows x 5 columns]"
     ]
    }
   ],
   "source": [
    "file = pd.ExcelFile(\"000494086.xls\")\n",
    "df = file.parse(file.sheet_names[0], skiprows=[0,2,3,4])\n",
    "df = df.drop_duplicates(subset=[\"団体コード\"])\n",
    "df = df.rename(columns={\n",
    "    \"5～9\": \"five\",\n",
    "    \"10～14\": \"ten\"\n",
    "})\n",
    "df[\"団体コード\"] = df[\"団体コード\"].map(lambda x: math.floor(x / 10))\n",
    "\n",
    "municipality_list[\"小中学生\"] = 0\n",
    "for row in df.itertuples():\n",
    "    municipality_list.loc[\n",
    "        municipality_list[\"団体コード\"] == row.団体コード, \"小中学生\"] = row.five + row.ten\n",
    "\n",
    "print(municipality_list)"
   ]
  },
  {
   "cell_type": "markdown",
   "metadata": {
    "hidden": true,
    "lc_cell_meme": {
     "current": "ff145856-fab3-11e7-82b9-0242ac110002",
     "history": [
      {
       "current": "ff145856-fab3-11e7-82b9-0242ac110002",
       "next": "9ae6fa34-f2a0-11e7-b919-0242ac130002",
       "previous": "fe49ff0a-f416-11e7-95ed-0242ac130002"
      }
     ],
     "next": "9ae6fa34-f2a0-11e7-b919-0242ac130002",
     "previous": "17ebe38a-16ac-11e8-a91b-0242ac120002"
    }
   },
   "source": [
    "大都市雇用圏の中心都市リストを読み込み、市区町村リストに情報を追記する。"
   ]
  },
  {
   "cell_type": "code",
   "execution_count": 13,
   "metadata": {
    "deletable": false,
    "editable": false,
    "hidden": true,
    "lc_cell_meme": {
     "current": "9ae6fa34-f2a0-11e7-b919-0242ac130002",
     "history": [
      {
       "current": "9ae6fa34-f2a0-11e7-b919-0242ac130002",
       "next": null,
       "previous": "9ae6f73c-f2a0-11e7-b919-0242ac130002"
      },
      {
       "current": "9ae6fa34-f2a0-11e7-b919-0242ac130002",
       "next": "29f4a406-f2a1-11e7-b919-0242ac130002",
       "previous": "9ae6f73c-f2a0-11e7-b919-0242ac130002"
      },
      {
       "current": "9ae6fa34-f2a0-11e7-b919-0242ac130002",
       "next": "29f4a406-f2a1-11e7-b919-0242ac130002",
       "previous": "fe49ff0a-f416-11e7-95ed-0242ac130002"
      },
      {
       "current": "9ae6fa34-f2a0-11e7-b919-0242ac130002",
       "next": "36e919e2-f9e2-11e7-82b9-0242ac110002",
       "previous": "fe49ff0a-f416-11e7-95ed-0242ac130002"
      },
      {
       "current": "9ae6fa34-f2a0-11e7-b919-0242ac130002",
       "next": "36e919e2-f9e2-11e7-82b9-0242ac110002",
       "previous": "ff145856-fab3-11e7-82b9-0242ac110002"
      }
     ],
     "next": "469ad3da-fab4-11e7-82b9-0242ac110002",
     "previous": "ff145856-fab3-11e7-82b9-0242ac110002"
    },
    "pinned_outputs": [],
    "run_through_control": {
     "frozen": true
    }
   },
   "outputs": [
    {
     "name": "stdout",
     "output_type": "stream",
     "text": [
      "1 logs recorded\n",
      "\n",
      "path: /home/jovyan/sig4ng2018/.log/20180226/20180226-033140-0139.log\n",
      "start time: 2018-02-26 03:31:40(UTC)\n",
      "end time: 2018-02-26 03:31:41(UTC)\n",
      "output size: 20042 bytes\n",
      "0 chunks with matched keywords or errors\n",
      "----\n",
      "   団体コード 市区町村名     カナ 都道府県名    小中学生   MEA\n",
      "0   1100   札幌市  サッポロシ   北海道  152061  1100\n",
      "   団体コード 市区町村名    カナ 都道府県名  小中学生   MEA\n",
      "2   1203   小樽市  オタルシ   北海道  7888  1100\n",
      "   団体コード 市区町村名     カナ 都道府県名   小中学生   MEA\n",
      "1   1202   函館市  ハコダテシ   北海道  18798  1202\n",
      "   団体コード 市区町村名      カナ 都道府県名   小中学生   MEA\n",
      "3   1204   旭川市  アサヒカワシ   北海道  26789  1204\n",
      "   団体コード 市区町村名     カナ 都道府県名  小中学生   MEA\n",
      "4   1205   室蘭市  ムロランシ   北海道  6285  1205\n",
      "   団体コード 市区町村名    カナ 都道府県名   小中学生   MEA\n",
      "5   1206   釧路市  クシロシ   北海道  13621  1206\n",
      "   団体コード 市区町村名     カナ 都道府県名   小中学生   MEA\n",
      "6   1207   帯広市  オビヒロシ   北海道  13665  1207\n",
      "   団体コード 市区町村名    カナ 都道府県名  小中学生   MEA\n",
      "7   1208   北見市  キタミシ   北海道  9384  1208\n",
      "   団体コード 市区町村名      カナ 都道府県名  小中学生   MEA\n",
      "9   1210  岩見沢市  イワミザワシ   北海道  6305  1210\n",
      "    団体コード 市区町村名      カナ 都道府県名   小中学生   MEA\n",
      "12   1213  苫小牧市  トマコマイシ   北海道  15395  1213\n",
      "...\n",
      "Columns: [団体コード, 市区町村名, カナ, 都道府県名, 小中学生, MEA]\n",
      "Index: []\n",
      "      団体コード 市区町村名     カナ 都道府県名   小中学生    MEA\n",
      "1569  43202   八代市  ヤツシロシ   熊本県  10886  43202\n",
      "      団体コード 市区町村名     カナ 都道府県名   小中学生    MEA\n",
      "1613  44201   大分市  オオイタシ   大分県  45515  44201\n",
      "      団体コード 市区町村名     カナ 都道府県名   小中学生    MEA\n",
      "1631  45201   宮崎市  ミヤザキシ   宮崎県  38995  45201\n",
      "      団体コード 市区町村名        カナ 都道府県名   小中学生    MEA\n",
      "1632  45202   都城市  ミヤコノジョウシ   宮崎県  15988  45202\n",
      "      団体コード 市区町村名     カナ 都道府県名   小中学生    MEA\n",
      "1633  45203   延岡市  ノベオカシ   宮崎県  11362  45203\n",
      "      団体コード 市区町村名     カナ 都道府県名   小中学生    MEA\n",
      "1657  46201  鹿児島市  カゴシマシ  鹿児島県  57611  46201\n",
      "      団体コード 市区町村名   カナ 都道府県名   小中学生    MEA\n",
      "1700  47201   那覇市  ナハシ   沖縄県  33904  47201\n",
      "      団体コード 市区町村名     カナ 都道府県名   小中学生    MEA\n",
      "1703  47208   浦添市  ウラソエシ   沖縄県  13942  47201\n",
      "      団体コード 市区町村名     カナ 都道府県名   小中学生    MEA\n",
      "1706  47211   沖縄市  オキナワシ   沖縄県  17246  47211"
     ]
    }
   ],
   "source": [
    "# csvの読み取り\n",
    "df= pd.read_csv(\"MEA2010C.csv\", encoding=\"cp932\")\n",
    "\n",
    "municipality_list[\"MEA\"] = 0\n",
    "for row in df.itertuples():\n",
    "    municipality_list.loc[municipality_list[\"団体コード\"] == row.center, \"MEA\"] = row.MEA\n",
    "    print(municipality_list.loc[municipality_list[\"団体コード\"] == row.center])"
   ]
  },
  {
   "cell_type": "markdown",
   "metadata": {
    "hidden": true,
    "lc_cell_meme": {
     "current": "469ad3da-fab4-11e7-82b9-0242ac110002",
     "next": "36e919e2-f9e2-11e7-82b9-0242ac110002",
     "previous": "9ae6fa34-f2a0-11e7-b919-0242ac130002"
    }
   },
   "source": [
    "小都市雇用圏の中心都市リストを読み込み、市区町村リストに情報を追記する。"
   ]
  },
  {
   "cell_type": "code",
   "execution_count": 14,
   "metadata": {
    "deletable": false,
    "editable": false,
    "hidden": true,
    "lc_cell_meme": {
     "current": "36e919e2-f9e2-11e7-82b9-0242ac110002",
     "history": [
      {
       "current": "36e919e2-f9e2-11e7-82b9-0242ac110002",
       "next": "29f4a406-f2a1-11e7-b919-0242ac130002",
       "previous": "9ae6fa34-f2a0-11e7-b919-0242ac130002"
      },
      {
       "current": "36e919e2-f9e2-11e7-82b9-0242ac110002",
       "next": "c0771ca6-f2a6-11e7-b919-0242ac130002",
       "previous": "9ae6fa34-f2a0-11e7-b919-0242ac130002"
      }
     ],
     "next": "469ad556-fab4-11e7-82b9-0242ac110002",
     "previous": "469ad3da-fab4-11e7-82b9-0242ac110002"
    },
    "pinned_outputs": [],
    "run_through_control": {
     "frozen": true
    }
   },
   "outputs": [
    {
     "name": "stdout",
     "output_type": "stream",
     "text": [
      "1 logs recorded\n",
      "\n",
      "path: /home/jovyan/sig4ng2018/.log/20180226/20180226-033141-0236.log\n",
      "start time: 2018-02-26 03:31:41(UTC)\n",
      "end time: 2018-02-26 03:31:42(UTC)\n",
      "output size: 19506 bytes\n",
      "0 chunks with matched keywords or errors\n",
      "----\n",
      "    団体コード 市区町村名     カナ 都道府県名  小中学生   MEA\n",
      "10   1211   網走市  アバシリシ   北海道  3034  1211\n",
      "    団体コード 市区町村名    カナ 都道府県名  小中学生   MEA\n",
      "11   1212   留萌市  ルモイシ   北海道  1503  1212\n",
      "    団体コード 市区町村名      カナ 都道府県名  小中学生   MEA\n",
      "13   1214   稚内市  ワッカナイシ   北海道  2777  1214\n",
      "    団体コード 市区町村名    カナ 都道府県名  小中学生   MEA\n",
      "14   1215   美唄市  ビバイシ   北海道  1355  1215\n",
      "    団体コード 市区町村名     カナ 都道府県名  小中学生   MEA\n",
      "18   1219   紋別市  モンベツシ   北海道  1584  1219\n",
      "    団体コード 市区町村名    カナ 都道府県名  小中学生   MEA\n",
      "19   1220   士別市  シベツシ   北海道  1435  1220\n",
      "    団体コード 市区町村名    カナ 都道府県名  小中学生   MEA\n",
      "20   1221   名寄市  ナヨロシ   北海道  2232  1221\n",
      "    団体コード 市区町村名    カナ 都道府県名  小中学生   MEA\n",
      "22   1223   根室市  ネムロシ   北海道  2031  1223\n",
      "    団体コード 市区町村名     カナ 都道府県名  小中学生   MEA\n",
      "24   1225   滝川市  タキカワシ   北海道  3073  1225\n",
      "    団体コード 市区町村名     カナ 都道府県名  小中学生   MEA\n",
      "27   1228   深川市  フカガワシ   北海道  1358  1228\n",
      "...\n",
      "      団体コード 市区町村名     カナ 都道府県名  小中学生    MEA\n",
      "1636  45206   日向市  ヒュウガシ   宮崎県  6050  45206\n",
      "      団体コード 市区町村名    カナ 都道府県名   小中学生    MEA\n",
      "1658  46203   鹿屋市  カノヤシ  鹿児島県  10811  46203\n",
      "      団体コード 市区町村名      カナ 都道府県名  小中学生    MEA\n",
      "1659  46204   枕崎市  マクラザキシ  鹿児島県  1661  46204\n",
      "      団体コード  市区町村名        カナ 都道府県名  小中学生    MEA\n",
      "1665  46215  薩摩川内市  サツマセンダイシ  鹿児島県  9377  46215\n",
      "      団体コード 市区町村名     カナ 都道府県名   小中学生    MEA\n",
      "1668  46218   霧島市  キリシマシ  鹿児島県  12587  46218\n",
      "      団体コード 市区町村名    カナ 都道府県名  小中学生    MEA\n",
      "1672  46222   奄美市  アマミシ  鹿児島県  4307  46222\n",
      "      団体コード 市区町村名     カナ 都道府県名  小中学生    MEA\n",
      "1702  47207   石垣市  イシガキシ   沖縄県  5837  47207\n",
      "      団体コード 市区町村名   カナ 都道府県名  小中学生    MEA\n",
      "1704  47209   名護市  ナゴシ   沖縄県  7126  47209\n",
      "      団体コード 市区町村名      カナ 都道府県名  小中学生    MEA\n",
      "1709  47214  宮古島市  ミヤコジマシ   沖縄県  5755  47214\n",
      "      団体コード 市区町村名      カナ 都道府県名  小中学生    MEA\n",
      "1720  47324   読谷村  ヨミタンソン   沖縄県  5037  47324"
     ]
    }
   ],
   "source": [
    "# csvの読み取り\n",
    "df= pd.read_csv(\"MCEA2010C.csv\", encoding=\"cp932\")\n",
    "\n",
    "for row in df.itertuples():\n",
    "    municipality_list.loc[municipality_list[\"団体コード\"] == row.center, \"MEA\"] = row.UEA\n",
    "    print(municipality_list.loc[municipality_list[\"団体コード\"] == row.center])"
   ]
  },
  {
   "cell_type": "markdown",
   "metadata": {
    "hidden": true,
    "lc_cell_meme": {
     "current": "469ad556-fab4-11e7-82b9-0242ac110002",
     "next": "c0771ca6-f2a6-11e7-b919-0242ac130002",
     "previous": "36e919e2-f9e2-11e7-82b9-0242ac110002"
    }
   },
   "source": [
    "大都市雇用圏の郊外都市リストを読み込み、市区町村リストに情報を追記する。"
   ]
  },
  {
   "cell_type": "code",
   "execution_count": 15,
   "metadata": {
    "deletable": false,
    "editable": false,
    "hidden": true,
    "lc_cell_meme": {
     "current": "c0771ca6-f2a6-11e7-b919-0242ac130002",
     "history": [
      {
       "current": "c0771ca6-f2a6-11e7-b919-0242ac130002",
       "next": null,
       "previous": "8f955ade-f2a2-11e7-b919-0242ac130002"
      },
      {
       "current": "c0771ca6-f2a6-11e7-b919-0242ac130002",
       "next": "98acab0a-f9ea-11e7-82b9-0242ac110002",
       "previous": "36e919e2-f9e2-11e7-82b9-0242ac110002"
      }
     ],
     "next": "469ad628-fab4-11e7-82b9-0242ac110002",
     "previous": "469ad556-fab4-11e7-82b9-0242ac110002"
    },
    "pinned_outputs": [],
    "run_through_control": {
     "frozen": true
    }
   },
   "outputs": [
    {
     "name": "stdout",
     "output_type": "stream",
     "text": [
      "1 logs recorded\n",
      "\n",
      "path: /home/jovyan/sig4ng2018/.log/20180226/20180226-033142-0312.log\n",
      "start time: 2018-02-26 03:31:42(UTC)\n",
      "end time: 2018-02-26 03:31:59(UTC)\n",
      "output size: 359869 bytes\n",
      "0 chunks with matched keywords or errors\n",
      "----\n",
      "    団体コード 市区町村名    カナ 都道府県名  小中学生   MEA\n",
      "16   1217   江別市  エベツシ   北海道  9683  1100\n",
      "Empty DataFrame\n",
      "Columns: [団体コード, 市区町村名, カナ, 都道府県名, 小中学生, MEA]\n",
      "Index: []\n",
      "Empty DataFrame\n",
      "Columns: [団体コード, 市区町村名, カナ, 都道府県名, 小中学生, MEA]\n",
      "Index: []\n",
      "Empty DataFrame\n",
      "Columns: [団体コード, 市区町村名, カナ, 都道府県名, 小中学生, MEA]\n",
      "Index: []\n",
      "    団体コード 市区町村名       カナ 都道府県名  小中学生   MEA\n",
      "32   1234  北広島市  キタヒロシマシ   北海道  5245  1100\n",
      "Empty DataFrame\n",
      "Columns: [団体コード, 市区町村名, カナ, 都道府県名, 小中学生, MEA]\n",
      "Index: []\n",
      "Empty DataFrame\n",
      "Columns: [団体コード, 市区町村名, カナ, 都道府県名, 小中学生, MEA]\n",
      "Index: []\n",
      "Empty DataFrame\n",
      "...\n",
      "Empty DataFrame\n",
      "Columns: [団体コード, 市区町村名, カナ, 都道府県名, 小中学生, MEA]\n",
      "Index: []\n",
      "Empty DataFrame\n",
      "Columns: [団体コード, 市区町村名, カナ, 都道府県名, 小中学生, MEA]\n",
      "Index: []\n",
      "Empty DataFrame\n",
      "Columns: [団体コード, 市区町村名, カナ, 都道府県名, 小中学生, MEA]\n",
      "Index: []\n",
      "      団体コード 市区町村名         カナ 都道府県名  小中学生    MEA\n",
      "1723  47327  北中城村  キタナカグスクソン   沖縄県  1925  47211\n",
      "Empty DataFrame\n",
      "Columns: [団体コード, 市区町村名, カナ, 都道府県名, 小中学生, MEA]\n",
      "Index: []\n",
      "Empty DataFrame\n",
      "Columns: [団体コード, 市区町村名, カナ, 都道府県名, 小中学生, MEA]\n",
      "Index: []\n",
      "Empty DataFrame\n",
      "Columns: [団体コード, 市区町村名, カナ, 都道府県名, 小中学生, MEA]\n",
      "Index: []"
     ]
    }
   ],
   "source": [
    "# csvの読み取り\n",
    "df= pd.read_csv(\"MEA2010.csv\", encoding=\"cp932\")\n",
    "\n",
    "for row in df.itertuples():\n",
    "    municipality_list.loc[municipality_list[\"団体コード\"] == row.suburb, \"MEA\"] = row.MEA\n",
    "    print(municipality_list.loc[municipality_list[\"団体コード\"] == row.suburb])\n",
    "    municipality_list.loc[municipality_list[\"団体コード\"] == row.suburb2, \"MEA\"] = row.MEA\n",
    "    print(municipality_list.loc[municipality_list[\"団体コード\"] == row.suburb2])\n",
    "    municipality_list.loc[municipality_list[\"団体コード\"] == row.suburb3, \"MEA\"] = row.MEA\n",
    "    print(municipality_list.loc[municipality_list[\"団体コード\"] == row.suburb3])\n",
    "    municipality_list.loc[municipality_list[\"団体コード\"] == row.suburb4, \"MEA\"] = row.MEA\n",
    "    print(municipality_list.loc[municipality_list[\"団体コード\"] == row.suburb4])"
   ]
  },
  {
   "cell_type": "markdown",
   "metadata": {
    "hidden": true,
    "lc_cell_meme": {
     "current": "469ad628-fab4-11e7-82b9-0242ac110002",
     "next": "98acab0a-f9ea-11e7-82b9-0242ac110002",
     "previous": "c0771ca6-f2a6-11e7-b919-0242ac130002"
    }
   },
   "source": [
    "小都市雇用圏の郊外都市リストを読み込み、市区町村リストに情報を追記する。"
   ]
  },
  {
   "cell_type": "code",
   "execution_count": 16,
   "metadata": {
    "deletable": false,
    "editable": false,
    "hidden": true,
    "lc_cell_meme": {
     "current": "98acab0a-f9ea-11e7-82b9-0242ac110002",
     "history": [
      {
       "current": "98acab0a-f9ea-11e7-82b9-0242ac110002",
       "next": null,
       "previous": "c0771ca6-f2a6-11e7-b919-0242ac130002"
      },
      {
       "current": "98acab0a-f9ea-11e7-82b9-0242ac110002",
       "next": "1c68fe2e-f9ed-11e7-82b9-0242ac110002",
       "previous": "c0771ca6-f2a6-11e7-b919-0242ac130002"
      },
      {
       "current": "98acab0a-f9ea-11e7-82b9-0242ac110002",
       "next": "1c68fe2e-f9ed-11e7-82b9-0242ac110002",
       "previous": "469ad628-fab4-11e7-82b9-0242ac110002"
      }
     ],
     "next": "8e2340a2-fab4-11e7-82b9-0242ac110002",
     "previous": "469ad628-fab4-11e7-82b9-0242ac110002"
    },
    "pinned_outputs": [],
    "run_through_control": {
     "frozen": true
    }
   },
   "outputs": [
    {
     "name": "stdout",
     "output_type": "stream",
     "text": [
      "1 logs recorded\n",
      "\n",
      "path: /home/jovyan/sig4ng2018/.log/20180226/20180226-033159-0688.log\n",
      "start time: 2018-02-26 03:31:59(UTC)\n",
      "end time: 2018-02-26 03:32:20(UTC)\n",
      "output size: 431140 bytes\n",
      "0 chunks with matched keywords or errors\n",
      "----\n",
      "     団体コード 市区町村名      カナ 都道府県名  小中学生     MEA\n",
      "105   1481   増毛町  マシケチョウ   北海道   299  1212.0\n",
      "Empty DataFrame\n",
      "Columns: [団体コード, 市区町村名, カナ, 都道府県名, 小中学生, MEA]\n",
      "Index: []\n",
      "Empty DataFrame\n",
      "Columns: [団体コード, 市区町村名, カナ, 都道府県名, 小中学生, MEA]\n",
      "Index: []\n",
      "Empty DataFrame\n",
      "Columns: [団体コード, 市区町村名, カナ, 都道府県名, 小中学生, MEA]\n",
      "Index: []\n",
      "     団体コード 市区町村名      カナ 都道府県名  小中学生     MEA\n",
      "106   1482   小平町  オビラチョウ   北海道   191  1212.0\n",
      "Empty DataFrame\n",
      "Columns: [団体コード, 市区町村名, カナ, 都道府県名, 小中学生, MEA]\n",
      "Index: []\n",
      "Empty DataFrame\n",
      "Columns: [団体コード, 市区町村名, カナ, 都道府県名, 小中学生, MEA]\n",
      "Index: []\n",
      "Empty DataFrame\n",
      "...\n",
      "Columns: [団体コード, 市区町村名, カナ, 都道府県名, 小中学生, MEA]\n",
      "Index: []\n",
      "Empty DataFrame\n",
      "Columns: [団体コード, 市区町村名, カナ, 都道府県名, 小中学生, MEA]\n",
      "Index: []\n",
      "Empty DataFrame\n",
      "Columns: [団体コード, 市区町村名, カナ, 都道府県名, 小中学生, MEA]\n",
      "Index: []\n",
      "Empty DataFrame\n",
      "Columns: [団体コード, 市区町村名, カナ, 都道府県名, 小中学生, MEA]\n",
      "Index: []\n",
      "Empty DataFrame\n",
      "Columns: [団体コード, 市区町村名, カナ, 都道府県名, 小中学生, MEA]\n",
      "Index: []\n",
      "Empty DataFrame\n",
      "Columns: [団体コード, 市区町村名, カナ, 都道府県名, 小中学生, MEA]\n",
      "Index: []\n",
      "Empty DataFrame\n",
      "Columns: [団体コード, 市区町村名, カナ, 都道府県名, 小中学生, MEA]\n",
      "Index: []"
     ]
    }
   ],
   "source": [
    "# csvの読み取り\n",
    "df= pd.read_csv(\"MCEA2010.csv\", encoding=\"cp932\")\n",
    "\n",
    "for row in df.itertuples():\n",
    "    municipality_list.loc[municipality_list[\"団体コード\"] == row.suburb, \"MEA\"] = row.MEA\n",
    "    print(municipality_list.loc[municipality_list[\"団体コード\"] == row.suburb])\n",
    "    municipality_list.loc[municipality_list[\"団体コード\"] == row.suburb2, \"MEA\"] = row.MEA\n",
    "    print(municipality_list.loc[municipality_list[\"団体コード\"] == row.suburb2])\n",
    "    municipality_list.loc[municipality_list[\"団体コード\"] == row.suburb3, \"MEA\"] = row.MEA\n",
    "    print(municipality_list.loc[municipality_list[\"団体コード\"] == row.suburb3])\n",
    "    municipality_list.loc[municipality_list[\"団体コード\"] == row.suburb4, \"MEA\"] = row.MEA\n",
    "    print(municipality_list.loc[municipality_list[\"団体コード\"] == row.suburb4])"
   ]
  },
  {
   "cell_type": "markdown",
   "metadata": {
    "hidden": true,
    "lc_cell_meme": {
     "current": "8e2340a2-fab4-11e7-82b9-0242ac110002",
     "next": "1c68fe2e-f9ed-11e7-82b9-0242ac110002",
     "previous": "98acab0a-f9ea-11e7-82b9-0242ac110002"
    }
   },
   "source": [
    "都市雇用圏コードが実数になってしまうので整数型に変換する。（原因は不明なので気が向いたら調査）"
   ]
  },
  {
   "cell_type": "code",
   "execution_count": 17,
   "metadata": {
    "deletable": false,
    "editable": false,
    "hidden": true,
    "lc_cell_meme": {
     "current": "1c68fe2e-f9ed-11e7-82b9-0242ac110002",
     "history": [
      {
       "current": "1c68fe2e-f9ed-11e7-82b9-0242ac110002",
       "next": null,
       "previous": "98acab0a-f9ea-11e7-82b9-0242ac110002"
      },
      {
       "current": "1c68fe2e-f9ed-11e7-82b9-0242ac110002",
       "next": "76ca6148-f9f0-11e7-82b9-0242ac110002",
       "previous": "98acab0a-f9ea-11e7-82b9-0242ac110002"
      },
      {
       "current": "1c68fe2e-f9ed-11e7-82b9-0242ac110002",
       "next": "76ca6148-f9f0-11e7-82b9-0242ac110002",
       "previous": "8e2340a2-fab4-11e7-82b9-0242ac110002"
      }
     ],
     "next": "d5a80dae-fab4-11e7-82b9-0242ac110002",
     "previous": "8e2340a2-fab4-11e7-82b9-0242ac110002"
    },
    "pinned_outputs": [],
    "run_through_control": {
     "frozen": true
    }
   },
   "outputs": [
    {
     "name": "stdout",
     "output_type": "stream",
     "text": [
      "1 logs recorded\n",
      "\n",
      "path: /home/jovyan/sig4ng2018/.log/20180226/20180226-033220-0191.log\n",
      "start time: 2018-02-26 03:32:20(UTC)\n",
      "end time: 2018-02-26 03:32:20(UTC)\n",
      "output size: 5000 bytes\n",
      "0 chunks with matched keywords or errors\n",
      "----\n",
      "      団体コード 市区町村名         カナ 都道府県名    小中学生    MEA\n",
      "0      1100   札幌市      サッポロシ   北海道  152061   1100\n",
      "1      1202   函館市      ハコダテシ   北海道   18798   1202\n",
      "2      1203   小樽市       オタルシ   北海道    7888   1100\n",
      "3      1204   旭川市     アサヒカワシ   北海道   26789   1204\n",
      "4      1205   室蘭市      ムロランシ   北海道    6285   1205\n",
      "5      1206   釧路市       クシロシ   北海道   13621   1206\n",
      "6      1207   帯広市      オビヒロシ   北海道   13665   1207\n",
      "7      1208   北見市       キタミシ   北海道    9384   1208\n",
      "8      1209   夕張市      ユウバリシ   北海道     350      0\n",
      "9      1210  岩見沢市     イワミザワシ   北海道    6305   1210\n",
      "10     1211   網走市      アバシリシ   北海道    3034   1211\n",
      "11     1212   留萌市       ルモイシ   北海道    1503   1212\n",
      "12     1213  苫小牧市     トマコマイシ   北海道   15395   1213\n",
      "13     1214   稚内市     ワッカナイシ   北海道    2777   1214\n",
      "14     1215   美唄市       ビバイシ   北海道    1355   1215\n",
      "15     1216   芦別市      アシベツシ   北海道     743      0\n",
      "16     1217   江別市       エベツシ   北海道    9683   1100\n",
      "17     1218   赤平市      アカビラシ   北海道     587   1225\n",
      "18     1219   紋別市      モンベツシ   北海道    1584   1219\n",
      "...\n",
      "1723  47327  北中城村  キタナカグスクソン   沖縄県    1925  47211\n",
      "1724  47328   中城村    ナカグスクソン   沖縄県    2318  47201\n",
      "1725  47329   西原町    ニシハラチョウ   沖縄県    4130  47201\n",
      "1726  47348  与那原町    ヨナバルチョウ   沖縄県    2337  47201\n",
      "1727  47350  南風原町    ハエバルチョウ   沖縄県    4878  47201\n",
      "1728  47353  渡嘉敷村     トカシキソン   沖縄県      84      0\n",
      "1729  47354  座間味村      ザマミソン   沖縄県     106      0\n",
      "1730  47355   粟国村      アグニソン   沖縄県      63      0\n",
      "1731  47356  渡名喜村      トナキソン   沖縄県      25      0\n",
      "1732  47357  南大東村  ミナミダイトウソン   沖縄県     142      0\n",
      "1733  47358  北大東村   キタダイトウソン   沖縄県      62      0\n",
      "1734  47359  伊平屋村      イヘヤソン   沖縄県     158      0\n",
      "1735  47360  伊是名村      イゼナソン   沖縄県     139      0\n",
      "1736  47361  久米島町    クメジマチョウ   沖縄県     796      0\n",
      "1737  47362  八重瀬町     ヤエセチョウ   沖縄県    3581  47201\n",
      "1738  47375  多良間村      タラマソン   沖縄県     132      0\n",
      "1739  47381   竹富町    タケトミチョウ   沖縄県     447      0\n",
      "1740  47382  与那国町    ヨナグニチョウ   沖縄県     186      0\n",
      "\n",
      "[1741 rows x 6 columns]"
     ]
    }
   ],
   "source": [
    "import numpy as np\n",
    "municipality_list[\"MEA\"] = municipality_list[\"MEA\"].astype(np.int64)\n",
    "\n",
    "print(municipality_list)"
   ]
  },
  {
   "cell_type": "markdown",
   "metadata": {
    "hidden": true,
    "lc_cell_meme": {
     "current": "d5a80dae-fab4-11e7-82b9-0242ac110002",
     "next": "76ca6148-f9f0-11e7-82b9-0242ac110002",
     "previous": "1c68fe2e-f9ed-11e7-82b9-0242ac110002"
    }
   },
   "source": [
    "都市雇用圏に入らない独立した市区町村も存在する。"
   ]
  },
  {
   "cell_type": "code",
   "execution_count": 18,
   "metadata": {
    "deletable": false,
    "editable": false,
    "hidden": true,
    "lc_cell_meme": {
     "current": "76ca6148-f9f0-11e7-82b9-0242ac110002",
     "history": [
      {
       "current": "76ca6148-f9f0-11e7-82b9-0242ac110002",
       "next": null,
       "previous": "1c68fe2e-f9ed-11e7-82b9-0242ac110002"
      },
      {
       "current": "76ca6148-f9f0-11e7-82b9-0242ac110002",
       "next": "be3df292-f9f0-11e7-82b9-0242ac110002",
       "previous": "1c68fe2e-f9ed-11e7-82b9-0242ac110002"
      }
     ],
     "next": "d5a80f48-fab4-11e7-82b9-0242ac110002",
     "previous": "d5a80dae-fab4-11e7-82b9-0242ac110002"
    },
    "pinned_outputs": [],
    "run_through_control": {
     "frozen": true
    }
   },
   "outputs": [
    {
     "name": "stdout",
     "output_type": "stream",
     "text": [
      "1 logs recorded\n",
      "\n",
      "path: /home/jovyan/sig4ng2018/.log/20180226/20180226-033220-0252.log\n",
      "start time: 2018-02-26 03:32:20(UTC)\n",
      "end time: 2018-02-26 03:32:20(UTC)\n",
      "output size: 4915 bytes\n",
      "0 chunks with matched keywords or errors\n",
      "----\n",
      "      団体コード 市区町村名          カナ 都道府県名  小中学生  MEA\n",
      "8      1209   夕張市       ユウバリシ   北海道   350    0\n",
      "15     1216   芦別市       アシベツシ   北海道   743    0\n",
      "36     1304  新篠津村     シンシノツムラ   北海道   229    0\n",
      "37     1331   松前町     マツマエチョウ   北海道   392    0\n",
      "38     1332   福島町     フクシマチョウ   北海道   206    0\n",
      "39     1333   知内町     シリウチチョウ   北海道   338    0\n",
      "40     1334  木古内町     キコナイチョウ   北海道   216    0\n",
      "42     1343   鹿部町      シカベチョウ   北海道   293    0\n",
      "43     1345    森町        モリマチ   北海道  1261    0\n",
      "44     1346   八雲町      ヤクモチョウ   北海道  1293    0\n",
      "45     1347  長万部町   オシャマンベチョウ   北海道   336    0\n",
      "46     1361   江差町      エサシチョウ   北海道   544    0\n",
      "47     1362  上ノ国町    カミノクニチョウ   北海道   356    0\n",
      "48     1363  厚沢部町     アッサブチョウ   北海道   288    0\n",
      "49     1364   乙部町      オトベチョウ   北海道   284    0\n",
      "50     1367   奥尻町     オクシリチョウ   北海道   144    0\n",
      "51     1370   今金町     イマカネチョウ   北海道   365    0\n",
      "52     1371  せたな町      セタナチョウ   北海道   544    0\n",
      "53     1391   島牧村      シママキムラ   北海道    74    0\n",
      "...\n",
      "1698  46534   知名町       チナチョウ  鹿児島県   602    0\n",
      "1699  46535   与論町      ヨロンチョウ  鹿児島県   538    0\n",
      "1711  47301   国頭村      クニガミソン   沖縄県   448    0\n",
      "1716  47311   恩納村       オンナソン   沖縄県  1094    0\n",
      "1718  47314   金武町       キンチョウ   沖縄県  1333    0\n",
      "1719  47315   伊江村        イエソン   沖縄県   414    0\n",
      "1728  47353  渡嘉敷村      トカシキソン   沖縄県    84    0\n",
      "1729  47354  座間味村       ザマミソン   沖縄県   106    0\n",
      "1730  47355   粟国村       アグニソン   沖縄県    63    0\n",
      "1731  47356  渡名喜村       トナキソン   沖縄県    25    0\n",
      "1732  47357  南大東村   ミナミダイトウソン   沖縄県   142    0\n",
      "1733  47358  北大東村    キタダイトウソン   沖縄県    62    0\n",
      "1734  47359  伊平屋村       イヘヤソン   沖縄県   158    0\n",
      "1735  47360  伊是名村       イゼナソン   沖縄県   139    0\n",
      "1736  47361  久米島町     クメジマチョウ   沖縄県   796    0\n",
      "1738  47375  多良間村       タラマソン   沖縄県   132    0\n",
      "1739  47381   竹富町     タケトミチョウ   沖縄県   447    0\n",
      "1740  47382  与那国町     ヨナグニチョウ   沖縄県   186    0\n",
      "\n",
      "[463 rows x 6 columns]"
     ]
    }
   ],
   "source": [
    "print(municipality_list[municipality_list[\"MEA\"] == 0])"
   ]
  },
  {
   "cell_type": "markdown",
   "metadata": {
    "heading_collapsed": true,
    "lc_cell_meme": {
     "current": "d5a80f48-fab4-11e7-82b9-0242ac110002",
     "history": [
      {
       "current": "d5a80f48-fab4-11e7-82b9-0242ac110002",
       "next": "be3df292-f9f0-11e7-82b9-0242ac110002",
       "previous": "76ca6148-f9f0-11e7-82b9-0242ac110002"
      },
      {
       "current": "d5a80f48-fab4-11e7-82b9-0242ac110002",
       "next": "6935e5ae-15fa-11e8-a91b-0242ac120002",
       "previous": "76ca6148-f9f0-11e7-82b9-0242ac110002"
      }
     ],
     "next": "be3df292-f9f0-11e7-82b9-0242ac110002",
     "previous": "76ca6148-f9f0-11e7-82b9-0242ac110002"
    }
   },
   "source": [
    "## データ分析\n",
    "\n",
    "市区町村リストに市区町村リストに教室の有無情報を入れるカラムを追加する。都道府県リストも作っておく。"
   ]
  },
  {
   "cell_type": "code",
   "execution_count": 19,
   "metadata": {
    "deletable": false,
    "editable": false,
    "hidden": true,
    "lc_cell_meme": {
     "current": "be3df292-f9f0-11e7-82b9-0242ac110002",
     "history": [
      {
       "current": "be3df292-f9f0-11e7-82b9-0242ac110002",
       "next": null,
       "previous": "76ca6148-f9f0-11e7-82b9-0242ac110002"
      },
      {
       "current": "be3df292-f9f0-11e7-82b9-0242ac110002",
       "next": "ead8049e-fa56-11e7-82b9-0242ac110002",
       "previous": "76ca6148-f9f0-11e7-82b9-0242ac110002"
      },
      {
       "current": "be3df292-f9f0-11e7-82b9-0242ac110002",
       "next": "ead8049e-fa56-11e7-82b9-0242ac110002",
       "previous": "d5a80f48-fab4-11e7-82b9-0242ac110002"
      },
      {
       "current": "be3df292-f9f0-11e7-82b9-0242ac110002",
       "next": "1d303386-fab5-11e7-82b9-0242ac110002",
       "previous": "d5a80f48-fab4-11e7-82b9-0242ac110002"
      },
      {
       "current": "be3df292-f9f0-11e7-82b9-0242ac110002",
       "next": "1d303386-fab5-11e7-82b9-0242ac110002",
       "previous": "6935ea90-15fa-11e8-a91b-0242ac120002"
      },
      {
       "current": "be3df292-f9f0-11e7-82b9-0242ac110002",
       "next": "6935ea90-15fa-11e8-a91b-0242ac120002",
       "previous": "d5a80f48-fab4-11e7-82b9-0242ac110002"
      },
      {
       "current": "be3df292-f9f0-11e7-82b9-0242ac110002",
       "next": "1d303386-fab5-11e7-82b9-0242ac110002",
       "previous": "d5a80f48-fab4-11e7-82b9-0242ac110002"
      }
     ],
     "next": "9a8838b2-1854-11e8-8389-0242ac120002",
     "previous": "d5a80f48-fab4-11e7-82b9-0242ac110002"
    },
    "pinned_outputs": [],
    "run_through_control": {
     "frozen": true
    }
   },
   "outputs": [
    {
     "name": "stdout",
     "output_type": "stream",
     "text": [
      "1 logs recorded\n",
      "\n",
      "path: /home/jovyan/sig4ng2018/.log/20180226/20180226-033220-0307.log\n",
      "start time: 2018-02-26 03:32:20(UTC)\n",
      "end time: 2018-02-26 03:32:20(UTC)\n",
      "output size: 498 bytes\n",
      "0 chunks with matched keywords or errors\n",
      "----\n"
     ]
    }
   ],
   "source": [
    "import re\n",
    "import itertools\n",
    "import requests\n",
    "from bs4 import BeautifulSoup\n",
    "\n",
    "municipality_list[\"school\"] = 0\n",
    "\n",
    "pref_list = municipality_list[\"都道府県名\"].drop_duplicates().reset_index(drop=True)"
   ]
  },
  {
   "cell_type": "markdown",
   "metadata": {
    "hidden": true,
    "lc_cell_meme": {
     "current": "9a8838b2-1854-11e8-8389-0242ac120002",
     "history": [
      {
       "current": "9a8838b2-1854-11e8-8389-0242ac120002",
       "next": "1d303386-fab5-11e7-82b9-0242ac110002",
       "previous": "be3df292-f9f0-11e7-82b9-0242ac110002"
      },
      {
       "current": "9a8838b2-1854-11e8-8389-0242ac120002",
       "next": "cbd3cdaa-1854-11e8-8389-0242ac120002",
       "previous": "be3df292-f9f0-11e7-82b9-0242ac110002"
      },
      {
       "current": "9a8838b2-1854-11e8-8389-0242ac120002",
       "next": "40631760-1860-11e8-8389-0242ac120002",
       "previous": "be3df292-f9f0-11e7-82b9-0242ac110002"
      }
     ],
     "next": "e9aea750-1868-11e8-8389-0242ac120002",
     "previous": "be3df292-f9f0-11e7-82b9-0242ac110002"
    }
   },
   "source": [
    "[プログラミング教室検索](https://programming-schoolroom.com/)から教室の情報を抽出し、市区町村リストに教室の有無情報を追記する。"
   ]
  },
  {
   "cell_type": "code",
   "execution_count": 20,
   "metadata": {
    "deletable": false,
    "editable": false,
    "hidden": true,
    "lc_cell_meme": {
     "current": "e9aea750-1868-11e8-8389-0242ac120002",
     "next": "40631760-1860-11e8-8389-0242ac120002",
     "previous": "9a8838b2-1854-11e8-8389-0242ac120002"
    },
    "run_through_control": {
     "frozen": true
    }
   },
   "outputs": [
    {
     "name": "stdout",
     "output_type": "stream",
     "text": [
      "1 logs recorded\n",
      "\n",
      "path: /home/jovyan/sig4ng2018/.log/20180226/20180226-033220-0643.log\n",
      "start time: 2018-02-26 03:32:20(UTC)\n",
      "end time: 2018-02-26 03:32:20(UTC)\n",
      "output size: 1075 bytes\n",
      "0 chunks with matched keywords or errors\n",
      "----\n"
     ]
    }
   ],
   "source": [
    "def check_school_srg(pref, url) :\n",
    "    count = 0\n",
    "    soup = BeautifulSoup(requests.get(url).content, \"lxml\")\n",
    "    links = soup.find_all(\"a\")\n",
    "    for link in links :\n",
    "        target_municipality_list = municipality_list[\n",
    "            (municipality_list[\"school\"] == 0)\n",
    "            & (municipality_list[\"都道府県名\"] == pref)\n",
    "        ]\n",
    "        for row in target_municipality_list.itertuples() :\n",
    "            if link.get_text().find(row.市区町村名) != -1 \\\n",
    "                and link.get_text().find(pref) != -1 :\n",
    "                municipality_list.loc[municipality_list[\"団体コード\"] == row.団体コード,\n",
    "                                      \"school\"] = 1\n",
    "                count = count + 1\n",
    "                print(row.市区町村名 + \", \", end=\"\")\n",
    "    return count"
   ]
  },
  {
   "cell_type": "code",
   "execution_count": 21,
   "metadata": {
    "deletable": false,
    "editable": false,
    "hidden": true,
    "lc_cell_meme": {
     "current": "40631760-1860-11e8-8389-0242ac120002",
     "history": [
      {
       "current": "40631760-1860-11e8-8389-0242ac120002",
       "next": "cbd3cdaa-1854-11e8-8389-0242ac120002",
       "previous": "9a8838b2-1854-11e8-8389-0242ac120002"
      }
     ],
     "next": "cbd3cdaa-1854-11e8-8389-0242ac120002",
     "previous": "e9aea750-1868-11e8-8389-0242ac120002"
    },
    "run_through_control": {
     "frozen": true
    }
   },
   "outputs": [
    {
     "name": "stdout",
     "output_type": "stream",
     "text": [
      "1 logs recorded\n",
      "\n",
      "path: /home/jovyan/sig4ng2018/.log/20180226/20180226-033220-0696.log\n",
      "start time: 2018-02-26 03:32:20(UTC)\n",
      "end time: 2018-02-26 03:32:20(UTC)\n",
      "output size: 1209 bytes\n",
      "0 chunks with matched keywords or errors\n",
      "----\n"
     ]
    }
   ],
   "source": [
    "def check_school_sr(pref, url) :\n",
    "    count = 0\n",
    "    print(pref + \" : \", end=\"\")\n",
    "    soup = BeautifulSoup(requests.get(url).content, \"lxml\")\n",
    "    links = soup.find_all(\"a\")\n",
    "    for link in links :\n",
    "        if link.get_text().find(\"郡\") != -1 :\n",
    "            count = count + check_school_srg(pref, base_url + link[\"href\"])\n",
    "            continue\n",
    "        target_municipality_list = municipality_list[\n",
    "            (municipality_list[\"school\"] == 0)\n",
    "            & (municipality_list[\"都道府県名\"] == pref)\n",
    "        ]\n",
    "        for row in target_municipality_list.itertuples() :\n",
    "            if link.get_text().find(row.市区町村名) != -1 :\n",
    "                municipality_list.loc[municipality_list[\"団体コード\"] == row.団体コード,\n",
    "                                      \"school\"] = 1\n",
    "                count = count + 1\n",
    "                print(row.市区町村名 + \", \", end=\"\")\n",
    "    print(\"\")\n",
    "    return count"
   ]
  },
  {
   "cell_type": "code",
   "execution_count": 22,
   "metadata": {
    "deletable": false,
    "editable": false,
    "hidden": true,
    "lc_cell_meme": {
     "current": "cbd3cdaa-1854-11e8-8389-0242ac120002",
     "history": [
      {
       "current": "cbd3cdaa-1854-11e8-8389-0242ac120002",
       "next": "1d303386-fab5-11e7-82b9-0242ac110002",
       "previous": "9a8838b2-1854-11e8-8389-0242ac120002"
      }
     ],
     "next": "1d303386-fab5-11e7-82b9-0242ac110002",
     "previous": "40631760-1860-11e8-8389-0242ac120002"
    },
    "run_through_control": {
     "frozen": true
    }
   },
   "outputs": [
    {
     "name": "stdout",
     "output_type": "stream",
     "text": [
      "1 logs recorded\n",
      "\n",
      "path: /home/jovyan/sig4ng2018/.log/20180226/20180226-033220-0757.log\n",
      "start time: 2018-02-26 03:32:20(UTC)\n",
      "end time: 2018-02-26 03:33:04(UTC)\n",
      "output size: 9213 bytes\n",
      "0 chunks with matched keywords or errors\n",
      "----\n",
      "北海道 : \n",
      "札幌市, 函館市, 旭川市, 釧路市, 帯広市, 北見市, 江別市, 滝川市, 登別市, 恵庭市, 石狩市, \n",
      "訓子府町, \n",
      "日高町, \n",
      "音更町, \n",
      "標津町, \n",
      "青森県 : \n",
      "青森市, 弘前市, 八戸市, 五所川原市, 十和田市, つがる市, \n",
      "藤崎町, おいらせ町, \n",
      "岩手県 : \n",
      "盛岡市, 花巻市, 北上市, 一関市, 奥州市, 滝沢市, 矢巾町, 紫波町, \n",
      "\n",
      "宮城県 : \n",
      "仙台市, 石巻市, 塩竈市, 気仙沼市, 白石市, 名取市, 角田市, 多賀城市, 岩沼市, 登米市, 栗原市, 東松島市, 大崎市, 富谷市, \n",
      "柴田町, \n",
      "利府町, 七ヶ浜町, \n",
      "大和町, 加美町, \n",
      "南三陸町, \n",
      "\n",
      "秋田県 : 秋田市, 横手市, 北秋田市, \n",
      "...\n",
      "時津町, 長与町, \n",
      "\n",
      "熊本県 : 熊本市, 八代市, 人吉市, \n",
      "玉名市, 山鹿市, 菊池市, 宇土市, 宇城市, 阿蘇市, 天草市, 合志市, \n",
      "嘉島町, 御船町, 長洲町, \n",
      "大津町, 菊陽町, 錦町, \n",
      "\n",
      "大分県 : \n",
      "大分市, 別府市, 中津市, 日田市, 日出町, \n",
      "宮崎県 : \n",
      "宮崎市, 都城市, 延岡市, 日南市, 日向市, 国富町, \n",
      "\n",
      "鹿児島県 : 鹿児島市, 鹿屋市, 出水市, \n",
      "薩摩川内市, 日置市, 霧島市, 志布志市, 姶良市, 大崎町, \n",
      "\n",
      "沖縄県 : 那覇市, 宜野湾市, 石垣市, 浦添市, 名護市, \n",
      "糸満市, 沖縄市, 豊見城市, うるま市, 宮古島市, 嘉手納町, \n",
      "南風原町, \n",
      "\n",
      "add count : 676"
     ]
    }
   ],
   "source": [
    "base_url = \"https://programming-schoolroom.com\"\n",
    "soup = BeautifulSoup(requests.get(base_url).content, \"lxml\")\n",
    "links = soup.find_all(\"a\")\n",
    "\n",
    "c = 0\n",
    "for pref in pref_list :\n",
    "    for link in links :\n",
    "        if len(link.get_text()) > 0 and pref.find(link.get_text()) != -1 :\n",
    "            c = c + check_school_sr(pref, base_url + link[\"href\"])\n",
    "            break\n",
    "\n",
    "print(\"add count : \" + str(c))"
   ]
  },
  {
   "cell_type": "markdown",
   "metadata": {
    "hidden": true,
    "lc_cell_meme": {
     "current": "1d303386-fab5-11e7-82b9-0242ac110002",
     "history": [
      {
       "current": "1d303386-fab5-11e7-82b9-0242ac110002",
       "next": "ead8049e-fa56-11e7-82b9-0242ac110002",
       "previous": "be3df292-f9f0-11e7-82b9-0242ac110002"
      },
      {
       "current": "1d303386-fab5-11e7-82b9-0242ac110002",
       "next": "be3df292-f9f0-11e7-82b9-0242ac110002",
       "previous": "be3df292-f9f0-11e7-82b9-0242ac110002"
      },
      {
       "current": "1d303386-fab5-11e7-82b9-0242ac110002",
       "next": "be3df292-f9f0-11e7-82b9-0242ac110002",
       "previous": "9a8838b2-1854-11e8-8389-0242ac120002"
      }
     ],
     "next": "be3df292-f9f0-11e7-82b9-0242ac110002",
     "previous": "cbd3cdaa-1854-11e8-8389-0242ac120002"
    }
   },
   "source": [
    "[子供向けロボット・プログラミング教室ガイド](http://xn--9ckk2d5c4051a8fm.xyz/sitemap.html#jyuusyo)から教室の情報を抽出し、市区町村リストに教室の有無情報を追記する。"
   ]
  },
  {
   "cell_type": "code",
   "execution_count": 23,
   "metadata": {
    "deletable": false,
    "editable": false,
    "hidden": true,
    "lc_cell_meme": {
     "current": "be3df292-f9f0-11e7-82b9-0242ac110002",
     "history": [
      {
       "current": "be3df292-f9f0-11e7-82b9-0242ac110002",
       "next": null,
       "previous": "76ca6148-f9f0-11e7-82b9-0242ac110002"
      },
      {
       "current": "be3df292-f9f0-11e7-82b9-0242ac110002",
       "next": "ead8049e-fa56-11e7-82b9-0242ac110002",
       "previous": "76ca6148-f9f0-11e7-82b9-0242ac110002"
      },
      {
       "current": "be3df292-f9f0-11e7-82b9-0242ac110002",
       "next": "ead8049e-fa56-11e7-82b9-0242ac110002",
       "previous": "d5a80f48-fab4-11e7-82b9-0242ac110002"
      },
      {
       "current": "be3df292-f9f0-11e7-82b9-0242ac110002",
       "next": "1d303386-fab5-11e7-82b9-0242ac110002",
       "previous": "d5a80f48-fab4-11e7-82b9-0242ac110002"
      },
      {
       "current": "be3df292-f9f0-11e7-82b9-0242ac110002",
       "next": "1d303386-fab5-11e7-82b9-0242ac110002",
       "previous": "6935ea90-15fa-11e8-a91b-0242ac120002"
      },
      {
       "current": "be3df292-f9f0-11e7-82b9-0242ac110002",
       "next": "6935ea90-15fa-11e8-a91b-0242ac120002",
       "previous": "d5a80f48-fab4-11e7-82b9-0242ac110002"
      },
      {
       "current": "be3df292-f9f0-11e7-82b9-0242ac110002",
       "next": "1d303386-fab5-11e7-82b9-0242ac110002",
       "previous": "d5a80f48-fab4-11e7-82b9-0242ac110002"
      }
     ],
     "next": "ead8049e-fa56-11e7-82b9-0242ac110002",
     "previous": "1d303386-fab5-11e7-82b9-0242ac110002"
    },
    "pinned_outputs": [],
    "run_through_control": {
     "frozen": true
    }
   },
   "outputs": [
    {
     "name": "stdout",
     "output_type": "stream",
     "text": [
      "2 logs recorded\n",
      "\n",
      "path: /home/jovyan/sig4ng2018/.log/20180226/20180226-033220-0307.log\n",
      "start time: 2018-02-26 03:32:20(UTC)\n",
      "end time: 2018-02-26 03:32:20(UTC)\n",
      "output size: 498 bytes\n",
      "\n",
      "path: /home/jovyan/sig4ng2018/.log/20180226/20180226-033304-0120.log\n",
      "start time: 2018-02-26 03:33:04(UTC)\n",
      "end time: 2018-02-26 03:33:04(UTC)\n",
      "output size: 1181 bytes\n",
      "0 chunks with matched keywords or errors\n",
      "----\n"
     ]
    }
   ],
   "source": [
    "def check_school_guideg(pref, url) :\n",
    "    count = 0\n",
    "    resp = requests.get(url)\n",
    "    resp.encoding = resp.apparent_encoding\n",
    "    body_lines = resp.text.splitlines()\n",
    "    for text in body_lines :\n",
    "        target_municipality_list = municipality_list[\n",
    "            (municipality_list[\"school\"] == 0)\n",
    "            & (municipality_list[\"都道府県名\"] == pref)\n",
    "        ]\n",
    "        for row in target_municipality_list.itertuples():\n",
    "            if text.find(\"一覧\") == -1 \\\n",
    "                and (text.find(\"郡\" + row.市区町村名) != -1 \\\n",
    "                or (text.find(row.市区町村名) != -1 and text.find(pref) != -1)) :\n",
    "                municipality_list.loc[municipality_list[\"団体コード\"] == row.団体コード,\n",
    "                                      \"school\"] = 1\n",
    "                count = count + 1\n",
    "                print(row.市区町村名 + \", \", end=\"\")\n",
    "    return count"
   ]
  },
  {
   "cell_type": "code",
   "execution_count": 24,
   "metadata": {
    "deletable": false,
    "editable": false,
    "hidden": true,
    "lc_cell_meme": {
     "current": "ead8049e-fa56-11e7-82b9-0242ac110002",
     "history": [
      {
       "current": "ead8049e-fa56-11e7-82b9-0242ac110002",
       "next": null,
       "previous": "be3df292-f9f0-11e7-82b9-0242ac110002"
      },
      {
       "current": "ead8049e-fa56-11e7-82b9-0242ac110002",
       "next": "35f928d4-fa63-11e7-82b9-0242ac110002",
       "previous": "be3df292-f9f0-11e7-82b9-0242ac110002"
      },
      {
       "current": "ead8049e-fa56-11e7-82b9-0242ac110002",
       "next": "ea924aa4-fa69-11e7-82b9-0242ac110002",
       "previous": "be3df292-f9f0-11e7-82b9-0242ac110002"
      },
      {
       "current": "ead8049e-fa56-11e7-82b9-0242ac110002",
       "next": "ea924aa4-fa69-11e7-82b9-0242ac110002",
       "previous": "1d303386-fab5-11e7-82b9-0242ac110002"
      },
      {
       "current": "ead8049e-fa56-11e7-82b9-0242ac110002",
       "next": "64b5d422-fab5-11e7-82b9-0242ac110002",
       "previous": "1d303386-fab5-11e7-82b9-0242ac110002"
      },
      {
       "current": "ead8049e-fa56-11e7-82b9-0242ac110002",
       "next": "ead8049e-fa56-11e7-82b9-0242ac110002",
       "previous": "1d303386-fab5-11e7-82b9-0242ac110002"
      },
      {
       "current": "ead8049e-fa56-11e7-82b9-0242ac110002",
       "next": "64b5d422-fab5-11e7-82b9-0242ac110002",
       "previous": "1d303386-fab5-11e7-82b9-0242ac110002"
      },
      {
       "current": "ead8049e-fa56-11e7-82b9-0242ac110002",
       "next": "6935ea90-15fa-11e8-a91b-0242ac120002",
       "previous": "1d303386-fab5-11e7-82b9-0242ac110002"
      },
      {
       "current": "ead8049e-fa56-11e7-82b9-0242ac110002",
       "next": "e8407778-163c-11e8-a91b-0242ac120002",
       "previous": "1d303386-fab5-11e7-82b9-0242ac110002"
      },
      {
       "current": "ead8049e-fa56-11e7-82b9-0242ac110002",
       "next": "2fc12fca-163d-11e8-a91b-0242ac120002",
       "previous": "1d303386-fab5-11e7-82b9-0242ac110002"
      },
      {
       "current": "ead8049e-fa56-11e7-82b9-0242ac110002",
       "next": "ead8049e-fa56-11e7-82b9-0242ac110002",
       "previous": "be3df292-f9f0-11e7-82b9-0242ac110002"
      },
      {
       "current": "ead8049e-fa56-11e7-82b9-0242ac110002",
       "next": "92f6c060-1871-11e8-8389-0242ac120002",
       "previous": "be3df292-f9f0-11e7-82b9-0242ac110002"
      }
     ],
     "next": "ead8049e-fa56-11e7-82b9-0242ac110002",
     "previous": "be3df292-f9f0-11e7-82b9-0242ac110002"
    },
    "pinned_outputs": [],
    "run_through_control": {
     "frozen": true
    }
   },
   "outputs": [
    {
     "name": "stdout",
     "output_type": "stream",
     "text": [
      "1 logs recorded\n",
      "\n",
      "path: /home/jovyan/sig4ng2018/.log/20180226/20180226-033304-0203.log\n",
      "start time: 2018-02-26 03:33:04(UTC)\n",
      "end time: 2018-02-26 03:33:04(UTC)\n",
      "output size: 1334 bytes\n",
      "0 chunks with matched keywords or errors\n",
      "----\n"
     ]
    }
   ],
   "source": [
    "def check_school_guide(pref, url) :\n",
    "    soup = BeautifulSoup(requests.get(url).content, \"lxml\")\n",
    "    count = 0\n",
    "    print(pref + \" : \", end=\"\")\n",
    "    soup = BeautifulSoup(requests.get(url).content, \"lxml\")\n",
    "    links = soup.find_all(\"a\")\n",
    "    for link in links :\n",
    "        if link.get_text().find(\"郡\") != -1 :\n",
    "            count = count + check_school_guideg(pref,\n",
    "                                \"http://xn--9ckk2d5c4051a8fm.xyz/\" + link[\"href\"])\n",
    "            continue\n",
    "        target_municipality_list = municipality_list[\n",
    "            (municipality_list[\"school\"] == 0)\n",
    "            & (municipality_list[\"都道府県名\"] == pref)\n",
    "        ]\n",
    "        for row in target_municipality_list.itertuples() :\n",
    "            if link.get_text().find(row.市区町村名) != -1 :\n",
    "                municipality_list.loc[municipality_list[\"団体コード\"] == row.団体コード,\n",
    "                                      \"school\"] = 1\n",
    "                count = count + 1\n",
    "                print(row.市区町村名 + \", \", end=\"\")\n",
    "    print(\"\")\n",
    "    return count"
   ]
  },
  {
   "cell_type": "code",
   "execution_count": 25,
   "metadata": {
    "deletable": false,
    "editable": false,
    "hidden": true,
    "lc_cell_meme": {
     "current": "ead8049e-fa56-11e7-82b9-0242ac110002",
     "history": [
      {
       "current": "ead8049e-fa56-11e7-82b9-0242ac110002",
       "next": null,
       "previous": "be3df292-f9f0-11e7-82b9-0242ac110002"
      },
      {
       "current": "ead8049e-fa56-11e7-82b9-0242ac110002",
       "next": "35f928d4-fa63-11e7-82b9-0242ac110002",
       "previous": "be3df292-f9f0-11e7-82b9-0242ac110002"
      },
      {
       "current": "ead8049e-fa56-11e7-82b9-0242ac110002",
       "next": "ea924aa4-fa69-11e7-82b9-0242ac110002",
       "previous": "be3df292-f9f0-11e7-82b9-0242ac110002"
      },
      {
       "current": "ead8049e-fa56-11e7-82b9-0242ac110002",
       "next": "ea924aa4-fa69-11e7-82b9-0242ac110002",
       "previous": "1d303386-fab5-11e7-82b9-0242ac110002"
      },
      {
       "current": "ead8049e-fa56-11e7-82b9-0242ac110002",
       "next": "64b5d422-fab5-11e7-82b9-0242ac110002",
       "previous": "1d303386-fab5-11e7-82b9-0242ac110002"
      },
      {
       "current": "ead8049e-fa56-11e7-82b9-0242ac110002",
       "next": "ead8049e-fa56-11e7-82b9-0242ac110002",
       "previous": "1d303386-fab5-11e7-82b9-0242ac110002"
      },
      {
       "current": "ead8049e-fa56-11e7-82b9-0242ac110002",
       "next": "64b5d422-fab5-11e7-82b9-0242ac110002",
       "previous": "1d303386-fab5-11e7-82b9-0242ac110002"
      },
      {
       "current": "ead8049e-fa56-11e7-82b9-0242ac110002",
       "next": "6935ea90-15fa-11e8-a91b-0242ac120002",
       "previous": "1d303386-fab5-11e7-82b9-0242ac110002"
      },
      {
       "current": "ead8049e-fa56-11e7-82b9-0242ac110002",
       "next": "e8407778-163c-11e8-a91b-0242ac120002",
       "previous": "1d303386-fab5-11e7-82b9-0242ac110002"
      },
      {
       "current": "ead8049e-fa56-11e7-82b9-0242ac110002",
       "next": "2fc12fca-163d-11e8-a91b-0242ac120002",
       "previous": "1d303386-fab5-11e7-82b9-0242ac110002"
      },
      {
       "current": "ead8049e-fa56-11e7-82b9-0242ac110002",
       "next": "2fc12fca-163d-11e8-a91b-0242ac120002",
       "previous": "ead8049e-fa56-11e7-82b9-0242ac110002"
      },
      {
       "current": "ead8049e-fa56-11e7-82b9-0242ac110002",
       "next": "6935ea90-15fa-11e8-a91b-0242ac120002",
       "previous": "ead8049e-fa56-11e7-82b9-0242ac110002"
      },
      {
       "current": "ead8049e-fa56-11e7-82b9-0242ac110002",
       "next": "6935ea90-15fa-11e8-a91b-0242ac120002",
       "previous": "92f6c060-1871-11e8-8389-0242ac120002"
      }
     ],
     "next": "6935ea90-15fa-11e8-a91b-0242ac120002",
     "previous": "ead8049e-fa56-11e7-82b9-0242ac110002"
    },
    "pinned_outputs": [],
    "run_through_control": {
     "frozen": true
    },
    "scrolled": true
   },
   "outputs": [
    {
     "name": "stdout",
     "output_type": "stream",
     "text": [
      "2 logs recorded\n",
      "\n",
      "path: /home/jovyan/sig4ng2018/.log/20180226/20180226-033304-0203.log\n",
      "start time: 2018-02-26 03:33:04(UTC)\n",
      "end time: 2018-02-26 03:33:04(UTC)\n",
      "output size: 1334 bytes\n",
      "\n",
      "path: /home/jovyan/sig4ng2018/.log/20180226/20180226-033304-0279.log\n",
      "start time: 2018-02-26 03:33:04(UTC)\n",
      "end time: 2018-02-26 03:34:15(UTC)\n",
      "output size: 1368 bytes\n",
      "0 chunks with matched keywords or errors\n",
      "----\n",
      "北海道 : \n",
      "\n",
      "青森県 : \n",
      "\n",
      "岩手県 : \n",
      "\n",
      "宮城県 : \n",
      "\n",
      "秋田県 : \n",
      "\n",
      "山形県 : 東根市, \n",
      "\n",
      "福島県 : \n",
      "\n",
      "茨城県 : \n",
      "\n",
      "栃木県 : \n",
      "\n",
      "群馬県 : \n",
      "\n",
      "...\n",
      "\n",
      "高知県 : \n",
      "\n",
      "福岡県 : \n",
      "\n",
      "佐賀県 : \n",
      "\n",
      "長崎県 : \n",
      "\n",
      "熊本県 : \n",
      "\n",
      "大分県 : \n",
      "\n",
      "宮崎県 : \n",
      "\n",
      "鹿児島県 : \n",
      "\n",
      "沖縄県 : \n",
      "\n",
      "add count : 1"
     ]
    }
   ],
   "source": [
    "base_url = \"http://xn--9ckk2d5c4051a8fm.xyz/sitemap.html\"\n",
    "soup = BeautifulSoup(requests.get(base_url).content, \"lxml\")\n",
    "links = soup.find_all(\"a\")\n",
    "\n",
    "c = 0\n",
    "for pref in pref_list :\n",
    "    for link in links :\n",
    "        if len(link.get_text()) > 0 and pref.find(link.get_text()) != -1 :\n",
    "            c = c + check_school_guide(pref, \"http://xn--9ckk2d5c4051a8fm.xyz/\" + link[\"href\"])\n",
    "            break\n",
    "\n",
    "print(\"add count : \" + str(c))"
   ]
  },
  {
   "cell_type": "markdown",
   "metadata": {
    "hidden": true,
    "lc_cell_meme": {
     "current": "6935ea90-15fa-11e8-a91b-0242ac120002",
     "history": [
      {
       "current": "6935ea90-15fa-11e8-a91b-0242ac120002",
       "next": "be3df292-f9f0-11e7-82b9-0242ac110002",
       "previous": "6935e5ae-15fa-11e8-a91b-0242ac120002"
      },
      {
       "current": "6935ea90-15fa-11e8-a91b-0242ac120002",
       "next": "be3df292-f9f0-11e7-82b9-0242ac110002",
       "previous": "be3df292-f9f0-11e7-82b9-0242ac110002"
      },
      {
       "current": "6935ea90-15fa-11e8-a91b-0242ac120002",
       "next": "be3df292-f9f0-11e7-82b9-0242ac110002",
       "previous": "ead8049e-fa56-11e7-82b9-0242ac110002"
      },
      {
       "current": "6935ea90-15fa-11e8-a91b-0242ac120002",
       "next": "be3df292-f9f0-11e7-82b9-0242ac110002",
       "previous": "e8407778-163c-11e8-a91b-0242ac120002"
      },
      {
       "current": "6935ea90-15fa-11e8-a91b-0242ac120002",
       "next": "be3df292-f9f0-11e7-82b9-0242ac110002",
       "previous": "2fc131d2-163d-11e8-a91b-0242ac120002"
      }
     ],
     "next": "be3df292-f9f0-11e7-82b9-0242ac110002",
     "previous": "ead8049e-fa56-11e7-82b9-0242ac110002"
    }
   },
   "source": [
    "[こどものミライ](http://kodomomirai.com/schools/)から教室の情報を抽出し、市区町村リストに教室の有無情報を追記する。"
   ]
  },
  {
   "cell_type": "code",
   "execution_count": 26,
   "metadata": {
    "deletable": false,
    "editable": false,
    "hidden": true,
    "lc_cell_meme": {
     "current": "be3df292-f9f0-11e7-82b9-0242ac110002",
     "history": [
      {
       "current": "be3df292-f9f0-11e7-82b9-0242ac110002",
       "next": null,
       "previous": "76ca6148-f9f0-11e7-82b9-0242ac110002"
      },
      {
       "current": "be3df292-f9f0-11e7-82b9-0242ac110002",
       "next": "ead8049e-fa56-11e7-82b9-0242ac110002",
       "previous": "76ca6148-f9f0-11e7-82b9-0242ac110002"
      },
      {
       "current": "be3df292-f9f0-11e7-82b9-0242ac110002",
       "next": "ead8049e-fa56-11e7-82b9-0242ac110002",
       "previous": "d5a80f48-fab4-11e7-82b9-0242ac110002"
      },
      {
       "current": "be3df292-f9f0-11e7-82b9-0242ac110002",
       "next": "1d303386-fab5-11e7-82b9-0242ac110002",
       "previous": "d5a80f48-fab4-11e7-82b9-0242ac110002"
      },
      {
       "current": "be3df292-f9f0-11e7-82b9-0242ac110002",
       "next": "1d303386-fab5-11e7-82b9-0242ac110002",
       "previous": "6935ea90-15fa-11e8-a91b-0242ac120002"
      },
      {
       "current": "be3df292-f9f0-11e7-82b9-0242ac110002",
       "next": "64b5d422-fab5-11e7-82b9-0242ac110002",
       "previous": "6935ea90-15fa-11e8-a91b-0242ac120002"
      }
     ],
     "next": "be3df292-f9f0-11e7-82b9-0242ac110002",
     "previous": "6935ea90-15fa-11e8-a91b-0242ac120002"
    },
    "pinned_outputs": [],
    "run_through_control": {
     "frozen": true
    }
   },
   "outputs": [
    {
     "name": "stdout",
     "output_type": "stream",
     "text": [
      "3 logs recorded\n",
      "\n",
      "path: /home/jovyan/sig4ng2018/.log/20180226/20180226-033220-0307.log\n",
      "start time: 2018-02-26 03:32:20(UTC)\n",
      "end time: 2018-02-26 03:32:20(UTC)\n",
      "output size: 498 bytes\n",
      "\n",
      "path: /home/jovyan/sig4ng2018/.log/20180226/20180226-033304-0120.log\n",
      "start time: 2018-02-26 03:33:04(UTC)\n",
      "end time: 2018-02-26 03:33:04(UTC)\n",
      "output size: 1181 bytes\n",
      "\n",
      "path: /home/jovyan/sig4ng2018/.log/20180226/20180226-033415-0186.log\n",
      "start time: 2018-02-26 03:34:15(UTC)\n",
      "end time: 2018-02-26 03:34:15(UTC)\n",
      "output size: 1254 bytes\n",
      "0 chunks with matched keywords or errors\n",
      "----\n"
     ]
    }
   ],
   "source": [
    "def check_school(link) :\n",
    "    print(link[\"pref\"] + \" : \", end=\"\")\n",
    "    if \"pref_not_check\" not in link :\n",
    "        link[\"pref_not_check\"] = False\n",
    "    count = 0\n",
    "    resp = requests.get(link[\"href\"])\n",
    "    resp.encoding = resp.apparent_encoding\n",
    "    body_lines = resp.text.splitlines()\n",
    "    for text in body_lines :\n",
    "        target_municipality_list = municipality_list[\n",
    "            (municipality_list[\"school\"] == 0)\n",
    "            & (municipality_list[\"都道府県名\"] == link[\"pref\"])\n",
    "        ]\n",
    "        for row in target_municipality_list.itertuples():\n",
    "            if text.find(row.市区町村名) != -1 \\\n",
    "                and (link[\"pref_not_check\"] or text.find(link[\"pref\"]) != -1) :\n",
    "                municipality_list.loc[municipality_list[\"団体コード\"] == row.団体コード,\n",
    "                                      \"school\"] = 1\n",
    "                count = count + 1\n",
    "                print(row.市区町村名 + \", \", end=\"\")\n",
    "    print(\"\")\n",
    "    return count"
   ]
  },
  {
   "cell_type": "code",
   "execution_count": 27,
   "metadata": {
    "deletable": false,
    "editable": false,
    "hidden": true,
    "lc_cell_meme": {
     "current": "be3df292-f9f0-11e7-82b9-0242ac110002",
     "history": [
      {
       "current": "be3df292-f9f0-11e7-82b9-0242ac110002",
       "next": null,
       "previous": "76ca6148-f9f0-11e7-82b9-0242ac110002"
      },
      {
       "current": "be3df292-f9f0-11e7-82b9-0242ac110002",
       "next": "ead8049e-fa56-11e7-82b9-0242ac110002",
       "previous": "76ca6148-f9f0-11e7-82b9-0242ac110002"
      },
      {
       "current": "be3df292-f9f0-11e7-82b9-0242ac110002",
       "next": "ead8049e-fa56-11e7-82b9-0242ac110002",
       "previous": "d5a80f48-fab4-11e7-82b9-0242ac110002"
      },
      {
       "current": "be3df292-f9f0-11e7-82b9-0242ac110002",
       "next": "1d303386-fab5-11e7-82b9-0242ac110002",
       "previous": "d5a80f48-fab4-11e7-82b9-0242ac110002"
      },
      {
       "current": "be3df292-f9f0-11e7-82b9-0242ac110002",
       "next": "1d303386-fab5-11e7-82b9-0242ac110002",
       "previous": "6935ea90-15fa-11e8-a91b-0242ac120002"
      },
      {
       "current": "be3df292-f9f0-11e7-82b9-0242ac110002",
       "next": "64b5d422-fab5-11e7-82b9-0242ac110002",
       "previous": "6935ea90-15fa-11e8-a91b-0242ac120002"
      }
     ],
     "next": "64b5d422-fab5-11e7-82b9-0242ac110002",
     "previous": "be3df292-f9f0-11e7-82b9-0242ac110002"
    },
    "pinned_outputs": [],
    "run_through_control": {
     "frozen": true
    }
   },
   "outputs": [
    {
     "name": "stdout",
     "output_type": "stream",
     "text": [
      "4 logs recorded\n",
      "\n",
      "path: /home/jovyan/sig4ng2018/.log/20180226/20180226-033304-0120.log\n",
      "start time: 2018-02-26 03:33:04(UTC)\n",
      "end time: 2018-02-26 03:33:04(UTC)\n",
      "output size: 1181 bytes\n",
      "\n",
      "path: /home/jovyan/sig4ng2018/.log/20180226/20180226-033415-0186.log\n",
      "start time: 2018-02-26 03:34:15(UTC)\n",
      "end time: 2018-02-26 03:34:15(UTC)\n",
      "output size: 1254 bytes\n",
      "\n",
      "path: /home/jovyan/sig4ng2018/.log/20180226/20180226-033415-0269.log\n",
      "start time: 2018-02-26 03:34:15(UTC)\n",
      "end time: 2018-02-26 03:36:51(UTC)\n",
      "output size: 1361 bytes\n",
      "0 chunks with matched keywords or errors\n",
      "----\n",
      "東京都 : \n",
      "\n",
      "神奈川県 : \n",
      "\n",
      "千葉県 : \n",
      "\n",
      "埼玉県 : \n",
      "\n",
      "群馬県 : \n",
      "\n",
      "栃木県 : \n",
      "高根沢町, \n",
      "\n",
      "茨城県 : \n",
      "\n",
      "北海道 : \n",
      "\n",
      "青森県 : \n",
      "\n",
      "岩手県 : \n",
      "...\n",
      "\n",
      "高知県 : \n",
      "\n",
      "福岡県 : \n",
      "\n",
      "長崎県 : \n",
      "\n",
      "佐賀県 : \n",
      "\n",
      "熊本県 : \n",
      "\n",
      "大分県 : \n",
      "\n",
      "宮崎県 : \n",
      "\n",
      "鹿児島県 : \n",
      "\n",
      "沖縄県 : \n",
      "\n",
      "add count : 3"
     ]
    }
   ],
   "source": [
    "base_url = \"http://kodomomirai.com/schools/\"\n",
    "soup = BeautifulSoup(requests.get(base_url).content, \"lxml\")\n",
    "l = [{\"href\" : \"http://kodomomirai.com\" + link[\"href\"],\n",
    "      \"pref\" : re.sub(\"\\([0-9]+\\)\", \"\", link.get_text()),\n",
    "     \"pref_not_check\" : True}\n",
    "     for link in soup.find_all(\"a\") if link[\"href\"].find(\"prefecture\") != -1]\n",
    "\n",
    "print(\"add count : \" + str(sum(list(map(check_school, l)))))"
   ]
  },
  {
   "cell_type": "markdown",
   "metadata": {
    "hidden": true,
    "lc_cell_meme": {
     "current": "64b5d422-fab5-11e7-82b9-0242ac110002",
     "history": [
      {
       "current": "64b5d422-fab5-11e7-82b9-0242ac110002",
       "next": "ea924aa4-fa69-11e7-82b9-0242ac110002",
       "previous": "ead8049e-fa56-11e7-82b9-0242ac110002"
      },
      {
       "current": "64b5d422-fab5-11e7-82b9-0242ac110002",
       "next": "bc4e36d4-15e5-11e8-a91b-0242ac120002",
       "previous": "ead8049e-fa56-11e7-82b9-0242ac110002"
      },
      {
       "current": "64b5d422-fab5-11e7-82b9-0242ac110002",
       "next": "ea924aa4-fa69-11e7-82b9-0242ac110002",
       "previous": "ead8049e-fa56-11e7-82b9-0242ac110002"
      }
     ],
     "next": "ea924aa4-fa69-11e7-82b9-0242ac110002",
     "previous": "be3df292-f9f0-11e7-82b9-0242ac110002"
    }
   },
   "source": [
    "[子供向けプログラミング教室のリスト](https://list.open-code.club/%E5%AD%90%E4%BE%9B%E5%90%91%E3%81%91%E3%83%97%E3%83%AD%E3%82%B0%E3%83%A9%E3%83%9F%E3%83%B3%E3%82%B0%E6%95%99%E5%AE%A4%E3%81%AE%E3%83%AA%E3%82%B9%E3%83%88/)から教室の情報を抽出し、市区町村リストに教室の有無情報を追記する。"
   ]
  },
  {
   "cell_type": "code",
   "execution_count": 45,
   "metadata": {
    "deletable": false,
    "editable": false,
    "hidden": true,
    "lc_cell_meme": {
     "current": "ea924aa4-fa69-11e7-82b9-0242ac110002",
     "history": [
      {
       "current": "ea924aa4-fa69-11e7-82b9-0242ac110002",
       "next": null,
       "previous": "35f928d4-fa63-11e7-82b9-0242ac110002"
      },
      {
       "current": "ea924aa4-fa69-11e7-82b9-0242ac110002",
       "next": null,
       "previous": "ead8049e-fa56-11e7-82b9-0242ac110002"
      },
      {
       "current": "ea924aa4-fa69-11e7-82b9-0242ac110002",
       "next": "2e70ed56-fa7f-11e7-82b9-0242ac110002",
       "previous": "ead8049e-fa56-11e7-82b9-0242ac110002"
      },
      {
       "current": "ea924aa4-fa69-11e7-82b9-0242ac110002",
       "next": "db5a8756-fa80-11e7-82b9-0242ac110002",
       "previous": "ead8049e-fa56-11e7-82b9-0242ac110002"
      },
      {
       "current": "ea924aa4-fa69-11e7-82b9-0242ac110002",
       "next": "db5a8756-fa80-11e7-82b9-0242ac110002",
       "previous": "64b5d422-fab5-11e7-82b9-0242ac110002"
      },
      {
       "current": "ea924aa4-fa69-11e7-82b9-0242ac110002",
       "next": "ac3d91f4-fab5-11e7-82b9-0242ac110002",
       "previous": "64b5d422-fab5-11e7-82b9-0242ac110002"
      },
      {
       "current": "ea924aa4-fa69-11e7-82b9-0242ac110002",
       "next": "bdb1527e-1485-11e8-a91b-0242ac120002",
       "previous": "64b5d422-fab5-11e7-82b9-0242ac110002"
      },
      {
       "current": "ea924aa4-fa69-11e7-82b9-0242ac110002",
       "next": "b9151efe-1529-11e8-a91b-0242ac120002",
       "previous": "64b5d422-fab5-11e7-82b9-0242ac110002"
      },
      {
       "current": "ea924aa4-fa69-11e7-82b9-0242ac110002",
       "next": "b9151efe-1529-11e8-a91b-0242ac120002",
       "previous": "bc4e36d4-15e5-11e8-a91b-0242ac120002"
      }
     ],
     "next": "b9151efe-1529-11e8-a91b-0242ac120002",
     "previous": "64b5d422-fab5-11e7-82b9-0242ac110002"
    },
    "pinned_outputs": [],
    "run_through_control": {
     "frozen": true
    }
   },
   "outputs": [
    {
     "name": "stdout",
     "output_type": "stream",
     "text": [
      "2 logs recorded\n",
      "\n",
      "path: /home/jovyan/sig4ng2018/.log/20180226/20180226-033651-0329.log\n",
      "start time: 2018-02-26 03:36:51(UTC)\n",
      "end time: 2018-02-26 03:37:12(UTC)\n",
      "output size: 604 bytes\n",
      "\n",
      "path: /home/jovyan/sig4ng2018/.log/20180226/20180226-034048-0199.log\n",
      "start time: 2018-02-26 03:40:48(UTC)\n",
      "end time: 2018-02-26 03:41:39(UTC)\n",
      "output size: 1153 bytes\n",
      "0 chunks with matched keywords or errors\n",
      "----\n",
      "北海道 : \n",
      "\n",
      "青森県 : \n",
      "\n",
      "岩手県 : \n",
      "\n",
      "宮城県 : \n",
      "\n",
      "秋田県 : \n",
      "\n",
      "山形県 : \n",
      "\n",
      "福島県 : \n",
      "\n",
      "茨城県 : \n",
      "\n",
      "栃木県 : \n",
      "\n",
      "群馬県 : \n",
      "\n",
      "...\n",
      "\n",
      "高知県 : \n",
      "\n",
      "福岡県 : \n",
      "\n",
      "佐賀県 : \n",
      "\n",
      "長崎県 : \n",
      "\n",
      "熊本県 : \n",
      "\n",
      "大分県 : \n",
      "\n",
      "宮崎県 : \n",
      "\n",
      "鹿児島県 : \n",
      "\n",
      "沖縄県 : \n",
      "\n",
      "add count : 0"
     ]
    }
   ],
   "source": [
    "l = [{\"href\" : \"https://list.open-code.club/子供向けプログラミング教室のリスト/\" + pref + \"/\",\n",
    "      \"pref\" : pref} for pref in pref_list]\n",
    "\n",
    "print(\"add count : \" + str(sum(list(map(check_school, l)))))"
   ]
  },
  {
   "cell_type": "markdown",
   "metadata": {
    "hidden": true,
    "lc_cell_meme": {
     "current": "b9151efe-1529-11e8-a91b-0242ac120002",
     "next": "bdb1527e-1485-11e8-a91b-0242ac120002",
     "previous": "ea924aa4-fa69-11e7-82b9-0242ac110002"
    }
   },
   "source": [
    "[ヒューマンアカデミーロボット教室のリスト](http://kids.athuman.com/robo/CI/Store/Synopsis2/)から教室の情報を抽出し、市区町村リストに教室の有無情報を追記する。"
   ]
  },
  {
   "cell_type": "code",
   "execution_count": 29,
   "metadata": {
    "deletable": false,
    "editable": false,
    "hidden": true,
    "lc_cell_meme": {
     "current": "bdb1527e-1485-11e8-a91b-0242ac120002",
     "history": [
      {
       "current": "bdb1527e-1485-11e8-a91b-0242ac120002",
       "next": "ac3d91f4-fab5-11e7-82b9-0242ac110002",
       "previous": "ea924aa4-fa69-11e7-82b9-0242ac110002"
      },
      {
       "current": "bdb1527e-1485-11e8-a91b-0242ac120002",
       "next": "ac3d91f4-fab5-11e7-82b9-0242ac110002",
       "previous": "b9151efe-1529-11e8-a91b-0242ac120002"
      },
      {
       "current": "bdb1527e-1485-11e8-a91b-0242ac120002",
       "next": "240e604e-1543-11e8-a91b-0242ac120002",
       "previous": "b9151efe-1529-11e8-a91b-0242ac120002"
      },
      {
       "current": "bdb1527e-1485-11e8-a91b-0242ac120002",
       "next": "ac3d91f4-fab5-11e7-82b9-0242ac110002",
       "previous": "b9151efe-1529-11e8-a91b-0242ac120002"
      },
      {
       "current": "bdb1527e-1485-11e8-a91b-0242ac120002",
       "next": "ac3d91f4-fab5-11e7-82b9-0242ac110002",
       "previous": "bdb1527e-1485-11e8-a91b-0242ac120002"
      },
      {
       "current": "bdb1527e-1485-11e8-a91b-0242ac120002",
       "next": "ac3d91f4-fab5-11e7-82b9-0242ac110002",
       "previous": "b9151efe-1529-11e8-a91b-0242ac120002"
      }
     ],
     "next": "b9151efe-1529-11e8-a91b-0242ac120002",
     "previous": "b9151efe-1529-11e8-a91b-0242ac120002"
    },
    "pinned_outputs": [],
    "run_through_control": {
     "frozen": true
    }
   },
   "outputs": [
    {
     "name": "stdout",
     "output_type": "stream",
     "text": [
      "1 logs recorded\n",
      "\n",
      "path: /home/jovyan/sig4ng2018/.log/20180226/20180226-033712-0647.log\n",
      "start time: 2018-02-26 03:37:12(UTC)\n",
      "end time: 2018-02-26 03:38:34(UTC)\n",
      "output size: 1310 bytes\n",
      "0 chunks with matched keywords or errors\n",
      "----\n",
      "北海道 : \n",
      "\n",
      "青森県 : \n",
      "\n",
      "岩手県 : \n",
      "\n",
      "宮城県 : \n",
      "\n",
      "秋田県 : \n",
      "\n",
      "山形県 : \n",
      "\n",
      "福島県 : \n",
      "\n",
      "茨城県 : \n",
      "小美玉市, \n",
      "\n",
      "栃木県 : \n",
      "\n",
      "群馬県 : \n",
      "...\n",
      "\n",
      "福岡県 : \n",
      "\n",
      "佐賀県 : \n",
      "\n",
      "長崎県 : \n",
      "\n",
      "熊本県 : \n",
      "あさぎり町, \n",
      "\n",
      "大分県 : \n",
      "\n",
      "宮崎県 : \n",
      "\n",
      "鹿児島県 : \n",
      "\n",
      "沖縄県 : \n",
      "西原町, \n",
      "\n",
      "add count : 6"
     ]
    }
   ],
   "source": [
    "l = [{\"href\" :\n",
    "      \"http://kids.athuman.com/robo/CI/Store/Synopsis/Search/\" + \\\n",
    "      \"?Search[Page][Offset]=1&Search[Page][DispNum]=1000&Store[store_text2]=\" + pref,\n",
    "      \"pref\" : pref, \"pref_not_check\" : True} for pref in pref_list]\n",
    "\n",
    "print(\"add count : \" + str(sum(list(map(check_school, l)))))"
   ]
  },
  {
   "cell_type": "markdown",
   "metadata": {
    "hidden": true,
    "lc_cell_meme": {
     "current": "b9151efe-1529-11e8-a91b-0242ac120002",
     "history": [
      {
       "current": "b9151efe-1529-11e8-a91b-0242ac120002",
       "next": "bdb1527e-1485-11e8-a91b-0242ac120002",
       "previous": "ea924aa4-fa69-11e7-82b9-0242ac110002"
      }
     ],
     "next": "bdb1527e-1485-11e8-a91b-0242ac120002",
     "previous": "bdb1527e-1485-11e8-a91b-0242ac120002"
    }
   },
   "source": [
    "[アーテック エジソンアカデミーロボットプログラミング教室のリスト](http://edisonacademy.artec-kk.co.jp/robot/search.php)から教室の情報を抽出し、市区町村リストに教室の有無情報を追記する。"
   ]
  },
  {
   "cell_type": "code",
   "execution_count": 30,
   "metadata": {
    "deletable": false,
    "editable": false,
    "hidden": true,
    "lc_cell_meme": {
     "current": "bdb1527e-1485-11e8-a91b-0242ac120002",
     "history": [
      {
       "current": "bdb1527e-1485-11e8-a91b-0242ac120002",
       "next": "ac3d91f4-fab5-11e7-82b9-0242ac110002",
       "previous": "ea924aa4-fa69-11e7-82b9-0242ac110002"
      },
      {
       "current": "bdb1527e-1485-11e8-a91b-0242ac120002",
       "next": "ac3d91f4-fab5-11e7-82b9-0242ac110002",
       "previous": "b9151efe-1529-11e8-a91b-0242ac120002"
      },
      {
       "current": "bdb1527e-1485-11e8-a91b-0242ac120002",
       "next": "240e604e-1543-11e8-a91b-0242ac120002",
       "previous": "b9151efe-1529-11e8-a91b-0242ac120002"
      },
      {
       "current": "bdb1527e-1485-11e8-a91b-0242ac120002",
       "next": "ac3d91f4-fab5-11e7-82b9-0242ac110002",
       "previous": "b9151efe-1529-11e8-a91b-0242ac120002"
      },
      {
       "current": "bdb1527e-1485-11e8-a91b-0242ac120002",
       "next": "ac3d91f4-fab5-11e7-82b9-0242ac110002",
       "previous": "bdb1527e-1485-11e8-a91b-0242ac120002"
      }
     ],
     "next": "ac3d91f4-fab5-11e7-82b9-0242ac110002",
     "previous": "b9151efe-1529-11e8-a91b-0242ac120002"
    },
    "pinned_outputs": [],
    "run_through_control": {
     "frozen": true
    }
   },
   "outputs": [
    {
     "name": "stdout",
     "output_type": "stream",
     "text": [
      "2 logs recorded\n",
      "\n",
      "path: /home/jovyan/sig4ng2018/.log/20180226/20180226-033712-0647.log\n",
      "start time: 2018-02-26 03:37:12(UTC)\n",
      "end time: 2018-02-26 03:38:34(UTC)\n",
      "output size: 1310 bytes\n",
      "\n",
      "path: /home/jovyan/sig4ng2018/.log/20180226/20180226-033834-0486.log\n",
      "start time: 2018-02-26 03:38:34(UTC)\n",
      "end time: 2018-02-26 03:39:02(UTC)\n",
      "output size: 1218 bytes\n",
      "0 chunks with matched keywords or errors\n",
      "----\n",
      "北海道 : \n",
      "\n",
      "青森県 : \n",
      "\n",
      "岩手県 : \n",
      "\n",
      "宮城県 : \n",
      "\n",
      "秋田県 : \n",
      "\n",
      "山形県 : \n",
      "\n",
      "福島県 : \n",
      "\n",
      "茨城県 : \n",
      "\n",
      "栃木県 : \n",
      "\n",
      "群馬県 : \n",
      "\n",
      "...\n",
      "\n",
      "高知県 : \n",
      "\n",
      "福岡県 : \n",
      "\n",
      "佐賀県 : \n",
      "\n",
      "長崎県 : \n",
      "\n",
      "熊本県 : \n",
      "\n",
      "大分県 : \n",
      "\n",
      "宮崎県 : \n",
      "\n",
      "鹿児島県 : \n",
      "\n",
      "沖縄県 : \n",
      "\n",
      "add count : 2"
     ]
    }
   ],
   "source": [
    "l = [{\"href\" : \"http://edisonacademy.artec-kk.co.jp/robot/search_city.php?pref_id=\" + \\\n",
    "      \"{0:02d}\".format(i + 1),\n",
    "      \"pref\" : pref_list[i], \"pref_not_check\" : True} for i in range(47)]\n",
    "\n",
    "print(\"add count : \" + str(sum(list(map(check_school, l)))))"
   ]
  },
  {
   "cell_type": "markdown",
   "metadata": {
    "hidden": true,
    "lc_cell_meme": {
     "current": "ac3d91f4-fab5-11e7-82b9-0242ac110002",
     "history": [
      {
       "current": "ac3d91f4-fab5-11e7-82b9-0242ac110002",
       "next": "db5a8756-fa80-11e7-82b9-0242ac110002",
       "previous": "ea924aa4-fa69-11e7-82b9-0242ac110002"
      },
      {
       "current": "ac3d91f4-fab5-11e7-82b9-0242ac110002",
       "next": "db5a8756-fa80-11e7-82b9-0242ac110002",
       "previous": "bdb1527e-1485-11e8-a91b-0242ac120002"
      },
      {
       "current": "ac3d91f4-fab5-11e7-82b9-0242ac110002",
       "next": "db5a8756-fa80-11e7-82b9-0242ac110002",
       "previous": "240e604e-1543-11e8-a91b-0242ac120002"
      }
     ],
     "next": "db5a8756-fa80-11e7-82b9-0242ac110002",
     "previous": "bdb1527e-1485-11e8-a91b-0242ac120002"
    }
   },
   "source": [
    "独自に用意した Hour of Code 2017 日本国内会場のリスト（主催が外国人コミュニティではないと考えられるもののみ抽出）から開催地の情報を抽出し、市区町村リストに教室の有無情報を追記する。"
   ]
  },
  {
   "cell_type": "code",
   "execution_count": null,
   "metadata": {
    "deletable": false,
    "editable": false,
    "hidden": true,
    "lc_cell_meme": {
     "current": "db5a8756-fa80-11e7-82b9-0242ac110002",
     "history": [
      {
       "current": "db5a8756-fa80-11e7-82b9-0242ac110002",
       "next": null,
       "previous": "2e70ed56-fa7f-11e7-82b9-0242ac110002"
      },
      {
       "current": "db5a8756-fa80-11e7-82b9-0242ac110002",
       "next": "2e70ed56-fa7f-11e7-82b9-0242ac110002",
       "previous": "ea924aa4-fa69-11e7-82b9-0242ac110002"
      },
      {
       "current": "db5a8756-fa80-11e7-82b9-0242ac110002",
       "next": "db5a8756-fa80-11e7-82b9-0242ac110002",
       "previous": "ea924aa4-fa69-11e7-82b9-0242ac110002"
      },
      {
       "current": "db5a8756-fa80-11e7-82b9-0242ac110002",
       "next": "db5a8756-fa80-11e7-82b9-0242ac110002",
       "previous": "ac3d91f4-fab5-11e7-82b9-0242ac110002"
      }
     ],
     "next": "f3c2a640-fab5-11e7-82b9-0242ac110002",
     "previous": "ac3d91f4-fab5-11e7-82b9-0242ac110002"
    },
    "pinned_outputs": [],
    "run_through_control": {
     "frozen": true
    }
   },
   "outputs": [],
   "source": [
    "# HoCは定常的な体験機会を作らないので、集計から外す（凍結しておく）\n",
    "# csvの読み取り\n",
    "df= pd.read_csv(\"hoc2017jp.csv\", encoding=\"cp932\")\n",
    "\n",
    "for row in df.itertuples():\n",
    "    t = municipality_list[municipality_list[\"都道府県名\"] == row.都道府県]\n",
    "    c = t[t[\"市区町村名\"] == row.市区町村].reset_index()\n",
    "    municipality_list.loc[municipality_list[\"団体コード\"] == c.団体コード[0], \"school\"] = 1\n",
    "\n",
    "print(municipality_list[municipality_list[\"school\"] == 1])"
   ]
  },
  {
   "cell_type": "markdown",
   "metadata": {
    "hidden": true,
    "lc_cell_meme": {
     "current": "f3c2a640-fab5-11e7-82b9-0242ac110002",
     "next": "db5a8756-fa80-11e7-82b9-0242ac110002",
     "previous": "db5a8756-fa80-11e7-82b9-0242ac110002"
    }
   },
   "source": [
    "独自に用意した Coder Dojo 日本国内会場のリストから開催地の情報を抽出し、市区町村リストに教室の有無情報を追記する。"
   ]
  },
  {
   "cell_type": "code",
   "execution_count": 31,
   "metadata": {
    "deletable": false,
    "editable": false,
    "hidden": true,
    "lc_cell_meme": {
     "current": "db5a8756-fa80-11e7-82b9-0242ac110002",
     "history": [
      {
       "current": "db5a8756-fa80-11e7-82b9-0242ac110002",
       "next": null,
       "previous": "2e70ed56-fa7f-11e7-82b9-0242ac110002"
      },
      {
       "current": "db5a8756-fa80-11e7-82b9-0242ac110002",
       "next": "2e70ed56-fa7f-11e7-82b9-0242ac110002",
       "previous": "ea924aa4-fa69-11e7-82b9-0242ac110002"
      },
      {
       "current": "db5a8756-fa80-11e7-82b9-0242ac110002",
       "next": "2e70ed56-fa7f-11e7-82b9-0242ac110002",
       "previous": "db5a8756-fa80-11e7-82b9-0242ac110002"
      },
      {
       "current": "db5a8756-fa80-11e7-82b9-0242ac110002",
       "next": "f3c2a758-fab5-11e7-82b9-0242ac110002",
       "previous": "f3c2a640-fab5-11e7-82b9-0242ac110002"
      }
     ],
     "next": "c0d849c8-170d-11e8-b3ff-02420aff0004",
     "previous": "f3c2a640-fab5-11e7-82b9-0242ac110002"
    },
    "pinned_outputs": [],
    "run_through_control": {
     "frozen": true
    }
   },
   "outputs": [
    {
     "name": "stdout",
     "output_type": "stream",
     "text": [
      "1 logs recorded\n",
      "\n",
      "path: /home/jovyan/sig4ng2018/.log/20180226/20180226-033902-0933.log\n",
      "start time: 2018-02-26 03:39:02(UTC)\n",
      "end time: 2018-02-26 03:39:03(UTC)\n",
      "output size: 651 bytes\n",
      "0 chunks with matched keywords or errors\n",
      "----\n"
     ]
    }
   ],
   "source": [
    "# csvの読み取り\n",
    "df= pd.read_csv(\"cd2018.csv\", encoding=\"cp932\")\n",
    "\n",
    "for row in df.itertuples():\n",
    "    t = municipality_list[municipality_list[\"都道府県名\"] == row.都道府県]\n",
    "    c = t[t[\"市区町村名\"] == row.市区町村].reset_index()\n",
    "    municipality_list.loc[municipality_list[\"団体コード\"] == c.団体コード[0], \"school\"] = 1"
   ]
  },
  {
   "cell_type": "markdown",
   "metadata": {
    "hidden": true,
    "lc_cell_meme": {
     "current": "c0d849c8-170d-11e8-b3ff-02420aff0004",
     "history": [
      {
       "current": "c0d849c8-170d-11e8-b3ff-02420aff0004",
       "next": "f3c2a758-fab5-11e7-82b9-0242ac110002",
       "previous": "db5a8756-fa80-11e7-82b9-0242ac110002"
      }
     ],
     "next": "085fdca2-170e-11e8-b3ff-02420aff0004",
     "previous": "db5a8756-fa80-11e7-82b9-0242ac110002"
    }
   },
   "source": [
    "独自に用意した定期開催される教室やイベントの情報を、市区町村リストの教室の有無情報に追記する。"
   ]
  },
  {
   "cell_type": "code",
   "execution_count": 32,
   "metadata": {
    "deletable": false,
    "editable": false,
    "hidden": true,
    "lc_cell_meme": {
     "current": "085fdca2-170e-11e8-b3ff-02420aff0004",
     "next": "f3c2a758-fab5-11e7-82b9-0242ac110002",
     "previous": "c0d849c8-170d-11e8-b3ff-02420aff0004"
    },
    "run_through_control": {
     "frozen": true
    }
   },
   "outputs": [
    {
     "name": "stdout",
     "output_type": "stream",
     "text": [
      "1 logs recorded\n",
      "\n",
      "path: /home/jovyan/sig4ng2018/.log/20180226/20180226-033903-0571.log\n",
      "start time: 2018-02-26 03:39:03(UTC)\n",
      "end time: 2018-02-26 03:39:03(UTC)\n",
      "output size: 656 bytes\n",
      "0 chunks with matched keywords or errors\n",
      "----\n"
     ]
    }
   ],
   "source": [
    "# csvの読み取り\n",
    "df= pd.read_csv(\"add_schools.csv\", encoding=\"cp932\")\n",
    "\n",
    "for row in df.itertuples():\n",
    "    t = municipality_list[municipality_list[\"都道府県名\"] == row.都道府県]\n",
    "    c = t[t[\"市区町村名\"] == row.市区町村].reset_index()\n",
    "    municipality_list.loc[municipality_list[\"団体コード\"] == c.団体コード[0], \"school\"] = 1"
   ]
  },
  {
   "cell_type": "markdown",
   "metadata": {
    "hidden": true,
    "lc_cell_meme": {
     "current": "f3c2a758-fab5-11e7-82b9-0242ac110002",
     "history": [
      {
       "current": "f3c2a758-fab5-11e7-82b9-0242ac110002",
       "next": "2e70ed56-fa7f-11e7-82b9-0242ac110002",
       "previous": "db5a8756-fa80-11e7-82b9-0242ac110002"
      },
      {
       "current": "f3c2a758-fab5-11e7-82b9-0242ac110002",
       "next": "11dc2722-fab7-11e7-82b9-0242ac110002",
       "previous": "db5a8756-fa80-11e7-82b9-0242ac110002"
      },
      {
       "current": "f3c2a758-fab5-11e7-82b9-0242ac110002",
       "next": "2e70ed56-fa7f-11e7-82b9-0242ac110002",
       "previous": "db5a8756-fa80-11e7-82b9-0242ac110002"
      },
      {
       "current": "f3c2a758-fab5-11e7-82b9-0242ac110002",
       "next": "2e70ed56-fa7f-11e7-82b9-0242ac110002",
       "previous": "c0d849c8-170d-11e8-b3ff-02420aff0004"
      }
     ],
     "next": "2e70ed56-fa7f-11e7-82b9-0242ac110002",
     "previous": "085fdca2-170e-11e8-b3ff-02420aff0004"
    }
   },
   "source": [
    "同じ都市雇用圏に属する市区町村に体験機会がある場合、その市区町村にも体験機会があると見なし、市区町村リストに教室の有無情報を追記する。"
   ]
  },
  {
   "cell_type": "code",
   "execution_count": 46,
   "metadata": {
    "deletable": false,
    "editable": false,
    "hidden": true,
    "lc_cell_meme": {
     "current": "2e70ed56-fa7f-11e7-82b9-0242ac110002",
     "history": [
      {
       "current": "2e70ed56-fa7f-11e7-82b9-0242ac110002",
       "next": null,
       "previous": "ea924aa4-fa69-11e7-82b9-0242ac110002"
      },
      {
       "current": "2e70ed56-fa7f-11e7-82b9-0242ac110002",
       "next": "db5a8756-fa80-11e7-82b9-0242ac110002",
       "previous": "ea924aa4-fa69-11e7-82b9-0242ac110002"
      },
      {
       "current": "2e70ed56-fa7f-11e7-82b9-0242ac110002",
       "next": null,
       "previous": "db5a8756-fa80-11e7-82b9-0242ac110002"
      },
      {
       "current": "2e70ed56-fa7f-11e7-82b9-0242ac110002",
       "next": "719a312c-fa99-11e7-82b9-0242ac110002",
       "previous": "db5a8756-fa80-11e7-82b9-0242ac110002"
      },
      {
       "current": "2e70ed56-fa7f-11e7-82b9-0242ac110002",
       "next": "719a312c-fa99-11e7-82b9-0242ac110002",
       "previous": "f3c2a758-fab5-11e7-82b9-0242ac110002"
      },
      {
       "current": "2e70ed56-fa7f-11e7-82b9-0242ac110002",
       "next": "82d255ec-fab6-11e7-82b9-0242ac110002",
       "previous": "f3c2a758-fab5-11e7-82b9-0242ac110002"
      },
      {
       "current": "2e70ed56-fa7f-11e7-82b9-0242ac110002",
       "next": "11dc2722-fab7-11e7-82b9-0242ac110002",
       "previous": "f3c2a758-fab5-11e7-82b9-0242ac110002"
      },
      {
       "current": "2e70ed56-fa7f-11e7-82b9-0242ac110002",
       "next": "c5e53304-1546-11e8-a91b-0242ac120002",
       "previous": "f3c2a758-fab5-11e7-82b9-0242ac110002"
      },
      {
       "current": "2e70ed56-fa7f-11e7-82b9-0242ac110002",
       "next": "53d8f9b8-16c1-11e8-a91b-0242ac120002",
       "previous": "f3c2a758-fab5-11e7-82b9-0242ac110002"
      },
      {
       "current": "2e70ed56-fa7f-11e7-82b9-0242ac110002",
       "next": "2a6c68ac-16c2-11e8-a91b-0242ac120002",
       "previous": "f3c2a758-fab5-11e7-82b9-0242ac110002"
      }
     ],
     "next": "53d8f9b8-16c1-11e8-a91b-0242ac120002",
     "previous": "f3c2a758-fab5-11e7-82b9-0242ac110002"
    },
    "pinned_outputs": [],
    "run_through_control": {
     "frozen": true
    },
    "scrolled": true
   },
   "outputs": [
    {
     "name": "stdout",
     "output_type": "stream",
     "text": [
      "2 logs recorded\n",
      "\n",
      "path: /home/jovyan/sig4ng2018/.log/20180226/20180226-033903-0720.log\n",
      "start time: 2018-02-26 03:39:03(UTC)\n",
      "end time: 2018-02-26 03:39:05(UTC)\n",
      "output size: 467 bytes\n",
      "\n",
      "path: /home/jovyan/sig4ng2018/.log/20180226/20180226-034214-0480.log\n",
      "start time: 2018-02-26 03:42:14(UTC)\n",
      "end time: 2018-02-26 03:42:18(UTC)\n",
      "output size: 467 bytes\n",
      "0 chunks with matched keywords or errors\n",
      "----\n"
     ]
    }
   ],
   "source": [
    "t = municipality_list[municipality_list[\"MEA\"] != 0]\n",
    "for mea in t[t[\"school\"] == 1][\"MEA\"] :\n",
    "    municipality_list.loc[municipality_list[\"MEA\"] == mea, \"school\"] = 1"
   ]
  },
  {
   "cell_type": "markdown",
   "metadata": {
    "heading_collapsed": true,
    "lc_cell_meme": {
     "current": "53d8f9b8-16c1-11e8-a91b-0242ac120002",
     "history": [
      {
       "current": "53d8f9b8-16c1-11e8-a91b-0242ac120002",
       "next": "c5e53304-1546-11e8-a91b-0242ac120002",
       "previous": "2e70ed56-fa7f-11e7-82b9-0242ac110002"
      },
      {
       "current": "53d8f9b8-16c1-11e8-a91b-0242ac120002",
       "next": "c5e53304-1546-11e8-a91b-0242ac120002",
       "previous": "2a6c68ac-16c2-11e8-a91b-0242ac120002"
      }
     ],
     "next": "c5e53304-1546-11e8-a91b-0242ac120002",
     "previous": "2e70ed56-fa7f-11e7-82b9-0242ac110002"
    }
   },
   "source": [
    "## 体験機会のない中心都市の分析\n",
    "\n",
    "体験機会のない中心都市を抽出し、圏内の小中学生総数を求める。"
   ]
  },
  {
   "cell_type": "code",
   "execution_count": 47,
   "metadata": {
    "deletable": false,
    "editable": false,
    "hidden": true,
    "lc_cell_meme": {
     "current": "c5e53304-1546-11e8-a91b-0242ac120002",
     "history": [
      {
       "current": "c5e53304-1546-11e8-a91b-0242ac120002",
       "next": "11dc2722-fab7-11e7-82b9-0242ac110002",
       "previous": "2e70ed56-fa7f-11e7-82b9-0242ac110002"
      },
      {
       "current": "c5e53304-1546-11e8-a91b-0242ac120002",
       "next": "54ed9a8c-1547-11e8-a91b-0242ac120002",
       "previous": "2e70ed56-fa7f-11e7-82b9-0242ac110002"
      },
      {
       "current": "c5e53304-1546-11e8-a91b-0242ac120002",
       "next": "54ed9a8c-1547-11e8-a91b-0242ac120002",
       "previous": "53d8f9b8-16c1-11e8-a91b-0242ac120002"
      },
      {
       "current": "c5e53304-1546-11e8-a91b-0242ac120002",
       "next": "900d1f84-16c3-11e8-a91b-0242ac120002",
       "previous": "53d8f9b8-16c1-11e8-a91b-0242ac120002"
      },
      {
       "current": "c5e53304-1546-11e8-a91b-0242ac120002",
       "next": "11dc2722-fab7-11e7-82b9-0242ac110002",
       "previous": "53d8f9b8-16c1-11e8-a91b-0242ac120002"
      }
     ],
     "next": "9b1e4144-16d4-11e8-a91b-0242ac120002",
     "previous": "53d8f9b8-16c1-11e8-a91b-0242ac120002"
    },
    "pinned_outputs": [],
    "run_through_control": {
     "frozen": true
    }
   },
   "outputs": [
    {
     "name": "stdout",
     "output_type": "stream",
     "text": [
      "2 logs recorded\n",
      "\n",
      "path: /home/jovyan/sig4ng2018/.log/20180226/20180226-033905-0552.log\n",
      "start time: 2018-02-26 03:39:05(UTC)\n",
      "end time: 2018-02-26 03:39:07(UTC)\n",
      "output size: 5897 bytes\n",
      "\n",
      "path: /home/jovyan/sig4ng2018/.log/20180226/20180226-034254-0354.log\n",
      "start time: 2018-02-26 03:42:54(UTC)\n",
      "end time: 2018-02-26 03:42:56(UTC)\n",
      "output size: 5897 bytes\n",
      "18 chunks with matched keywords or errors\n",
      "----\n",
      "/opt/conda/lib/python3.6/site-packages/ipykernel_launcher.py:5: SettingWithCopyWarning: \n",
      "A value is trying to be set on a copy of a slice from a DataFrame.\n",
      "Try using .loc[row_indexer,col_indexer] = value instead\n",
      "\n",
      "See the caveats in the documentation: http://pandas.pydata.org/pandas-docs/stable/indexing.html#indexing-view-versus-copy\n",
      "  \"\"\"\n",
      "/opt/conda/lib/python3.6/site-packages/ipykernel_launcher.py:6: SettingWithCopyWarning: \n",
      "A value is trying to be set on a copy of a slice from a DataFrame.\n",
      "Try using .loc[row_indexer,col_indexer] = value instead\n",
      "\n",
      "See the caveats in the documentation: http://pandas.pydata.org/pandas-docs/stable/indexing.html#indexing-view-versus-copy\n",
      "  \n",
      "/opt/conda/lib/python3.6/site-packages/pandas/core/indexing.py:537: SettingWithCopyWarning: \n",
      "A value is trying to be set on a copy of a slice from a DataFrame.\n",
      "Try using .loc[row_indexer,col_indexer] = value instead\n",
      "\n",
      "See the caveats in the documentation: http://pandas.pydata.org/pandas-docs/stable/indexing.html#indexing-view-versus-copy\n",
      "  self.obj[item] = s\n",
      "      団体コード  市区町村名         カナ 都道府県名   小中学生    MEA  school  圏内小中学生  圏内自治体数\n",
      "12     1213   苫小牧市     トマコマイシ   北海道  15395   1213       0   16453       2\n",
      "...\n",
      "\u001b[0;31m/opt/conda/lib/python3.6/site-packages/ipykernel_launcher.py:5: SettingWithCopyWarning: \u001b[0m\n",
      "\u001b[0;31mA value is trying to be set on a copy of a slice from a DataFrame.\u001b[0m\n",
      "\u001b[0;31mTry using .loc[row_indexer,col_indexer] = value instead\u001b[0m\n",
      "\u001b[0;31m\u001b[0m\n",
      "\u001b[0;31mSee the caveats in the documentation: http://pandas.pydata.org/pandas-docs/stable/indexing.html#indexing-view-versus-copy\u001b[0m\n",
      "\u001b[0;31m  \"\"\"\u001b[0m\n",
      "\u001b[0;31m/opt/conda/lib/python3.6/site-packages/ipykernel_launcher.py:6: SettingWithCopyWarning: \u001b[0m\n",
      "\u001b[0;31mA value is trying to be set on a copy of a slice from a DataFrame.\u001b[0m\n",
      "\u001b[0;31mTry using .loc[row_indexer,col_indexer] = value instead\u001b[0m\n",
      "\u001b[0;31m\u001b[0m\n",
      "\u001b[0;31mSee the caveats in the documentation: http://pandas.pydata.org/pandas-docs/stable/indexing.html#indexing-view-versus-copy\u001b[0m\n",
      "\u001b[0;31m  \u001b[0m\n",
      "\u001b[0;31m/opt/conda/lib/python3.6/site-packages/pandas/core/indexing.py:537: SettingWithCopyWarning: \u001b[0m\n",
      "\u001b[0;31mA value is trying to be set on a copy of a slice from a DataFrame.\u001b[0m\n",
      "\u001b[0;31mTry using .loc[row_indexer,col_indexer] = value instead\u001b[0m\n",
      "\u001b[0;31m\u001b[0m\n",
      "\u001b[0;31mSee the caveats in the documentation: http://pandas.pydata.org/pandas-docs/stable/indexing.html#indexing-view-versus-copy\u001b[0m\n",
      "\u001b[0;31m  self.obj[item] = s\u001b[0m\n",
      "...\n",
      "185    2207    三沢市       ミサワシ   青森県   3892   2207       0    3892       1\n",
      "552   11326   毛呂山町     モロヤママチ   埼玉県   2624  11326       0    3445       2\n",
      "228    3211    釜石市      カマイシシ   岩手県   2452   3211       0    3284       2\n",
      "10     1211    網走市      アバシリシ   北海道   3034   1211       0    3034       1\n",
      "1556  42211    五島市       ゴトウシ   長崎県   2893  42211       0    2893       1\n",
      "13     1214    稚内市     ワッカナイシ   北海道   2777   1214       0    2777       1\n",
      "1572  43205    水俣市      ミナマタシ   熊本県   2023  43205       0    2390       2\n",
      "149    1610  新ひだか町   シンヒダカチョウ   北海道   1837   1610       0    2341       2\n",
      "20     1221    名寄市       ナヨロシ   北海道   2232   1221       0    2232       1\n",
      "22     1223    根室市       ネムロシ   北海道   2031   1223       0    2031       1\n",
      "11     1212    留萌市       ルモイシ   北海道   1503   1212       0    1993       3\n",
      "62     1400   倶知安町   クッチャンチョウ   北海道   1377   1400       0    1791       2\n",
      "27     1228    深川市      フカガワシ   北海道   1358   1228       0    1694       3\n",
      "19     1220    士別市       シベツシ   北海道   1435   1220       0    1671       2\n",
      "1659  46204    枕崎市     マクラザキシ  鹿児島県   1661  46204       0    1661       1\n",
      "129    1555    遠軽町    エンガルチョウ   北海道   1644   1555       0    1644       1\n",
      "121    1543    美幌町     ビホロチョウ   北海道   1610   1543       0    1610       1\n",
      "18     1219    紋別市      モンベツシ   北海道   1584   1219       0    1584       1\n",
      "64     1402    岩内町    イワナイチョウ   北海道    943   1402       0    1551       3\n",
      "14     1215    美唄市       ビバイシ   北海道   1355   1215       0    1355       1"
     ]
    }
   ],
   "source": [
    "target_municipality_list = municipality_list[(municipality_list[\"school\"] == 0)\n",
    "                                             & (municipality_list[\"MEA\"] == \\\n",
    "                                                municipality_list[\"団体コード\"])]\n",
    "\n",
    "target_municipality_list[\"圏内小中学生\"] = 0\n",
    "target_municipality_list[\"圏内自治体数\"] = 0\n",
    "\n",
    "for target in target_municipality_list.itertuples() :\n",
    "    family = municipality_list[municipality_list[\"MEA\"] == target.MEA]\n",
    "    target_municipality_list.loc[target_municipality_list[\"団体コード\"] == target.団体コード,\n",
    "                                \"圏内小中学生\"] = sum(family[\"小中学生\"])\n",
    "    target_municipality_list.loc[target_municipality_list[\"団体コード\"] == target.団体コード,\n",
    "                                \"圏内自治体数\"] = len(family.index)\n",
    "\n",
    "print(target_municipality_list.sort_values(by=\"圏内小中学生\", ascending=False))"
   ]
  },
  {
   "cell_type": "markdown",
   "metadata": {
    "heading_collapsed": true,
    "lc_cell_meme": {
     "current": "9b1e4144-16d4-11e8-a91b-0242ac120002",
     "history": [
      {
       "current": "9b1e4144-16d4-11e8-a91b-0242ac120002",
       "next": "11dc2722-fab7-11e7-82b9-0242ac110002",
       "previous": "c5e53304-1546-11e8-a91b-0242ac120002"
      }
     ],
     "next": "719a312c-fa99-11e7-82b9-0242ac110002",
     "previous": "c5e53304-1546-11e8-a91b-0242ac120002"
    }
   },
   "source": [
    "## 地図作成\n",
    "\n",
    "都市雇用圏による修正を加えて、市区町村毎に体験機会の有無データを生成できたので、地図に示す。体験機会のない市区町村は赤塗で表現される。\n",
    "\n",
    "北海道。"
   ]
  },
  {
   "cell_type": "code",
   "execution_count": 48,
   "metadata": {
    "deletable": false,
    "editable": false,
    "hidden": true,
    "lc_cell_meme": {
     "current": "719a312c-fa99-11e7-82b9-0242ac110002",
     "history": [
      {
       "current": "719a312c-fa99-11e7-82b9-0242ac110002",
       "next": null,
       "previous": "2e70ed56-fa7f-11e7-82b9-0242ac110002"
      },
      {
       "current": "719a312c-fa99-11e7-82b9-0242ac110002",
       "next": "8fb0b81a-fa9a-11e7-82b9-0242ac110002",
       "previous": "2e70ed56-fa7f-11e7-82b9-0242ac110002"
      },
      {
       "current": "719a312c-fa99-11e7-82b9-0242ac110002",
       "next": "8fb0b81a-fa9a-11e7-82b9-0242ac110002",
       "previous": "82d255ec-fab6-11e7-82b9-0242ac110002"
      },
      {
       "current": "719a312c-fa99-11e7-82b9-0242ac110002",
       "next": "ca562088-fab6-11e7-82b9-0242ac110002",
       "previous": "82d255ec-fab6-11e7-82b9-0242ac110002"
      },
      {
       "current": "719a312c-fa99-11e7-82b9-0242ac110002",
       "next": "ca562088-fab6-11e7-82b9-0242ac110002",
       "previous": "11dc2722-fab7-11e7-82b9-0242ac110002"
      },
      {
       "current": "719a312c-fa99-11e7-82b9-0242ac110002",
       "next": "ca562088-fab6-11e7-82b9-0242ac110002",
       "previous": "0c579680-16c1-11e8-a91b-0242ac120002"
      },
      {
       "current": "719a312c-fa99-11e7-82b9-0242ac110002",
       "next": "ca562088-fab6-11e7-82b9-0242ac110002",
       "previous": "11dc2722-fab7-11e7-82b9-0242ac110002"
      }
     ],
     "next": "ca562088-fab6-11e7-82b9-0242ac110002",
     "previous": "9b1e4144-16d4-11e8-a91b-0242ac120002"
    },
    "pinned_outputs": [],
    "run_through_control": {
     "frozen": true
    },
    "scrolled": true
   },
   "outputs": [
    {
     "name": "stdout",
     "output_type": "stream",
     "text": [
      "2 logs recorded\n",
      "\n",
      "path: /home/jovyan/sig4ng2018/.log/20180226/20180226-033907-0840.log\n",
      "start time: 2018-02-26 03:39:07(UTC)\n",
      "end time: 2018-02-26 03:39:07(UTC)\n",
      "output size: 3253 bytes\n",
      "\n",
      "path: /home/jovyan/sig4ng2018/.log/20180226/20180226-034300-0220.log\n",
      "start time: 2018-02-26 03:43:00(UTC)\n",
      "end time: 2018-02-26 03:43:00(UTC)\n",
      "output size: 3253 bytes\n",
      "0 chunks with matched keywords or errors\n",
      "----\n",
      "http://map.olp.yahooapis.jp/OpenLocalPlatform/V1/static?&width=2000&height=2000&lat=43.5&lon=142.2&z=10&appid=dj00aiZpPXRVRTJKRFRGb3dLeSZzPWNvbnN1bWVyc2VjcmV0Jng9MWU-&mode=blankmap&style=bm.p.01209:FF0000|bm.p.01210:FF0000|bm.p.01211:FF0000|bm.p.01212:FF0000|bm.p.01213:FF0000|bm.p.01214:FF0000|bm.p.01215:FF0000|bm.p.01216:FF0000|bm.p.01219:FF0000|bm.p.01220:FF0000|bm.p.01221:FF0000|bm.p.01222:FF0000|bm.p.01223:FF0000|bm.p.01228:FF0000|bm.p.01304:FF0000|bm.p.01331:FF0000|bm.p.01332:FF0000|bm.p.01333:FF0000|bm.p.01334:FF0000|bm.p.01343:FF0000|bm.p.01345:FF0000|bm.p.01346:FF0000|bm.p.01347:FF0000|bm.p.01361:FF0000|bm.p.01362:FF0000|bm.p.01363:FF0000|bm.p.01364:FF0000|bm.p.01367:FF0000|bm.p.01370:FF0000|bm.p.01371:FF0000|bm.p.01391:FF0000|bm.p.01392:FF0000|bm.p.01393:FF0000|bm.p.01394:FF0000|bm.p.01395:FF0000|bm.p.01396:FF0000|bm.p.01397:FF0000|bm.p.01398:FF0000|bm.p.01399:FF0000|bm.p.01400:FF0000|bm.p.01401:FF0000|bm.p.01402:FF0000|bm.p.01403:FF0000|bm.p.01404:FF0000|bm.p.01405:FF0000|bm.p.01406:FF0000|bm.p.01409:FF0000|bm.p.01427:FF0000|bm.p.01428:FF0000|bm.p.01429:FF0000|bm.p.01430:FF0000|bm.p.01431:FF0000|bm.p.01433:FF0000|bm.p.01434:FF0000|bm.p.01436:FF0000|bm.p.01437:FF0000|bm.p.01438:FF0000|bm.p.01457:FF0000|bm.p.01459:FF0000|bm.p.01460:FF0000|bm.p.01462:FF0000|bm.p.01463:FF0000|bm.p.01464:FF0000|bm.p.01465:FF0000|bm.p.01468:FF0000|bm.p.01469:FF0000|bm.p.01470:FF0000|bm.p.01471:FF0000|bm.p.01472:FF0000|bm.p.01481:FF0000|bm.p.01482:FF0000|bm.p.01483:FF0000|bm.p.01484:FF0000|bm.p.01485:FF0000|bm.p.01486:FF0000|bm.p.01487:FF0000|bm.p.01511:FF0000|bm.p.01512:FF0000|bm.p.01513:FF0000|bm.p.01514:FF0000|bm.p.01516:FF0000|bm.p.01517:FF0000|bm.p.01518:FF0000|bm.p.01519:FF0000|bm.p.01520:FF0000|bm.p.01543:FF0000|bm.p.01544:FF0000|bm.p.01545:FF0000|bm.p.01546:FF0000|bm.p.01547:FF0000|bm.p.01550:FF0000|bm.p.01552:FF0000|bm.p.01555:FF0000|bm.p.01559:FF0000|bm.p.01560:FF0000|bm.p.01561:FF0000|bm.p.01562:FF0000|bm.p.01563:FF0000|bm.p.01564:FF0000|bm.p.01578:FF0000|bm.p.01581:FF0000|bm.p.01586:FF0000|bm.p.01602:FF0000|bm.p.01604:FF0000|bm.p.01607:FF0000|bm.p.01608:FF0000|bm.p.01609:FF0000|bm.p.01610:FF0000|bm.p.01632:FF0000|bm.p.01633:FF0000|bm.p.01634:FF0000|bm.p.01635:FF0000|bm.p.01636:FF0000|bm.p.01639:FF0000|bm.p.01641:FF0000|bm.p.01642:FF0000|bm.p.01644:FF0000|bm.p.01645:FF0000|bm.p.01646:FF0000|bm.p.01647:FF0000|bm.p.01648:FF0000|bm.p.01649:FF0000|bm.p.01662:FF0000|bm.p.01663:FF0000|bm.p.01664:FF0000|bm.p.01665:FF0000|bm.p.01691:FF0000|bm.p.01692:FF0000|bm.p.01694:FF0000|"
     ]
    }
   ],
   "source": [
    "url = \"http://map.olp.yahooapis.jp/OpenLocalPlatform/V1/static?\" + \\\n",
    "    \"&width=2000&height=2000&lat=43.5&lon=142.2&z=10&\" + \\\n",
    "    \"appid=dj00aiZpPXRVRTJKRFRGb3dLeSZzPWNvbnN1bWVyc2VjcmV0Jng9MWU-&mode=blankmap&style=\"\n",
    "for row in municipality_list[municipality_list[\"school\"] == 0].itertuples() :\n",
    "    if math.floor(row.団体コード / 1000) == 1 :\n",
    "        url = url + \"bm.p.\" + '{0:05d}'.format(row.団体コード) + \":FF0000|\"\n",
    "\n",
    "print(url)"
   ]
  },
  {
   "cell_type": "markdown",
   "metadata": {
    "hidden": true,
    "lc_cell_meme": {
     "current": "ca562088-fab6-11e7-82b9-0242ac110002",
     "next": "8fb0b81a-fa9a-11e7-82b9-0242ac110002",
     "previous": "719a312c-fa99-11e7-82b9-0242ac110002"
    }
   },
   "source": [
    "東北。"
   ]
  },
  {
   "cell_type": "code",
   "execution_count": 49,
   "metadata": {
    "deletable": false,
    "editable": false,
    "hidden": true,
    "lc_cell_meme": {
     "current": "8fb0b81a-fa9a-11e7-82b9-0242ac110002",
     "history": [
      {
       "current": "8fb0b81a-fa9a-11e7-82b9-0242ac110002",
       "next": null,
       "previous": "719a312c-fa99-11e7-82b9-0242ac110002"
      },
      {
       "current": "8fb0b81a-fa9a-11e7-82b9-0242ac110002",
       "next": "8f6d957c-faad-11e7-82b9-0242ac110002",
       "previous": "719a312c-fa99-11e7-82b9-0242ac110002"
      }
     ],
     "next": "ca562218-fab6-11e7-82b9-0242ac110002",
     "previous": "ca562088-fab6-11e7-82b9-0242ac110002"
    },
    "pinned_outputs": [],
    "run_through_control": {
     "frozen": true
    }
   },
   "outputs": [
    {
     "name": "stdout",
     "output_type": "stream",
     "text": [
      "2 logs recorded\n",
      "\n",
      "path: /home/jovyan/sig4ng2018/.log/20180226/20180226-033907-0914.log\n",
      "start time: 2018-02-26 03:39:07(UTC)\n",
      "end time: 2018-02-26 03:39:07(UTC)\n",
      "output size: 2960 bytes\n",
      "\n",
      "path: /home/jovyan/sig4ng2018/.log/20180226/20180226-034300-0294.log\n",
      "start time: 2018-02-26 03:43:00(UTC)\n",
      "end time: 2018-02-26 03:43:00(UTC)\n",
      "output size: 2960 bytes\n",
      "0 chunks with matched keywords or errors\n",
      "----\n",
      "http://map.olp.yahooapis.jp/OpenLocalPlatform/V1/static?&width=2000&height=2000&lat=39.5&lon=140.2&z=10&appid=dj00aiZpPXRVRTJKRFRGb3dLeSZzPWNvbnN1bWVyc2VjcmV0Jng9MWU-&mode=blankmap&style=bm.p.02207:FF0000|bm.p.02208:FF0000|bm.p.02321:FF0000|bm.p.02323:FF0000|bm.p.02401:FF0000|bm.p.02406:FF0000|bm.p.02408:FF0000|bm.p.02411:FF0000|bm.p.02423:FF0000|bm.p.02424:FF0000|bm.p.02425:FF0000|bm.p.02426:FF0000|bm.p.02441:FF0000|bm.p.02443:FF0000|bm.p.03202:FF0000|bm.p.03203:FF0000|bm.p.03207:FF0000|bm.p.03208:FF0000|bm.p.03210:FF0000|bm.p.03211:FF0000|bm.p.03213:FF0000|bm.p.03302:FF0000|bm.p.03366:FF0000|bm.p.03441:FF0000|bm.p.03461:FF0000|bm.p.03482:FF0000|bm.p.03483:FF0000|bm.p.03484:FF0000|bm.p.03485:FF0000|bm.p.03501:FF0000|bm.p.03503:FF0000|bm.p.03506:FF0000|bm.p.03524:FF0000|bm.p.04341:FF0000|bm.p.05204:FF0000|bm.p.05209:FF0000|bm.p.05303:FF0000|bm.p.05327:FF0000|bm.p.05368:FF0000|bm.p.06205:FF0000|bm.p.06212:FF0000|bm.p.06361:FF0000|bm.p.06362:FF0000|bm.p.06363:FF0000|bm.p.06364:FF0000|bm.p.06365:FF0000|bm.p.06366:FF0000|bm.p.06367:FF0000|bm.p.06401:FF0000|bm.p.07362:FF0000|bm.p.07364:FF0000|bm.p.07367:FF0000|bm.p.07368:FF0000|bm.p.07405:FF0000|bm.p.07408:FF0000|bm.p.07444:FF0000|bm.p.07445:FF0000|bm.p.07446:FF0000|bm.p.07482:FF0000|bm.p.07501:FF0000|bm.p.07503:FF0000|bm.p.07505:FF0000|bm.p.07542:FF0000|bm.p.07543:FF0000|bm.p.07544:FF0000|bm.p.07545:FF0000|bm.p.07546:FF0000|bm.p.07547:FF0000|bm.p.07548:FF0000|bm.p.07564:FF0000|bm.p.08227:FF0000|bm.p.08229:FF0000|bm.p.08231:FF0000|bm.p.08233:FF0000|bm.p.08234:FF0000|bm.p.08364:FF0000|bm.p.10366:FF0000|bm.p.10367:FF0000|bm.p.10424:FF0000|bm.p.10425:FF0000|bm.p.10426:FF0000|bm.p.10428:FF0000|bm.p.10429:FF0000|bm.p.11326:FF0000|bm.p.11327:FF0000|bm.p.11343:FF0000|bm.p.11349:FF0000|bm.p.11369:FF0000|bm.p.12215:FF0000|bm.p.12235:FF0000|bm.p.12239:FF0000|bm.p.12410:FF0000|bm.p.12441:FF0000|bm.p.13361:FF0000|bm.p.13362:FF0000|bm.p.13363:FF0000|bm.p.13364:FF0000|bm.p.13381:FF0000|bm.p.13382:FF0000|bm.p.13401:FF0000|bm.p.13402:FF0000|bm.p.13421:FF0000|bm.p.14382:FF0000|bm.p.15212:FF0000|bm.p.15225:FF0000|bm.p.15226:FF0000|bm.p.15385:FF0000|bm.p.15461:FF0000|bm.p.15581:FF0000|bm.p.15586:FF0000|"
     ]
    }
   ],
   "source": [
    "url = \"http://map.olp.yahooapis.jp/OpenLocalPlatform/V1/static?\" + \\\n",
    "    \"&width=2000&height=2000&lat=39.5&lon=140.2&z=10&\" + \\\n",
    "    \"appid=dj00aiZpPXRVRTJKRFRGb3dLeSZzPWNvbnN1bWVyc2VjcmV0Jng9MWU-&mode=blankmap&style=\"\n",
    "for row in municipality_list[municipality_list[\"school\"] == 0].itertuples() :\n",
    "    if math.floor(row.団体コード / 1000) >= 2 and math.floor(row.団体コード / 1000) <= 16 :\n",
    "        url = url + \"bm.p.\" + '{0:05d}'.format(row.団体コード) + \":FF0000|\"\n",
    "\n",
    "print(url)"
   ]
  },
  {
   "cell_type": "markdown",
   "metadata": {
    "hidden": true,
    "lc_cell_meme": {
     "current": "ca562218-fab6-11e7-82b9-0242ac110002",
     "next": "8f6d957c-faad-11e7-82b9-0242ac110002",
     "previous": "8fb0b81a-fa9a-11e7-82b9-0242ac110002"
    }
   },
   "source": [
    "関東甲信越、北陸、中部。"
   ]
  },
  {
   "cell_type": "code",
   "execution_count": 50,
   "metadata": {
    "deletable": false,
    "editable": false,
    "hidden": true,
    "lc_cell_meme": {
     "current": "8f6d957c-faad-11e7-82b9-0242ac110002",
     "history": [
      {
       "current": "8f6d957c-faad-11e7-82b9-0242ac110002",
       "next": null,
       "previous": "8fb0b81a-fa9a-11e7-82b9-0242ac110002"
      },
      {
       "current": "8f6d957c-faad-11e7-82b9-0242ac110002",
       "next": "1eb281f2-faae-11e7-82b9-0242ac110002",
       "previous": "8fb0b81a-fa9a-11e7-82b9-0242ac110002"
      }
     ],
     "next": "ca5622b8-fab6-11e7-82b9-0242ac110002",
     "previous": "ca562218-fab6-11e7-82b9-0242ac110002"
    },
    "pinned_outputs": [],
    "run_through_control": {
     "frozen": true
    }
   },
   "outputs": [
    {
     "name": "stdout",
     "output_type": "stream",
     "text": [
      "2 logs recorded\n",
      "\n",
      "path: /home/jovyan/sig4ng2018/.log/20180226/20180226-033907-0955.log\n",
      "start time: 2018-02-26 03:39:07(UTC)\n",
      "end time: 2018-02-26 03:39:07(UTC)\n",
      "output size: 3428 bytes\n",
      "\n",
      "path: /home/jovyan/sig4ng2018/.log/20180226/20180226-034300-0342.log\n",
      "start time: 2018-02-26 03:43:00(UTC)\n",
      "end time: 2018-02-26 03:43:00(UTC)\n",
      "output size: 3428 bytes\n",
      "0 chunks with matched keywords or errors\n",
      "----\n",
      "http://map.olp.yahooapis.jp/OpenLocalPlatform/V1/static?&width=2000&height=2000&lat=35.5&lon=138.2&z=10&appid=dj00aiZpPXRVRTJKRFRGb3dLeSZzPWNvbnN1bWVyc2VjcmV0Jng9MWU-&mode=blankmap&style=bm.p.07362:FF0000|bm.p.07364:FF0000|bm.p.07367:FF0000|bm.p.07368:FF0000|bm.p.07405:FF0000|bm.p.07408:FF0000|bm.p.07444:FF0000|bm.p.07445:FF0000|bm.p.07446:FF0000|bm.p.07482:FF0000|bm.p.07501:FF0000|bm.p.07503:FF0000|bm.p.07505:FF0000|bm.p.07542:FF0000|bm.p.07543:FF0000|bm.p.07544:FF0000|bm.p.07545:FF0000|bm.p.07546:FF0000|bm.p.07547:FF0000|bm.p.07548:FF0000|bm.p.07564:FF0000|bm.p.08227:FF0000|bm.p.08229:FF0000|bm.p.08231:FF0000|bm.p.08233:FF0000|bm.p.08234:FF0000|bm.p.08364:FF0000|bm.p.10366:FF0000|bm.p.10367:FF0000|bm.p.10424:FF0000|bm.p.10425:FF0000|bm.p.10426:FF0000|bm.p.10428:FF0000|bm.p.10429:FF0000|bm.p.11326:FF0000|bm.p.11327:FF0000|bm.p.11343:FF0000|bm.p.11349:FF0000|bm.p.11369:FF0000|bm.p.12215:FF0000|bm.p.12235:FF0000|bm.p.12239:FF0000|bm.p.12410:FF0000|bm.p.12441:FF0000|bm.p.13361:FF0000|bm.p.13362:FF0000|bm.p.13363:FF0000|bm.p.13364:FF0000|bm.p.13381:FF0000|bm.p.13382:FF0000|bm.p.13401:FF0000|bm.p.13402:FF0000|bm.p.13421:FF0000|bm.p.14382:FF0000|bm.p.15212:FF0000|bm.p.15225:FF0000|bm.p.15226:FF0000|bm.p.15385:FF0000|bm.p.15461:FF0000|bm.p.15581:FF0000|bm.p.15586:FF0000|bm.p.17204:FF0000|bm.p.17205:FF0000|bm.p.17384:FF0000|bm.p.17461:FF0000|bm.p.17463:FF0000|bm.p.18202:FF0000|bm.p.18442:FF0000|bm.p.19204:FF0000|bm.p.19206:FF0000|bm.p.19209:FF0000|bm.p.19364:FF0000|bm.p.19365:FF0000|bm.p.19422:FF0000|bm.p.19442:FF0000|bm.p.20212:FF0000|bm.p.20213:FF0000|bm.p.20304:FF0000|bm.p.20305:FF0000|bm.p.20409:FF0000|bm.p.20410:FF0000|bm.p.20417:FF0000|bm.p.20422:FF0000|bm.p.20423:FF0000|bm.p.20429:FF0000|bm.p.20430:FF0000|bm.p.20432:FF0000|bm.p.20485:FF0000|bm.p.20486:FF0000|bm.p.20563:FF0000|bm.p.20602:FF0000|bm.p.21210:FF0000|bm.p.21219:FF0000|bm.p.21220:FF0000|bm.p.21506:FF0000|bm.p.21507:FF0000|bm.p.21604:FF0000|bm.p.22208:FF0000|bm.p.22219:FF0000|bm.p.22301:FF0000|bm.p.22302:FF0000|bm.p.22304:FF0000|bm.p.22305:FF0000|bm.p.22306:FF0000|bm.p.23561:FF0000|bm.p.23563:FF0000|bm.p.24212:FF0000|bm.p.24215:FF0000|bm.p.24561:FF0000|bm.p.26212:FF0000|bm.p.26463:FF0000|bm.p.28213:FF0000|bm.p.28225:FF0000|bm.p.28365:FF0000|bm.p.28501:FF0000|bm.p.28586:FF0000|bm.p.29207:FF0000|bm.p.29441:FF0000|bm.p.29444:FF0000|bm.p.29446:FF0000|bm.p.29447:FF0000|bm.p.29449:FF0000|bm.p.29450:FF0000|bm.p.29451:FF0000|bm.p.29452:FF0000|bm.p.29453:FF0000|bm.p.30344:FF0000|bm.p.30362:FF0000|bm.p.30381:FF0000|bm.p.30382:FF0000|bm.p.30383:FF0000|bm.p.30390:FF0000|bm.p.30392:FF0000|bm.p.30424:FF0000|bm.p.30427:FF0000|bm.p.30428:FF0000|"
     ]
    }
   ],
   "source": [
    "url = \"http://map.olp.yahooapis.jp/OpenLocalPlatform/V1/static?\" + \\\n",
    "    \"&width=2000&height=2000&lat=35.5&lon=138.2&z=10&\" + \\\n",
    "    \"appid=dj00aiZpPXRVRTJKRFRGb3dLeSZzPWNvbnN1bWVyc2VjcmV0Jng9MWU-&mode=blankmap&style=\"\n",
    "for row in municipality_list[municipality_list[\"school\"] == 0].itertuples() :\n",
    "    if math.floor(row.団体コード / 1000) >= 7 and math.floor(row.団体コード / 1000) <= 30 :\n",
    "        url = url + \"bm.p.\" + '{0:05d}'.format(row.団体コード) + \":FF0000|\"\n",
    "\n",
    "print(url)"
   ]
  },
  {
   "cell_type": "markdown",
   "metadata": {
    "hidden": true,
    "lc_cell_meme": {
     "current": "ca5622b8-fab6-11e7-82b9-0242ac110002",
     "next": "1eb281f2-faae-11e7-82b9-0242ac110002",
     "previous": "8f6d957c-faad-11e7-82b9-0242ac110002"
    }
   },
   "source": [
    "近畿、中国、四国。"
   ]
  },
  {
   "cell_type": "code",
   "execution_count": 51,
   "metadata": {
    "deletable": false,
    "editable": false,
    "hidden": true,
    "lc_cell_meme": {
     "current": "1eb281f2-faae-11e7-82b9-0242ac110002",
     "history": [
      {
       "current": "1eb281f2-faae-11e7-82b9-0242ac110002",
       "next": null,
       "previous": "8f6d957c-faad-11e7-82b9-0242ac110002"
      },
      {
       "current": "1eb281f2-faae-11e7-82b9-0242ac110002",
       "next": "ad866254-faae-11e7-82b9-0242ac110002",
       "previous": "8f6d957c-faad-11e7-82b9-0242ac110002"
      },
      {
       "current": "1eb281f2-faae-11e7-82b9-0242ac110002",
       "next": "5aae17b4-fab0-11e7-82b9-0242ac110002",
       "previous": "8f6d957c-faad-11e7-82b9-0242ac110002"
      },
      {
       "current": "1eb281f2-faae-11e7-82b9-0242ac110002",
       "next": "5aae17b4-fab0-11e7-82b9-0242ac110002",
       "previous": "ca5622b8-fab6-11e7-82b9-0242ac110002"
      }
     ],
     "next": "11dc28bc-fab7-11e7-82b9-0242ac110002",
     "previous": "ca5622b8-fab6-11e7-82b9-0242ac110002"
    },
    "pinned_outputs": [],
    "run_through_control": {
     "frozen": true
    }
   },
   "outputs": [
    {
     "name": "stdout",
     "output_type": "stream",
     "text": [
      "2 logs recorded\n",
      "\n",
      "path: /home/jovyan/sig4ng2018/.log/20180226/20180226-033908-0007.log\n",
      "start time: 2018-02-26 03:39:07(UTC)\n",
      "end time: 2018-02-26 03:39:08(UTC)\n",
      "output size: 4761 bytes\n",
      "\n",
      "path: /home/jovyan/sig4ng2018/.log/20180226/20180226-034300-0416.log\n",
      "start time: 2018-02-26 03:43:00(UTC)\n",
      "end time: 2018-02-26 03:43:00(UTC)\n",
      "output size: 4761 bytes\n",
      "0 chunks with matched keywords or errors\n",
      "----\n",
      "http://map.olp.yahooapis.jp/OpenLocalPlatform/V1/static?&width=2000&height=2000&lat=33.5&lon=132.9&z=10&appid=dj00aiZpPXRVRTJKRFRGb3dLeSZzPWNvbnN1bWVyc2VjcmV0Jng9MWU-&mode=blankmap&style=bm.p.18202:FF0000|bm.p.18442:FF0000|bm.p.19204:FF0000|bm.p.19206:FF0000|bm.p.19209:FF0000|bm.p.19364:FF0000|bm.p.19365:FF0000|bm.p.19422:FF0000|bm.p.19442:FF0000|bm.p.20212:FF0000|bm.p.20213:FF0000|bm.p.20304:FF0000|bm.p.20305:FF0000|bm.p.20409:FF0000|bm.p.20410:FF0000|bm.p.20417:FF0000|bm.p.20422:FF0000|bm.p.20423:FF0000|bm.p.20429:FF0000|bm.p.20430:FF0000|bm.p.20432:FF0000|bm.p.20485:FF0000|bm.p.20486:FF0000|bm.p.20563:FF0000|bm.p.20602:FF0000|bm.p.21210:FF0000|bm.p.21219:FF0000|bm.p.21220:FF0000|bm.p.21506:FF0000|bm.p.21507:FF0000|bm.p.21604:FF0000|bm.p.22208:FF0000|bm.p.22219:FF0000|bm.p.22301:FF0000|bm.p.22302:FF0000|bm.p.22304:FF0000|bm.p.22305:FF0000|bm.p.22306:FF0000|bm.p.23561:FF0000|bm.p.23563:FF0000|bm.p.24212:FF0000|bm.p.24215:FF0000|bm.p.24561:FF0000|bm.p.26212:FF0000|bm.p.26463:FF0000|bm.p.28213:FF0000|bm.p.28225:FF0000|bm.p.28365:FF0000|bm.p.28501:FF0000|bm.p.28586:FF0000|bm.p.29207:FF0000|bm.p.29441:FF0000|bm.p.29444:FF0000|bm.p.29446:FF0000|bm.p.29447:FF0000|bm.p.29449:FF0000|bm.p.29450:FF0000|bm.p.29451:FF0000|bm.p.29452:FF0000|bm.p.29453:FF0000|bm.p.30344:FF0000|bm.p.30362:FF0000|bm.p.30381:FF0000|bm.p.30382:FF0000|bm.p.30383:FF0000|bm.p.30390:FF0000|bm.p.30392:FF0000|bm.p.30424:FF0000|bm.p.30427:FF0000|bm.p.30428:FF0000|bm.p.31401:FF0000|bm.p.32205:FF0000|bm.p.32343:FF0000|bm.p.32386:FF0000|bm.p.32441:FF0000|bm.p.32448:FF0000|bm.p.32449:FF0000|bm.p.32525:FF0000|bm.p.32526:FF0000|bm.p.32527:FF0000|bm.p.32528:FF0000|bm.p.33209:FF0000|bm.p.33210:FF0000|bm.p.33214:FF0000|bm.p.33586:FF0000|bm.p.34209:FF0000|bm.p.34210:FF0000|bm.p.34214:FF0000|bm.p.34215:FF0000|bm.p.34369:FF0000|bm.p.34431:FF0000|bm.p.34462:FF0000|bm.p.34545:FF0000|bm.p.35211:FF0000|bm.p.35213:FF0000|bm.p.35305:FF0000|bm.p.35341:FF0000|bm.p.35344:FF0000|bm.p.36207:FF0000|bm.p.36302:FF0000|bm.p.36383:FF0000|bm.p.36388:FF0000|bm.p.36468:FF0000|bm.p.36489:FF0000|bm.p.37208:FF0000|bm.p.37322:FF0000|bm.p.37324:FF0000|bm.p.37364:FF0000|bm.p.38207:FF0000|bm.p.38213:FF0000|bm.p.38214:FF0000|bm.p.38386:FF0000|bm.p.38422:FF0000|bm.p.38506:FF0000|bm.p.39202:FF0000|bm.p.39203:FF0000|bm.p.39206:FF0000|bm.p.39208:FF0000|bm.p.39209:FF0000|bm.p.39210:FF0000|bm.p.39301:FF0000|bm.p.39302:FF0000|bm.p.39303:FF0000|bm.p.39304:FF0000|bm.p.39305:FF0000|bm.p.39306:FF0000|bm.p.39307:FF0000|bm.p.39341:FF0000|bm.p.39344:FF0000|bm.p.39363:FF0000|bm.p.39364:FF0000|bm.p.39387:FF0000|bm.p.39401:FF0000|bm.p.39405:FF0000|bm.p.39411:FF0000|bm.p.39412:FF0000|bm.p.39424:FF0000|bm.p.39427:FF0000|bm.p.39428:FF0000|bm.p.40206:FF0000|bm.p.40448:FF0000|bm.p.40601:FF0000|bm.p.40602:FF0000|bm.p.40604:FF0000|bm.p.40605:FF0000|bm.p.40608:FF0000|bm.p.40609:FF0000|bm.p.40610:FF0000|bm.p.41209:FF0000|bm.p.41441:FF0000|bm.p.42207:FF0000|bm.p.42208:FF0000|bm.p.42210:FF0000|bm.p.42211:FF0000|bm.p.42212:FF0000|bm.p.42383:FF0000|bm.p.42411:FF0000|bm.p.43205:FF0000|bm.p.43212:FF0000|bm.p.43423:FF0000|bm.p.43424:FF0000|bm.p.43425:FF0000|bm.p.43428:FF0000|bm.p.43433:FF0000|bm.p.43447:FF0000|bm.p.43482:FF0000|bm.p.43484:FF0000|bm.p.43511:FF0000|bm.p.44205:FF0000|bm.p.44207:FF0000|bm.p.44208:FF0000|bm.p.44210:FF0000|bm.p.44214:FF0000|bm.p.44322:FF0000|bm.p.44461:FF0000|bm.p.44462:FF0000|bm.p.45205:FF0000|bm.p.45207:FF0000|bm.p.45209:FF0000|bm.p.45403:FF0000|bm.p.45405:FF0000|bm.p.45406:FF0000|bm.p.45429:FF0000|bm.p.45430:FF0000|bm.p.45442:FF0000|bm.p.45443:FF0000|bm.p.46204:FF0000|bm.p.46206:FF0000|bm.p.46210:FF0000|bm.p.46213:FF0000|bm.p.46214:FF0000|bm.p.46220:FF0000|bm.p.46223:FF0000|bm.p.46224:FF0000|bm.p.46303:FF0000|bm.p.46304:FF0000|bm.p.46404:FF0000|bm.p.46491:FF0000|bm.p.46501:FF0000|bm.p.46502:FF0000|bm.p.46505:FF0000|bm.p.46524:FF0000|bm.p.46525:FF0000|bm.p.46529:FF0000|bm.p.46530:FF0000|bm.p.46531:FF0000|bm.p.46532:FF0000|bm.p.46533:FF0000|bm.p.46534:FF0000|bm.p.46535:FF0000|"
     ]
    }
   ],
   "source": [
    "url = \"http://map.olp.yahooapis.jp/OpenLocalPlatform/V1/static?\" + \\\n",
    "    \"&width=2000&height=2000&lat=33.5&lon=132.9&z=10&\" + \\\n",
    "    \"appid=dj00aiZpPXRVRTJKRFRGb3dLeSZzPWNvbnN1bWVyc2VjcmV0Jng9MWU-&mode=blankmap&style=\"\n",
    "for row in municipality_list[municipality_list[\"school\"] == 0].itertuples() :\n",
    "    if math.floor(row.団体コード / 1000) >= 18 and math.floor(row.団体コード / 1000) <= 46 :\n",
    "        url = url + \"bm.p.\" + '{0:05d}'.format(row.団体コード) + \":FF0000|\"\n",
    "\n",
    "print(url)"
   ]
  },
  {
   "cell_type": "markdown",
   "metadata": {
    "hidden": true,
    "lc_cell_meme": {
     "current": "11dc28bc-fab7-11e7-82b9-0242ac110002",
     "next": "5aae17b4-fab0-11e7-82b9-0242ac110002",
     "previous": "1eb281f2-faae-11e7-82b9-0242ac110002"
    }
   },
   "source": [
    "九州。"
   ]
  },
  {
   "cell_type": "code",
   "execution_count": 52,
   "metadata": {
    "deletable": false,
    "editable": false,
    "hidden": true,
    "lc_cell_meme": {
     "current": "5aae17b4-fab0-11e7-82b9-0242ac110002",
     "history": [
      {
       "current": "5aae17b4-fab0-11e7-82b9-0242ac110002",
       "next": "ad866254-faae-11e7-82b9-0242ac110002",
       "previous": "1eb281f2-faae-11e7-82b9-0242ac110002"
      }
     ],
     "next": "11dc2984-fab7-11e7-82b9-0242ac110002",
     "previous": "11dc28bc-fab7-11e7-82b9-0242ac110002"
    },
    "pinned_outputs": [],
    "run_through_control": {
     "frozen": true
    }
   },
   "outputs": [
    {
     "name": "stdout",
     "output_type": "stream",
     "text": [
      "2 logs recorded\n",
      "\n",
      "path: /home/jovyan/sig4ng2018/.log/20180226/20180226-033908-0064.log\n",
      "start time: 2018-02-26 03:39:08(UTC)\n",
      "end time: 2018-02-26 03:39:08(UTC)\n",
      "output size: 3231 bytes\n",
      "\n",
      "path: /home/jovyan/sig4ng2018/.log/20180226/20180226-034300-0470.log\n",
      "start time: 2018-02-26 03:43:00(UTC)\n",
      "end time: 2018-02-26 03:43:00(UTC)\n",
      "output size: 3231 bytes\n",
      "0 chunks with matched keywords or errors\n",
      "----\n",
      "http://map.olp.yahooapis.jp/OpenLocalPlatform/V1/static?&width=2000&height=2000&lat=32.0&lon=130.0&z=10&appid=dj00aiZpPXRVRTJKRFRGb3dLeSZzPWNvbnN1bWVyc2VjcmV0Jng9MWU-&mode=blankmap&style=bm.p.34209:FF0000|bm.p.34210:FF0000|bm.p.34214:FF0000|bm.p.34215:FF0000|bm.p.34369:FF0000|bm.p.34431:FF0000|bm.p.34462:FF0000|bm.p.34545:FF0000|bm.p.35211:FF0000|bm.p.35213:FF0000|bm.p.35305:FF0000|bm.p.35341:FF0000|bm.p.35344:FF0000|bm.p.36207:FF0000|bm.p.36302:FF0000|bm.p.36383:FF0000|bm.p.36388:FF0000|bm.p.36468:FF0000|bm.p.36489:FF0000|bm.p.37208:FF0000|bm.p.37322:FF0000|bm.p.37324:FF0000|bm.p.37364:FF0000|bm.p.38207:FF0000|bm.p.38213:FF0000|bm.p.38214:FF0000|bm.p.38386:FF0000|bm.p.38422:FF0000|bm.p.38506:FF0000|bm.p.39202:FF0000|bm.p.39203:FF0000|bm.p.39206:FF0000|bm.p.39208:FF0000|bm.p.39209:FF0000|bm.p.39210:FF0000|bm.p.39301:FF0000|bm.p.39302:FF0000|bm.p.39303:FF0000|bm.p.39304:FF0000|bm.p.39305:FF0000|bm.p.39306:FF0000|bm.p.39307:FF0000|bm.p.39341:FF0000|bm.p.39344:FF0000|bm.p.39363:FF0000|bm.p.39364:FF0000|bm.p.39387:FF0000|bm.p.39401:FF0000|bm.p.39405:FF0000|bm.p.39411:FF0000|bm.p.39412:FF0000|bm.p.39424:FF0000|bm.p.39427:FF0000|bm.p.39428:FF0000|bm.p.40206:FF0000|bm.p.40448:FF0000|bm.p.40601:FF0000|bm.p.40602:FF0000|bm.p.40604:FF0000|bm.p.40605:FF0000|bm.p.40608:FF0000|bm.p.40609:FF0000|bm.p.40610:FF0000|bm.p.41209:FF0000|bm.p.41441:FF0000|bm.p.42207:FF0000|bm.p.42208:FF0000|bm.p.42210:FF0000|bm.p.42211:FF0000|bm.p.42212:FF0000|bm.p.42383:FF0000|bm.p.42411:FF0000|bm.p.43205:FF0000|bm.p.43212:FF0000|bm.p.43423:FF0000|bm.p.43424:FF0000|bm.p.43425:FF0000|bm.p.43428:FF0000|bm.p.43433:FF0000|bm.p.43447:FF0000|bm.p.43482:FF0000|bm.p.43484:FF0000|bm.p.43511:FF0000|bm.p.44205:FF0000|bm.p.44207:FF0000|bm.p.44208:FF0000|bm.p.44210:FF0000|bm.p.44214:FF0000|bm.p.44322:FF0000|bm.p.44461:FF0000|bm.p.44462:FF0000|bm.p.45205:FF0000|bm.p.45207:FF0000|bm.p.45209:FF0000|bm.p.45403:FF0000|bm.p.45405:FF0000|bm.p.45406:FF0000|bm.p.45429:FF0000|bm.p.45430:FF0000|bm.p.45442:FF0000|bm.p.45443:FF0000|bm.p.46204:FF0000|bm.p.46206:FF0000|bm.p.46210:FF0000|bm.p.46213:FF0000|bm.p.46214:FF0000|bm.p.46220:FF0000|bm.p.46223:FF0000|bm.p.46224:FF0000|bm.p.46303:FF0000|bm.p.46304:FF0000|bm.p.46404:FF0000|bm.p.46491:FF0000|bm.p.46501:FF0000|bm.p.46502:FF0000|bm.p.46505:FF0000|bm.p.46524:FF0000|bm.p.46525:FF0000|bm.p.46529:FF0000|bm.p.46530:FF0000|bm.p.46531:FF0000|bm.p.46532:FF0000|bm.p.46533:FF0000|bm.p.46534:FF0000|bm.p.46535:FF0000|"
     ]
    }
   ],
   "source": [
    "url = \"http://map.olp.yahooapis.jp/OpenLocalPlatform/V1/static?\" + \\\n",
    "    \"&width=2000&height=2000&lat=32.0&lon=130.0&z=10&\" + \\\n",
    "    \"appid=dj00aiZpPXRVRTJKRFRGb3dLeSZzPWNvbnN1bWVyc2VjcmV0Jng9MWU-&mode=blankmap&style=\"\n",
    "for row in municipality_list[municipality_list[\"school\"] == 0].itertuples() :\n",
    "    if math.floor(row.団体コード / 1000) >= 34 and math.floor(row.団体コード / 1000) <= 46 :\n",
    "        url = url + \"bm.p.\" + '{0:05d}'.format(row.団体コード) + \":FF0000|\"\n",
    "\n",
    "print(url)"
   ]
  },
  {
   "cell_type": "markdown",
   "metadata": {
    "hidden": true,
    "lc_cell_meme": {
     "current": "11dc2984-fab7-11e7-82b9-0242ac110002",
     "next": "ad866254-faae-11e7-82b9-0242ac110002",
     "previous": "5aae17b4-fab0-11e7-82b9-0242ac110002"
    }
   },
   "source": [
    "沖縄。"
   ]
  },
  {
   "cell_type": "code",
   "execution_count": 53,
   "metadata": {
    "deletable": false,
    "editable": false,
    "hidden": true,
    "lc_cell_meme": {
     "current": "ad866254-faae-11e7-82b9-0242ac110002",
     "history": [
      {
       "current": "ad866254-faae-11e7-82b9-0242ac110002",
       "next": null,
       "previous": "1eb281f2-faae-11e7-82b9-0242ac110002"
      },
      {
       "current": "ad866254-faae-11e7-82b9-0242ac110002",
       "next": "cba2571a-faaf-11e7-82b9-0242ac110002",
       "previous": "1eb281f2-faae-11e7-82b9-0242ac110002"
      },
      {
       "current": "ad866254-faae-11e7-82b9-0242ac110002",
       "next": "cba2571a-faaf-11e7-82b9-0242ac110002",
       "previous": "5aae17b4-fab0-11e7-82b9-0242ac110002"
      },
      {
       "current": "ad866254-faae-11e7-82b9-0242ac110002",
       "next": "cba2571a-faaf-11e7-82b9-0242ac110002",
       "previous": "11dc2984-fab7-11e7-82b9-0242ac110002"
      },
      {
       "current": "ad866254-faae-11e7-82b9-0242ac110002",
       "next": "59638b94-fab7-11e7-82b9-0242ac110002",
       "previous": "11dc2984-fab7-11e7-82b9-0242ac110002"
      },
      {
       "current": "ad866254-faae-11e7-82b9-0242ac110002",
       "next": "262ada88-fac7-11e7-9374-02420aff0004",
       "previous": "11dc2984-fab7-11e7-82b9-0242ac110002"
      }
     ],
     "next": "11dc2722-fab7-11e7-82b9-0242ac110002",
     "previous": "11dc2984-fab7-11e7-82b9-0242ac110002"
    },
    "pinned_outputs": [],
    "run_through_control": {
     "frozen": true
    }
   },
   "outputs": [
    {
     "name": "stdout",
     "output_type": "stream",
     "text": [
      "2 logs recorded\n",
      "\n",
      "path: /home/jovyan/sig4ng2018/.log/20180226/20180226-033908-0116.log\n",
      "start time: 2018-02-26 03:39:08(UTC)\n",
      "end time: 2018-02-26 03:39:08(UTC)\n",
      "output size: 1830 bytes\n",
      "\n",
      "path: /home/jovyan/sig4ng2018/.log/20180226/20180226-034300-0534.log\n",
      "start time: 2018-02-26 03:43:00(UTC)\n",
      "end time: 2018-02-26 03:43:00(UTC)\n",
      "output size: 1830 bytes\n",
      "0 chunks with matched keywords or errors\n",
      "----\n",
      "http://map.olp.yahooapis.jp/OpenLocalPlatform/V1/static?&width=2000&height=2000&lat=27.0&lon=126.0&z=9&appid=dj00aiZpPXRVRTJKRFRGb3dLeSZzPWNvbnN1bWVyc2VjcmV0Jng9MWU-&mode=blankmap&style=bm.p.45205:FF0000|bm.p.45207:FF0000|bm.p.45209:FF0000|bm.p.45403:FF0000|bm.p.45405:FF0000|bm.p.45406:FF0000|bm.p.45429:FF0000|bm.p.45430:FF0000|bm.p.45442:FF0000|bm.p.45443:FF0000|bm.p.46204:FF0000|bm.p.46206:FF0000|bm.p.46210:FF0000|bm.p.46213:FF0000|bm.p.46214:FF0000|bm.p.46220:FF0000|bm.p.46223:FF0000|bm.p.46224:FF0000|bm.p.46303:FF0000|bm.p.46304:FF0000|bm.p.46404:FF0000|bm.p.46491:FF0000|bm.p.46501:FF0000|bm.p.46502:FF0000|bm.p.46505:FF0000|bm.p.46524:FF0000|bm.p.46525:FF0000|bm.p.46529:FF0000|bm.p.46530:FF0000|bm.p.46531:FF0000|bm.p.46532:FF0000|bm.p.46533:FF0000|bm.p.46534:FF0000|bm.p.46535:FF0000|bm.p.47301:FF0000|bm.p.47311:FF0000|bm.p.47314:FF0000|bm.p.47315:FF0000|bm.p.47353:FF0000|bm.p.47354:FF0000|bm.p.47355:FF0000|bm.p.47356:FF0000|bm.p.47357:FF0000|bm.p.47358:FF0000|bm.p.47359:FF0000|bm.p.47360:FF0000|bm.p.47361:FF0000|bm.p.47375:FF0000|bm.p.47381:FF0000|bm.p.47382:FF0000|"
     ]
    }
   ],
   "source": [
    "url = \"http://map.olp.yahooapis.jp/OpenLocalPlatform/V1/static?\" + \\\n",
    "    \"&width=2000&height=2000&lat=27.0&lon=126.0&z=9&\" + \\\n",
    "    \"appid=dj00aiZpPXRVRTJKRFRGb3dLeSZzPWNvbnN1bWVyc2VjcmV0Jng9MWU-&mode=blankmap&style=\"\n",
    "for row in municipality_list[municipality_list[\"school\"] == 0].itertuples() :\n",
    "    if math.floor(row.団体コード / 1000) >= 45 :\n",
    "        url = url + \"bm.p.\" + '{0:05d}'.format(row.団体コード) + \":FF0000|\"\n",
    "\n",
    "print(url)"
   ]
  },
  {
   "cell_type": "markdown",
   "metadata": {
    "lc_cell_meme": {
     "current": "11dc2722-fab7-11e7-82b9-0242ac110002",
     "history": [
      {
       "current": "11dc2722-fab7-11e7-82b9-0242ac110002",
       "next": "82d255ec-fab6-11e7-82b9-0242ac110002",
       "previous": "f3c2a758-fab5-11e7-82b9-0242ac110002"
      },
      {
       "current": "11dc2722-fab7-11e7-82b9-0242ac110002",
       "next": "719a312c-fa99-11e7-82b9-0242ac110002",
       "previous": "2e70ed56-fa7f-11e7-82b9-0242ac110002"
      },
      {
       "current": "11dc2722-fab7-11e7-82b9-0242ac110002",
       "next": "719a312c-fa99-11e7-82b9-0242ac110002",
       "previous": "c5e53304-1546-11e8-a91b-0242ac120002"
      },
      {
       "current": "11dc2722-fab7-11e7-82b9-0242ac110002",
       "next": "719a312c-fa99-11e7-82b9-0242ac110002",
       "previous": "54ed9a8c-1547-11e8-a91b-0242ac120002"
      },
      {
       "current": "11dc2722-fab7-11e7-82b9-0242ac110002",
       "next": "719a312c-fa99-11e7-82b9-0242ac110002",
       "previous": "801a5456-15e3-11e8-a91b-0242ac120002"
      },
      {
       "current": "11dc2722-fab7-11e7-82b9-0242ac110002",
       "next": "0c579680-16c1-11e8-a91b-0242ac120002",
       "previous": "801a5456-15e3-11e8-a91b-0242ac120002"
      },
      {
       "current": "11dc2722-fab7-11e7-82b9-0242ac110002",
       "next": "0c579680-16c1-11e8-a91b-0242ac120002",
       "previous": "c5e53304-1546-11e8-a91b-0242ac120002"
      },
      {
       "current": "11dc2722-fab7-11e7-82b9-0242ac110002",
       "next": "0c579680-16c1-11e8-a91b-0242ac120002",
       "previous": "9b1e4144-16d4-11e8-a91b-0242ac120002"
      }
     ],
     "next": "0c579680-16c1-11e8-a91b-0242ac120002",
     "previous": "ad866254-faae-11e7-82b9-0242ac110002"
    }
   },
   "source": [
    "## 分析結果\n",
    "\n",
    "体験機会のない市区町村。"
   ]
  },
  {
   "cell_type": "code",
   "execution_count": 66,
   "metadata": {
    "deletable": false,
    "editable": false,
    "lc_cell_meme": {
     "current": "0c579680-16c1-11e8-a91b-0242ac120002",
     "history": [
      {
       "current": "0c579680-16c1-11e8-a91b-0242ac120002",
       "next": "719a312c-fa99-11e7-82b9-0242ac110002",
       "previous": "11dc2722-fab7-11e7-82b9-0242ac110002"
      },
      {
       "current": "0c579680-16c1-11e8-a91b-0242ac120002",
       "next": "53d8fc06-16c1-11e8-a91b-0242ac120002",
       "previous": "11dc2722-fab7-11e7-82b9-0242ac110002"
      }
     ],
     "next": "e376a634-16d4-11e8-a91b-0242ac120002",
     "previous": "11dc2722-fab7-11e7-82b9-0242ac110002"
    },
    "pinned_outputs": [],
    "run_through_control": {
     "frozen": true
    }
   },
   "outputs": [
    {
     "name": "stdout",
     "output_type": "stream",
     "text": [
      "10 logs recorded\n",
      "\n",
      "path: /home/jovyan/sig4ng2018/.log/20180226/20180226-034749-0147.log\n",
      "start time: 2018-02-26 03:47:49(UTC)\n",
      "end time: 2018-02-26 03:47:49(UTC)\n",
      "output size: 5650 bytes\n",
      "\n",
      "path: /home/jovyan/sig4ng2018/.log/20180226/20180226-034920-0075.log\n",
      "start time: 2018-02-26 03:49:20(UTC)\n",
      "end time: 2018-02-26 03:49:20(UTC)\n",
      "output size: 5781 bytes\n",
      "\n",
      "path: /home/jovyan/sig4ng2018/.log/20180226/20180226-034931-0867.log\n",
      "start time: 2018-02-26 03:49:31(UTC)\n",
      "end time: 2018-02-26 03:49:31(UTC)\n",
      "output size: 5787 bytes\n",
      "0 chunks with matched keywords or errors\n",
      "----\n",
      "      団体コード 市区町村名          カナ 都道府県名   小中学生   MEA  school\n",
      "8      1209   夕張市       ユウバリシ   北海道    350     0       0\n",
      "9      1210  岩見沢市      イワミザワシ   北海道   6305  1210       0\n",
      "10     1211   網走市       アバシリシ   北海道   3034  1211       0\n",
      "11     1212   留萌市        ルモイシ   北海道   1503  1212       0\n",
      "12     1213  苫小牧市      トマコマイシ   北海道  15395  1213       0\n",
      "13     1214   稚内市      ワッカナイシ   北海道   2777  1214       0\n",
      "14     1215   美唄市        ビバイシ   北海道   1355  1215       0\n",
      "15     1216   芦別市       アシベツシ   北海道    743     0       0\n",
      "18     1219   紋別市       モンベツシ   北海道   1584  1219       0\n",
      "19     1220   士別市        シベツシ   北海道   1435  1220       0\n",
      "20     1221   名寄市        ナヨロシ   北海道   2232  1221       0\n",
      "21     1222   三笠市        ミカサシ   北海道    485  1210       0\n",
      "22     1223   根室市        ネムロシ   北海道   2031  1223       0\n",
      "27     1228   深川市       フカガワシ   北海道   1358  1228       0\n",
      "36     1304  新篠津村     シンシノツムラ   北海道    229     0       0\n",
      "37     1331   松前町     マツマエチョウ   北海道    392     0       0\n",
      "38     1332   福島町     フクシマチョウ   北海道    206     0       0\n",
      "39     1333   知内町     シリウチチョウ   北海道    338     0       0\n",
      "40     1334  木古内町     キコナイチョウ   北海道    216     0       0\n",
      "...\n",
      "1699  46535   与論町      ヨロンチョウ  鹿児島県    538     0       0\n",
      "1711  47301   国頭村      クニガミソン   沖縄県    448     0       0\n",
      "1716  47311   恩納村       オンナソン   沖縄県   1094     0       0\n",
      "1718  47314   金武町       キンチョウ   沖縄県   1333     0       0\n",
      "1719  47315   伊江村        イエソン   沖縄県    414     0       0\n",
      "1728  47353  渡嘉敷村      トカシキソン   沖縄県     84     0       0\n",
      "1729  47354  座間味村       ザマミソン   沖縄県    106     0       0\n",
      "1730  47355   粟国村       アグニソン   沖縄県     63     0       0\n",
      "1731  47356  渡名喜村       トナキソン   沖縄県     25     0       0\n",
      "1732  47357  南大東村   ミナミダイトウソン   沖縄県    142     0       0\n",
      "1733  47358  北大東村    キタダイトウソン   沖縄県     62     0       0\n",
      "1734  47359  伊平屋村       イヘヤソン   沖縄県    158     0       0\n",
      "1735  47360  伊是名村       イゼナソン   沖縄県    139     0       0\n",
      "1736  47361  久米島町     クメジマチョウ   沖縄県    796     0       0\n",
      "1738  47375  多良間村       タラマソン   沖縄県    132     0       0\n",
      "1739  47381   竹富町     タケトミチョウ   沖縄県    447     0       0\n",
      "1740  47382  与那国町     ヨナグニチョウ   沖縄県    186     0       0\n",
      "\n",
      "[470 rows x 7 columns]\n",
      "体験機会のない小中学生 / 日本全体の小中学生 = 480667 / 11030313"
     ]
    }
   ],
   "source": [
    "print(municipality_list[municipality_list[\"school\"] == 0])\n",
    "\n",
    "n = sum(municipality_list[municipality_list[\"school\"] == 0][\"小中学生\"])\n",
    "a = sum(municipality_list[\"小中学生\"])\n",
    "print(\"体験機会のない小中学生 / 日本全体の小中学生 = \" + str(n) + \" / \" + str(a))"
   ]
  },
  {
   "cell_type": "markdown",
   "metadata": {
    "lc_cell_meme": {
     "current": "e376a634-16d4-11e8-a91b-0242ac120002",
     "history": [
      {
       "current": "e376a634-16d4-11e8-a91b-0242ac120002",
       "next": "53d8fc06-16c1-11e8-a91b-0242ac120002",
       "previous": "0c579680-16c1-11e8-a91b-0242ac120002"
      },
      {
       "current": "e376a634-16d4-11e8-a91b-0242ac120002",
       "next": "12da0810-187b-11e8-8389-0242ac120002",
       "previous": "0c579680-16c1-11e8-a91b-0242ac120002"
      }
     ],
     "next": "53d8fc06-16c1-11e8-a91b-0242ac120002",
     "previous": "0c579680-16c1-11e8-a91b-0242ac120002"
    }
   },
   "source": [
    "千葉県と大分県と岡山県。"
   ]
  },
  {
   "cell_type": "code",
   "execution_count": 55,
   "metadata": {
    "deletable": false,
    "editable": false,
    "lc_cell_meme": {
     "current": "53d8fc06-16c1-11e8-a91b-0242ac120002",
     "history": [
      {
       "current": "53d8fc06-16c1-11e8-a91b-0242ac120002",
       "next": "53d8fd00-16c1-11e8-a91b-0242ac120002",
       "previous": "0c579680-16c1-11e8-a91b-0242ac120002"
      },
      {
       "current": "53d8fc06-16c1-11e8-a91b-0242ac120002",
       "next": "11dc2722-fab7-11e7-82b9-0242ac110002",
       "previous": "0c579680-16c1-11e8-a91b-0242ac120002"
      },
      {
       "current": "53d8fc06-16c1-11e8-a91b-0242ac120002",
       "next": "e376a90e-16d4-11e8-a91b-0242ac120002",
       "previous": "e376a634-16d4-11e8-a91b-0242ac120002"
      },
      {
       "current": "53d8fc06-16c1-11e8-a91b-0242ac120002",
       "next": "e376a90e-16d4-11e8-a91b-0242ac120002",
       "previous": "12da0810-187b-11e8-8389-0242ac120002"
      }
     ],
     "next": "e376a90e-16d4-11e8-a91b-0242ac120002",
     "previous": "e376a634-16d4-11e8-a91b-0242ac120002"
    },
    "pinned_outputs": [],
    "run_through_control": {
     "frozen": true
    }
   },
   "outputs": [
    {
     "name": "stdout",
     "output_type": "stream",
     "text": [
      "2 logs recorded\n",
      "\n",
      "path: /home/jovyan/sig4ng2018/.log/20180226/20180226-033908-0248.log\n",
      "start time: 2018-02-26 03:39:08(UTC)\n",
      "end time: 2018-02-26 03:39:08(UTC)\n",
      "output size: 2301 bytes\n",
      "\n",
      "path: /home/jovyan/sig4ng2018/.log/20180226/20180226-034307-0480.log\n",
      "start time: 2018-02-26 03:43:07(UTC)\n",
      "end time: 2018-02-26 03:43:07(UTC)\n",
      "output size: 2301 bytes\n",
      "0 chunks with matched keywords or errors\n",
      "----\n",
      "     団体コード  市区町村名         カナ 都道府県名  小中学生  MEA  school\n",
      "585  12215     旭市       アサヒシ   千葉県  5627    0       0\n",
      "605  12235    匝瑳市       ソウサシ   千葉県  2919    0       0\n",
      "609  12239  大網白里市  オオアミシラサトシ   千葉県  4027    0       0\n",
      "617  12410   横芝光町  ヨコシバヒカリマチ   千葉県  1840    0       0\n",
      "624  12441   大多喜町     オオタキマチ   千葉県   609    0       0\n",
      "      団体コード 市区町村名      カナ 都道府県名  小中学生    MEA  school\n",
      "1617  44205   佐伯市    サイキシ   大分県  5556  44205       0\n",
      "1619  44207  津久見市    ツクミシ   大分県  1256      0       0\n",
      "1620  44208   竹田市    タケタシ   大分県  1433      0       0\n",
      "1622  44210   杵築市    キツキシ   大分県  2399      0       0\n",
      "1626  44214   国東市   クニサキシ   大分県  1959      0       0\n",
      "1627  44322   姫島村  ヒメシマムラ   大分県   116      0       0\n",
      "1629  44461   九重町  ココノエマチ   大分県   710      0       0\n",
      "1630  44462   玖珠町    クスマチ   大分県  1284      0       0\n",
      "      団体コード 市区町村名       カナ 都道府県名  小中学生  MEA  school\n",
      "1310  33209   高梁市    タカハシシ   岡山県  2131    0       0\n",
      "1311  33210   新見市     ニイミシ   岡山県  2332    0       0\n",
      "1315  33214   真庭市     マニワシ   岡山県  3788    0       0\n",
      "1322  33586   新庄村  シンジヨウソン   岡山県    68    0       0"
     ]
    }
   ],
   "source": [
    "print(municipality_list[(municipality_list[\"school\"] == 0)\n",
    "                        & (municipality_list[\"都道府県名\"] == \"千葉県\")])\n",
    "print(municipality_list[(municipality_list[\"school\"] == 0)\n",
    "                        & (municipality_list[\"都道府県名\"] == \"大分県\")])\n",
    "print(municipality_list[(municipality_list[\"school\"] == 0)\n",
    "                        & (municipality_list[\"都道府県名\"] == \"岡山県\")])"
   ]
  },
  {
   "cell_type": "markdown",
   "metadata": {
    "lc_cell_meme": {
     "current": "e376a90e-16d4-11e8-a91b-0242ac120002",
     "next": "11dc2722-fab7-11e7-82b9-0242ac110002",
     "previous": "53d8fc06-16c1-11e8-a91b-0242ac120002"
    }
   },
   "source": [
    "体験のない雇用圏。"
   ]
  },
  {
   "cell_type": "code",
   "execution_count": 56,
   "metadata": {
    "deletable": false,
    "editable": false,
    "lc_cell_meme": {
     "current": "11dc2722-fab7-11e7-82b9-0242ac110002",
     "history": [
      {
       "current": "11dc2722-fab7-11e7-82b9-0242ac110002",
       "next": "82d255ec-fab6-11e7-82b9-0242ac110002",
       "previous": "f3c2a758-fab5-11e7-82b9-0242ac110002"
      },
      {
       "current": "11dc2722-fab7-11e7-82b9-0242ac110002",
       "next": "719a312c-fa99-11e7-82b9-0242ac110002",
       "previous": "2e70ed56-fa7f-11e7-82b9-0242ac110002"
      },
      {
       "current": "11dc2722-fab7-11e7-82b9-0242ac110002",
       "next": "719a312c-fa99-11e7-82b9-0242ac110002",
       "previous": "c5e53304-1546-11e8-a91b-0242ac120002"
      },
      {
       "current": "11dc2722-fab7-11e7-82b9-0242ac110002",
       "next": "719a312c-fa99-11e7-82b9-0242ac110002",
       "previous": "54ed9a8c-1547-11e8-a91b-0242ac120002"
      },
      {
       "current": "11dc2722-fab7-11e7-82b9-0242ac110002",
       "next": "719a312c-fa99-11e7-82b9-0242ac110002",
       "previous": "801a5456-15e3-11e8-a91b-0242ac120002"
      },
      {
       "current": "11dc2722-fab7-11e7-82b9-0242ac110002",
       "next": "0c579680-16c1-11e8-a91b-0242ac120002",
       "previous": "801a5456-15e3-11e8-a91b-0242ac120002"
      },
      {
       "current": "11dc2722-fab7-11e7-82b9-0242ac110002",
       "next": "719a312c-fa99-11e7-82b9-0242ac110002",
       "previous": "53d8fd00-16c1-11e8-a91b-0242ac120002"
      },
      {
       "current": "11dc2722-fab7-11e7-82b9-0242ac110002",
       "next": "719a312c-fa99-11e7-82b9-0242ac110002",
       "previous": "53d8fc06-16c1-11e8-a91b-0242ac120002"
      },
      {
       "current": "11dc2722-fab7-11e7-82b9-0242ac110002",
       "next": "11dc2722-fab7-11e7-82b9-0242ac110002",
       "previous": "53d8fc06-16c1-11e8-a91b-0242ac120002"
      },
      {
       "current": "11dc2722-fab7-11e7-82b9-0242ac110002",
       "next": "11dc2722-fab7-11e7-82b9-0242ac110002",
       "previous": "e376a90e-16d4-11e8-a91b-0242ac120002"
      },
      {
       "current": "11dc2722-fab7-11e7-82b9-0242ac110002",
       "next": "10b0a90e-1957-11e8-92ed-0242ac120002",
       "previous": "e376a90e-16d4-11e8-a91b-0242ac120002"
      }
     ],
     "next": "d4d01fd8-1aa4-11e8-83dc-0242ac120002",
     "previous": "e376a90e-16d4-11e8-a91b-0242ac120002"
    },
    "pinned_outputs": [],
    "run_through_control": {
     "frozen": true
    }
   },
   "outputs": [
    {
     "name": "stdout",
     "output_type": "stream",
     "text": [
      "2 logs recorded\n",
      "\n",
      "path: /home/jovyan/sig4ng2018/.log/20180226/20180226-033908-0315.log\n",
      "start time: 2018-02-26 03:39:08(UTC)\n",
      "end time: 2018-02-26 03:39:08(UTC)\n",
      "output size: 4015 bytes\n",
      "\n",
      "path: /home/jovyan/sig4ng2018/.log/20180226/20180226-034307-0548.log\n",
      "start time: 2018-02-26 03:43:07(UTC)\n",
      "end time: 2018-02-26 03:43:07(UTC)\n",
      "output size: 4015 bytes\n",
      "0 chunks with matched keywords or errors\n",
      "----\n",
      "      団体コード  市区町村名         カナ 都道府県名   小中学生    MEA  school  圏内小中学生  圏内自治体数\n",
      "12     1213   苫小牧市     トマコマイシ   北海道  15395   1213       0   16453       2\n",
      "428    8227    筑西市      チクセイシ   茨城県   8967   8227       0   12491       2\n",
      "1473  40206    田川市       タガワシ   福岡県   4429  40206       0   11212       8\n",
      "1421  38213  四国中央市  シコクチュウオウシ   愛媛県   7550  38213       0    7550       1\n",
      "787   18202    敦賀市       ツルガシ   福井県   6277  18202       0    6996       2\n",
      "9      1210   岩見沢市     イワミザワシ   北海道   6305   1210       0    6790       2\n",
      "316    6205    新庄市     シンジョウシ   山形県   3174   6205       0    6233       8\n",
      "955   22208    伊東市       イトウシ   静岡県   4888  22208       0    6197       3\n",
      "1441  39210   四万十市      シマントシ   高知県   2796  39210       0    5657       5\n",
      "1617  44205    佐伯市       サイキシ   大分県   5556  44205       0    5556       1\n",
      "290    5204    大館市      オオダテシ   秋田県   5446   5204       0    5446       1\n",
      "1167  28213    西脇市      ニシワキシ   兵庫県   3598  28213       0    5443       2\n",
      "186    2208    むつ市        ムツシ   青森県   4794   2208       0    5431       3\n",
      "220    3202    宮古市       ミヤコシ   岩手県   4117   3202       0    5241       2\n",
      "731   15212    村上市      ムラカミシ   新潟県   4530  15212       0    4947       2\n",
      "1337  34209    三次市       ミヨシシ   広島県   4667  34209       0    4667       1\n",
      "185    2207    三沢市       ミサワシ   青森県   3892   2207       0    3892       1\n",
      "552   11326   毛呂山町     モロヤママチ   埼玉県   2624  11326       0    3445       2\n",
      "228    3211    釜石市      カマイシシ   岩手県   2452   3211       0    3284       2\n",
      "10     1211    網走市      アバシリシ   北海道   3034   1211       0    3034       1\n",
      "1556  42211    五島市       ゴトウシ   長崎県   2893  42211       0    2893       1\n",
      "13     1214    稚内市     ワッカナイシ   北海道   2777   1214       0    2777       1\n",
      "1572  43205    水俣市      ミナマタシ   熊本県   2023  43205       0    2390       2\n",
      "149    1610  新ひだか町   シンヒダカチョウ   北海道   1837   1610       0    2341       2\n",
      "20     1221    名寄市       ナヨロシ   北海道   2232   1221       0    2232       1\n",
      "22     1223    根室市       ネムロシ   北海道   2031   1223       0    2031       1\n",
      "11     1212    留萌市       ルモイシ   北海道   1503   1212       0    1993       3\n",
      "62     1400   倶知安町   クッチャンチョウ   北海道   1377   1400       0    1791       2\n",
      "27     1228    深川市      フカガワシ   北海道   1358   1228       0    1694       3\n",
      "19     1220    士別市       シベツシ   北海道   1435   1220       0    1671       2\n",
      "1659  46204    枕崎市     マクラザキシ  鹿児島県   1661  46204       0    1661       1\n",
      "129    1555    遠軽町    エンガルチョウ   北海道   1644   1555       0    1644       1\n",
      "121    1543    美幌町     ビホロチョウ   北海道   1610   1543       0    1610       1\n",
      "18     1219    紋別市      モンベツシ   北海道   1584   1219       0    1584       1\n",
      "64     1402    岩内町    イワナイチョウ   北海道    943   1402       0    1551       3\n",
      "14     1215    美唄市       ビバイシ   北海道   1355   1215       0    1355       1"
     ]
    }
   ],
   "source": [
    "print(target_municipality_list.sort_values(by=\"圏内小中学生\", ascending=False))"
   ]
  },
  {
   "cell_type": "markdown",
   "metadata": {
    "lc_cell_meme": {
     "current": "d4d01fd8-1aa4-11e8-83dc-0242ac120002",
     "next": "10b0a90e-1957-11e8-92ed-0242ac120002",
     "previous": "11dc2722-fab7-11e7-82b9-0242ac110002"
    }
   },
   "source": [
    "体験のない雇用独立な市区町村"
   ]
  },
  {
   "cell_type": "code",
   "execution_count": 57,
   "metadata": {
    "deletable": false,
    "editable": false,
    "lc_cell_meme": {
     "current": "10b0a90e-1957-11e8-92ed-0242ac120002",
     "history": [
      {
       "current": "10b0a90e-1957-11e8-92ed-0242ac120002",
       "next": "11dc2722-fab7-11e7-82b9-0242ac110002",
       "previous": "11dc2722-fab7-11e7-82b9-0242ac110002"
      },
      {
       "current": "10b0a90e-1957-11e8-92ed-0242ac120002",
       "next": "e7453f02-1957-11e8-92ed-0242ac120002",
       "previous": "11dc2722-fab7-11e7-82b9-0242ac110002"
      },
      {
       "current": "10b0a90e-1957-11e8-92ed-0242ac120002",
       "next": "10b0a90e-1957-11e8-92ed-0242ac120002",
       "previous": "11dc2722-fab7-11e7-82b9-0242ac110002"
      },
      {
       "current": "10b0a90e-1957-11e8-92ed-0242ac120002",
       "next": "10b0a90e-1957-11e8-92ed-0242ac120002",
       "previous": "d4d01fd8-1aa4-11e8-83dc-0242ac120002"
      },
      {
       "current": "10b0a90e-1957-11e8-92ed-0242ac120002",
       "next": "e7453f02-1957-11e8-92ed-0242ac120002",
       "previous": "d4d01fd8-1aa4-11e8-83dc-0242ac120002"
      }
     ],
     "next": "11dc2722-fab7-11e7-82b9-0242ac110002",
     "previous": "d4d01fd8-1aa4-11e8-83dc-0242ac120002"
    },
    "run_through_control": {
     "frozen": true
    }
   },
   "outputs": [
    {
     "name": "stdout",
     "output_type": "stream",
     "text": [
      "2 logs recorded\n",
      "\n",
      "path: /home/jovyan/sig4ng2018/.log/20180226/20180226-033908-0373.log\n",
      "start time: 2018-02-26 03:39:08(UTC)\n",
      "end time: 2018-02-26 03:39:08(UTC)\n",
      "output size: 5444 bytes\n",
      "\n",
      "path: /home/jovyan/sig4ng2018/.log/20180226/20180226-034307-0598.log\n",
      "start time: 2018-02-26 03:43:07(UTC)\n",
      "end time: 2018-02-26 03:43:07(UTC)\n",
      "output size: 5444 bytes\n",
      "0 chunks with matched keywords or errors\n",
      "----\n",
      "      団体コード  市区町村名          カナ 都道府県名  小中学生  MEA  school\n",
      "585   12215     旭市        アサヒシ   千葉県  5627    0       0\n",
      "1403  37208    三豊市        ミトヨシ   香川県  5485    0       0\n",
      "740   15226   南魚沼市    ミナミウオヌマシ   新潟県  5049    0       0\n",
      "1098  26212   京丹後市     キョウタンゴシ   京都府  4647    0       0\n",
      "916   21210    恵那市         エナシ   岐阜県  4415    0       0\n",
      "1635  45205    小林市       コバヤシシ   宮崎県  4149    0       0\n",
      "609   12239  大網白里市   オオアミシラサトシ   千葉県  4027    0       0\n",
      "435    8234    鉾田市        ホコタシ   茨城県  3816    0       0\n",
      "1315  33214    真庭市        マニワシ   岡山県  3788    0       0\n",
      "1419  38207    大洲市        オオズシ   愛媛県  3711    0       0\n",
      "925   21219    郡上市       グジョウシ   岐阜県  3610    0       0\n",
      "1050  24215    志摩市         シマシ   三重県  3525    0       0\n",
      "1662  46210    指宿市       イブスキシ  鹿児島県  3500    0       0\n",
      "810   19209    北杜市        ホクトシ   山梨県  3469    0       0\n",
      "224    3207    久慈市         クジシ   岩手県  3088    0       0\n",
      "430    8229    稲敷市       イナシキシ   茨城県  3067    0       0\n",
      "739   15225    魚沼市       ウオヌマシ   新潟県  2951    0       0\n",
      "1422  38214    西予市        セイヨシ   愛媛県  2930    0       0\n",
      "605   12235    匝瑳市        ソウサシ   千葉県  2919    0       0\n",
      "...\n",
      "874   20410    根羽村        ネバムラ   長野県    49    0       0\n",
      "367    7364   檜枝岐村     ヒノエマタムラ   福島県    47    0       0\n",
      "1301  32527    知夫村        チブムラ   島根県    41    0       0\n",
      "873   20409    平谷村       ヒラヤムラ   長野県    40    0       0\n",
      "885   20429    王滝村      オウタキムラ   長野県    40    0       0\n",
      "1231  29450   下北山村    シモキタヤマムラ   奈良県    39    0       0\n",
      "1233  29452    川上村      カワカミムラ   奈良県    36    0       0\n",
      "681   13362    利島村       トシマムラ   東京都    35    0       0\n",
      "102    1470  音威子府村    オトイネップムラ   北海道    27    0       0\n",
      "1454  39364    大川村      オオカワムラ   高知県    26    0       0\n",
      "1731  47356   渡名喜村       トナキソン   沖縄県    25    0       0\n",
      "685   13382   御蔵島村     ミクラジマムラ   東京都    25    0       0\n",
      "1227  29444    黒滝村      クロタキムラ   奈良県    24    0       0\n",
      "751   15586   粟島浦村    アワシマウラムラ   新潟県    22    0       0\n",
      "1229  29447   野迫川村      ノセガワムラ   奈良県    19    0       0\n",
      "1263  30427    北山村      キタヤマムラ  和歌山県    17    0       0\n",
      "687   13402   青ヶ島村     アオガシマムラ   東京都    13    0       0\n",
      "1232  29451   上北山村    カミキタヤマムラ   奈良県     8    0       0\n",
      "\n",
      "[393 rows x 7 columns]"
     ]
    }
   ],
   "source": [
    "l = municipality_list[(municipality_list[\"school\"] == 0)\n",
    "                        & (municipality_list[\"MEA\"] == 0)]\n",
    "l = l.sort_values(by=\"小中学生\", ascending=False)\n",
    "print(l)"
   ]
  },
  {
   "cell_type": "markdown",
   "metadata": {
    "lc_cell_meme": {
     "current": "11dc2722-fab7-11e7-82b9-0242ac110002",
     "history": [
      {
       "current": "11dc2722-fab7-11e7-82b9-0242ac110002",
       "next": "82d255ec-fab6-11e7-82b9-0242ac110002",
       "previous": "f3c2a758-fab5-11e7-82b9-0242ac110002"
      },
      {
       "current": "11dc2722-fab7-11e7-82b9-0242ac110002",
       "next": "719a312c-fa99-11e7-82b9-0242ac110002",
       "previous": "2e70ed56-fa7f-11e7-82b9-0242ac110002"
      },
      {
       "current": "11dc2722-fab7-11e7-82b9-0242ac110002",
       "next": "719a312c-fa99-11e7-82b9-0242ac110002",
       "previous": "c5e53304-1546-11e8-a91b-0242ac120002"
      },
      {
       "current": "11dc2722-fab7-11e7-82b9-0242ac110002",
       "next": "719a312c-fa99-11e7-82b9-0242ac110002",
       "previous": "54ed9a8c-1547-11e8-a91b-0242ac120002"
      },
      {
       "current": "11dc2722-fab7-11e7-82b9-0242ac110002",
       "next": "719a312c-fa99-11e7-82b9-0242ac110002",
       "previous": "801a5456-15e3-11e8-a91b-0242ac120002"
      },
      {
       "current": "11dc2722-fab7-11e7-82b9-0242ac110002",
       "next": "0c579680-16c1-11e8-a91b-0242ac120002",
       "previous": "801a5456-15e3-11e8-a91b-0242ac120002"
      },
      {
       "current": "11dc2722-fab7-11e7-82b9-0242ac110002",
       "next": "719a312c-fa99-11e7-82b9-0242ac110002",
       "previous": "53d8fd00-16c1-11e8-a91b-0242ac120002"
      },
      {
       "current": "11dc2722-fab7-11e7-82b9-0242ac110002",
       "next": "719a312c-fa99-11e7-82b9-0242ac110002",
       "previous": "53d8fc06-16c1-11e8-a91b-0242ac120002"
      },
      {
       "current": "11dc2722-fab7-11e7-82b9-0242ac110002",
       "next": "719a312c-fa99-11e7-82b9-0242ac110002",
       "previous": "11dc2722-fab7-11e7-82b9-0242ac110002"
      },
      {
       "current": "11dc2722-fab7-11e7-82b9-0242ac110002",
       "next": "262ada88-fac7-11e7-9374-02420aff0004",
       "previous": "11dc2722-fab7-11e7-82b9-0242ac110002"
      },
      {
       "current": "11dc2722-fab7-11e7-82b9-0242ac110002",
       "next": "262ada88-fac7-11e7-9374-02420aff0004",
       "previous": "10b0a90e-1957-11e8-92ed-0242ac120002"
      },
      {
       "current": "11dc2722-fab7-11e7-82b9-0242ac110002",
       "next": "262ada88-fac7-11e7-9374-02420aff0004",
       "previous": "e7453f02-1957-11e8-92ed-0242ac120002"
      }
     ],
     "next": "262ada88-fac7-11e7-9374-02420aff0004",
     "previous": "10b0a90e-1957-11e8-92ed-0242ac120002"
    }
   },
   "source": [
    "地図。"
   ]
  },
  {
   "cell_type": "markdown",
   "metadata": {
    "lc_cell_meme": {
     "current": "262ada88-fac7-11e7-9374-02420aff0004",
     "history": [
      {
       "current": "262ada88-fac7-11e7-9374-02420aff0004",
       "next": "59638b94-fab7-11e7-82b9-0242ac110002",
       "previous": "ad866254-faae-11e7-82b9-0242ac110002"
      }
     ],
     "next": "59638b94-fab7-11e7-82b9-0242ac110002",
     "previous": "11dc2722-fab7-11e7-82b9-0242ac110002"
    }
   },
   "source": [
    "![北海道](hokkaido.png)\n",
    "![東北](tohoku.png)\n",
    "![関東](kanto.png)\n",
    "![関西](kansai.png)\n",
    "![九州](kyushu.png)\n",
    "![沖縄](okinawa.png)"
   ]
  },
  {
   "cell_type": "markdown",
   "metadata": {
    "lc_cell_meme": {
     "current": "59638b94-fab7-11e7-82b9-0242ac110002",
     "history": [
      {
       "current": "59638b94-fab7-11e7-82b9-0242ac110002",
       "next": null,
       "previous": "ad866254-faae-11e7-82b9-0242ac110002"
      },
      {
       "current": "59638b94-fab7-11e7-82b9-0242ac110002",
       "next": null,
       "previous": "ad866254-faae-11e7-82b9-0242ac110002"
      },
      {
       "current": "59638b94-fab7-11e7-82b9-0242ac110002",
       "next": null,
       "previous": "262ada88-fac7-11e7-9374-02420aff0004"
      }
     ],
     "next": null,
     "previous": "262ada88-fac7-11e7-9374-02420aff0004"
    }
   },
   "source": [
    "## さいごに\n",
    "\n",
    "教室リストの網羅精度をより高めれば、空白地帯を把握することが可能になると思われるが、現在の結果を見るところ、少し精度が低い。\n",
    "\n",
    "この結果を手掛かりに、地方での体験機会創出に繋げたい。\n",
    "\n",
    "# まだ見ぬあなたへ\n",
    "\n",
    "![まだ見ぬあなたへ](https://auctions.c.yimg.jp/images.auctions.yahoo.co.jp/image/dr187/auc0303/users/5/0/2/6/rumors_r-img313x600-1433922746s8qdny14106.jpg)"
   ]
  }
 ],
 "metadata": {
  "celltoolbar": "Edit Metadata",
  "kernelspec": {
   "display_name": "Python 3 (LC_wrapper)",
   "language": "python",
   "name": "python3-wrapper"
  },
  "language_info": {
   "file_extension": ".py",
   "mimetype": "text/x-python",
   "name": "python",
   "nbconvert_exporter": "python",
   "pygments_lexer": "ipython3",
   "version": "3.6.3"
  },
  "lc_notebook_meme": {
   "current": "35a81da2-f29f-11e7-b919-0242ac130002",
   "lc_server_signature": {
    "current": {
     "notebook_dir": "/home/jovyan",
     "notebook_path": "/sig4ng2018",
     "server_url": "http://localhost:8888/",
     "signature_id": "92226188-1aa3-11e8-83dc-0242ac120002"
    },
    "history": [
     {
      "notebook_dir": "/home/jovyan",
      "notebook_path": "/",
      "server_url": "http://localhost:8888/",
      "signature_id": "e7c9a7a4-f29e-11e7-b919-0242ac130002"
     },
     {
      "notebook_dir": "/home/jovyan",
      "notebook_path": "/",
      "server_url": "http://localhost:8888/",
      "signature_id": "3b14f2fc-f415-11e7-95ed-0242ac130002"
     },
     {
      "notebook_dir": "/home/jovyan",
      "notebook_path": "/",
      "server_url": "http://localhost:8888/",
      "signature_id": "46d4b118-f433-11e7-aa5d-0242ac130002"
     },
     {
      "notebook_dir": "/home/jovyan",
      "notebook_path": "/",
      "server_url": "http://localhost:8888/",
      "signature_id": "8a8db270-f9dc-11e7-ab82-0242ac110002"
     },
     {
      "notebook_dir": "/home/jovyan",
      "notebook_path": "/sig4ng2018",
      "server_url": "http://ip172-18-0-14-b9f01dcrl5h000dcu090-8888.direct.labs.play-with-docker.com/",
      "signature_id": "df1a55c8-fac2-11e7-9374-02420aff0004"
     },
     {
      "notebook_dir": "/home/jovyan",
      "notebook_path": "/sig4ng2018",
      "server_url": "http://localhost:8888/",
      "signature_id": "cedfd3f0-147f-11e8-a91b-0242ac120002"
     },
     {
      "notebook_dir": "/home/jovyan",
      "notebook_path": "/sig4ng2018",
      "server_url": "http://localhost:8888/",
      "signature_id": "4910d2ac-16e0-11e8-91d9-0242ac120002"
     },
     {
      "notebook_dir": "/home/jovyan",
      "notebook_path": "/sig4ng2018",
      "server_url": "http://ip172-18-0-21-ba6llnf8h51g00b5eai0-8888.direct.labs.play-with-docker.com/",
      "signature_id": "3f1e6ec8-16fc-11e8-b3ff-02420aff0004"
     },
     {
      "notebook_dir": "/home/jovyan",
      "notebook_path": "/sig4ng2018",
      "server_url": "http://localhost:8888/",
      "signature_id": "e497af84-1852-11e8-8389-0242ac120002"
     },
     {
      "notebook_dir": "/home/jovyan",
      "notebook_path": "/sig4ng2018",
      "server_url": "http://localhost:8888/",
      "signature_id": "43ef1a36-1906-11e8-a135-0242ac120002"
     },
     {
      "notebook_dir": "/home/jovyan",
      "notebook_path": "/sig4ng2018",
      "server_url": "http://localhost:8888/",
      "signature_id": "fe2467aa-1954-11e8-92ed-0242ac120002"
     }
    ]
   }
  },
  "toc": {
   "nav_menu": {},
   "number_sections": true,
   "sideBar": true,
   "skip_h1_title": false,
   "title_cell": "Table of Contents",
   "title_sidebar": "Contents",
   "toc_cell": false,
   "toc_position": {
    "height": "calc(100% - 180px)",
    "left": "10px",
    "top": "150px",
    "width": "207px"
   },
   "toc_section_display": true,
   "toc_window_display": false
  }
 },
 "nbformat": 4,
 "nbformat_minor": 2
}
