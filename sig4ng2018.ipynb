{
 "cells": [
  {
   "cell_type": "markdown",
   "metadata": {
    "lc_cell_meme": {
     "current": "2ff68b48-fab8-11e7-82b9-0242ac110002",
     "next": "7b5a1412-fab1-11e7-82b9-0242ac110002",
     "previous": null
    }
   },
   "source": [
    "# IGDA日本 SIG-for NextGeneration\n",
    "\n",
    "```\n",
    "正世話人：長久勝\n",
    "副世話人：尾形美幸\n",
    "　　　　　後藤誠\n",
    "　　　　　湊和久\n",
    "```\n",
    "\n",
    "## ミッション\n",
    "\n",
    "ゲーム開発者が、<font color=\"Red\">次世代を担う若者・子供たち</font>に対して、ゲームタイトルの提供以外にできることを考え、実践する。プロのゲーム開発者との交流、ゲーム業界を支える人材の育成、ゲーム開発を通じたモノづくりや協働の体験提供などを通じ、ゲーム開発者の知見を、<font color=\"Red\">未来の社会に還元</font>する。\n",
    "\n",
    "## スカラーシップ\n",
    "\n",
    "![スカラーシップ](https://i2.wp.com/www.igda.jp/wp-content/uploads/2017/09/20170830-DSC_0323.jpg)\n",
    "\n",
    "CESAなどの支援を受け、CEDECおよびTGSでスカラーシップを提供。合わせてスタジオツアー（株式会社Aiming、株式会社サイバード、ジープラ株式会社、あまた株式会社、株式会社ディー・エヌ・エー）も実施。\n",
    "\n",
    "## ワークショップ\n",
    "\n",
    "![ワークショップ](https://i1.wp.com/www.igda.jp/wp-content/uploads/2017/12/20171103-DSC_0040.jpg)\n",
    "\n",
    "中山隼雄科学技術文化財団などの支援を受け、日本全国に向けた取り組みを実施。今年度は、東京都文京区、山口県周南市、神奈川県逗子市（2/11予定）の3ヶ所。\n",
    "\n",
    "## まだ見ぬあなたへ\n",
    "\n",
    "![まだ見ぬあなたへ](https://auctions.c.yimg.jp/images.auctions.yahoo.co.jp/image/dr187/auc0303/users/5/0/2/6/rumors_r-img313x600-1433922746s8qdny14106.jpg)\n"
   ]
  },
  {
   "cell_type": "markdown",
   "metadata": {
    "lc_cell_meme": {
     "current": "7b5a1412-fab1-11e7-82b9-0242ac110002",
     "history": [
      {
       "current": "7b5a1412-fab1-11e7-82b9-0242ac110002",
       "next": "98b17368-f415-11e7-95ed-0242ac130002",
       "previous": null
      }
     ],
     "next": "98b17368-f415-11e7-95ed-0242ac130002",
     "previous": "2ff68b48-fab8-11e7-82b9-0242ac110002"
    }
   },
   "source": [
    "# 都市雇用圏を用いたデジタルワークショップ体験機会格差の分析\n",
    "\n",
    "中心都市とその都市に通勤する者が一定割合いる周辺地域を合わせたものを「都市雇用圏」と呼ぶ。この都市圏は、雇用のみならず、経済的な結び付き、通学など含めた生活圏を実態として良く表していると考えられる。\n",
    "\n",
    "都市雇用圏は市区町村の集合として定義されており、圏内の市区町村でデジタルワークショップを体験する機会が提供されていれば、開催地の市区町村のみならず、圏内全域に対して機会提供されていると考えることができる。\n",
    "\n",
    "そこで、子供向けプログラミング教室の全国的なリストをいくつか用いて、都市雇用圏ベースでの体験機会空白地特定を試みる。"
   ]
  },
  {
   "cell_type": "markdown",
   "metadata": {
    "lc_cell_meme": {
     "current": "98b17368-f415-11e7-95ed-0242ac130002",
     "history": [
      {
       "current": "98b17368-f415-11e7-95ed-0242ac130002",
       "next": "35a81ee2-f29f-11e7-b919-0242ac130002",
       "previous": null
      }
     ],
     "next": "35a81ee2-f29f-11e7-b919-0242ac130002",
     "previous": "7b5a1412-fab1-11e7-82b9-0242ac110002"
    }
   },
   "source": [
    "## 都市雇用圏および市区町村のリストを取得\n",
    "\n",
    "\n",
    "\n",
    "大都市雇用圏2010年基準\n",
    "\n",
    "郊外市町村"
   ]
  },
  {
   "cell_type": "code",
   "execution_count": null,
   "metadata": {
    "lc_cell_meme": {
     "current": "35a81ee2-f29f-11e7-b919-0242ac130002",
     "history": [
      {
       "current": "35a81ee2-f29f-11e7-b919-0242ac130002",
       "next": null,
       "previous": null
      },
      {
       "current": "35a81ee2-f29f-11e7-b919-0242ac130002",
       "next": "7ccc6af8-f29f-11e7-b919-0242ac130002",
       "previous": null
      },
      {
       "current": "35a81ee2-f29f-11e7-b919-0242ac130002",
       "next": "7ccc6af8-f29f-11e7-b919-0242ac130002",
       "previous": "98b17368-f415-11e7-95ed-0242ac130002"
      }
     ],
     "next": "27b53f36-f416-11e7-95ed-0242ac130002",
     "previous": "98b17368-f415-11e7-95ed-0242ac130002"
    },
    "pinned_outputs": []
   },
   "outputs": [],
   "source": [
    "!wget http://www.csis.u-tokyo.ac.jp/UEA/MEA2010.csv"
   ]
  },
  {
   "cell_type": "markdown",
   "metadata": {
    "lc_cell_meme": {
     "current": "27b53f36-f416-11e7-95ed-0242ac130002",
     "next": "7ccc6af8-f29f-11e7-b919-0242ac130002",
     "previous": "35a81ee2-f29f-11e7-b919-0242ac130002"
    }
   },
   "source": [
    "中心市町村"
   ]
  },
  {
   "cell_type": "code",
   "execution_count": null,
   "metadata": {
    "lc_cell_meme": {
     "current": "7ccc6af8-f29f-11e7-b919-0242ac130002",
     "history": [
      {
       "current": "7ccc6af8-f29f-11e7-b919-0242ac130002",
       "next": "7ccc6d0a-f29f-11e7-b919-0242ac130002",
       "previous": "35a81ee2-f29f-11e7-b919-0242ac130002"
      }
     ],
     "next": "27b5403a-f416-11e7-95ed-0242ac130002",
     "previous": "27b53f36-f416-11e7-95ed-0242ac130002"
    },
    "pinned_outputs": []
   },
   "outputs": [],
   "source": [
    "!wget http://www.csis.u-tokyo.ac.jp/UEA/MEA2010C.csv"
   ]
  },
  {
   "cell_type": "markdown",
   "metadata": {
    "lc_cell_meme": {
     "current": "27b5403a-f416-11e7-95ed-0242ac130002",
     "next": "7ccc6d0a-f29f-11e7-b919-0242ac130002",
     "previous": "7ccc6af8-f29f-11e7-b919-0242ac130002"
    }
   },
   "source": [
    "小都市雇用圏2010年基準\n",
    "\n",
    "郊外市町村"
   ]
  },
  {
   "cell_type": "code",
   "execution_count": null,
   "metadata": {
    "lc_cell_meme": {
     "current": "7ccc6d0a-f29f-11e7-b919-0242ac130002",
     "history": [
      {
       "current": "7ccc6d0a-f29f-11e7-b919-0242ac130002",
       "next": null,
       "previous": "7ccc6af8-f29f-11e7-b919-0242ac130002"
      },
      {
       "current": "7ccc6d0a-f29f-11e7-b919-0242ac130002",
       "next": "c4b46604-f29f-11e7-b919-0242ac130002",
       "previous": "7ccc6af8-f29f-11e7-b919-0242ac130002"
      },
      {
       "current": "7ccc6d0a-f29f-11e7-b919-0242ac130002",
       "next": "c4b46604-f29f-11e7-b919-0242ac130002",
       "previous": "27b5403a-f416-11e7-95ed-0242ac130002"
      }
     ],
     "next": "6f5f2946-f416-11e7-95ed-0242ac130002",
     "previous": "27b5403a-f416-11e7-95ed-0242ac130002"
    },
    "pinned_outputs": []
   },
   "outputs": [],
   "source": [
    "!wget http://www.csis.u-tokyo.ac.jp/UEA/MCEA2010.csv"
   ]
  },
  {
   "cell_type": "markdown",
   "metadata": {
    "lc_cell_meme": {
     "current": "6f5f2946-f416-11e7-95ed-0242ac130002",
     "next": "c4b46604-f29f-11e7-b919-0242ac130002",
     "previous": "7ccc6d0a-f29f-11e7-b919-0242ac130002"
    }
   },
   "source": [
    "中心市町村"
   ]
  },
  {
   "cell_type": "code",
   "execution_count": null,
   "metadata": {
    "lc_cell_meme": {
     "current": "c4b46604-f29f-11e7-b919-0242ac130002",
     "history": [
      {
       "current": "c4b46604-f29f-11e7-b919-0242ac130002",
       "next": "c4b46712-f29f-11e7-b919-0242ac130002",
       "previous": "7ccc6d0a-f29f-11e7-b919-0242ac130002"
      }
     ],
     "next": "6f5f2a4a-f416-11e7-95ed-0242ac130002",
     "previous": "6f5f2946-f416-11e7-95ed-0242ac130002"
    }
   },
   "outputs": [],
   "source": [
    "!wget http://www.csis.u-tokyo.ac.jp/UEA/MCEA2010C.csv"
   ]
  },
  {
   "cell_type": "markdown",
   "metadata": {
    "lc_cell_meme": {
     "current": "6f5f2a4a-f416-11e7-95ed-0242ac130002",
     "next": "c4b46712-f29f-11e7-b919-0242ac130002",
     "previous": "c4b46604-f29f-11e7-b919-0242ac130002"
    }
   },
   "source": [
    "都市圏人口（大都市雇用圏）"
   ]
  },
  {
   "cell_type": "code",
   "execution_count": null,
   "metadata": {
    "lc_cell_meme": {
     "current": "c4b46712-f29f-11e7-b919-0242ac130002",
     "history": [
      {
       "current": "c4b46712-f29f-11e7-b919-0242ac130002",
       "next": "c4b467a8-f29f-11e7-b919-0242ac130002",
       "previous": "c4b46604-f29f-11e7-b919-0242ac130002"
      },
      {
       "current": "c4b46712-f29f-11e7-b919-0242ac130002",
       "next": "c4b467a8-f29f-11e7-b919-0242ac130002",
       "previous": "6f5f2a4a-f416-11e7-95ed-0242ac130002"
      }
     ],
     "next": "b6c2b6a4-f416-11e7-95ed-0242ac130002",
     "previous": "6f5f2a4a-f416-11e7-95ed-0242ac130002"
    }
   },
   "outputs": [],
   "source": [
    "!wget http://www.csis.u-tokyo.ac.jp/UEA/MEA2010P.csv"
   ]
  },
  {
   "cell_type": "markdown",
   "metadata": {
    "lc_cell_meme": {
     "current": "b6c2b6a4-f416-11e7-95ed-0242ac130002",
     "next": "c4b467a8-f29f-11e7-b919-0242ac130002",
     "previous": "c4b46712-f29f-11e7-b919-0242ac130002"
    }
   },
   "source": [
    "都市圏人口（小都市雇用圏）"
   ]
  },
  {
   "cell_type": "code",
   "execution_count": null,
   "metadata": {
    "lc_cell_meme": {
     "current": "c4b467a8-f29f-11e7-b919-0242ac130002",
     "history": [
      {
       "current": "c4b467a8-f29f-11e7-b919-0242ac130002",
       "next": "c4b4682a-f29f-11e7-b919-0242ac130002",
       "previous": "c4b46712-f29f-11e7-b919-0242ac130002"
      }
     ],
     "next": "b6c2b7a8-f416-11e7-95ed-0242ac130002",
     "previous": "b6c2b6a4-f416-11e7-95ed-0242ac130002"
    }
   },
   "outputs": [],
   "source": [
    "!wget http://www.csis.u-tokyo.ac.jp/UEA/MCEA2010P.csv"
   ]
  },
  {
   "cell_type": "markdown",
   "metadata": {
    "lc_cell_meme": {
     "current": "b6c2b7a8-f416-11e7-95ed-0242ac130002",
     "next": "c4b4682a-f29f-11e7-b919-0242ac130002",
     "previous": "c4b467a8-f29f-11e7-b919-0242ac130002"
    }
   },
   "source": [
    "大都市雇用圏統計データ"
   ]
  },
  {
   "cell_type": "code",
   "execution_count": null,
   "metadata": {
    "lc_cell_meme": {
     "current": "c4b4682a-f29f-11e7-b919-0242ac130002",
     "history": [
      {
       "current": "c4b4682a-f29f-11e7-b919-0242ac130002",
       "next": null,
       "previous": "c4b467a8-f29f-11e7-b919-0242ac130002"
      },
      {
       "current": "c4b4682a-f29f-11e7-b919-0242ac130002",
       "next": "0c3d8d70-f2a0-11e7-b919-0242ac130002",
       "previous": "c4b467a8-f29f-11e7-b919-0242ac130002"
      },
      {
       "current": "c4b4682a-f29f-11e7-b919-0242ac130002",
       "next": "98b1758e-f415-11e7-95ed-0242ac130002",
       "previous": "c4b467a8-f29f-11e7-b919-0242ac130002"
      }
     ],
     "next": "b6c2b834-f416-11e7-95ed-0242ac130002",
     "previous": "b6c2b7a8-f416-11e7-95ed-0242ac130002"
    }
   },
   "outputs": [],
   "source": [
    "!wget http://www.csis.u-tokyo.ac.jp/UEA/MEASTAT2010.csv"
   ]
  },
  {
   "cell_type": "markdown",
   "metadata": {
    "lc_cell_meme": {
     "current": "b6c2b834-f416-11e7-95ed-0242ac130002",
     "next": "98b1758e-f415-11e7-95ed-0242ac130002",
     "previous": "c4b4682a-f29f-11e7-b919-0242ac130002"
    }
   },
   "source": [
    "市区町村コード"
   ]
  },
  {
   "cell_type": "code",
   "execution_count": null,
   "metadata": {
    "lc_cell_meme": {
     "current": "98b1758e-f415-11e7-95ed-0242ac130002",
     "history": [
      {
       "current": "98b1758e-f415-11e7-95ed-0242ac130002",
       "next": "0c3d8d70-f2a0-11e7-b919-0242ac130002",
       "previous": "c4b4682a-f29f-11e7-b919-0242ac130002"
      },
      {
       "current": "98b1758e-f415-11e7-95ed-0242ac130002",
       "next": "0c3d8d70-f2a0-11e7-b919-0242ac130002",
       "previous": "b6c2b834-f416-11e7-95ed-0242ac130002"
      }
     ],
     "next": "fe49fc44-f416-11e7-95ed-0242ac130002",
     "previous": "b6c2b834-f416-11e7-95ed-0242ac130002"
    }
   },
   "outputs": [],
   "source": [
    "!wget http://www.soumu.go.jp/main_content/000442937.xls"
   ]
  },
  {
   "cell_type": "markdown",
   "metadata": {
    "lc_cell_meme": {
     "current": "fe49fc44-f416-11e7-95ed-0242ac130002",
     "next": "9ae6f73c-f2a0-11e7-b919-0242ac130002",
     "previous": "98b1758e-f415-11e7-95ed-0242ac130002"
    }
   },
   "source": [
    "## データ分析\n",
    "\n",
    "pandas他の必要なモジュールをインストールする。"
   ]
  },
  {
   "cell_type": "code",
   "execution_count": null,
   "metadata": {
    "lc_cell_meme": {
     "current": "9ae6f73c-f2a0-11e7-b919-0242ac130002",
     "history": [
      {
       "current": "9ae6f73c-f2a0-11e7-b919-0242ac130002",
       "next": "9ae6fa34-f2a0-11e7-b919-0242ac130002",
       "previous": "0c3d8d70-f2a0-11e7-b919-0242ac130002"
      },
      {
       "current": "9ae6f73c-f2a0-11e7-b919-0242ac130002",
       "next": "fe49ff0a-f416-11e7-95ed-0242ac130002",
       "previous": "fe49fc44-f416-11e7-95ed-0242ac130002"
      }
     ],
     "next": "ff1456b2-fab3-11e7-82b9-0242ac110002",
     "previous": "fe49fc44-f416-11e7-95ed-0242ac130002"
    }
   },
   "outputs": [],
   "source": [
    "!pip install pandas xlrd jaconv beautifulsoup4 lxml"
   ]
  },
  {
   "cell_type": "markdown",
   "metadata": {
    "lc_cell_meme": {
     "current": "ff1456b2-fab3-11e7-82b9-0242ac110002",
     "next": "fe49ff0a-f416-11e7-95ed-0242ac130002",
     "previous": "9ae6f73c-f2a0-11e7-b919-0242ac130002"
    }
   },
   "source": [
    "市区町村リストを読み込む。"
   ]
  },
  {
   "cell_type": "code",
   "execution_count": null,
   "metadata": {
    "lc_cell_meme": {
     "current": "fe49ff0a-f416-11e7-95ed-0242ac130002",
     "history": [
      {
       "current": "fe49ff0a-f416-11e7-95ed-0242ac130002",
       "next": "9ae6fa34-f2a0-11e7-b919-0242ac130002",
       "previous": "9ae6f73c-f2a0-11e7-b919-0242ac130002"
      }
     ],
     "next": "ff145856-fab3-11e7-82b9-0242ac110002",
     "previous": "ff1456b2-fab3-11e7-82b9-0242ac110002"
    }
   },
   "outputs": [],
   "source": [
    "import pandas as pd\n",
    "import jaconv\n",
    "import math\n",
    "\n",
    "file = pd.ExcelFile(\"000442937.xls\")\n",
    "df = file.parse(file.sheet_names[0])\n",
    "\n",
    "df2 = df.rename(columns={\n",
    "    \"都道府県名\\n（漢字）\": \"都道府県名\",\n",
    "    \"市区町村名\\n（漢字）\": \"市区町村名\",\n",
    "    \"市区町村名\\n（カナ）\": \"かな\"\n",
    "})\n",
    "df3 = df2.drop(columns=[\"都道府県名\\n（カナ）\"])\n",
    "df4 = df3.loc[:,[\"団体コード\",\"市区町村名\",\"かな\",\"都道府県名\"]]\n",
    "df5 = df4[df4[\"市区町村名\"].isnull() == False].reset_index(drop=True)\n",
    "df5[\"かな\"] = df5[\"かな\"].map(jaconv.h2z)\n",
    "df5[\"団体コード\"] = df5[\"団体コード\"].map(lambda x: math.floor(x / 10))\n",
    "\n",
    "municipality_list = df5\n",
    "\n",
    "print(municipality_list)"
   ]
  },
  {
   "cell_type": "markdown",
   "metadata": {
    "lc_cell_meme": {
     "current": "ff145856-fab3-11e7-82b9-0242ac110002",
     "next": "9ae6fa34-f2a0-11e7-b919-0242ac130002",
     "previous": "fe49ff0a-f416-11e7-95ed-0242ac130002"
    }
   },
   "source": [
    "大都市雇用圏の中心都市リストを読み込み、市区町村リストに情報を追記する。"
   ]
  },
  {
   "cell_type": "code",
   "execution_count": null,
   "metadata": {
    "lc_cell_meme": {
     "current": "9ae6fa34-f2a0-11e7-b919-0242ac130002",
     "history": [
      {
       "current": "9ae6fa34-f2a0-11e7-b919-0242ac130002",
       "next": null,
       "previous": "9ae6f73c-f2a0-11e7-b919-0242ac130002"
      },
      {
       "current": "9ae6fa34-f2a0-11e7-b919-0242ac130002",
       "next": "29f4a406-f2a1-11e7-b919-0242ac130002",
       "previous": "9ae6f73c-f2a0-11e7-b919-0242ac130002"
      },
      {
       "current": "9ae6fa34-f2a0-11e7-b919-0242ac130002",
       "next": "29f4a406-f2a1-11e7-b919-0242ac130002",
       "previous": "fe49ff0a-f416-11e7-95ed-0242ac130002"
      },
      {
       "current": "9ae6fa34-f2a0-11e7-b919-0242ac130002",
       "next": "36e919e2-f9e2-11e7-82b9-0242ac110002",
       "previous": "fe49ff0a-f416-11e7-95ed-0242ac130002"
      },
      {
       "current": "9ae6fa34-f2a0-11e7-b919-0242ac130002",
       "next": "36e919e2-f9e2-11e7-82b9-0242ac110002",
       "previous": "ff145856-fab3-11e7-82b9-0242ac110002"
      }
     ],
     "next": "469ad3da-fab4-11e7-82b9-0242ac110002",
     "previous": "ff145856-fab3-11e7-82b9-0242ac110002"
    }
   },
   "outputs": [],
   "source": [
    "municipality_list[\"MEA\"] = 0\n",
    "\n",
    "# csvの読み取り\n",
    "df= pd.read_csv(\"MEA2010C.csv\", encoding=\"cp932\")\n",
    "\n",
    "municipality_list[\"MEA\"] = 0\n",
    "for row in df.itertuples():\n",
    "    municipality_list.loc[municipality_list[\"団体コード\"] == row.center, \"MEA\"] = row.MEA\n",
    "    print(municipality_list.loc[municipality_list[\"団体コード\"] == row.center])"
   ]
  },
  {
   "cell_type": "markdown",
   "metadata": {
    "lc_cell_meme": {
     "current": "469ad3da-fab4-11e7-82b9-0242ac110002",
     "next": "36e919e2-f9e2-11e7-82b9-0242ac110002",
     "previous": "9ae6fa34-f2a0-11e7-b919-0242ac130002"
    }
   },
   "source": [
    "小都市雇用圏の中心都市リストを読み込み、市区町村リストに情報を追記する。"
   ]
  },
  {
   "cell_type": "code",
   "execution_count": null,
   "metadata": {
    "lc_cell_meme": {
     "current": "36e919e2-f9e2-11e7-82b9-0242ac110002",
     "history": [
      {
       "current": "36e919e2-f9e2-11e7-82b9-0242ac110002",
       "next": "29f4a406-f2a1-11e7-b919-0242ac130002",
       "previous": "9ae6fa34-f2a0-11e7-b919-0242ac130002"
      },
      {
       "current": "36e919e2-f9e2-11e7-82b9-0242ac110002",
       "next": "c0771ca6-f2a6-11e7-b919-0242ac130002",
       "previous": "9ae6fa34-f2a0-11e7-b919-0242ac130002"
      }
     ],
     "next": "469ad556-fab4-11e7-82b9-0242ac110002",
     "previous": "469ad3da-fab4-11e7-82b9-0242ac110002"
    }
   },
   "outputs": [],
   "source": [
    "# csvの読み取り\n",
    "df= pd.read_csv(\"MCEA2010C.csv\", encoding=\"cp932\")\n",
    "\n",
    "for row in df.itertuples():\n",
    "    municipality_list.loc[municipality_list[\"団体コード\"] == row.center, \"MEA\"] = row.UEA\n",
    "    print(municipality_list.loc[municipality_list[\"団体コード\"] == row.center])"
   ]
  },
  {
   "cell_type": "markdown",
   "metadata": {
    "lc_cell_meme": {
     "current": "469ad556-fab4-11e7-82b9-0242ac110002",
     "next": "c0771ca6-f2a6-11e7-b919-0242ac130002",
     "previous": "36e919e2-f9e2-11e7-82b9-0242ac110002"
    }
   },
   "source": [
    "大都市雇用圏の郊外都市リストを読み込み、市区町村リストに情報を追記する。"
   ]
  },
  {
   "cell_type": "code",
   "execution_count": null,
   "metadata": {
    "lc_cell_meme": {
     "current": "c0771ca6-f2a6-11e7-b919-0242ac130002",
     "history": [
      {
       "current": "c0771ca6-f2a6-11e7-b919-0242ac130002",
       "next": null,
       "previous": "8f955ade-f2a2-11e7-b919-0242ac130002"
      },
      {
       "current": "c0771ca6-f2a6-11e7-b919-0242ac130002",
       "next": "98acab0a-f9ea-11e7-82b9-0242ac110002",
       "previous": "36e919e2-f9e2-11e7-82b9-0242ac110002"
      }
     ],
     "next": "469ad628-fab4-11e7-82b9-0242ac110002",
     "previous": "469ad556-fab4-11e7-82b9-0242ac110002"
    }
   },
   "outputs": [],
   "source": [
    "# csvの読み取り\n",
    "df= pd.read_csv(\"MEA2010.csv\", encoding=\"cp932\")\n",
    "\n",
    "for row in df.itertuples():\n",
    "    municipality_list.loc[municipality_list[\"団体コード\"] == row.suburb, \"MEA\"] = row.MEA\n",
    "    print(municipality_list.loc[municipality_list[\"団体コード\"] == row.suburb])\n",
    "    municipality_list.loc[municipality_list[\"団体コード\"] == row.suburb2, \"MEA\"] = row.MEA\n",
    "    print(municipality_list.loc[municipality_list[\"団体コード\"] == row.suburb2])\n",
    "    municipality_list.loc[municipality_list[\"団体コード\"] == row.suburb3, \"MEA\"] = row.MEA\n",
    "    print(municipality_list.loc[municipality_list[\"団体コード\"] == row.suburb3])\n",
    "    municipality_list.loc[municipality_list[\"団体コード\"] == row.suburb4, \"MEA\"] = row.MEA\n",
    "    print(municipality_list.loc[municipality_list[\"団体コード\"] == row.suburb4])"
   ]
  },
  {
   "cell_type": "markdown",
   "metadata": {
    "lc_cell_meme": {
     "current": "469ad628-fab4-11e7-82b9-0242ac110002",
     "next": "98acab0a-f9ea-11e7-82b9-0242ac110002",
     "previous": "c0771ca6-f2a6-11e7-b919-0242ac130002"
    }
   },
   "source": [
    "小都市雇用圏の郊外都市リストを読み込み、市区町村リストに情報を追記する。"
   ]
  },
  {
   "cell_type": "code",
   "execution_count": null,
   "metadata": {
    "lc_cell_meme": {
     "current": "98acab0a-f9ea-11e7-82b9-0242ac110002",
     "history": [
      {
       "current": "98acab0a-f9ea-11e7-82b9-0242ac110002",
       "next": null,
       "previous": "c0771ca6-f2a6-11e7-b919-0242ac130002"
      },
      {
       "current": "98acab0a-f9ea-11e7-82b9-0242ac110002",
       "next": "1c68fe2e-f9ed-11e7-82b9-0242ac110002",
       "previous": "c0771ca6-f2a6-11e7-b919-0242ac130002"
      },
      {
       "current": "98acab0a-f9ea-11e7-82b9-0242ac110002",
       "next": "1c68fe2e-f9ed-11e7-82b9-0242ac110002",
       "previous": "469ad628-fab4-11e7-82b9-0242ac110002"
      }
     ],
     "next": "8e2340a2-fab4-11e7-82b9-0242ac110002",
     "previous": "469ad628-fab4-11e7-82b9-0242ac110002"
    }
   },
   "outputs": [],
   "source": [
    "# csvの読み取り\n",
    "df= pd.read_csv(\"MCEA2010.csv\", encoding=\"cp932\")\n",
    "\n",
    "for row in df.itertuples():\n",
    "    municipality_list.loc[municipality_list[\"団体コード\"] == row.suburb, \"MEA\"] = row.MEA\n",
    "    print(municipality_list.loc[municipality_list[\"団体コード\"] == row.suburb])\n",
    "    municipality_list.loc[municipality_list[\"団体コード\"] == row.suburb2, \"MEA\"] = row.MEA\n",
    "    print(municipality_list.loc[municipality_list[\"団体コード\"] == row.suburb2])\n",
    "    municipality_list.loc[municipality_list[\"団体コード\"] == row.suburb3, \"MEA\"] = row.MEA\n",
    "    print(municipality_list.loc[municipality_list[\"団体コード\"] == row.suburb3])\n",
    "    municipality_list.loc[municipality_list[\"団体コード\"] == row.suburb4, \"MEA\"] = row.MEA\n",
    "    print(municipality_list.loc[municipality_list[\"団体コード\"] == row.suburb4])"
   ]
  },
  {
   "cell_type": "markdown",
   "metadata": {
    "lc_cell_meme": {
     "current": "8e2340a2-fab4-11e7-82b9-0242ac110002",
     "next": "1c68fe2e-f9ed-11e7-82b9-0242ac110002",
     "previous": "98acab0a-f9ea-11e7-82b9-0242ac110002"
    }
   },
   "source": [
    "都市雇用圏コードが実数になってしまうので整数型に変換する。（原因は不明なので気が向いたら調査）"
   ]
  },
  {
   "cell_type": "code",
   "execution_count": null,
   "metadata": {
    "lc_cell_meme": {
     "current": "1c68fe2e-f9ed-11e7-82b9-0242ac110002",
     "history": [
      {
       "current": "1c68fe2e-f9ed-11e7-82b9-0242ac110002",
       "next": null,
       "previous": "98acab0a-f9ea-11e7-82b9-0242ac110002"
      },
      {
       "current": "1c68fe2e-f9ed-11e7-82b9-0242ac110002",
       "next": "76ca6148-f9f0-11e7-82b9-0242ac110002",
       "previous": "98acab0a-f9ea-11e7-82b9-0242ac110002"
      },
      {
       "current": "1c68fe2e-f9ed-11e7-82b9-0242ac110002",
       "next": "76ca6148-f9f0-11e7-82b9-0242ac110002",
       "previous": "8e2340a2-fab4-11e7-82b9-0242ac110002"
      }
     ],
     "next": "d5a80dae-fab4-11e7-82b9-0242ac110002",
     "previous": "8e2340a2-fab4-11e7-82b9-0242ac110002"
    }
   },
   "outputs": [],
   "source": [
    "import numpy as np\n",
    "municipality_list[\"MEA\"] = municipality_list[\"MEA\"].astype(np.int64)\n",
    "\n",
    "print(municipality_list)"
   ]
  },
  {
   "cell_type": "markdown",
   "metadata": {
    "lc_cell_meme": {
     "current": "d5a80dae-fab4-11e7-82b9-0242ac110002",
     "next": "76ca6148-f9f0-11e7-82b9-0242ac110002",
     "previous": "1c68fe2e-f9ed-11e7-82b9-0242ac110002"
    }
   },
   "source": [
    "都市雇用圏に入らない独立した市区町村も存在する。"
   ]
  },
  {
   "cell_type": "code",
   "execution_count": null,
   "metadata": {
    "lc_cell_meme": {
     "current": "76ca6148-f9f0-11e7-82b9-0242ac110002",
     "history": [
      {
       "current": "76ca6148-f9f0-11e7-82b9-0242ac110002",
       "next": null,
       "previous": "1c68fe2e-f9ed-11e7-82b9-0242ac110002"
      },
      {
       "current": "76ca6148-f9f0-11e7-82b9-0242ac110002",
       "next": "be3df292-f9f0-11e7-82b9-0242ac110002",
       "previous": "1c68fe2e-f9ed-11e7-82b9-0242ac110002"
      }
     ],
     "next": "d5a80f48-fab4-11e7-82b9-0242ac110002",
     "previous": "d5a80dae-fab4-11e7-82b9-0242ac110002"
    }
   },
   "outputs": [],
   "source": [
    "print(municipality_list[municipality_list[\"MEA\"] == 0])"
   ]
  },
  {
   "cell_type": "markdown",
   "metadata": {
    "lc_cell_meme": {
     "current": "d5a80f48-fab4-11e7-82b9-0242ac110002",
     "next": "be3df292-f9f0-11e7-82b9-0242ac110002",
     "previous": "76ca6148-f9f0-11e7-82b9-0242ac110002"
    }
   },
   "source": [
    "[こどものミライ](http://kodomomirai.com/schools/)から教室の情報を抽出し、市区町村リストに教室の有無情報を追記する。"
   ]
  },
  {
   "cell_type": "code",
   "execution_count": null,
   "metadata": {
    "lc_cell_meme": {
     "current": "be3df292-f9f0-11e7-82b9-0242ac110002",
     "history": [
      {
       "current": "be3df292-f9f0-11e7-82b9-0242ac110002",
       "next": null,
       "previous": "76ca6148-f9f0-11e7-82b9-0242ac110002"
      },
      {
       "current": "be3df292-f9f0-11e7-82b9-0242ac110002",
       "next": "ead8049e-fa56-11e7-82b9-0242ac110002",
       "previous": "76ca6148-f9f0-11e7-82b9-0242ac110002"
      },
      {
       "current": "be3df292-f9f0-11e7-82b9-0242ac110002",
       "next": "ead8049e-fa56-11e7-82b9-0242ac110002",
       "previous": "d5a80f48-fab4-11e7-82b9-0242ac110002"
      }
     ],
     "next": "1d303386-fab5-11e7-82b9-0242ac110002",
     "previous": "d5a80f48-fab4-11e7-82b9-0242ac110002"
    }
   },
   "outputs": [],
   "source": [
    "import requests\n",
    "from bs4 import BeautifulSoup\n",
    "\n",
    "municipality_list[\"school\"] = 0\n",
    "\n",
    "def check_school(url) :\n",
    "    count = 0\n",
    "    print(\"check_school(\" + url + \")\")\n",
    "    resp = requests.get(url)\n",
    "    resp.encoding = resp.apparent_encoding\n",
    "    body_lines = resp.text.splitlines()\n",
    "    for text in body_lines :\n",
    "        target_municipality_list = municipality_list[municipality_list[\"school\"] == 0]\n",
    "        for row in target_municipality_list.itertuples():\n",
    "            if text.find(row.都道府県名) != -1 and text.find(row.市区町村名) != -1 :\n",
    "                municipality_list.loc[municipality_list[\"団体コード\"] == row.団体コード, \\\n",
    "                                      \"school\"] = 1\n",
    "                count = count + 1\n",
    "    return count\n",
    "\n",
    "base_url = \"http://kodomomirai.com/schools/\"\n",
    "soup = BeautifulSoup(requests.get(base_url).text, \"lxml\")\n",
    "for link in soup.find_all(\"a\") :\n",
    "    if link[\"href\"].find(\"prefecture\") != -1 :\n",
    "        print(check_school(\"http://kodomomirai.com\" + link[\"href\"]))\n",
    "\n",
    "print(municipality_list[municipality_list[\"school\"] == 1])\n"
   ]
  },
  {
   "cell_type": "markdown",
   "metadata": {
    "lc_cell_meme": {
     "current": "1d303386-fab5-11e7-82b9-0242ac110002",
     "next": "ead8049e-fa56-11e7-82b9-0242ac110002",
     "previous": "be3df292-f9f0-11e7-82b9-0242ac110002"
    }
   },
   "source": [
    "[子供向けロボット・プログラミング教室ガイド](http://xn--9ckk2d5c4051a8fm.xyz/sitemap.html#jyuusyo)から教室の情報を抽出し、市区町村リストに教室の有無情報を追記する。"
   ]
  },
  {
   "cell_type": "code",
   "execution_count": null,
   "metadata": {
    "lc_cell_meme": {
     "current": "ead8049e-fa56-11e7-82b9-0242ac110002",
     "history": [
      {
       "current": "ead8049e-fa56-11e7-82b9-0242ac110002",
       "next": null,
       "previous": "be3df292-f9f0-11e7-82b9-0242ac110002"
      },
      {
       "current": "ead8049e-fa56-11e7-82b9-0242ac110002",
       "next": "35f928d4-fa63-11e7-82b9-0242ac110002",
       "previous": "be3df292-f9f0-11e7-82b9-0242ac110002"
      },
      {
       "current": "ead8049e-fa56-11e7-82b9-0242ac110002",
       "next": "ea924aa4-fa69-11e7-82b9-0242ac110002",
       "previous": "be3df292-f9f0-11e7-82b9-0242ac110002"
      },
      {
       "current": "ead8049e-fa56-11e7-82b9-0242ac110002",
       "next": "ea924aa4-fa69-11e7-82b9-0242ac110002",
       "previous": "1d303386-fab5-11e7-82b9-0242ac110002"
      }
     ],
     "next": "64b5d422-fab5-11e7-82b9-0242ac110002",
     "previous": "1d303386-fab5-11e7-82b9-0242ac110002"
    }
   },
   "outputs": [],
   "source": [
    "base_url = \"http://xn--9ckk2d5c4051a8fm.xyz/sitemap.html\"\n",
    "soup = BeautifulSoup(requests.get(base_url).text, \"lxml\")\n",
    "passed = {}\n",
    "for link in soup.find_all(\"p\") :\n",
    "    if \"style\" in link.attrs.keys() and link[\"style\"].find(\"text-align : left;\") != -1 :\n",
    "        middle_url = \"http://xn--9ckk2d5c4051a8fm.xyz/\" + link.find(\"a\")[\"href\"]\n",
    "        msoup = BeautifulSoup(requests.get(middle_url).text, \"lxml\")\n",
    "        for end_link in msoup.find_all(\"a\") :\n",
    "            if \"href\" in end_link.attrs.keys() \\\n",
    "                and passed.get(end_link[\"href\"], False) == False \\\n",
    "                and end_link[\"href\"].find(\".html\") != -1 \\\n",
    "                and end_link[\"href\"].find(\"index\") == -1 :\n",
    "                passed[end_link[\"href\"]] = 1\n",
    "                print(check_school(\"http://xn--9ckk2d5c4051a8fm.xyz/\" + end_link[\"href\"]))\n",
    "\n",
    "print(municipality_list[municipality_list[\"school\"] == 1])"
   ]
  },
  {
   "cell_type": "markdown",
   "metadata": {
    "lc_cell_meme": {
     "current": "64b5d422-fab5-11e7-82b9-0242ac110002",
     "next": "ea924aa4-fa69-11e7-82b9-0242ac110002",
     "previous": "ead8049e-fa56-11e7-82b9-0242ac110002"
    }
   },
   "source": [
    "[子供向けプログラミング教室のリスト](https://list.open-code.club/%E5%AD%90%E4%BE%9B%E5%90%91%E3%81%91%E3%83%97%E3%83%AD%E3%82%B0%E3%83%A9%E3%83%9F%E3%83%B3%E3%82%B0%E6%95%99%E5%AE%A4%E3%81%AE%E3%83%AA%E3%82%B9%E3%83%88/)から教室の情報を抽出し、市区町村リストに教室の有無情報を追記する。"
   ]
  },
  {
   "cell_type": "code",
   "execution_count": null,
   "metadata": {
    "lc_cell_meme": {
     "current": "ea924aa4-fa69-11e7-82b9-0242ac110002",
     "history": [
      {
       "current": "ea924aa4-fa69-11e7-82b9-0242ac110002",
       "next": null,
       "previous": "35f928d4-fa63-11e7-82b9-0242ac110002"
      },
      {
       "current": "ea924aa4-fa69-11e7-82b9-0242ac110002",
       "next": null,
       "previous": "ead8049e-fa56-11e7-82b9-0242ac110002"
      },
      {
       "current": "ea924aa4-fa69-11e7-82b9-0242ac110002",
       "next": "2e70ed56-fa7f-11e7-82b9-0242ac110002",
       "previous": "ead8049e-fa56-11e7-82b9-0242ac110002"
      },
      {
       "current": "ea924aa4-fa69-11e7-82b9-0242ac110002",
       "next": "db5a8756-fa80-11e7-82b9-0242ac110002",
       "previous": "ead8049e-fa56-11e7-82b9-0242ac110002"
      },
      {
       "current": "ea924aa4-fa69-11e7-82b9-0242ac110002",
       "next": "db5a8756-fa80-11e7-82b9-0242ac110002",
       "previous": "64b5d422-fab5-11e7-82b9-0242ac110002"
      }
     ],
     "next": "ac3d91f4-fab5-11e7-82b9-0242ac110002",
     "previous": "64b5d422-fab5-11e7-82b9-0242ac110002"
    }
   },
   "outputs": [],
   "source": [
    "def check_school2(url, pref) :\n",
    "    count = 0\n",
    "    print(\"check_school(\" + url + \")\")\n",
    "    resp = requests.get(url)\n",
    "    resp.encoding = resp.apparent_encoding\n",
    "    body_lines = resp.text.splitlines()\n",
    "    for text in body_lines :\n",
    "        target_municipality_list = municipality_list[municipality_list[\"school\"] == 0]\n",
    "        for row in target_municipality_list.itertuples():\n",
    "            if pref.find(row.都道府県名) != -1 and text.find(row.市区町村名) != -1 :\n",
    "                municipality_list.loc[municipality_list[\"団体コード\"] == row.団体コード, \\\n",
    "                                      \"school\"] = 1\n",
    "                count = count + 1\n",
    "    return count\n",
    "\n",
    "base_url = \"https://list.open-code.club/%E5%AD%90%E4%BE%9B%E5%90%91%E3%81%91%E3%83%97%E3%83%AD%E3%82%B0%E3%83%A9%E3%83%9F%E3%83%B3%E3%82%B0%E6%95%99%E5%AE%A4%E3%81%AE%E3%83%AA%E3%82%B9%E3%83%88/\"\n",
    "soup = BeautifulSoup(requests.get(base_url).text, \"lxml\")\n",
    "for link in soup.find_all(\"a\") :\n",
    "    print(check_school2(\"https://list.open-code.club\" + link[\"href\"], link.get_text()))\n",
    "\n",
    "print(municipality_list[municipality_list[\"school\"] == 1])"
   ]
  },
  {
   "cell_type": "markdown",
   "metadata": {
    "lc_cell_meme": {
     "current": "ac3d91f4-fab5-11e7-82b9-0242ac110002",
     "next": "db5a8756-fa80-11e7-82b9-0242ac110002",
     "previous": "ea924aa4-fa69-11e7-82b9-0242ac110002"
    }
   },
   "source": [
    "独自に用意した Hour of Code 2017 日本国内会場のリスト（主催が外国人コミュニティではないと考えられるもののみ抽出）から開催地の情報を抽出し、市区町村リストに教室の有無情報を追記する。"
   ]
  },
  {
   "cell_type": "code",
   "execution_count": null,
   "metadata": {
    "lc_cell_meme": {
     "current": "db5a8756-fa80-11e7-82b9-0242ac110002",
     "history": [
      {
       "current": "db5a8756-fa80-11e7-82b9-0242ac110002",
       "next": null,
       "previous": "2e70ed56-fa7f-11e7-82b9-0242ac110002"
      },
      {
       "current": "db5a8756-fa80-11e7-82b9-0242ac110002",
       "next": "2e70ed56-fa7f-11e7-82b9-0242ac110002",
       "previous": "ea924aa4-fa69-11e7-82b9-0242ac110002"
      },
      {
       "current": "db5a8756-fa80-11e7-82b9-0242ac110002",
       "next": "db5a8756-fa80-11e7-82b9-0242ac110002",
       "previous": "ea924aa4-fa69-11e7-82b9-0242ac110002"
      },
      {
       "current": "db5a8756-fa80-11e7-82b9-0242ac110002",
       "next": "db5a8756-fa80-11e7-82b9-0242ac110002",
       "previous": "ac3d91f4-fab5-11e7-82b9-0242ac110002"
      }
     ],
     "next": "f3c2a640-fab5-11e7-82b9-0242ac110002",
     "previous": "ac3d91f4-fab5-11e7-82b9-0242ac110002"
    }
   },
   "outputs": [],
   "source": [
    "# csvの読み取り\n",
    "df= pd.read_csv(\"hoc2017jp.csv\", encoding=\"cp932\")\n",
    "\n",
    "for row in df.itertuples():\n",
    "    t = municipality_list[municipality_list[\"都道府県名\"] == row.都道府県]\n",
    "    c = t[t[\"市区町村名\"] == row.市区町村].reset_index()\n",
    "    municipality_list.loc[municipality_list[\"団体コード\"] == c.団体コード[0], \"school\"] = 1\n",
    "\n",
    "print(municipality_list[municipality_list[\"school\"] == 1])"
   ]
  },
  {
   "cell_type": "markdown",
   "metadata": {
    "lc_cell_meme": {
     "current": "f3c2a640-fab5-11e7-82b9-0242ac110002",
     "next": "db5a8756-fa80-11e7-82b9-0242ac110002",
     "previous": "db5a8756-fa80-11e7-82b9-0242ac110002"
    }
   },
   "source": [
    "独自に用意した Coder Dojo 日本国内会場のリストから開催地の情報を抽出し、市区町村リストに教室の有無情報を追記する。"
   ]
  },
  {
   "cell_type": "code",
   "execution_count": null,
   "metadata": {
    "lc_cell_meme": {
     "current": "db5a8756-fa80-11e7-82b9-0242ac110002",
     "history": [
      {
       "current": "db5a8756-fa80-11e7-82b9-0242ac110002",
       "next": null,
       "previous": "2e70ed56-fa7f-11e7-82b9-0242ac110002"
      },
      {
       "current": "db5a8756-fa80-11e7-82b9-0242ac110002",
       "next": "2e70ed56-fa7f-11e7-82b9-0242ac110002",
       "previous": "ea924aa4-fa69-11e7-82b9-0242ac110002"
      },
      {
       "current": "db5a8756-fa80-11e7-82b9-0242ac110002",
       "next": "2e70ed56-fa7f-11e7-82b9-0242ac110002",
       "previous": "db5a8756-fa80-11e7-82b9-0242ac110002"
      }
     ],
     "next": "f3c2a758-fab5-11e7-82b9-0242ac110002",
     "previous": "f3c2a640-fab5-11e7-82b9-0242ac110002"
    }
   },
   "outputs": [],
   "source": [
    "# csvの読み取り\n",
    "df= pd.read_csv(\"cd2017.csv\", encoding=\"cp932\")\n",
    "\n",
    "for row in df.itertuples():\n",
    "    t = municipality_list[municipality_list[\"都道府県名\"] == row.都道府県]\n",
    "    c = t[t[\"市区町村名\"] == row.市区町村].reset_index()\n",
    "    municipality_list.loc[municipality_list[\"団体コード\"] == c.団体コード[0], \"school\"] = 1\n",
    "\n",
    "print(municipality_list[municipality_list[\"school\"] == 1])"
   ]
  },
  {
   "cell_type": "markdown",
   "metadata": {
    "lc_cell_meme": {
     "current": "f3c2a758-fab5-11e7-82b9-0242ac110002",
     "history": [
      {
       "current": "f3c2a758-fab5-11e7-82b9-0242ac110002",
       "next": "2e70ed56-fa7f-11e7-82b9-0242ac110002",
       "previous": "db5a8756-fa80-11e7-82b9-0242ac110002"
      },
      {
       "current": "f3c2a758-fab5-11e7-82b9-0242ac110002",
       "next": "11dc2722-fab7-11e7-82b9-0242ac110002",
       "previous": "db5a8756-fa80-11e7-82b9-0242ac110002"
      }
     ],
     "next": "2e70ed56-fa7f-11e7-82b9-0242ac110002",
     "previous": "db5a8756-fa80-11e7-82b9-0242ac110002"
    }
   },
   "source": [
    "同じ都市雇用圏に属する市区町村に体験機会がある場合、その市区町村にも体験機会があると見なし、市区町村リストに教室の有無情報を追記する。"
   ]
  },
  {
   "cell_type": "code",
   "execution_count": null,
   "metadata": {
    "lc_cell_meme": {
     "current": "2e70ed56-fa7f-11e7-82b9-0242ac110002",
     "history": [
      {
       "current": "2e70ed56-fa7f-11e7-82b9-0242ac110002",
       "next": null,
       "previous": "ea924aa4-fa69-11e7-82b9-0242ac110002"
      },
      {
       "current": "2e70ed56-fa7f-11e7-82b9-0242ac110002",
       "next": "db5a8756-fa80-11e7-82b9-0242ac110002",
       "previous": "ea924aa4-fa69-11e7-82b9-0242ac110002"
      },
      {
       "current": "2e70ed56-fa7f-11e7-82b9-0242ac110002",
       "next": null,
       "previous": "db5a8756-fa80-11e7-82b9-0242ac110002"
      },
      {
       "current": "2e70ed56-fa7f-11e7-82b9-0242ac110002",
       "next": "719a312c-fa99-11e7-82b9-0242ac110002",
       "previous": "db5a8756-fa80-11e7-82b9-0242ac110002"
      },
      {
       "current": "2e70ed56-fa7f-11e7-82b9-0242ac110002",
       "next": "719a312c-fa99-11e7-82b9-0242ac110002",
       "previous": "f3c2a758-fab5-11e7-82b9-0242ac110002"
      },
      {
       "current": "2e70ed56-fa7f-11e7-82b9-0242ac110002",
       "next": "82d255ec-fab6-11e7-82b9-0242ac110002",
       "previous": "f3c2a758-fab5-11e7-82b9-0242ac110002"
      }
     ],
     "next": "11dc2722-fab7-11e7-82b9-0242ac110002",
     "previous": "f3c2a758-fab5-11e7-82b9-0242ac110002"
    },
    "scrolled": true
   },
   "outputs": [],
   "source": [
    "t = municipality_list[municipality_list[\"MEA\"] != 0]\n",
    "for mea in t[t[\"school\"] == 1][\"MEA\"] :\n",
    "    municipality_list.loc[municipality_list[\"MEA\"] == mea, \"school\"] = 1\n",
    "\n",
    "print(municipality_list[municipality_list[\"school\"] == 0])"
   ]
  },
  {
   "cell_type": "markdown",
   "metadata": {
    "lc_cell_meme": {
     "current": "11dc2722-fab7-11e7-82b9-0242ac110002",
     "history": [
      {
       "current": "11dc2722-fab7-11e7-82b9-0242ac110002",
       "next": "82d255ec-fab6-11e7-82b9-0242ac110002",
       "previous": "f3c2a758-fab5-11e7-82b9-0242ac110002"
      }
     ],
     "next": "719a312c-fa99-11e7-82b9-0242ac110002",
     "previous": "2e70ed56-fa7f-11e7-82b9-0242ac110002"
    }
   },
   "source": [
    "## 分析結果\n",
    "\n",
    "都市雇用圏による修正を加えて、市区町村毎に体験機会の有無データを生成できたので、地図に示す。体験機会のない市区町村は赤塗で表現される。\n",
    "\n",
    "北海道。"
   ]
  },
  {
   "cell_type": "code",
   "execution_count": null,
   "metadata": {
    "lc_cell_meme": {
     "current": "719a312c-fa99-11e7-82b9-0242ac110002",
     "history": [
      {
       "current": "719a312c-fa99-11e7-82b9-0242ac110002",
       "next": null,
       "previous": "2e70ed56-fa7f-11e7-82b9-0242ac110002"
      },
      {
       "current": "719a312c-fa99-11e7-82b9-0242ac110002",
       "next": "8fb0b81a-fa9a-11e7-82b9-0242ac110002",
       "previous": "2e70ed56-fa7f-11e7-82b9-0242ac110002"
      },
      {
       "current": "719a312c-fa99-11e7-82b9-0242ac110002",
       "next": "8fb0b81a-fa9a-11e7-82b9-0242ac110002",
       "previous": "82d255ec-fab6-11e7-82b9-0242ac110002"
      },
      {
       "current": "719a312c-fa99-11e7-82b9-0242ac110002",
       "next": "ca562088-fab6-11e7-82b9-0242ac110002",
       "previous": "82d255ec-fab6-11e7-82b9-0242ac110002"
      }
     ],
     "next": "ca562088-fab6-11e7-82b9-0242ac110002",
     "previous": "11dc2722-fab7-11e7-82b9-0242ac110002"
    },
    "scrolled": true
   },
   "outputs": [],
   "source": [
    "url = \"http://map.olp.yahooapis.jp/OpenLocalPlatform/V1/static?\" + \\\n",
    "    \"&width=2000&height=2000&lat=43.5&lon=142.2&z=10&\" + \\\n",
    "    \"appid=dj00aiZpPXRVRTJKRFRGb3dLeSZzPWNvbnN1bWVyc2VjcmV0Jng9MWU-&mode=blankmap&style=\"\n",
    "for row in municipality_list[municipality_list[\"school\"] == 0].itertuples() :\n",
    "    if math.floor(row.団体コード / 1000) == 1 :\n",
    "        url = url + \"bm.p.\" + '{0:05d}'.format(row.団体コード) + \":FF0000|\"\n",
    "\n",
    "print(url)"
   ]
  },
  {
   "cell_type": "markdown",
   "metadata": {
    "lc_cell_meme": {
     "current": "ca562088-fab6-11e7-82b9-0242ac110002",
     "next": "8fb0b81a-fa9a-11e7-82b9-0242ac110002",
     "previous": "719a312c-fa99-11e7-82b9-0242ac110002"
    }
   },
   "source": [
    "東北。"
   ]
  },
  {
   "cell_type": "code",
   "execution_count": null,
   "metadata": {
    "lc_cell_meme": {
     "current": "8fb0b81a-fa9a-11e7-82b9-0242ac110002",
     "history": [
      {
       "current": "8fb0b81a-fa9a-11e7-82b9-0242ac110002",
       "next": null,
       "previous": "719a312c-fa99-11e7-82b9-0242ac110002"
      },
      {
       "current": "8fb0b81a-fa9a-11e7-82b9-0242ac110002",
       "next": "8f6d957c-faad-11e7-82b9-0242ac110002",
       "previous": "719a312c-fa99-11e7-82b9-0242ac110002"
      }
     ],
     "next": "ca562218-fab6-11e7-82b9-0242ac110002",
     "previous": "ca562088-fab6-11e7-82b9-0242ac110002"
    }
   },
   "outputs": [],
   "source": [
    "url = \"http://map.olp.yahooapis.jp/OpenLocalPlatform/V1/static?\" + \\\n",
    "    \"&width=2000&height=2000&lat=39.5&lon=140.2&z=10&\" + \\\n",
    "    \"appid=dj00aiZpPXRVRTJKRFRGb3dLeSZzPWNvbnN1bWVyc2VjcmV0Jng9MWU-&mode=blankmap&style=\"\n",
    "for row in municipality_list[municipality_list[\"school\"] == 0].itertuples() :\n",
    "    if math.floor(row.団体コード / 1000) >= 2 and math.floor(row.団体コード / 1000) <= 16 :\n",
    "        url = url + \"bm.p.\" + '{0:05d}'.format(row.団体コード) + \":FF0000|\"\n",
    "\n",
    "print(url)"
   ]
  },
  {
   "cell_type": "markdown",
   "metadata": {
    "lc_cell_meme": {
     "current": "ca562218-fab6-11e7-82b9-0242ac110002",
     "next": "8f6d957c-faad-11e7-82b9-0242ac110002",
     "previous": "8fb0b81a-fa9a-11e7-82b9-0242ac110002"
    }
   },
   "source": [
    "関東甲信越、北陸、中部。"
   ]
  },
  {
   "cell_type": "code",
   "execution_count": null,
   "metadata": {
    "lc_cell_meme": {
     "current": "8f6d957c-faad-11e7-82b9-0242ac110002",
     "history": [
      {
       "current": "8f6d957c-faad-11e7-82b9-0242ac110002",
       "next": null,
       "previous": "8fb0b81a-fa9a-11e7-82b9-0242ac110002"
      },
      {
       "current": "8f6d957c-faad-11e7-82b9-0242ac110002",
       "next": "1eb281f2-faae-11e7-82b9-0242ac110002",
       "previous": "8fb0b81a-fa9a-11e7-82b9-0242ac110002"
      }
     ],
     "next": "ca5622b8-fab6-11e7-82b9-0242ac110002",
     "previous": "ca562218-fab6-11e7-82b9-0242ac110002"
    }
   },
   "outputs": [],
   "source": [
    "url = \"http://map.olp.yahooapis.jp/OpenLocalPlatform/V1/static?\" + \\\n",
    "    \"&width=2000&height=2000&lat=35.5&lon=138.2&z=10&\" + \\\n",
    "    \"appid=dj00aiZpPXRVRTJKRFRGb3dLeSZzPWNvbnN1bWVyc2VjcmV0Jng9MWU-&mode=blankmap&style=\"\n",
    "for row in municipality_list[municipality_list[\"school\"] == 0].itertuples() :\n",
    "    if math.floor(row.団体コード / 1000) >= 7 and math.floor(row.団体コード / 1000) <= 30 :\n",
    "        url = url + \"bm.p.\" + '{0:05d}'.format(row.団体コード) + \":FF0000|\"\n",
    "\n",
    "print(url)"
   ]
  },
  {
   "cell_type": "markdown",
   "metadata": {
    "lc_cell_meme": {
     "current": "ca5622b8-fab6-11e7-82b9-0242ac110002",
     "next": "1eb281f2-faae-11e7-82b9-0242ac110002",
     "previous": "8f6d957c-faad-11e7-82b9-0242ac110002"
    }
   },
   "source": [
    "近畿、中国、四国。"
   ]
  },
  {
   "cell_type": "code",
   "execution_count": null,
   "metadata": {
    "lc_cell_meme": {
     "current": "1eb281f2-faae-11e7-82b9-0242ac110002",
     "history": [
      {
       "current": "1eb281f2-faae-11e7-82b9-0242ac110002",
       "next": null,
       "previous": "8f6d957c-faad-11e7-82b9-0242ac110002"
      },
      {
       "current": "1eb281f2-faae-11e7-82b9-0242ac110002",
       "next": "ad866254-faae-11e7-82b9-0242ac110002",
       "previous": "8f6d957c-faad-11e7-82b9-0242ac110002"
      },
      {
       "current": "1eb281f2-faae-11e7-82b9-0242ac110002",
       "next": "5aae17b4-fab0-11e7-82b9-0242ac110002",
       "previous": "8f6d957c-faad-11e7-82b9-0242ac110002"
      },
      {
       "current": "1eb281f2-faae-11e7-82b9-0242ac110002",
       "next": "5aae17b4-fab0-11e7-82b9-0242ac110002",
       "previous": "ca5622b8-fab6-11e7-82b9-0242ac110002"
      }
     ],
     "next": "11dc28bc-fab7-11e7-82b9-0242ac110002",
     "previous": "ca5622b8-fab6-11e7-82b9-0242ac110002"
    }
   },
   "outputs": [],
   "source": [
    "url = \"http://map.olp.yahooapis.jp/OpenLocalPlatform/V1/static?\" + \\\n",
    "    \"&width=2000&height=2000&lat=33.5&lon=132.9&z=10&\" + \\\n",
    "    \"appid=dj00aiZpPXRVRTJKRFRGb3dLeSZzPWNvbnN1bWVyc2VjcmV0Jng9MWU-&mode=blankmap&style=\"\n",
    "for row in municipality_list[municipality_list[\"school\"] == 0].itertuples() :\n",
    "    if math.floor(row.団体コード / 1000) >= 18 and math.floor(row.団体コード / 1000) <= 46 :\n",
    "        url = url + \"bm.p.\" + '{0:05d}'.format(row.団体コード) + \":FF0000|\"\n",
    "\n",
    "print(url)"
   ]
  },
  {
   "cell_type": "markdown",
   "metadata": {
    "lc_cell_meme": {
     "current": "11dc28bc-fab7-11e7-82b9-0242ac110002",
     "next": "5aae17b4-fab0-11e7-82b9-0242ac110002",
     "previous": "1eb281f2-faae-11e7-82b9-0242ac110002"
    }
   },
   "source": [
    "九州。"
   ]
  },
  {
   "cell_type": "code",
   "execution_count": null,
   "metadata": {
    "lc_cell_meme": {
     "current": "5aae17b4-fab0-11e7-82b9-0242ac110002",
     "history": [
      {
       "current": "5aae17b4-fab0-11e7-82b9-0242ac110002",
       "next": "ad866254-faae-11e7-82b9-0242ac110002",
       "previous": "1eb281f2-faae-11e7-82b9-0242ac110002"
      }
     ],
     "next": "11dc2984-fab7-11e7-82b9-0242ac110002",
     "previous": "11dc28bc-fab7-11e7-82b9-0242ac110002"
    }
   },
   "outputs": [],
   "source": [
    "url = \"http://map.olp.yahooapis.jp/OpenLocalPlatform/V1/static?\" + \\\n",
    "    \"&width=2000&height=2000&lat=32.0&lon=130.0&z=10&\" + \\\n",
    "    \"appid=dj00aiZpPXRVRTJKRFRGb3dLeSZzPWNvbnN1bWVyc2VjcmV0Jng9MWU-&mode=blankmap&style=\"\n",
    "for row in municipality_list[municipality_list[\"school\"] == 0].itertuples() :\n",
    "    if math.floor(row.団体コード / 1000) >= 34 and math.floor(row.団体コード / 1000) <= 46 :\n",
    "        url = url + \"bm.p.\" + '{0:05d}'.format(row.団体コード) + \":FF0000|\"\n",
    "\n",
    "print(url)"
   ]
  },
  {
   "cell_type": "markdown",
   "metadata": {
    "lc_cell_meme": {
     "current": "11dc2984-fab7-11e7-82b9-0242ac110002",
     "next": "ad866254-faae-11e7-82b9-0242ac110002",
     "previous": "5aae17b4-fab0-11e7-82b9-0242ac110002"
    }
   },
   "source": [
    "沖縄。"
   ]
  },
  {
   "cell_type": "code",
   "execution_count": null,
   "metadata": {
    "lc_cell_meme": {
     "current": "ad866254-faae-11e7-82b9-0242ac110002",
     "history": [
      {
       "current": "ad866254-faae-11e7-82b9-0242ac110002",
       "next": null,
       "previous": "1eb281f2-faae-11e7-82b9-0242ac110002"
      },
      {
       "current": "ad866254-faae-11e7-82b9-0242ac110002",
       "next": "cba2571a-faaf-11e7-82b9-0242ac110002",
       "previous": "1eb281f2-faae-11e7-82b9-0242ac110002"
      },
      {
       "current": "ad866254-faae-11e7-82b9-0242ac110002",
       "next": "cba2571a-faaf-11e7-82b9-0242ac110002",
       "previous": "5aae17b4-fab0-11e7-82b9-0242ac110002"
      },
      {
       "current": "ad866254-faae-11e7-82b9-0242ac110002",
       "next": "cba2571a-faaf-11e7-82b9-0242ac110002",
       "previous": "11dc2984-fab7-11e7-82b9-0242ac110002"
      }
     ],
     "next": "59638b94-fab7-11e7-82b9-0242ac110002",
     "previous": "11dc2984-fab7-11e7-82b9-0242ac110002"
    }
   },
   "outputs": [],
   "source": [
    "url = \"http://map.olp.yahooapis.jp/OpenLocalPlatform/V1/static?\" + \\\n",
    "    \"&width=2000&height=2000&lat=27.0&lon=126.0&z=9&\" + \\\n",
    "    \"appid=dj00aiZpPXRVRTJKRFRGb3dLeSZzPWNvbnN1bWVyc2VjcmV0Jng9MWU-&mode=blankmap&style=\"\n",
    "for row in municipality_list[municipality_list[\"school\"] == 0].itertuples() :\n",
    "    if math.floor(row.団体コード / 1000) >= 45 :\n",
    "        url = url + \"bm.p.\" + '{0:05d}'.format(row.団体コード) + \":FF0000|\"\n",
    "\n",
    "print(url)"
   ]
  },
  {
   "cell_type": "markdown",
   "metadata": {
    "lc_cell_meme": {
     "current": "59638b94-fab7-11e7-82b9-0242ac110002",
     "history": [
      {
       "current": "59638b94-fab7-11e7-82b9-0242ac110002",
       "next": null,
       "previous": "ad866254-faae-11e7-82b9-0242ac110002"
      }
     ],
     "next": null,
     "previous": "ad866254-faae-11e7-82b9-0242ac110002"
    }
   },
   "source": [
    "## さいごに\n",
    "\n",
    "教室リストの網羅精度をより高めれば、空白地帯を把握することが可能になると思われるが、現在の結果を見るところ、少し精度が低い。\n",
    "\n",
    "この結果を手掛かりに、地方での体験機会創出に繋げたい。\n",
    "\n",
    "## まだ見ぬあなたへ\n",
    "\n",
    "![まだ見ぬあなたへ](https://auctions.c.yimg.jp/images.auctions.yahoo.co.jp/image/dr187/auc0303/users/5/0/2/6/rumors_r-img313x600-1433922746s8qdny14106.jpg)"
   ]
  }
 ],
 "metadata": {
  "kernelspec": {
   "display_name": "Python 3 (LC_wrapper)",
   "language": "python",
   "name": "python3-wrapper"
  },
  "language_info": {
   "file_extension": ".py",
   "mimetype": "text/x-python",
   "name": "python",
   "nbconvert_exporter": "python",
   "pygments_lexer": "ipython3",
   "version": "3.6.3"
  },
  "lc_notebook_meme": {
   "current": "35a81da2-f29f-11e7-b919-0242ac130002",
   "lc_server_signature": {
    "current": {
     "notebook_dir": "/home/jovyan",
     "notebook_path": "/",
     "server_url": "http://localhost:8888/",
     "signature_id": "8a8db270-f9dc-11e7-ab82-0242ac110002"
    },
    "history": [
     {
      "notebook_dir": "/home/jovyan",
      "notebook_path": "/",
      "server_url": "http://localhost:8888/",
      "signature_id": "e7c9a7a4-f29e-11e7-b919-0242ac130002"
     },
     {
      "notebook_dir": "/home/jovyan",
      "notebook_path": "/",
      "server_url": "http://localhost:8888/",
      "signature_id": "3b14f2fc-f415-11e7-95ed-0242ac130002"
     },
     {
      "notebook_dir": "/home/jovyan",
      "notebook_path": "/",
      "server_url": "http://localhost:8888/",
      "signature_id": "46d4b118-f433-11e7-aa5d-0242ac130002"
     }
    ]
   }
  },
  "toc": {
   "nav_menu": {},
   "number_sections": true,
   "sideBar": true,
   "skip_h1_title": false,
   "title_cell": "Table of Contents",
   "title_sidebar": "Contents",
   "toc_cell": false,
   "toc_position": {},
   "toc_section_display": true,
   "toc_window_display": false
  }
 },
 "nbformat": 4,
 "nbformat_minor": 2
}
