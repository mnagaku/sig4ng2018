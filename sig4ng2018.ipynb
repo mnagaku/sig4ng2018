{
 "cells": [
  {
   "cell_type": "markdown",
   "metadata": {
    "lc_cell_meme": {
     "current": "2ff68b48-fab8-11e7-82b9-0242ac110002",
     "next": "7b5a1412-fab1-11e7-82b9-0242ac110002",
     "previous": null
    }
   },
   "source": [
    "# IGDA日本 SIG-for NextGeneration\n",
    "\n",
    "```\n",
    "正世話人：長久勝\n",
    "副世話人：尾形美幸\n",
    "　　　　　後藤誠\n",
    "　　　　　湊和久\n",
    "```\n",
    "\n",
    "## ミッション\n",
    "\n",
    "ゲーム開発者が、<font color=\"Red\">次世代を担う若者・子供たち</font>に対して、ゲームタイトルの提供以外にできることを考え、実践する。プロのゲーム開発者との交流、ゲーム業界を支える人材の育成、ゲーム開発を通じたモノづくりや協働の体験提供などを通じ、ゲーム開発者の知見を、<font color=\"Red\">未来の社会に還元</font>する。\n",
    "\n",
    "## スカラーシップ\n",
    "\n",
    "![スカラーシップ](https://i2.wp.com/www.igda.jp/wp-content/uploads/2017/09/20170830-DSC_0323.jpg)\n",
    "\n",
    "CESAなどの支援を受け、CEDECおよびTGSでスカラーシップを提供。合わせてスタジオツアー（株式会社Aiming、株式会社サイバード、ジープラ株式会社、あまた株式会社、株式会社ディー・エヌ・エー）も実施。\n",
    "\n",
    "## ワークショップ\n",
    "\n",
    "![ワークショップ](https://i1.wp.com/www.igda.jp/wp-content/uploads/2017/12/20171103-DSC_0040.jpg)\n",
    "\n",
    "中山隼雄科学技術文化財団などの支援を受け、日本全国に向けた取り組みを実施。今年度は、東京都文京区、山口県周南市、神奈川県逗子市（2/11予定）の3ヶ所。\n",
    "\n",
    "## まだ見ぬあなたへ\n",
    "\n",
    "![まだ見ぬあなたへ](https://auctions.c.yimg.jp/images.auctions.yahoo.co.jp/image/dr187/auc0303/users/5/0/2/6/rumors_r-img313x600-1433922746s8qdny14106.jpg)\n"
   ]
  },
  {
   "cell_type": "markdown",
   "metadata": {
    "lc_cell_meme": {
     "current": "7b5a1412-fab1-11e7-82b9-0242ac110002",
     "history": [
      {
       "current": "7b5a1412-fab1-11e7-82b9-0242ac110002",
       "next": "98b17368-f415-11e7-95ed-0242ac130002",
       "previous": null
      }
     ],
     "next": "98b17368-f415-11e7-95ed-0242ac130002",
     "previous": "2ff68b48-fab8-11e7-82b9-0242ac110002"
    }
   },
   "source": [
    "# 都市雇用圏を用いたデジタルワークショップ体験機会格差の分析\n",
    "\n",
    "中心都市とその都市に通勤する者が一定割合いる周辺地域を合わせたものを「都市雇用圏」と呼ぶ。この都市圏は、雇用のみならず、経済的な結び付き、通学など含めた生活圏を実態として良く表していると考えられる。\n",
    "\n",
    "都市雇用圏は市区町村の集合として定義されており、圏内の市区町村でデジタルワークショップを体験する機会が提供されていれば、開催地の市区町村のみならず、圏内全域に対して機会提供されていると考えることができる。\n",
    "\n",
    "そこで、子供向けプログラミング教室の全国的なリストをいくつか用いて、都市雇用圏ベースでの体験機会空白地特定を試みる。"
   ]
  },
  {
   "cell_type": "markdown",
   "metadata": {
    "heading_collapsed": true,
    "lc_cell_meme": {
     "current": "98b17368-f415-11e7-95ed-0242ac130002",
     "history": [
      {
       "current": "98b17368-f415-11e7-95ed-0242ac130002",
       "next": "35a81ee2-f29f-11e7-b919-0242ac130002",
       "previous": null
      }
     ],
     "next": "35a81ee2-f29f-11e7-b919-0242ac130002",
     "previous": "7b5a1412-fab1-11e7-82b9-0242ac110002"
    }
   },
   "source": [
    "## 都市雇用圏および市区町村のリストを取得\n",
    "\n",
    "\n",
    "\n",
    "大都市雇用圏2010年基準\n",
    "\n",
    "郊外市町村"
   ]
  },
  {
   "cell_type": "code",
   "execution_count": null,
   "metadata": {
    "hidden": true,
    "lc_cell_meme": {
     "current": "35a81ee2-f29f-11e7-b919-0242ac130002",
     "history": [
      {
       "current": "35a81ee2-f29f-11e7-b919-0242ac130002",
       "next": null,
       "previous": null
      },
      {
       "current": "35a81ee2-f29f-11e7-b919-0242ac130002",
       "next": "7ccc6af8-f29f-11e7-b919-0242ac130002",
       "previous": null
      },
      {
       "current": "35a81ee2-f29f-11e7-b919-0242ac130002",
       "next": "7ccc6af8-f29f-11e7-b919-0242ac130002",
       "previous": "98b17368-f415-11e7-95ed-0242ac130002"
      }
     ],
     "next": "27b53f36-f416-11e7-95ed-0242ac130002",
     "previous": "98b17368-f415-11e7-95ed-0242ac130002"
    },
    "pinned_outputs": [
     {
      "execution_count": 1,
      "outputs": [
       {
        "name": "stdout",
        "output_type": "stream",
        "text": "1 logs recorded\n\npath: /home/jovyan/sig4ng2018/.log/20180221/20180221-082450-0615.log\nstart time: 2018-02-21 08:24:50(UTC)\nend time: 2018-02-21 08:24:51(UTC)\noutput size: 946 bytes\n1 chunks with matched keywords or errors\n----\n--2018-02-21 08:24:50--  http://www.csis.u-tokyo.ac.jp/UEA/MEA2010.csv\nResolving www.csis.u-tokyo.ac.jp (www.csis.u-tokyo.ac.jp)... 157.82.234.36\nConnecting to www.csis.u-tokyo.ac.jp (www.csis.u-tokyo.ac.jp)|157.82.234.36|:80... \nconnected.\nHTTP request sent, awaiting response... \n200 OK\nLength: 60078 (59K) [text/csv]\nSaving to: ‘MEA2010.csv’\n\n\nMEA2010.csv           0%[                    ]       0  --.-KB/s               \n\nMEA2010.csv         100%[===================>]  58.67K  --.-KB/s    in 0.1s    \n\n2018-02-21 08:24:51 (416 KB/s) - ‘MEA2010.csv’ saved [60078/60078]\n"
       }
      ]
     }
    ]
   },
   "outputs": [],
   "source": [
    "!wget http://www.csis.u-tokyo.ac.jp/UEA/MEA2010.csv"
   ]
  },
  {
   "cell_type": "markdown",
   "metadata": {
    "hidden": true,
    "lc_cell_meme": {
     "current": "27b53f36-f416-11e7-95ed-0242ac130002",
     "next": "7ccc6af8-f29f-11e7-b919-0242ac130002",
     "previous": "35a81ee2-f29f-11e7-b919-0242ac130002"
    }
   },
   "source": [
    "中心市町村"
   ]
  },
  {
   "cell_type": "code",
   "execution_count": null,
   "metadata": {
    "hidden": true,
    "lc_cell_meme": {
     "current": "7ccc6af8-f29f-11e7-b919-0242ac130002",
     "history": [
      {
       "current": "7ccc6af8-f29f-11e7-b919-0242ac130002",
       "next": "7ccc6d0a-f29f-11e7-b919-0242ac130002",
       "previous": "35a81ee2-f29f-11e7-b919-0242ac130002"
      }
     ],
     "next": "27b5403a-f416-11e7-95ed-0242ac130002",
     "previous": "27b53f36-f416-11e7-95ed-0242ac130002"
    },
    "pinned_outputs": [
     {
      "execution_count": 2,
      "outputs": [
       {
        "name": "stdout",
        "output_type": "stream",
        "text": "1 logs recorded\n\npath: /home/jovyan/sig4ng2018/.log/20180221/20180221-082451-0291.log\nstart time: 2018-02-21 08:24:51(UTC)\nend time: 2018-02-21 08:24:51(UTC)\noutput size: 951 bytes\n1 chunks with matched keywords or errors\n----\n--2018-02-21 08:24:51--  http://www.csis.u-tokyo.ac.jp/UEA/MEA2010C.csv\nResolving www.csis.u-tokyo.ac.jp (www.csis.u-tokyo.ac.jp)... 157.82.234.36\nConnecting to www.csis.u-tokyo.ac.jp (www.csis.u-tokyo.ac.jp)|157.82.234.36|:80... \nconnected.\nHTTP request sent, awaiting response... \n200 OK\nLength: 11425 (11K) [text/csv]\nSaving to: ‘MEA2010C.csv’\n\n\nMEA2010C.csv          0%[                    ]       0  --.-KB/s               \nMEA2010C.csv        100%[===================>]  11.16K  --.-KB/s    in 0.006s  \n\n2018-02-21 08:24:51 (1.74 MB/s) - ‘MEA2010C.csv’ saved [11425/11425]\n"
       }
      ]
     }
    ]
   },
   "outputs": [],
   "source": [
    "!wget http://www.csis.u-tokyo.ac.jp/UEA/MEA2010C.csv"
   ]
  },
  {
   "cell_type": "markdown",
   "metadata": {
    "hidden": true,
    "lc_cell_meme": {
     "current": "27b5403a-f416-11e7-95ed-0242ac130002",
     "next": "7ccc6d0a-f29f-11e7-b919-0242ac130002",
     "previous": "7ccc6af8-f29f-11e7-b919-0242ac130002"
    }
   },
   "source": [
    "小都市雇用圏2010年基準\n",
    "\n",
    "郊外市町村"
   ]
  },
  {
   "cell_type": "code",
   "execution_count": null,
   "metadata": {
    "hidden": true,
    "lc_cell_meme": {
     "current": "7ccc6d0a-f29f-11e7-b919-0242ac130002",
     "history": [
      {
       "current": "7ccc6d0a-f29f-11e7-b919-0242ac130002",
       "next": null,
       "previous": "7ccc6af8-f29f-11e7-b919-0242ac130002"
      },
      {
       "current": "7ccc6d0a-f29f-11e7-b919-0242ac130002",
       "next": "c4b46604-f29f-11e7-b919-0242ac130002",
       "previous": "7ccc6af8-f29f-11e7-b919-0242ac130002"
      },
      {
       "current": "7ccc6d0a-f29f-11e7-b919-0242ac130002",
       "next": "c4b46604-f29f-11e7-b919-0242ac130002",
       "previous": "27b5403a-f416-11e7-95ed-0242ac130002"
      }
     ],
     "next": "6f5f2946-f416-11e7-95ed-0242ac130002",
     "previous": "27b5403a-f416-11e7-95ed-0242ac130002"
    },
    "pinned_outputs": [
     {
      "execution_count": 3,
      "outputs": [
       {
        "name": "stdout",
        "output_type": "stream",
        "text": "1 logs recorded\n\npath: /home/jovyan/sig4ng2018/.log/20180221/20180221-082451-0722.log\nstart time: 2018-02-21 08:24:51(UTC)\nend time: 2018-02-21 08:24:52(UTC)\noutput size: 951 bytes\n1 chunks with matched keywords or errors\n----\n--2018-02-21 08:24:51--  http://www.csis.u-tokyo.ac.jp/UEA/MCEA2010.csv\nResolving www.csis.u-tokyo.ac.jp (www.csis.u-tokyo.ac.jp)... 157.82.234.36\nConnecting to www.csis.u-tokyo.ac.jp (www.csis.u-tokyo.ac.jp)|157.82.234.36|:80... connected.\nHTTP request sent, awaiting response... 200 OK\nLength: 31964 (31K) [text/csv]\nSaving to: ‘MCEA2010.csv’\n\n\nMCEA2010.csv          0%[                    ]       0  --.-KB/s               \nMCEA2010.csv        100%[===================>]  31.21K  --.-KB/s    in 0.03s   \n\n2018-02-21 08:24:51 (1.15 MB/s) - ‘MCEA2010.csv’ saved [31964/31964]\n"
       }
      ]
     }
    ]
   },
   "outputs": [],
   "source": [
    "!wget http://www.csis.u-tokyo.ac.jp/UEA/MCEA2010.csv"
   ]
  },
  {
   "cell_type": "markdown",
   "metadata": {
    "hidden": true,
    "lc_cell_meme": {
     "current": "6f5f2946-f416-11e7-95ed-0242ac130002",
     "next": "c4b46604-f29f-11e7-b919-0242ac130002",
     "previous": "7ccc6d0a-f29f-11e7-b919-0242ac130002"
    }
   },
   "source": [
    "中心市町村"
   ]
  },
  {
   "cell_type": "code",
   "execution_count": null,
   "metadata": {
    "hidden": true,
    "lc_cell_meme": {
     "current": "c4b46604-f29f-11e7-b919-0242ac130002",
     "history": [
      {
       "current": "c4b46604-f29f-11e7-b919-0242ac130002",
       "next": "c4b46712-f29f-11e7-b919-0242ac130002",
       "previous": "7ccc6d0a-f29f-11e7-b919-0242ac130002"
      }
     ],
     "next": "6f5f2a4a-f416-11e7-95ed-0242ac130002",
     "previous": "6f5f2946-f416-11e7-95ed-0242ac130002"
    },
    "pinned_outputs": [
     {
      "execution_count": 4,
      "outputs": [
       {
        "name": "stdout",
        "output_type": "stream",
        "text": "1 logs recorded\n\npath: /home/jovyan/sig4ng2018/.log/20180221/20180221-082452-0124.log\nstart time: 2018-02-21 08:24:52(UTC)\nend time: 2018-02-21 08:24:52(UTC)\noutput size: 955 bytes\n1 chunks with matched keywords or errors\n----\n--2018-02-21 08:24:52--  http://www.csis.u-tokyo.ac.jp/UEA/MCEA2010C.csv\nResolving www.csis.u-tokyo.ac.jp (www.csis.u-tokyo.ac.jp)... 157.82.234.36\nConnecting to www.csis.u-tokyo.ac.jp (www.csis.u-tokyo.ac.jp)|157.82.234.36|:80... connected.\nHTTP request sent, awaiting response... 200 OK\nLength: 10918 (11K) [text/csv]\nSaving to: ‘MCEA2010C.csv’\n\n\nMCEA2010C.csv         0%[                    ]       0  --.-KB/s               \nMCEA2010C.csv       100%[===================>]  10.66K  --.-KB/s    in 0s      \n\n2018-02-21 08:24:52 (41.3 MB/s) - ‘MCEA2010C.csv’ saved [10918/10918]\n"
       }
      ]
     }
    ]
   },
   "outputs": [],
   "source": [
    "!wget http://www.csis.u-tokyo.ac.jp/UEA/MCEA2010C.csv"
   ]
  },
  {
   "cell_type": "markdown",
   "metadata": {
    "hidden": true,
    "lc_cell_meme": {
     "current": "6f5f2a4a-f416-11e7-95ed-0242ac130002",
     "next": "c4b46712-f29f-11e7-b919-0242ac130002",
     "previous": "c4b46604-f29f-11e7-b919-0242ac130002"
    }
   },
   "source": [
    "都市圏人口（大都市雇用圏）"
   ]
  },
  {
   "cell_type": "code",
   "execution_count": null,
   "metadata": {
    "hidden": true,
    "lc_cell_meme": {
     "current": "c4b46712-f29f-11e7-b919-0242ac130002",
     "history": [
      {
       "current": "c4b46712-f29f-11e7-b919-0242ac130002",
       "next": "c4b467a8-f29f-11e7-b919-0242ac130002",
       "previous": "c4b46604-f29f-11e7-b919-0242ac130002"
      },
      {
       "current": "c4b46712-f29f-11e7-b919-0242ac130002",
       "next": "c4b467a8-f29f-11e7-b919-0242ac130002",
       "previous": "6f5f2a4a-f416-11e7-95ed-0242ac130002"
      }
     ],
     "next": "b6c2b6a4-f416-11e7-95ed-0242ac130002",
     "previous": "6f5f2a4a-f416-11e7-95ed-0242ac130002"
    },
    "pinned_outputs": [
     {
      "execution_count": 5,
      "outputs": [
       {
        "name": "stdout",
        "output_type": "stream",
        "text": "1 logs recorded\n\npath: /home/jovyan/sig4ng2018/.log/20180221/20180221-082452-0466.log\nstart time: 2018-02-21 08:24:52(UTC)\nend time: 2018-02-21 08:24:52(UTC)\noutput size: 951 bytes\n1 chunks with matched keywords or errors\n----\n--2018-02-21 08:24:52--  http://www.csis.u-tokyo.ac.jp/UEA/MEA2010P.csv\nResolving www.csis.u-tokyo.ac.jp (www.csis.u-tokyo.ac.jp)... 157.82.234.36\nConnecting to www.csis.u-tokyo.ac.jp (www.csis.u-tokyo.ac.jp)|157.82.234.36|:80... connected.\nHTTP request sent, awaiting response... 200 OK\nLength: 10249 (10K) [text/csv]\nSaving to: ‘MEA2010P.csv’\n\n\nMEA2010P.csv          0%[                    ]       0  --.-KB/s               \nMEA2010P.csv        100%[===================>]  10.01K  --.-KB/s    in 0.003s  \n\n2018-02-21 08:24:52 (3.39 MB/s) - ‘MEA2010P.csv’ saved [10249/10249]\n"
       }
      ]
     }
    ]
   },
   "outputs": [],
   "source": [
    "!wget http://www.csis.u-tokyo.ac.jp/UEA/MEA2010P.csv"
   ]
  },
  {
   "cell_type": "markdown",
   "metadata": {
    "hidden": true,
    "lc_cell_meme": {
     "current": "b6c2b6a4-f416-11e7-95ed-0242ac130002",
     "next": "c4b467a8-f29f-11e7-b919-0242ac130002",
     "previous": "c4b46712-f29f-11e7-b919-0242ac130002"
    }
   },
   "source": [
    "都市圏人口（小都市雇用圏）"
   ]
  },
  {
   "cell_type": "code",
   "execution_count": null,
   "metadata": {
    "hidden": true,
    "lc_cell_meme": {
     "current": "c4b467a8-f29f-11e7-b919-0242ac130002",
     "history": [
      {
       "current": "c4b467a8-f29f-11e7-b919-0242ac130002",
       "next": "c4b4682a-f29f-11e7-b919-0242ac130002",
       "previous": "c4b46712-f29f-11e7-b919-0242ac130002"
      }
     ],
     "next": "b6c2b7a8-f416-11e7-95ed-0242ac130002",
     "previous": "b6c2b6a4-f416-11e7-95ed-0242ac130002"
    },
    "pinned_outputs": [
     {
      "execution_count": 6,
      "outputs": [
       {
        "name": "stdout",
        "output_type": "stream",
        "text": "1 logs recorded\n\npath: /home/jovyan/sig4ng2018/.log/20180221/20180221-082452-0835.log\nstart time: 2018-02-21 08:24:52(UTC)\nend time: 2018-02-21 08:24:53(UTC)\noutput size: 954 bytes\n1 chunks with matched keywords or errors\n----\n--2018-02-21 08:24:53--  http://www.csis.u-tokyo.ac.jp/UEA/MCEA2010P.csv\nResolving www.csis.u-tokyo.ac.jp (www.csis.u-tokyo.ac.jp)... 157.82.234.36\nConnecting to www.csis.u-tokyo.ac.jp (www.csis.u-tokyo.ac.jp)|157.82.234.36|:80... connected.\nHTTP request sent, awaiting response... 200 OK\nLength: 10742 (10K) [text/csv]\nSaving to: ‘MCEA2010P.csv’\n\n\nMCEA2010P.csv         0%[                    ]       0  --.-KB/s               \nMCEA2010P.csv       100%[===================>]  10.49K  --.-KB/s    in 0.01s   \n\n2018-02-21 08:24:53 (983 KB/s) - ‘MCEA2010P.csv’ saved [10742/10742]\n"
       }
      ]
     }
    ]
   },
   "outputs": [],
   "source": [
    "!wget http://www.csis.u-tokyo.ac.jp/UEA/MCEA2010P.csv"
   ]
  },
  {
   "cell_type": "markdown",
   "metadata": {
    "hidden": true,
    "lc_cell_meme": {
     "current": "b6c2b7a8-f416-11e7-95ed-0242ac130002",
     "next": "c4b4682a-f29f-11e7-b919-0242ac130002",
     "previous": "c4b467a8-f29f-11e7-b919-0242ac130002"
    }
   },
   "source": [
    "大都市雇用圏統計データ"
   ]
  },
  {
   "cell_type": "code",
   "execution_count": null,
   "metadata": {
    "hidden": true,
    "lc_cell_meme": {
     "current": "c4b4682a-f29f-11e7-b919-0242ac130002",
     "history": [
      {
       "current": "c4b4682a-f29f-11e7-b919-0242ac130002",
       "next": null,
       "previous": "c4b467a8-f29f-11e7-b919-0242ac130002"
      },
      {
       "current": "c4b4682a-f29f-11e7-b919-0242ac130002",
       "next": "0c3d8d70-f2a0-11e7-b919-0242ac130002",
       "previous": "c4b467a8-f29f-11e7-b919-0242ac130002"
      },
      {
       "current": "c4b4682a-f29f-11e7-b919-0242ac130002",
       "next": "98b1758e-f415-11e7-95ed-0242ac130002",
       "previous": "c4b467a8-f29f-11e7-b919-0242ac130002"
      }
     ],
     "next": "b6c2b834-f416-11e7-95ed-0242ac130002",
     "previous": "b6c2b7a8-f416-11e7-95ed-0242ac130002"
    },
    "pinned_outputs": [
     {
      "execution_count": 7,
      "outputs": [
       {
        "name": "stdout",
        "output_type": "stream",
        "text": "1 logs recorded\n\npath: /home/jovyan/sig4ng2018/.log/20180221/20180221-082453-0197.log\nstart time: 2018-02-21 08:24:53(UTC)\nend time: 2018-02-21 08:24:53(UTC)\noutput size: 963 bytes\n1 chunks with matched keywords or errors\n----\n--2018-02-21 08:24:53--  http://www.csis.u-tokyo.ac.jp/UEA/MEASTAT2010.csv\nResolving www.csis.u-tokyo.ac.jp (www.csis.u-tokyo.ac.jp)... 157.82.234.36\nConnecting to www.csis.u-tokyo.ac.jp (www.csis.u-tokyo.ac.jp)|157.82.234.36|:80... connected.\nHTTP request sent, awaiting response... 200 OK\nLength: 69260 (68K) [text/csv]\nSaving to: ‘MEASTAT2010.csv’\n\n\nMEASTAT2010.csv       0%[                    ]       0  --.-KB/s               \nMEASTAT2010.csv     100%[===================>]  67.64K  --.-KB/s    in 0.01s   \n\n2018-02-21 08:24:53 (4.73 MB/s) - ‘MEASTAT2010.csv’ saved [69260/69260]\n"
       }
      ]
     }
    ]
   },
   "outputs": [],
   "source": [
    "!wget http://www.csis.u-tokyo.ac.jp/UEA/MEASTAT2010.csv"
   ]
  },
  {
   "cell_type": "markdown",
   "metadata": {
    "hidden": true,
    "lc_cell_meme": {
     "current": "b6c2b834-f416-11e7-95ed-0242ac130002",
     "next": "98b1758e-f415-11e7-95ed-0242ac130002",
     "previous": "c4b4682a-f29f-11e7-b919-0242ac130002"
    }
   },
   "source": [
    "市区町村コード"
   ]
  },
  {
   "cell_type": "code",
   "execution_count": null,
   "metadata": {
    "hidden": true,
    "lc_cell_meme": {
     "current": "98b1758e-f415-11e7-95ed-0242ac130002",
     "history": [
      {
       "current": "98b1758e-f415-11e7-95ed-0242ac130002",
       "next": "0c3d8d70-f2a0-11e7-b919-0242ac130002",
       "previous": "c4b4682a-f29f-11e7-b919-0242ac130002"
      },
      {
       "current": "98b1758e-f415-11e7-95ed-0242ac130002",
       "next": "0c3d8d70-f2a0-11e7-b919-0242ac130002",
       "previous": "b6c2b834-f416-11e7-95ed-0242ac130002"
      },
      {
       "current": "98b1758e-f415-11e7-95ed-0242ac130002",
       "next": "fe49fc44-f416-11e7-95ed-0242ac130002",
       "previous": "b6c2b834-f416-11e7-95ed-0242ac130002"
      }
     ],
     "next": "d0636ccc-16ab-11e8-a91b-0242ac120002",
     "previous": "b6c2b834-f416-11e7-95ed-0242ac130002"
    },
    "pinned_outputs": [
     {
      "execution_count": 8,
      "outputs": [
       {
        "name": "stdout",
        "output_type": "stream",
        "text": "1 logs recorded\n\npath: /home/jovyan/sig4ng2018/.log/20180221/20180221-082453-0557.log\nstart time: 2018-02-21 08:24:53(UTC)\nend time: 2018-02-21 08:24:54(UTC)\noutput size: 977 bytes\n1 chunks with matched keywords or errors\n----\n--2018-02-21 08:24:53--  http://www.soumu.go.jp/main_content/000442937.xls\nResolving www.soumu.go.jp (www.soumu.go.jp)... 203.180.216.224, 2001:240:bb81::21:e0\nConnecting to www.soumu.go.jp (www.soumu.go.jp)|203.180.216.224|:80... \nconnected.\nHTTP request sent, awaiting response... \n200 OK\nLength: 280064 (274K) [application/vnd.ms-excel]\nSaving to: ‘000442937.xls’\n\n\n000442937.xls         0%[                    ]       0  --.-KB/s               \n000442937.xls       100%[===================>] 273.50K  --.-KB/s    in 0.04s   \n\n2018-02-21 08:24:53 (6.68 MB/s) - ‘000442937.xls’ saved [280064/280064]\n"
       }
      ]
     }
    ]
   },
   "outputs": [],
   "source": [
    "!wget http://www.soumu.go.jp/main_content/000442937.xls"
   ]
  },
  {
   "cell_type": "markdown",
   "metadata": {
    "hidden": true,
    "lc_cell_meme": {
     "current": "d0636ccc-16ab-11e8-a91b-0242ac120002",
     "next": "d0636eac-16ab-11e8-a91b-0242ac120002",
     "previous": "98b1758e-f415-11e7-95ed-0242ac130002"
    }
   },
   "source": [
    "【総計】平成29年住民基本台帳年齢階級別人口(市区町村別)"
   ]
  },
  {
   "cell_type": "code",
   "execution_count": null,
   "metadata": {
    "hidden": true,
    "lc_cell_meme": {
     "current": "d0636eac-16ab-11e8-a91b-0242ac120002",
     "next": "fe49fc44-f416-11e7-95ed-0242ac130002",
     "previous": "d0636ccc-16ab-11e8-a91b-0242ac120002"
    },
    "pinned_outputs": [
     {
      "execution_count": 9,
      "outputs": [
       {
        "name": "stdout",
        "output_type": "stream",
        "text": "1 logs recorded\n\npath: /home/jovyan/sig4ng2018/.log/20180221/20180221-082454-0192.log\nstart time: 2018-02-21 08:24:54(UTC)\nend time: 2018-02-21 08:24:54(UTC)\noutput size: 1061 bytes\n1 chunks with matched keywords or errors\n----\n--2018-02-21 08:24:54--  http://www.soumu.go.jp/main_content/000494086.xls\nResolving www.soumu.go.jp (www.soumu.go.jp)... 203.180.216.224, ffff:ffff:bb81::21:e0\nConnecting to www.soumu.go.jp (www.soumu.go.jp)|203.180.216.224|:80... connected.\nHTTP request sent, awaiting response... \n200 OK\nLength: 1613824 (1.5M) [application/vnd.ms-excel]\nSaving to: ‘000494086.xls’\n\n\n000494086.xls         0%[                    ]       0  --.-KB/s               \n\n000494086.xls        47%[========>           ] 749.51K  3.61MB/s               \n\n000494086.xls       100%[===================>]   1.54M  5.08MB/s    in 0.3s    \n\n2018-02-21 08:24:54 (5.08 MB/s) - ‘000494086.xls’ saved [1613824/1613824]\n"
       }
      ]
     }
    ]
   },
   "outputs": [],
   "source": [
    "!wget http://www.soumu.go.jp/main_content/000494086.xls"
   ]
  },
  {
   "cell_type": "markdown",
   "metadata": {
    "heading_collapsed": true,
    "lc_cell_meme": {
     "current": "fe49fc44-f416-11e7-95ed-0242ac130002",
     "history": [
      {
       "current": "fe49fc44-f416-11e7-95ed-0242ac130002",
       "next": "9ae6f73c-f2a0-11e7-b919-0242ac130002",
       "previous": "98b1758e-f415-11e7-95ed-0242ac130002"
      }
     ],
     "next": "9ae6f73c-f2a0-11e7-b919-0242ac130002",
     "previous": "d0636eac-16ab-11e8-a91b-0242ac120002"
    }
   },
   "source": [
    "## データ分析準備\n",
    "\n",
    "pandas他の必要なモジュールをインストールする。"
   ]
  },
  {
   "cell_type": "code",
   "execution_count": null,
   "metadata": {
    "hidden": true,
    "lc_cell_meme": {
     "current": "9ae6f73c-f2a0-11e7-b919-0242ac130002",
     "history": [
      {
       "current": "9ae6f73c-f2a0-11e7-b919-0242ac130002",
       "next": "9ae6fa34-f2a0-11e7-b919-0242ac130002",
       "previous": "0c3d8d70-f2a0-11e7-b919-0242ac130002"
      },
      {
       "current": "9ae6f73c-f2a0-11e7-b919-0242ac130002",
       "next": "fe49ff0a-f416-11e7-95ed-0242ac130002",
       "previous": "fe49fc44-f416-11e7-95ed-0242ac130002"
      }
     ],
     "next": "ff1456b2-fab3-11e7-82b9-0242ac110002",
     "previous": "fe49fc44-f416-11e7-95ed-0242ac130002"
    },
    "pinned_outputs": [
     {
      "execution_count": 10,
      "outputs": [
       {
        "name": "stdout",
        "output_type": "stream",
        "text": "1 logs recorded\n\npath: /home/jovyan/sig4ng2018/.log/20180221/20180221-082454-0903.log\nstart time: 2018-02-21 08:24:54(UTC)\nend time: 2018-02-21 08:25:13(UTC)\noutput size: 406927 bytes\n7 chunks with matched keywords or errors\n----\nCollecting pandas\n  Downloading pandas-0.22.0-cp36-cp36m-manylinux1_x86_64.whl (26.2MB)\n\u001b[?25l\n\u001b[K    0% |                                | 10kB 28.2MB/s eta 0:00:01\n\u001b[K    0% |                                | 20kB 9.8MB/s eta 0:00:03\n\u001b[K    0% |                                | 30kB 10.9MB/s eta 0:00:03\n\u001b[K    0% |                                | 40kB 8.6MB/s eta 0:00:04\n\u001b[K    0% |                                | 51kB 7.3MB/s eta 0:00:04\n\u001b[K    0% |                                | 61kB 8.6MB/s eta 0:00:04\n\u001b[K    0% |                                | 71kB 7.3MB/s eta 0:00:04\n\u001b[K    0% |                                | 81kB 6.9MB/s eta 0:00:04\n\u001b[K    0% |▏                               | 92kB 7.7MB/s eta 0:00:04\n\n\u001b[K    0% |▏                               | 102kB 6.6MB/s eta 0:00:04\n\u001b[K    0% |▏                               | 112kB 6.7MB/s eta 0:00:04\n\u001b[K    0% |▏                               | 122kB 4.0MB/s eta 0:00:07\n\u001b[K    0% |▏                               | 133kB 3.9MB/s eta 0:00:07\n\u001b[K    0% |▏                               | 143kB 4.2MB/s eta 0:00:07\n\u001b[K    0% |▏                               | 153kB 4.6MB/s eta 0:00:06\n\u001b[K    0% |▏                               | 163kB 4.1MB/s eta 0:00:07\n...\n  Down\u001b[0;31mload\u001b[0ming pandas-0.22.0-cp36-cp36m-manylinux1_x86_64.whl (26.2MB)\n  Down\u001b[0;31mload\u001b[0ming xlrd-1.1.0-py2.py3-none-any.whl (108kB)\n  Down\u001b[0;31mload\u001b[0ming jaconv-0.2.3.tar.gz\n  Down\u001b[0;31mload\u001b[0ming beautifulsoup4-4.6.0-py3-none-any.whl (86kB)\n  Down\u001b[0;31mload\u001b[0ming numpy-1.14.1-cp36-cp36m-manylinux1_x86_64.whl (12.2MB)\n  Down\u001b[0;31mload\u001b[0ming pytz-2018.3-py2.py3-none-any.whl (509kB)\n\b \b\u001b[0;31mdone\u001b[0m\n...\n\u001b[K    80% |█████████████████████████▊      | 409kB 70.6MB/s eta 0:00:01\n\u001b[K    82% |██████████████████████████▍     | 419kB 73.3MB/s eta 0:00:01\n\u001b[K    84% |███████████████████████████     | 430kB 63.3MB/s eta 0:00:01\n\u001b[K    86% |███████████████████████████▋    | 440kB 57.6MB/s eta 0:00:01\n\u001b[K    88% |████████████████████████████▎   | 450kB 57.0MB/s eta 0:00:01\n\u001b[K    90% |█████████████████████████████   | 460kB 56.1MB/s eta 0:00:01\n\u001b[K    92% |█████████████████████████████▋  | 471kB 56.4MB/s eta 0:00:01\n\u001b[K    94% |██████████████████████████████▏ | 481kB 56.5MB/s eta 0:00:01\n\u001b[K    96% |██████████████████████████████▉ | 491kB 66.1MB/s eta 0:00:01\n\u001b[K    98% |███████████████████████████████▌| 501kB 67.2MB/s eta 0:00:01\n\n\u001b[K    100% |████████████████████████████████| 512kB 1.6MB/s \n\u001b[?25hRequirement already satisfied: six>=1.5 in /opt/conda/lib/python3.6/site-packages (from python-dateutil>=2->pandas)\nBuilding wheels for collected packages: jaconv\n  Running setup.py bdist_wheel for jaconv ... \u001b[?25l-\n\b \bdone\n\u001b[?25h  Stored in directory: /home/jovyan/.cache/pip/wheels/92/c8/de/414e5ec6770311ae9331f1a475c0445e7f89c306973c9e9960\nSuccessfully built jaconv\nInstalling collected packages: numpy, pytz, pandas, xlrd, jaconv, beautifulsoup4\nSuccessfully installed beautifulsoup4-4.6.0 jaconv-0.2.3 numpy-1.14.1 pandas-0.22.0 pytz-2018.3 xlrd-1.1.0"
       }
      ]
     }
    ]
   },
   "outputs": [],
   "source": [
    "!pip install pandas xlrd jaconv beautifulsoup4 lxml chardet"
   ]
  },
  {
   "cell_type": "markdown",
   "metadata": {
    "hidden": true,
    "lc_cell_meme": {
     "current": "ff1456b2-fab3-11e7-82b9-0242ac110002",
     "next": "fe49ff0a-f416-11e7-95ed-0242ac130002",
     "previous": "9ae6f73c-f2a0-11e7-b919-0242ac130002"
    }
   },
   "source": [
    "市区町村リストを読み込む。"
   ]
  },
  {
   "cell_type": "code",
   "execution_count": null,
   "metadata": {
    "hidden": true,
    "lc_cell_meme": {
     "current": "fe49ff0a-f416-11e7-95ed-0242ac130002",
     "history": [
      {
       "current": "fe49ff0a-f416-11e7-95ed-0242ac130002",
       "next": "9ae6fa34-f2a0-11e7-b919-0242ac130002",
       "previous": "9ae6f73c-f2a0-11e7-b919-0242ac130002"
      },
      {
       "current": "fe49ff0a-f416-11e7-95ed-0242ac130002",
       "next": "ff145856-fab3-11e7-82b9-0242ac110002",
       "previous": "ff1456b2-fab3-11e7-82b9-0242ac110002"
      }
     ],
     "next": "17ebe038-16ac-11e8-a91b-0242ac120002",
     "previous": "ff1456b2-fab3-11e7-82b9-0242ac110002"
    },
    "pinned_outputs": [
     {
      "execution_count": 11,
      "outputs": [
       {
        "name": "stdout",
        "output_type": "stream",
        "text": "1 logs recorded\n\npath: /home/jovyan/sig4ng2018/.log/20180221/20180221-082513-0385.log\nstart time: 2018-02-21 08:25:13(UTC)\nend time: 2018-02-21 08:25:13(UTC)\noutput size: 4638 bytes\n0 chunks with matched keywords or errors\n----\n      団体コード 市区町村名         カナ 都道府県名\n0      1100   札幌市      サッポロシ   北海道\n1      1202   函館市      ハコダテシ   北海道\n2      1203   小樽市       オタルシ   北海道\n3      1204   旭川市     アサヒカワシ   北海道\n4      1205   室蘭市      ムロランシ   北海道\n5      1206   釧路市       クシロシ   北海道\n6      1207   帯広市      オビヒロシ   北海道\n7      1208   北見市       キタミシ   北海道\n8      1209   夕張市      ユウバリシ   北海道\n9      1210  岩見沢市     イワミザワシ   北海道\n10     1211   網走市      アバシリシ   北海道\n11     1212   留萌市       ルモイシ   北海道\n12     1213  苫小牧市     トマコマイシ   北海道\n13     1214   稚内市     ワッカナイシ   北海道\n14     1215   美唄市       ビバイシ   北海道\n15     1216   芦別市      アシベツシ   北海道\n16     1217   江別市       エベツシ   北海道\n17     1218   赤平市      アカビラシ   北海道\n18     1219   紋別市      モンベツシ   北海道\n...\n1723  47327  北中城村  キタナカグスクソン   沖縄県\n1724  47328   中城村    ナカグスクソン   沖縄県\n1725  47329   西原町    ニシハラチョウ   沖縄県\n1726  47348  与那原町    ヨナバルチョウ   沖縄県\n1727  47350  南風原町    ハエバルチョウ   沖縄県\n1728  47353  渡嘉敷村     トカシキソン   沖縄県\n1729  47354  座間味村      ザマミソン   沖縄県\n1730  47355   粟国村      アグニソン   沖縄県\n1731  47356  渡名喜村      トナキソン   沖縄県\n1732  47357  南大東村  ミナミダイトウソン   沖縄県\n1733  47358  北大東村   キタダイトウソン   沖縄県\n1734  47359  伊平屋村      イヘヤソン   沖縄県\n1735  47360  伊是名村      イゼナソン   沖縄県\n1736  47361  久米島町    クメジマチョウ   沖縄県\n1737  47362  八重瀬町     ヤエセチョウ   沖縄県\n1738  47375  多良間村      タラマソン   沖縄県\n1739  47381   竹富町    タケトミチョウ   沖縄県\n1740  47382  与那国町    ヨナグニチョウ   沖縄県\n\n[1741 rows x 4 columns]"
       }
      ]
     }
    ]
   },
   "outputs": [],
   "source": [
    "import pandas as pd\n",
    "import jaconv\n",
    "import math\n",
    "\n",
    "file = pd.ExcelFile(\"000442937.xls\")\n",
    "df = file.parse(file.sheet_names[0])\n",
    "\n",
    "df = df.rename(columns={\n",
    "    \"都道府県名\\n（漢字）\": \"都道府県名\",\n",
    "    \"市区町村名\\n（漢字）\": \"市区町村名\",\n",
    "    \"市区町村名\\n（カナ）\": \"カナ\"\n",
    "})\n",
    "df = df.drop(columns=[\"都道府県名\\n（カナ）\"])\n",
    "df = df.loc[:,[\"団体コード\",\"市区町村名\",\"カナ\",\"都道府県名\"]]\n",
    "df = df[df[\"市区町村名\"].isnull() == False].reset_index(drop=True)\n",
    "df[\"カナ\"] = df[\"カナ\"].map(jaconv.h2z)\n",
    "df[\"団体コード\"] = df[\"団体コード\"].map(lambda x: math.floor(x / 10))\n",
    "\n",
    "municipality_list = df\n",
    "\n",
    "print(municipality_list)"
   ]
  },
  {
   "cell_type": "markdown",
   "metadata": {
    "hidden": true,
    "lc_cell_meme": {
     "current": "17ebe038-16ac-11e8-a91b-0242ac120002",
     "next": "17ebe38a-16ac-11e8-a91b-0242ac120002",
     "previous": "fe49ff0a-f416-11e7-95ed-0242ac130002"
    }
   },
   "source": [
    "年齢階級別人口を読み込み、市区町村リストに情報を追記する。"
   ]
  },
  {
   "cell_type": "code",
   "execution_count": null,
   "metadata": {
    "hidden": true,
    "lc_cell_meme": {
     "current": "17ebe38a-16ac-11e8-a91b-0242ac120002",
     "next": "ff145856-fab3-11e7-82b9-0242ac110002",
     "previous": "17ebe038-16ac-11e8-a91b-0242ac120002"
    },
    "pinned_outputs": [
     {
      "execution_count": 12,
      "outputs": [
       {
        "name": "stdout",
        "output_type": "stream",
        "text": "1 logs recorded\n\npath: /home/jovyan/sig4ng2018/.log/20180221/20180221-082513-0764.log\nstart time: 2018-02-21 08:25:13(UTC)\nend time: 2018-02-21 08:25:21(UTC)\noutput size: 4974 bytes\n0 chunks with matched keywords or errors\n----\n      団体コード 市区町村名         カナ 都道府県名    小中学生\n0      1100   札幌市      サッポロシ   北海道  152061\n1      1202   函館市      ハコダテシ   北海道   18798\n2      1203   小樽市       オタルシ   北海道    7888\n3      1204   旭川市     アサヒカワシ   北海道   26789\n4      1205   室蘭市      ムロランシ   北海道    6285\n5      1206   釧路市       クシロシ   北海道   13621\n6      1207   帯広市      オビヒロシ   北海道   13665\n7      1208   北見市       キタミシ   北海道    9384\n8      1209   夕張市      ユウバリシ   北海道     350\n9      1210  岩見沢市     イワミザワシ   北海道    6305\n10     1211   網走市      アバシリシ   北海道    3034\n11     1212   留萌市       ルモイシ   北海道    1503\n12     1213  苫小牧市     トマコマイシ   北海道   15395\n13     1214   稚内市     ワッカナイシ   北海道    2777\n14     1215   美唄市       ビバイシ   北海道    1355\n15     1216   芦別市      アシベツシ   北海道     743\n16     1217   江別市       エベツシ   北海道    9683\n17     1218   赤平市      アカビラシ   北海道     587\n18     1219   紋別市      モンベツシ   北海道    1584\n...\n1723  47327  北中城村  キタナカグスクソン   沖縄県    1925\n1724  47328   中城村    ナカグスクソン   沖縄県    2318\n1725  47329   西原町    ニシハラチョウ   沖縄県    4130\n1726  47348  与那原町    ヨナバルチョウ   沖縄県    2337\n1727  47350  南風原町    ハエバルチョウ   沖縄県    4878\n1728  47353  渡嘉敷村     トカシキソン   沖縄県      84\n1729  47354  座間味村      ザマミソン   沖縄県     106\n1730  47355   粟国村      アグニソン   沖縄県      63\n1731  47356  渡名喜村      トナキソン   沖縄県      25\n1732  47357  南大東村  ミナミダイトウソン   沖縄県     142\n1733  47358  北大東村   キタダイトウソン   沖縄県      62\n1734  47359  伊平屋村      イヘヤソン   沖縄県     158\n1735  47360  伊是名村      イゼナソン   沖縄県     139\n1736  47361  久米島町    クメジマチョウ   沖縄県     796\n1737  47362  八重瀬町     ヤエセチョウ   沖縄県    3581\n1738  47375  多良間村      タラマソン   沖縄県     132\n1739  47381   竹富町    タケトミチョウ   沖縄県     447\n1740  47382  与那国町    ヨナグニチョウ   沖縄県     186\n\n[1741 rows x 5 columns]"
       }
      ]
     }
    ]
   },
   "outputs": [],
   "source": [
    "file = pd.ExcelFile(\"000494086.xls\")\n",
    "df = file.parse(file.sheet_names[0], skiprows=[0,2,3,4])\n",
    "df = df.drop_duplicates(subset=[\"団体コード\"])\n",
    "df = df.rename(columns={\n",
    "    \"5～9\": \"five\",\n",
    "    \"10～14\": \"ten\"\n",
    "})\n",
    "df[\"団体コード\"] = df[\"団体コード\"].map(lambda x: math.floor(x / 10))\n",
    "\n",
    "municipality_list[\"小中学生\"] = 0\n",
    "for row in df.itertuples():\n",
    "    municipality_list.loc[\n",
    "        municipality_list[\"団体コード\"] == row.団体コード, \"小中学生\"] = row.five + row.ten\n",
    "\n",
    "print(municipality_list)"
   ]
  },
  {
   "cell_type": "markdown",
   "metadata": {
    "hidden": true,
    "lc_cell_meme": {
     "current": "ff145856-fab3-11e7-82b9-0242ac110002",
     "history": [
      {
       "current": "ff145856-fab3-11e7-82b9-0242ac110002",
       "next": "9ae6fa34-f2a0-11e7-b919-0242ac130002",
       "previous": "fe49ff0a-f416-11e7-95ed-0242ac130002"
      }
     ],
     "next": "9ae6fa34-f2a0-11e7-b919-0242ac130002",
     "previous": "17ebe38a-16ac-11e8-a91b-0242ac120002"
    }
   },
   "source": [
    "大都市雇用圏の中心都市リストを読み込み、市区町村リストに情報を追記する。"
   ]
  },
  {
   "cell_type": "code",
   "execution_count": null,
   "metadata": {
    "hidden": true,
    "lc_cell_meme": {
     "current": "9ae6fa34-f2a0-11e7-b919-0242ac130002",
     "history": [
      {
       "current": "9ae6fa34-f2a0-11e7-b919-0242ac130002",
       "next": null,
       "previous": "9ae6f73c-f2a0-11e7-b919-0242ac130002"
      },
      {
       "current": "9ae6fa34-f2a0-11e7-b919-0242ac130002",
       "next": "29f4a406-f2a1-11e7-b919-0242ac130002",
       "previous": "9ae6f73c-f2a0-11e7-b919-0242ac130002"
      },
      {
       "current": "9ae6fa34-f2a0-11e7-b919-0242ac130002",
       "next": "29f4a406-f2a1-11e7-b919-0242ac130002",
       "previous": "fe49ff0a-f416-11e7-95ed-0242ac130002"
      },
      {
       "current": "9ae6fa34-f2a0-11e7-b919-0242ac130002",
       "next": "36e919e2-f9e2-11e7-82b9-0242ac110002",
       "previous": "fe49ff0a-f416-11e7-95ed-0242ac130002"
      },
      {
       "current": "9ae6fa34-f2a0-11e7-b919-0242ac130002",
       "next": "36e919e2-f9e2-11e7-82b9-0242ac110002",
       "previous": "ff145856-fab3-11e7-82b9-0242ac110002"
      }
     ],
     "next": "469ad3da-fab4-11e7-82b9-0242ac110002",
     "previous": "ff145856-fab3-11e7-82b9-0242ac110002"
    },
    "pinned_outputs": [
     {
      "execution_count": 13,
      "outputs": [
       {
        "name": "stdout",
        "output_type": "stream",
        "text": "1 logs recorded\n\npath: /home/jovyan/sig4ng2018/.log/20180221/20180221-082521-0370.log\nstart time: 2018-02-21 08:25:21(UTC)\nend time: 2018-02-21 08:25:22(UTC)\noutput size: 20042 bytes\n0 chunks with matched keywords or errors\n----\n   団体コード 市区町村名     カナ 都道府県名    小中学生   MEA\n0   1100   札幌市  サッポロシ   北海道  152061  1100\n   団体コード 市区町村名    カナ 都道府県名  小中学生   MEA\n2   1203   小樽市  オタルシ   北海道  7888  1100\n   団体コード 市区町村名     カナ 都道府県名   小中学生   MEA\n1   1202   函館市  ハコダテシ   北海道  18798  1202\n   団体コード 市区町村名      カナ 都道府県名   小中学生   MEA\n3   1204   旭川市  アサヒカワシ   北海道  26789  1204\n   団体コード 市区町村名     カナ 都道府県名  小中学生   MEA\n4   1205   室蘭市  ムロランシ   北海道  6285  1205\n   団体コード 市区町村名    カナ 都道府県名   小中学生   MEA\n5   1206   釧路市  クシロシ   北海道  13621  1206\n   団体コード 市区町村名     カナ 都道府県名   小中学生   MEA\n6   1207   帯広市  オビヒロシ   北海道  13665  1207\n   団体コード 市区町村名    カナ 都道府県名  小中学生   MEA\n7   1208   北見市  キタミシ   北海道  9384  1208\n   団体コード 市区町村名      カナ 都道府県名  小中学生   MEA\n9   1210  岩見沢市  イワミザワシ   北海道  6305  1210\n    団体コード 市区町村名      カナ 都道府県名   小中学生   MEA\n12   1213  苫小牧市  トマコマイシ   北海道  15395  1213\n...\nColumns: [団体コード, 市区町村名, カナ, 都道府県名, 小中学生, MEA]\nIndex: []\n      団体コード 市区町村名     カナ 都道府県名   小中学生    MEA\n1569  43202   八代市  ヤツシロシ   熊本県  10886  43202\n      団体コード 市区町村名     カナ 都道府県名   小中学生    MEA\n1613  44201   大分市  オオイタシ   大分県  45515  44201\n      団体コード 市区町村名     カナ 都道府県名   小中学生    MEA\n1631  45201   宮崎市  ミヤザキシ   宮崎県  38995  45201\n      団体コード 市区町村名        カナ 都道府県名   小中学生    MEA\n1632  45202   都城市  ミヤコノジョウシ   宮崎県  15988  45202\n      団体コード 市区町村名     カナ 都道府県名   小中学生    MEA\n1633  45203   延岡市  ノベオカシ   宮崎県  11362  45203\n      団体コード 市区町村名     カナ 都道府県名   小中学生    MEA\n1657  46201  鹿児島市  カゴシマシ  鹿児島県  57611  46201\n      団体コード 市区町村名   カナ 都道府県名   小中学生    MEA\n1700  47201   那覇市  ナハシ   沖縄県  33904  47201\n      団体コード 市区町村名     カナ 都道府県名   小中学生    MEA\n1703  47208   浦添市  ウラソエシ   沖縄県  13942  47201\n      団体コード 市区町村名     カナ 都道府県名   小中学生    MEA\n1706  47211   沖縄市  オキナワシ   沖縄県  17246  47211"
       }
      ]
     }
    ]
   },
   "outputs": [],
   "source": [
    "# csvの読み取り\n",
    "df= pd.read_csv(\"MEA2010C.csv\", encoding=\"cp932\")\n",
    "\n",
    "municipality_list[\"MEA\"] = 0\n",
    "for row in df.itertuples():\n",
    "    municipality_list.loc[municipality_list[\"団体コード\"] == row.center, \"MEA\"] = row.MEA\n",
    "    print(municipality_list.loc[municipality_list[\"団体コード\"] == row.center])"
   ]
  },
  {
   "cell_type": "markdown",
   "metadata": {
    "hidden": true,
    "lc_cell_meme": {
     "current": "469ad3da-fab4-11e7-82b9-0242ac110002",
     "next": "36e919e2-f9e2-11e7-82b9-0242ac110002",
     "previous": "9ae6fa34-f2a0-11e7-b919-0242ac130002"
    }
   },
   "source": [
    "小都市雇用圏の中心都市リストを読み込み、市区町村リストに情報を追記する。"
   ]
  },
  {
   "cell_type": "code",
   "execution_count": null,
   "metadata": {
    "hidden": true,
    "lc_cell_meme": {
     "current": "36e919e2-f9e2-11e7-82b9-0242ac110002",
     "history": [
      {
       "current": "36e919e2-f9e2-11e7-82b9-0242ac110002",
       "next": "29f4a406-f2a1-11e7-b919-0242ac130002",
       "previous": "9ae6fa34-f2a0-11e7-b919-0242ac130002"
      },
      {
       "current": "36e919e2-f9e2-11e7-82b9-0242ac110002",
       "next": "c0771ca6-f2a6-11e7-b919-0242ac130002",
       "previous": "9ae6fa34-f2a0-11e7-b919-0242ac130002"
      }
     ],
     "next": "469ad556-fab4-11e7-82b9-0242ac110002",
     "previous": "469ad3da-fab4-11e7-82b9-0242ac110002"
    },
    "pinned_outputs": [
     {
      "execution_count": 14,
      "outputs": [
       {
        "name": "stdout",
        "output_type": "stream",
        "text": "1 logs recorded\n\npath: /home/jovyan/sig4ng2018/.log/20180221/20180221-082522-0637.log\nstart time: 2018-02-21 08:25:22(UTC)\nend time: 2018-02-21 08:25:23(UTC)\noutput size: 19506 bytes\n0 chunks with matched keywords or errors\n----\n    団体コード 市区町村名     カナ 都道府県名  小中学生   MEA\n10   1211   網走市  アバシリシ   北海道  3034  1211\n    団体コード 市区町村名    カナ 都道府県名  小中学生   MEA\n11   1212   留萌市  ルモイシ   北海道  1503  1212\n    団体コード 市区町村名      カナ 都道府県名  小中学生   MEA\n13   1214   稚内市  ワッカナイシ   北海道  2777  1214\n    団体コード 市区町村名    カナ 都道府県名  小中学生   MEA\n14   1215   美唄市  ビバイシ   北海道  1355  1215\n    団体コード 市区町村名     カナ 都道府県名  小中学生   MEA\n18   1219   紋別市  モンベツシ   北海道  1584  1219\n    団体コード 市区町村名    カナ 都道府県名  小中学生   MEA\n19   1220   士別市  シベツシ   北海道  1435  1220\n    団体コード 市区町村名    カナ 都道府県名  小中学生   MEA\n20   1221   名寄市  ナヨロシ   北海道  2232  1221\n    団体コード 市区町村名    カナ 都道府県名  小中学生   MEA\n22   1223   根室市  ネムロシ   北海道  2031  1223\n    団体コード 市区町村名     カナ 都道府県名  小中学生   MEA\n24   1225   滝川市  タキカワシ   北海道  3073  1225\n    団体コード 市区町村名     カナ 都道府県名  小中学生   MEA\n27   1228   深川市  フカガワシ   北海道  1358  1228\n...\n      団体コード 市区町村名     カナ 都道府県名  小中学生    MEA\n1636  45206   日向市  ヒュウガシ   宮崎県  6050  45206\n      団体コード 市区町村名    カナ 都道府県名   小中学生    MEA\n1658  46203   鹿屋市  カノヤシ  鹿児島県  10811  46203\n      団体コード 市区町村名      カナ 都道府県名  小中学生    MEA\n1659  46204   枕崎市  マクラザキシ  鹿児島県  1661  46204\n      団体コード  市区町村名        カナ 都道府県名  小中学生    MEA\n1665  46215  薩摩川内市  サツマセンダイシ  鹿児島県  9377  46215\n      団体コード 市区町村名     カナ 都道府県名   小中学生    MEA\n1668  46218   霧島市  キリシマシ  鹿児島県  12587  46218\n      団体コード 市区町村名    カナ 都道府県名  小中学生    MEA\n1672  46222   奄美市  アマミシ  鹿児島県  4307  46222\n      団体コード 市区町村名     カナ 都道府県名  小中学生    MEA\n1702  47207   石垣市  イシガキシ   沖縄県  5837  47207\n      団体コード 市区町村名   カナ 都道府県名  小中学生    MEA\n1704  47209   名護市  ナゴシ   沖縄県  7126  47209\n      団体コード 市区町村名      カナ 都道府県名  小中学生    MEA\n1709  47214  宮古島市  ミヤコジマシ   沖縄県  5755  47214\n      団体コード 市区町村名      カナ 都道府県名  小中学生    MEA\n1720  47324   読谷村  ヨミタンソン   沖縄県  5037  47324"
       }
      ]
     }
    ]
   },
   "outputs": [],
   "source": [
    "# csvの読み取り\n",
    "df= pd.read_csv(\"MCEA2010C.csv\", encoding=\"cp932\")\n",
    "\n",
    "for row in df.itertuples():\n",
    "    municipality_list.loc[municipality_list[\"団体コード\"] == row.center, \"MEA\"] = row.UEA\n",
    "    print(municipality_list.loc[municipality_list[\"団体コード\"] == row.center])"
   ]
  },
  {
   "cell_type": "markdown",
   "metadata": {
    "hidden": true,
    "lc_cell_meme": {
     "current": "469ad556-fab4-11e7-82b9-0242ac110002",
     "next": "c0771ca6-f2a6-11e7-b919-0242ac130002",
     "previous": "36e919e2-f9e2-11e7-82b9-0242ac110002"
    }
   },
   "source": [
    "大都市雇用圏の郊外都市リストを読み込み、市区町村リストに情報を追記する。"
   ]
  },
  {
   "cell_type": "code",
   "execution_count": null,
   "metadata": {
    "hidden": true,
    "lc_cell_meme": {
     "current": "c0771ca6-f2a6-11e7-b919-0242ac130002",
     "history": [
      {
       "current": "c0771ca6-f2a6-11e7-b919-0242ac130002",
       "next": null,
       "previous": "8f955ade-f2a2-11e7-b919-0242ac130002"
      },
      {
       "current": "c0771ca6-f2a6-11e7-b919-0242ac130002",
       "next": "98acab0a-f9ea-11e7-82b9-0242ac110002",
       "previous": "36e919e2-f9e2-11e7-82b9-0242ac110002"
      }
     ],
     "next": "469ad628-fab4-11e7-82b9-0242ac110002",
     "previous": "469ad556-fab4-11e7-82b9-0242ac110002"
    },
    "pinned_outputs": [
     {
      "execution_count": 15,
      "outputs": [
       {
        "name": "stdout",
        "output_type": "stream",
        "text": "1 logs recorded\n\npath: /home/jovyan/sig4ng2018/.log/20180221/20180221-082523-0656.log\nstart time: 2018-02-21 08:25:23(UTC)\nend time: 2018-02-21 08:25:43(UTC)\noutput size: 359869 bytes\n0 chunks with matched keywords or errors\n----\n    団体コード 市区町村名    カナ 都道府県名  小中学生   MEA\n16   1217   江別市  エベツシ   北海道  9683  1100\nEmpty DataFrame\nColumns: [団体コード, 市区町村名, カナ, 都道府県名, 小中学生, MEA]\nIndex: []\nEmpty DataFrame\nColumns: [団体コード, 市区町村名, カナ, 都道府県名, 小中学生, MEA]\nIndex: []\nEmpty DataFrame\nColumns: [団体コード, 市区町村名, カナ, 都道府県名, 小中学生, MEA]\nIndex: []\n    団体コード 市区町村名       カナ 都道府県名  小中学生   MEA\n32   1234  北広島市  キタヒロシマシ   北海道  5245  1100\nEmpty DataFrame\nColumns: [団体コード, 市区町村名, カナ, 都道府県名, 小中学生, MEA]\nIndex: []\nEmpty DataFrame\nColumns: [団体コード, 市区町村名, カナ, 都道府県名, 小中学生, MEA]\nIndex: []\nEmpty DataFrame\n...\nEmpty DataFrame\nColumns: [団体コード, 市区町村名, カナ, 都道府県名, 小中学生, MEA]\nIndex: []\nEmpty DataFrame\nColumns: [団体コード, 市区町村名, カナ, 都道府県名, 小中学生, MEA]\nIndex: []\nEmpty DataFrame\nColumns: [団体コード, 市区町村名, カナ, 都道府県名, 小中学生, MEA]\nIndex: []\n      団体コード 市区町村名         カナ 都道府県名  小中学生    MEA\n1723  47327  北中城村  キタナカグスクソン   沖縄県  1925  47211\nEmpty DataFrame\nColumns: [団体コード, 市区町村名, カナ, 都道府県名, 小中学生, MEA]\nIndex: []\nEmpty DataFrame\nColumns: [団体コード, 市区町村名, カナ, 都道府県名, 小中学生, MEA]\nIndex: []\nEmpty DataFrame\nColumns: [団体コード, 市区町村名, カナ, 都道府県名, 小中学生, MEA]\nIndex: []"
       }
      ]
     }
    ]
   },
   "outputs": [],
   "source": [
    "# csvの読み取り\n",
    "df= pd.read_csv(\"MEA2010.csv\", encoding=\"cp932\")\n",
    "\n",
    "for row in df.itertuples():\n",
    "    municipality_list.loc[municipality_list[\"団体コード\"] == row.suburb, \"MEA\"] = row.MEA\n",
    "    print(municipality_list.loc[municipality_list[\"団体コード\"] == row.suburb])\n",
    "    municipality_list.loc[municipality_list[\"団体コード\"] == row.suburb2, \"MEA\"] = row.MEA\n",
    "    print(municipality_list.loc[municipality_list[\"団体コード\"] == row.suburb2])\n",
    "    municipality_list.loc[municipality_list[\"団体コード\"] == row.suburb3, \"MEA\"] = row.MEA\n",
    "    print(municipality_list.loc[municipality_list[\"団体コード\"] == row.suburb3])\n",
    "    municipality_list.loc[municipality_list[\"団体コード\"] == row.suburb4, \"MEA\"] = row.MEA\n",
    "    print(municipality_list.loc[municipality_list[\"団体コード\"] == row.suburb4])"
   ]
  },
  {
   "cell_type": "markdown",
   "metadata": {
    "hidden": true,
    "lc_cell_meme": {
     "current": "469ad628-fab4-11e7-82b9-0242ac110002",
     "next": "98acab0a-f9ea-11e7-82b9-0242ac110002",
     "previous": "c0771ca6-f2a6-11e7-b919-0242ac130002"
    }
   },
   "source": [
    "小都市雇用圏の郊外都市リストを読み込み、市区町村リストに情報を追記する。"
   ]
  },
  {
   "cell_type": "code",
   "execution_count": null,
   "metadata": {
    "hidden": true,
    "lc_cell_meme": {
     "current": "98acab0a-f9ea-11e7-82b9-0242ac110002",
     "history": [
      {
       "current": "98acab0a-f9ea-11e7-82b9-0242ac110002",
       "next": null,
       "previous": "c0771ca6-f2a6-11e7-b919-0242ac130002"
      },
      {
       "current": "98acab0a-f9ea-11e7-82b9-0242ac110002",
       "next": "1c68fe2e-f9ed-11e7-82b9-0242ac110002",
       "previous": "c0771ca6-f2a6-11e7-b919-0242ac130002"
      },
      {
       "current": "98acab0a-f9ea-11e7-82b9-0242ac110002",
       "next": "1c68fe2e-f9ed-11e7-82b9-0242ac110002",
       "previous": "469ad628-fab4-11e7-82b9-0242ac110002"
      }
     ],
     "next": "8e2340a2-fab4-11e7-82b9-0242ac110002",
     "previous": "469ad628-fab4-11e7-82b9-0242ac110002"
    },
    "pinned_outputs": [
     {
      "execution_count": 16,
      "outputs": [
       {
        "name": "stdout",
        "output_type": "stream",
        "text": "1 logs recorded\n\npath: /home/jovyan/sig4ng2018/.log/20180221/20180221-082543-0752.log\nstart time: 2018-02-21 08:25:43(UTC)\nend time: 2018-02-21 08:26:06(UTC)\noutput size: 431137 bytes\n0 chunks with matched keywords or errors\n----\n     団体コード 市区町村名      カナ 都道府県名  小中学生     MEA\n105   1481   増毛町  マシケチョウ   北海道   299  1212.0\nEmpty DataFrame\nColumns: [団体コード, 市区町村名, カナ, 都道府県名, 小中学生, MEA]\nIndex: []\nEmpty DataFrame\nColumns: [団体コード, 市区町村名, カナ, 都道府県名, 小中学生, MEA]\nIndex: []\nEmpty DataFrame\nColumns: [団体コード, 市区町村名, カナ, 都道府県名, 小中学生, MEA]\nIndex: []\n     団体コード 市区町村名      カナ 都道府県名  小中学生     MEA\n106   1482   小平町  オビラチョウ   北海道   191  1212.0\nEmpty DataFrame\nColumns: [団体コード, 市区町村名, カナ, 都道府県名, 小中学生, MEA]\nIndex: []\nEmpty DataFrame\nColumns: [団体コード, 市区町村名, カナ, 都道府県名, 小中学生, MEA]\nIndex: []\nEmpty DataFrame\n...\nColumns: [団体コード, 市区町村名, カナ, 都道府県名, 小中学生, MEA]\nIndex: []\nEmpty DataFrame\nColumns: [団体コード, 市区町村名, カナ, 都道府県名, 小中学生, MEA]\nIndex: []\nEmpty DataFrame\nColumns: [団体コード, 市区町村名, カナ, 都道府県名, 小中学生, MEA]\nIndex: []\nEmpty DataFrame\nColumns: [団体コード, 市区町村名, カナ, 都道府県名, 小中学生, MEA]\nIndex: []\nEmpty DataFrame\nColumns: [団体コード, 市区町村名, カナ, 都道府県名, 小中学生, MEA]\nIndex: []\nEmpty DataFrame\nColumns: [団体コード, 市区町村名, カナ, 都道府県名, 小中学生, MEA]\nIndex: []\nEmpty DataFrame\nColumns: [団体コード, 市区町村名, カナ, 都道府県名, 小中学生, MEA]\nIndex: []"
       }
      ]
     }
    ]
   },
   "outputs": [],
   "source": [
    "# csvの読み取り\n",
    "df= pd.read_csv(\"MCEA2010.csv\", encoding=\"cp932\")\n",
    "\n",
    "for row in df.itertuples():\n",
    "    municipality_list.loc[municipality_list[\"団体コード\"] == row.suburb, \"MEA\"] = row.MEA\n",
    "    print(municipality_list.loc[municipality_list[\"団体コード\"] == row.suburb])\n",
    "    municipality_list.loc[municipality_list[\"団体コード\"] == row.suburb2, \"MEA\"] = row.MEA\n",
    "    print(municipality_list.loc[municipality_list[\"団体コード\"] == row.suburb2])\n",
    "    municipality_list.loc[municipality_list[\"団体コード\"] == row.suburb3, \"MEA\"] = row.MEA\n",
    "    print(municipality_list.loc[municipality_list[\"団体コード\"] == row.suburb3])\n",
    "    municipality_list.loc[municipality_list[\"団体コード\"] == row.suburb4, \"MEA\"] = row.MEA\n",
    "    print(municipality_list.loc[municipality_list[\"団体コード\"] == row.suburb4])"
   ]
  },
  {
   "cell_type": "markdown",
   "metadata": {
    "hidden": true,
    "lc_cell_meme": {
     "current": "8e2340a2-fab4-11e7-82b9-0242ac110002",
     "next": "1c68fe2e-f9ed-11e7-82b9-0242ac110002",
     "previous": "98acab0a-f9ea-11e7-82b9-0242ac110002"
    }
   },
   "source": [
    "都市雇用圏コードが実数になってしまうので整数型に変換する。（原因は不明なので気が向いたら調査）"
   ]
  },
  {
   "cell_type": "code",
   "execution_count": null,
   "metadata": {
    "hidden": true,
    "lc_cell_meme": {
     "current": "1c68fe2e-f9ed-11e7-82b9-0242ac110002",
     "history": [
      {
       "current": "1c68fe2e-f9ed-11e7-82b9-0242ac110002",
       "next": null,
       "previous": "98acab0a-f9ea-11e7-82b9-0242ac110002"
      },
      {
       "current": "1c68fe2e-f9ed-11e7-82b9-0242ac110002",
       "next": "76ca6148-f9f0-11e7-82b9-0242ac110002",
       "previous": "98acab0a-f9ea-11e7-82b9-0242ac110002"
      },
      {
       "current": "1c68fe2e-f9ed-11e7-82b9-0242ac110002",
       "next": "76ca6148-f9f0-11e7-82b9-0242ac110002",
       "previous": "8e2340a2-fab4-11e7-82b9-0242ac110002"
      }
     ],
     "next": "d5a80dae-fab4-11e7-82b9-0242ac110002",
     "previous": "8e2340a2-fab4-11e7-82b9-0242ac110002"
    },
    "pinned_outputs": [
     {
      "execution_count": 17,
      "outputs": [
       {
        "name": "stdout",
        "output_type": "stream",
        "text": "1 logs recorded\n\npath: /home/jovyan/sig4ng2018/.log/20180221/20180221-082606-0898.log\nstart time: 2018-02-21 08:26:06(UTC)\nend time: 2018-02-21 08:26:06(UTC)\noutput size: 5000 bytes\n0 chunks with matched keywords or errors\n----\n      団体コード 市区町村名         カナ 都道府県名    小中学生    MEA\n0      1100   札幌市      サッポロシ   北海道  152061   1100\n1      1202   函館市      ハコダテシ   北海道   18798   1202\n2      1203   小樽市       オタルシ   北海道    7888   1100\n3      1204   旭川市     アサヒカワシ   北海道   26789   1204\n4      1205   室蘭市      ムロランシ   北海道    6285   1205\n5      1206   釧路市       クシロシ   北海道   13621   1206\n6      1207   帯広市      オビヒロシ   北海道   13665   1207\n7      1208   北見市       キタミシ   北海道    9384   1208\n8      1209   夕張市      ユウバリシ   北海道     350      0\n9      1210  岩見沢市     イワミザワシ   北海道    6305   1210\n10     1211   網走市      アバシリシ   北海道    3034   1211\n11     1212   留萌市       ルモイシ   北海道    1503   1212\n12     1213  苫小牧市     トマコマイシ   北海道   15395   1213\n13     1214   稚内市     ワッカナイシ   北海道    2777   1214\n14     1215   美唄市       ビバイシ   北海道    1355   1215\n15     1216   芦別市      アシベツシ   北海道     743      0\n16     1217   江別市       エベツシ   北海道    9683   1100\n17     1218   赤平市      アカビラシ   北海道     587   1225\n18     1219   紋別市      モンベツシ   北海道    1584   1219\n...\n1723  47327  北中城村  キタナカグスクソン   沖縄県    1925  47211\n1724  47328   中城村    ナカグスクソン   沖縄県    2318  47201\n1725  47329   西原町    ニシハラチョウ   沖縄県    4130  47201\n1726  47348  与那原町    ヨナバルチョウ   沖縄県    2337  47201\n1727  47350  南風原町    ハエバルチョウ   沖縄県    4878  47201\n1728  47353  渡嘉敷村     トカシキソン   沖縄県      84      0\n1729  47354  座間味村      ザマミソン   沖縄県     106      0\n1730  47355   粟国村      アグニソン   沖縄県      63      0\n1731  47356  渡名喜村      トナキソン   沖縄県      25      0\n1732  47357  南大東村  ミナミダイトウソン   沖縄県     142      0\n1733  47358  北大東村   キタダイトウソン   沖縄県      62      0\n1734  47359  伊平屋村      イヘヤソン   沖縄県     158      0\n1735  47360  伊是名村      イゼナソン   沖縄県     139      0\n1736  47361  久米島町    クメジマチョウ   沖縄県     796      0\n1737  47362  八重瀬町     ヤエセチョウ   沖縄県    3581  47201\n1738  47375  多良間村      タラマソン   沖縄県     132      0\n1739  47381   竹富町    タケトミチョウ   沖縄県     447      0\n1740  47382  与那国町    ヨナグニチョウ   沖縄県     186      0\n\n[1741 rows x 6 columns]"
       }
      ]
     }
    ]
   },
   "outputs": [],
   "source": [
    "import numpy as np\n",
    "municipality_list[\"MEA\"] = municipality_list[\"MEA\"].astype(np.int64)\n",
    "\n",
    "print(municipality_list)"
   ]
  },
  {
   "cell_type": "markdown",
   "metadata": {
    "hidden": true,
    "lc_cell_meme": {
     "current": "d5a80dae-fab4-11e7-82b9-0242ac110002",
     "next": "76ca6148-f9f0-11e7-82b9-0242ac110002",
     "previous": "1c68fe2e-f9ed-11e7-82b9-0242ac110002"
    }
   },
   "source": [
    "都市雇用圏に入らない独立した市区町村も存在する。"
   ]
  },
  {
   "cell_type": "code",
   "execution_count": null,
   "metadata": {
    "hidden": true,
    "lc_cell_meme": {
     "current": "76ca6148-f9f0-11e7-82b9-0242ac110002",
     "history": [
      {
       "current": "76ca6148-f9f0-11e7-82b9-0242ac110002",
       "next": null,
       "previous": "1c68fe2e-f9ed-11e7-82b9-0242ac110002"
      },
      {
       "current": "76ca6148-f9f0-11e7-82b9-0242ac110002",
       "next": "be3df292-f9f0-11e7-82b9-0242ac110002",
       "previous": "1c68fe2e-f9ed-11e7-82b9-0242ac110002"
      }
     ],
     "next": "d5a80f48-fab4-11e7-82b9-0242ac110002",
     "previous": "d5a80dae-fab4-11e7-82b9-0242ac110002"
    },
    "pinned_outputs": [
     {
      "execution_count": 18,
      "outputs": [
       {
        "name": "stdout",
        "output_type": "stream",
        "text": "1 logs recorded\n\npath: /home/jovyan/sig4ng2018/.log/20180221/20180221-082606-0976.log\nstart time: 2018-02-21 08:26:06(UTC)\nend time: 2018-02-21 08:26:07(UTC)\noutput size: 4915 bytes\n0 chunks with matched keywords or errors\n----\n      団体コード 市区町村名          カナ 都道府県名  小中学生  MEA\n8      1209   夕張市       ユウバリシ   北海道   350    0\n15     1216   芦別市       アシベツシ   北海道   743    0\n36     1304  新篠津村     シンシノツムラ   北海道   229    0\n37     1331   松前町     マツマエチョウ   北海道   392    0\n38     1332   福島町     フクシマチョウ   北海道   206    0\n39     1333   知内町     シリウチチョウ   北海道   338    0\n40     1334  木古内町     キコナイチョウ   北海道   216    0\n42     1343   鹿部町      シカベチョウ   北海道   293    0\n43     1345    森町        モリマチ   北海道  1261    0\n44     1346   八雲町      ヤクモチョウ   北海道  1293    0\n45     1347  長万部町   オシャマンベチョウ   北海道   336    0\n46     1361   江差町      エサシチョウ   北海道   544    0\n47     1362  上ノ国町    カミノクニチョウ   北海道   356    0\n48     1363  厚沢部町     アッサブチョウ   北海道   288    0\n49     1364   乙部町      オトベチョウ   北海道   284    0\n50     1367   奥尻町     オクシリチョウ   北海道   144    0\n51     1370   今金町     イマカネチョウ   北海道   365    0\n52     1371  せたな町      セタナチョウ   北海道   544    0\n53     1391   島牧村      シママキムラ   北海道    74    0\n...\n1698  46534   知名町       チナチョウ  鹿児島県   602    0\n1699  46535   与論町      ヨロンチョウ  鹿児島県   538    0\n1711  47301   国頭村      クニガミソン   沖縄県   448    0\n1716  47311   恩納村       オンナソン   沖縄県  1094    0\n1718  47314   金武町       キンチョウ   沖縄県  1333    0\n1719  47315   伊江村        イエソン   沖縄県   414    0\n1728  47353  渡嘉敷村      トカシキソン   沖縄県    84    0\n1729  47354  座間味村       ザマミソン   沖縄県   106    0\n1730  47355   粟国村       アグニソン   沖縄県    63    0\n1731  47356  渡名喜村       トナキソン   沖縄県    25    0\n1732  47357  南大東村   ミナミダイトウソン   沖縄県   142    0\n1733  47358  北大東村    キタダイトウソン   沖縄県    62    0\n1734  47359  伊平屋村       イヘヤソン   沖縄県   158    0\n1735  47360  伊是名村       イゼナソン   沖縄県   139    0\n1736  47361  久米島町     クメジマチョウ   沖縄県   796    0\n1738  47375  多良間村       タラマソン   沖縄県   132    0\n1739  47381   竹富町     タケトミチョウ   沖縄県   447    0\n1740  47382  与那国町     ヨナグニチョウ   沖縄県   186    0\n\n[463 rows x 6 columns]"
       }
      ]
     }
    ]
   },
   "outputs": [],
   "source": [
    "print(municipality_list[municipality_list[\"MEA\"] == 0])"
   ]
  },
  {
   "cell_type": "markdown",
   "metadata": {
    "heading_collapsed": true,
    "lc_cell_meme": {
     "current": "d5a80f48-fab4-11e7-82b9-0242ac110002",
     "history": [
      {
       "current": "d5a80f48-fab4-11e7-82b9-0242ac110002",
       "next": "be3df292-f9f0-11e7-82b9-0242ac110002",
       "previous": "76ca6148-f9f0-11e7-82b9-0242ac110002"
      },
      {
       "current": "d5a80f48-fab4-11e7-82b9-0242ac110002",
       "next": "6935e5ae-15fa-11e8-a91b-0242ac120002",
       "previous": "76ca6148-f9f0-11e7-82b9-0242ac110002"
      }
     ],
     "next": "be3df292-f9f0-11e7-82b9-0242ac110002",
     "previous": "76ca6148-f9f0-11e7-82b9-0242ac110002"
    }
   },
   "source": [
    "## データ分析\n",
    "\n",
    "市区町村リストに市区町村リストに教室の有無情報を入れるカラムを追加する。都道府県リストも作っておく。"
   ]
  },
  {
   "cell_type": "code",
   "execution_count": null,
   "metadata": {
    "hidden": true,
    "lc_cell_meme": {
     "current": "be3df292-f9f0-11e7-82b9-0242ac110002",
     "history": [
      {
       "current": "be3df292-f9f0-11e7-82b9-0242ac110002",
       "next": null,
       "previous": "76ca6148-f9f0-11e7-82b9-0242ac110002"
      },
      {
       "current": "be3df292-f9f0-11e7-82b9-0242ac110002",
       "next": "ead8049e-fa56-11e7-82b9-0242ac110002",
       "previous": "76ca6148-f9f0-11e7-82b9-0242ac110002"
      },
      {
       "current": "be3df292-f9f0-11e7-82b9-0242ac110002",
       "next": "ead8049e-fa56-11e7-82b9-0242ac110002",
       "previous": "d5a80f48-fab4-11e7-82b9-0242ac110002"
      },
      {
       "current": "be3df292-f9f0-11e7-82b9-0242ac110002",
       "next": "1d303386-fab5-11e7-82b9-0242ac110002",
       "previous": "d5a80f48-fab4-11e7-82b9-0242ac110002"
      },
      {
       "current": "be3df292-f9f0-11e7-82b9-0242ac110002",
       "next": "1d303386-fab5-11e7-82b9-0242ac110002",
       "previous": "6935ea90-15fa-11e8-a91b-0242ac120002"
      },
      {
       "current": "be3df292-f9f0-11e7-82b9-0242ac110002",
       "next": "6935ea90-15fa-11e8-a91b-0242ac120002",
       "previous": "d5a80f48-fab4-11e7-82b9-0242ac110002"
      }
     ],
     "next": "1d303386-fab5-11e7-82b9-0242ac110002",
     "previous": "d5a80f48-fab4-11e7-82b9-0242ac110002"
    },
    "pinned_outputs": [
     {
      "execution_count": 19,
      "outputs": [
       {
        "name": "stdout",
        "output_type": "stream",
        "text": "1 logs recorded\n\npath: /home/jovyan/sig4ng2018/.log/20180221/20180221-082607-0053.log\nstart time: 2018-02-21 08:26:07(UTC)\nend time: 2018-02-21 08:26:07(UTC)\noutput size: 1483 bytes\n0 chunks with matched keywords or errors\n----\n"
       }
      ]
     }
    ]
   },
   "outputs": [],
   "source": [
    "import re\n",
    "import requests\n",
    "from bs4 import BeautifulSoup\n",
    "\n",
    "municipality_list[\"school\"] = 0\n",
    "\n",
    "pref_list = municipality_list[\"都道府県名\"].drop_duplicates().reset_index(drop=True)\n",
    "\n",
    "def check_school(link) :\n",
    "    print(link[\"pref\"] + \" : \", end=\"\")\n",
    "    if \"pref_not_check\" not in link :\n",
    "        link[\"pref_not_check\"] = False\n",
    "    count = 0\n",
    "    resp = requests.get(link[\"href\"])\n",
    "    resp.encoding = resp.apparent_encoding\n",
    "    body_lines = resp.text.splitlines()\n",
    "    for text in body_lines :\n",
    "        target_municipality_list = municipality_list[\n",
    "            (municipality_list[\"school\"] == 0)\n",
    "            & (municipality_list[\"都道府県名\"] == link[\"pref\"])\n",
    "        ]\n",
    "        for row in target_municipality_list.itertuples():\n",
    "            if text.find(\"一覧\") == -1 \\\n",
    "                and text.find(row.市区町村名) != -1 \\\n",
    "                and (link[\"pref_not_check\"] or text.find(link[\"pref\"]) != -1) :\n",
    "                municipality_list.loc[municipality_list[\"団体コード\"] == row.団体コード,\n",
    "                                      \"school\"] = 1\n",
    "                count = count + 1\n",
    "                print(row.市区町村名 + \", \", end=\"\")\n",
    "    print(\"\")\n",
    "    return count"
   ]
  },
  {
   "cell_type": "markdown",
   "metadata": {
    "hidden": true,
    "lc_cell_meme": {
     "current": "1d303386-fab5-11e7-82b9-0242ac110002",
     "next": "ead8049e-fa56-11e7-82b9-0242ac110002",
     "previous": "be3df292-f9f0-11e7-82b9-0242ac110002"
    }
   },
   "source": [
    "[子供向けロボット・プログラミング教室ガイド](http://xn--9ckk2d5c4051a8fm.xyz/sitemap.html#jyuusyo)から教室の情報を抽出し、市区町村リストに教室の有無情報を追記する。"
   ]
  },
  {
   "cell_type": "code",
   "execution_count": null,
   "metadata": {
    "hidden": true,
    "lc_cell_meme": {
     "current": "ead8049e-fa56-11e7-82b9-0242ac110002",
     "history": [
      {
       "current": "ead8049e-fa56-11e7-82b9-0242ac110002",
       "next": null,
       "previous": "be3df292-f9f0-11e7-82b9-0242ac110002"
      },
      {
       "current": "ead8049e-fa56-11e7-82b9-0242ac110002",
       "next": "35f928d4-fa63-11e7-82b9-0242ac110002",
       "previous": "be3df292-f9f0-11e7-82b9-0242ac110002"
      },
      {
       "current": "ead8049e-fa56-11e7-82b9-0242ac110002",
       "next": "ea924aa4-fa69-11e7-82b9-0242ac110002",
       "previous": "be3df292-f9f0-11e7-82b9-0242ac110002"
      },
      {
       "current": "ead8049e-fa56-11e7-82b9-0242ac110002",
       "next": "ea924aa4-fa69-11e7-82b9-0242ac110002",
       "previous": "1d303386-fab5-11e7-82b9-0242ac110002"
      },
      {
       "current": "ead8049e-fa56-11e7-82b9-0242ac110002",
       "next": "64b5d422-fab5-11e7-82b9-0242ac110002",
       "previous": "1d303386-fab5-11e7-82b9-0242ac110002"
      },
      {
       "current": "ead8049e-fa56-11e7-82b9-0242ac110002",
       "next": "ead8049e-fa56-11e7-82b9-0242ac110002",
       "previous": "1d303386-fab5-11e7-82b9-0242ac110002"
      },
      {
       "current": "ead8049e-fa56-11e7-82b9-0242ac110002",
       "next": "64b5d422-fab5-11e7-82b9-0242ac110002",
       "previous": "1d303386-fab5-11e7-82b9-0242ac110002"
      },
      {
       "current": "ead8049e-fa56-11e7-82b9-0242ac110002",
       "next": "6935ea90-15fa-11e8-a91b-0242ac120002",
       "previous": "1d303386-fab5-11e7-82b9-0242ac110002"
      },
      {
       "current": "ead8049e-fa56-11e7-82b9-0242ac110002",
       "next": "e8407778-163c-11e8-a91b-0242ac120002",
       "previous": "1d303386-fab5-11e7-82b9-0242ac110002"
      }
     ],
     "next": "2fc12fca-163d-11e8-a91b-0242ac120002",
     "previous": "1d303386-fab5-11e7-82b9-0242ac110002"
    },
    "pinned_outputs": [
     {
      "execution_count": 20,
      "outputs": [
       {
        "name": "stdout",
        "output_type": "stream",
        "text": "1 logs recorded\n\npath: /home/jovyan/sig4ng2018/.log/20180221/20180221-082607-0397.log\nstart time: 2018-02-21 08:26:07(UTC)\nend time: 2018-02-21 08:27:54(UTC)\noutput size: 16061 bytes\n0 chunks with matched keywords or errors\n----\n東京都足立区, \n東京都荒川区, \n東京都板橋区, \n東京都江戸川区, \n東京都大田区, \n東京都葛飾区, \n東京都北区, \n東京都江東区, \n東京都品川区, \n東京都渋谷区, \n東京都新宿区, \n東京都杉並区, \n東京都墨田区, \n東京都世田谷区, \n東京都台東区, \n東京都中央区, \n東京都千代田区, \n東京都豊島区, \n東京都中野区, \n東京都練馬区, \n...\n大崎町, \n\n鹿児島県日置市, \n沖縄県石垣市, \n沖縄県浦添市, \n沖縄県うるま市, \n沖縄県沖縄市, \n沖縄県宜野湾市, \n沖縄県 : \n南風原町, \n\n沖縄県 : \n豊見城市, \n\n沖縄県 : \n嘉手納町, \n\n沖縄県名護市, \n沖縄県那覇市, \nadd count : 614"
       }
      ]
     }
    ],
    "scrolled": true
   },
   "outputs": [],
   "source": [
    "municipality_list[\"school\"] = 0\n",
    "\n",
    "def check_school_guide(link) :\n",
    "    if link[\"pref\"].find(\"沖縄\") != -1 :\n",
    "        link[\"pref\"] = \"沖縄県\"\n",
    "    soup = BeautifulSoup(requests.get(link[\"href\"]).content, \"lxml\")\n",
    "    count = 0\n",
    "    for end_link in soup.find_all(\"a\") :\n",
    "        if \"href\" in end_link.attrs.keys() \\\n",
    "            and end_link[\"href\"].find(\".html\") != -1 \\\n",
    "            and end_link[\"href\"].find(\"プログラミングスクール\") == -1 \\\n",
    "            and end_link[\"href\"].find(\"index\") == -1 :\n",
    "                if end_link[\"href\"] == \"sitemap.html\" :\n",
    "                    return count\n",
    "                target_municipality_list = municipality_list[\n",
    "                    (municipality_list[\"school\"] == 0)\n",
    "                    & (municipality_list[\"都道府県名\"] == link[\"pref\"])\n",
    "                ]\n",
    "                f = True\n",
    "                for row in target_municipality_list.itertuples():\n",
    "                    if end_link.get_text() == row.市区町村名 :\n",
    "                        municipality_list.loc[municipality_list[\"団体コード\"] == row.団体コード,\n",
    "                                              \"school\"] = 1\n",
    "                        count = count + 1\n",
    "                        print(link[\"pref\"] + row.市区町村名 + \", \")\n",
    "                        f = False\n",
    "                        break\n",
    "                if f :\n",
    "                    count = count + check_school(\n",
    "                        {\n",
    "                            \"href\" : \"http://xn--9ckk2d5c4051a8fm.xyz/\" + end_link[\"href\"],\n",
    "                            \"pref\" : link[\"pref\"]\n",
    "                        }\n",
    "                    )\n",
    "    return count\n",
    "\n",
    "base_url = \"http://xn--9ckk2d5c4051a8fm.xyz/sitemap.html\"\n",
    "soup = BeautifulSoup(requests.get(base_url).content, \"lxml\")\n",
    "l = [{\"href\" : \"http://xn--9ckk2d5c4051a8fm.xyz/\" + link.find(\"a\")[\"href\"],\n",
    "      \"pref\" : link.find(\"a\").get_text()} for link in soup.find_all(\"p\") \\\n",
    "         if \"style\" in link.attrs.keys() and link[\"style\"].find(\"text-align : left;\") != -1]\n",
    "\n",
    "print(\"add count : \" + str(sum(list(map(check_school_guide, l)))))"
   ]
  },
  {
   "cell_type": "markdown",
   "metadata": {
    "hidden": true,
    "lc_cell_meme": {
     "current": "2fc12fca-163d-11e8-a91b-0242ac120002",
     "next": "2fc131d2-163d-11e8-a91b-0242ac120002",
     "previous": "ead8049e-fa56-11e7-82b9-0242ac110002"
    }
   },
   "source": [
    "補完（一部の記載内容が形式的によろしくないので）"
   ]
  },
  {
   "cell_type": "code",
   "execution_count": null,
   "metadata": {
    "hidden": true,
    "lc_cell_meme": {
     "current": "2fc131d2-163d-11e8-a91b-0242ac120002",
     "history": [
      {
       "current": "2fc131d2-163d-11e8-a91b-0242ac120002",
       "next": "e8407778-163c-11e8-a91b-0242ac120002",
       "previous": "2fc12fca-163d-11e8-a91b-0242ac120002"
      }
     ],
     "next": "6935ea90-15fa-11e8-a91b-0242ac120002",
     "previous": "2fc12fca-163d-11e8-a91b-0242ac120002"
    },
    "pinned_outputs": [
     {
      "execution_count": 38,
      "outputs": [
       {
        "name": "stdout",
        "output_type": "stream",
        "text": "2 logs recorded\n\npath: /home/jovyan/sig4ng2018/.log/20180221/20180221-082754-0985.log\nstart time: 2018-02-21 08:27:54(UTC)\nend time: 2018-02-21 08:27:55(UTC)\noutput size: 750 bytes\n\npath: /home/jovyan/sig4ng2018/.log/20180221/20180221-083508-0368.log\nstart time: 2018-02-21 08:35:08(UTC)\nend time: 2018-02-21 08:35:08(UTC)\noutput size: 870 bytes\n0 chunks with matched keywords or errors\n----\n      団体コード 市区町村名     カナ 都道府県名  小中学生    MEA  school\n254    4203   塩竈市  シオガマシ   宮城県  4107   4100       1\n1406  37341   三木町  ミキチョウ   香川県  2565  37201       1"
       }
      ]
     }
    ]
   },
   "outputs": [],
   "source": [
    "municipality_list.loc[municipality_list[\"カナ\"] == \"シオガマシ\", \"school\"] = 1\n",
    "municipality_list.loc[municipality_list[\"カナ\"] == \"ミキチョウ\", \"school\"] = 1\n",
    "\n",
    "print(municipality_list[(municipality_list[\"カナ\"] == \"シオガマシ\")\n",
    "                        | (municipality_list[\"カナ\"] == \"ミキチョウ\")])"
   ]
  },
  {
   "cell_type": "markdown",
   "metadata": {
    "hidden": true,
    "lc_cell_meme": {
     "current": "6935ea90-15fa-11e8-a91b-0242ac120002",
     "history": [
      {
       "current": "6935ea90-15fa-11e8-a91b-0242ac120002",
       "next": "be3df292-f9f0-11e7-82b9-0242ac110002",
       "previous": "6935e5ae-15fa-11e8-a91b-0242ac120002"
      },
      {
       "current": "6935ea90-15fa-11e8-a91b-0242ac120002",
       "next": "be3df292-f9f0-11e7-82b9-0242ac110002",
       "previous": "be3df292-f9f0-11e7-82b9-0242ac110002"
      },
      {
       "current": "6935ea90-15fa-11e8-a91b-0242ac120002",
       "next": "be3df292-f9f0-11e7-82b9-0242ac110002",
       "previous": "ead8049e-fa56-11e7-82b9-0242ac110002"
      },
      {
       "current": "6935ea90-15fa-11e8-a91b-0242ac120002",
       "next": "be3df292-f9f0-11e7-82b9-0242ac110002",
       "previous": "e8407778-163c-11e8-a91b-0242ac120002"
      }
     ],
     "next": "be3df292-f9f0-11e7-82b9-0242ac110002",
     "previous": "2fc131d2-163d-11e8-a91b-0242ac120002"
    }
   },
   "source": [
    "[こどものミライ](http://kodomomirai.com/schools/)から教室の情報を抽出し、市区町村リストに教室の有無情報を追記する。"
   ]
  },
  {
   "cell_type": "code",
   "execution_count": null,
   "metadata": {
    "hidden": true,
    "lc_cell_meme": {
     "current": "be3df292-f9f0-11e7-82b9-0242ac110002",
     "history": [
      {
       "current": "be3df292-f9f0-11e7-82b9-0242ac110002",
       "next": null,
       "previous": "76ca6148-f9f0-11e7-82b9-0242ac110002"
      },
      {
       "current": "be3df292-f9f0-11e7-82b9-0242ac110002",
       "next": "ead8049e-fa56-11e7-82b9-0242ac110002",
       "previous": "76ca6148-f9f0-11e7-82b9-0242ac110002"
      },
      {
       "current": "be3df292-f9f0-11e7-82b9-0242ac110002",
       "next": "ead8049e-fa56-11e7-82b9-0242ac110002",
       "previous": "d5a80f48-fab4-11e7-82b9-0242ac110002"
      },
      {
       "current": "be3df292-f9f0-11e7-82b9-0242ac110002",
       "next": "1d303386-fab5-11e7-82b9-0242ac110002",
       "previous": "d5a80f48-fab4-11e7-82b9-0242ac110002"
      },
      {
       "current": "be3df292-f9f0-11e7-82b9-0242ac110002",
       "next": "1d303386-fab5-11e7-82b9-0242ac110002",
       "previous": "6935ea90-15fa-11e8-a91b-0242ac120002"
      }
     ],
     "next": "64b5d422-fab5-11e7-82b9-0242ac110002",
     "previous": "6935ea90-15fa-11e8-a91b-0242ac120002"
    },
    "pinned_outputs": [
     {
      "execution_count": 22,
      "outputs": [
       {
        "name": "stdout",
        "output_type": "stream",
        "text": "2 logs recorded\n\npath: /home/jovyan/sig4ng2018/.log/20180221/20180221-082607-0053.log\nstart time: 2018-02-21 08:26:07(UTC)\nend time: 2018-02-21 08:26:07(UTC)\noutput size: 1483 bytes\n\npath: /home/jovyan/sig4ng2018/.log/20180221/20180221-082755-0067.log\nstart time: 2018-02-21 08:27:55(UTC)\nend time: 2018-02-21 08:30:42(UTC)\noutput size: 1295 bytes\n0 chunks with matched keywords or errors\n----\n東京都 : \n\n神奈川県 : \n\n千葉県 : \n\n埼玉県 : \n\n群馬県 : \n\n栃木県 : \n\n茨城県 : \n\n北海道 : \n\n青森県 : \n\n岩手県 : \n\n...\n\n高知県 : \n\n福岡県 : \n\n長崎県 : \n\n佐賀県 : \n\n熊本県 : \n\n大分県 : \n\n宮崎県 : \n\n鹿児島県 : \n\n沖縄県 : \n\nadd count : 0"
       }
      ]
     }
    ]
   },
   "outputs": [],
   "source": [
    "base_url = \"http://kodomomirai.com/schools/\"\n",
    "soup = BeautifulSoup(requests.get(base_url).content, \"lxml\")\n",
    "l = [{\"href\" : \"http://kodomomirai.com\" + link[\"href\"],\n",
    "      \"pref\" : re.sub(\"\\([0-9]+\\)\", \"\", link.get_text())}\n",
    "     for link in soup.find_all(\"a\") if link[\"href\"].find(\"prefecture\") != -1]\n",
    "\n",
    "print(\"add count : \" + str(sum(list(map(check_school, l)))))"
   ]
  },
  {
   "cell_type": "markdown",
   "metadata": {
    "hidden": true,
    "lc_cell_meme": {
     "current": "64b5d422-fab5-11e7-82b9-0242ac110002",
     "history": [
      {
       "current": "64b5d422-fab5-11e7-82b9-0242ac110002",
       "next": "ea924aa4-fa69-11e7-82b9-0242ac110002",
       "previous": "ead8049e-fa56-11e7-82b9-0242ac110002"
      },
      {
       "current": "64b5d422-fab5-11e7-82b9-0242ac110002",
       "next": "bc4e36d4-15e5-11e8-a91b-0242ac120002",
       "previous": "ead8049e-fa56-11e7-82b9-0242ac110002"
      },
      {
       "current": "64b5d422-fab5-11e7-82b9-0242ac110002",
       "next": "ea924aa4-fa69-11e7-82b9-0242ac110002",
       "previous": "ead8049e-fa56-11e7-82b9-0242ac110002"
      }
     ],
     "next": "ea924aa4-fa69-11e7-82b9-0242ac110002",
     "previous": "be3df292-f9f0-11e7-82b9-0242ac110002"
    }
   },
   "source": [
    "[子供向けプログラミング教室のリスト](https://list.open-code.club/%E5%AD%90%E4%BE%9B%E5%90%91%E3%81%91%E3%83%97%E3%83%AD%E3%82%B0%E3%83%A9%E3%83%9F%E3%83%B3%E3%82%B0%E6%95%99%E5%AE%A4%E3%81%AE%E3%83%AA%E3%82%B9%E3%83%88/)から教室の情報を抽出し、市区町村リストに教室の有無情報を追記する。"
   ]
  },
  {
   "cell_type": "code",
   "execution_count": null,
   "metadata": {
    "hidden": true,
    "lc_cell_meme": {
     "current": "ea924aa4-fa69-11e7-82b9-0242ac110002",
     "history": [
      {
       "current": "ea924aa4-fa69-11e7-82b9-0242ac110002",
       "next": null,
       "previous": "35f928d4-fa63-11e7-82b9-0242ac110002"
      },
      {
       "current": "ea924aa4-fa69-11e7-82b9-0242ac110002",
       "next": null,
       "previous": "ead8049e-fa56-11e7-82b9-0242ac110002"
      },
      {
       "current": "ea924aa4-fa69-11e7-82b9-0242ac110002",
       "next": "2e70ed56-fa7f-11e7-82b9-0242ac110002",
       "previous": "ead8049e-fa56-11e7-82b9-0242ac110002"
      },
      {
       "current": "ea924aa4-fa69-11e7-82b9-0242ac110002",
       "next": "db5a8756-fa80-11e7-82b9-0242ac110002",
       "previous": "ead8049e-fa56-11e7-82b9-0242ac110002"
      },
      {
       "current": "ea924aa4-fa69-11e7-82b9-0242ac110002",
       "next": "db5a8756-fa80-11e7-82b9-0242ac110002",
       "previous": "64b5d422-fab5-11e7-82b9-0242ac110002"
      },
      {
       "current": "ea924aa4-fa69-11e7-82b9-0242ac110002",
       "next": "ac3d91f4-fab5-11e7-82b9-0242ac110002",
       "previous": "64b5d422-fab5-11e7-82b9-0242ac110002"
      },
      {
       "current": "ea924aa4-fa69-11e7-82b9-0242ac110002",
       "next": "bdb1527e-1485-11e8-a91b-0242ac120002",
       "previous": "64b5d422-fab5-11e7-82b9-0242ac110002"
      },
      {
       "current": "ea924aa4-fa69-11e7-82b9-0242ac110002",
       "next": "b9151efe-1529-11e8-a91b-0242ac120002",
       "previous": "64b5d422-fab5-11e7-82b9-0242ac110002"
      },
      {
       "current": "ea924aa4-fa69-11e7-82b9-0242ac110002",
       "next": "b9151efe-1529-11e8-a91b-0242ac120002",
       "previous": "bc4e36d4-15e5-11e8-a91b-0242ac120002"
      }
     ],
     "next": "b9151efe-1529-11e8-a91b-0242ac120002",
     "previous": "64b5d422-fab5-11e7-82b9-0242ac110002"
    },
    "pinned_outputs": [
     {
      "execution_count": 23,
      "outputs": [
       {
        "name": "stdout",
        "output_type": "stream",
        "text": "1 logs recorded\n\npath: /home/jovyan/sig4ng2018/.log/20180221/20180221-083042-0071.log\nstart time: 2018-02-21 08:30:42(UTC)\nend time: 2018-02-21 08:31:32(UTC)\noutput size: 1244 bytes\n0 chunks with matched keywords or errors\n----\n北海道 : \n音更町, \n\n青森県 : \n\n岩手県 : \n\n宮城県 : \n\n秋田県 : \n\n山形県 : \n\n福島県 : \n\n茨城県 : \n八千代町, \n\n栃木県 : \n\n...\n高知県 : \n\n福岡県 : \n\n佐賀県 : \n\n長崎県 : \n\n熊本県 : \n\n大分県 : \n宇佐市, \n\n宮崎県 : \n\n鹿児島県 : \n\n沖縄県 : \n\nadd count : 8"
       }
      ]
     }
    ]
   },
   "outputs": [],
   "source": [
    "l = [{\"href\" : \"https://list.open-code.club/子供向けプログラミング教室のリスト/\" + pref + \"/\",\n",
    "      \"pref\" : pref} for pref in pref_list]\n",
    "\n",
    "print(\"add count : \" + str(sum(list(map(check_school, l)))))"
   ]
  },
  {
   "cell_type": "markdown",
   "metadata": {
    "hidden": true,
    "lc_cell_meme": {
     "current": "b9151efe-1529-11e8-a91b-0242ac120002",
     "next": "bdb1527e-1485-11e8-a91b-0242ac120002",
     "previous": "ea924aa4-fa69-11e7-82b9-0242ac110002"
    }
   },
   "source": [
    "[ヒューマンアカデミーロボット教室のリスト](http://kids.athuman.com/robo/CI/Store/Synopsis2/)から教室の情報を抽出し、市区町村リストに教室の有無情報を追記する。"
   ]
  },
  {
   "cell_type": "code",
   "execution_count": null,
   "metadata": {
    "hidden": true,
    "lc_cell_meme": {
     "current": "bdb1527e-1485-11e8-a91b-0242ac120002",
     "history": [
      {
       "current": "bdb1527e-1485-11e8-a91b-0242ac120002",
       "next": "ac3d91f4-fab5-11e7-82b9-0242ac110002",
       "previous": "ea924aa4-fa69-11e7-82b9-0242ac110002"
      },
      {
       "current": "bdb1527e-1485-11e8-a91b-0242ac120002",
       "next": "ac3d91f4-fab5-11e7-82b9-0242ac110002",
       "previous": "b9151efe-1529-11e8-a91b-0242ac120002"
      },
      {
       "current": "bdb1527e-1485-11e8-a91b-0242ac120002",
       "next": "240e604e-1543-11e8-a91b-0242ac120002",
       "previous": "b9151efe-1529-11e8-a91b-0242ac120002"
      },
      {
       "current": "bdb1527e-1485-11e8-a91b-0242ac120002",
       "next": "ac3d91f4-fab5-11e7-82b9-0242ac110002",
       "previous": "b9151efe-1529-11e8-a91b-0242ac120002"
      },
      {
       "current": "bdb1527e-1485-11e8-a91b-0242ac120002",
       "next": "ac3d91f4-fab5-11e7-82b9-0242ac110002",
       "previous": "bdb1527e-1485-11e8-a91b-0242ac120002"
      },
      {
       "current": "bdb1527e-1485-11e8-a91b-0242ac120002",
       "next": "ac3d91f4-fab5-11e7-82b9-0242ac110002",
       "previous": "b9151efe-1529-11e8-a91b-0242ac120002"
      }
     ],
     "next": "b9151efe-1529-11e8-a91b-0242ac120002",
     "previous": "b9151efe-1529-11e8-a91b-0242ac120002"
    },
    "pinned_outputs": [
     {
      "execution_count": 24,
      "outputs": [
       {
        "name": "stdout",
        "output_type": "stream",
        "text": "1 logs recorded\n\npath: /home/jovyan/sig4ng2018/.log/20180221/20180221-083132-0234.log\nstart time: 2018-02-21 08:31:32(UTC)\nend time: 2018-02-21 08:32:59(UTC)\noutput size: 1391 bytes\n0 chunks with matched keywords or errors\n----\n北海道 : \n\n青森県 : \n\n岩手県 : \n\n宮城県 : \n\n秋田県 : \n\n山形県 : \n\n福島県 : \n\n茨城県 : \n小美玉市, \n\n栃木県 : \n\n群馬県 : \n...\n\n福岡県 : \n\n佐賀県 : \n\n長崎県 : \n\n熊本県 : \nあさぎり町, \n\n大分県 : \n\n宮崎県 : \n\n鹿児島県 : \n\n沖縄県 : \n西原町, \n\nadd count : 13"
       }
      ]
     }
    ]
   },
   "outputs": [],
   "source": [
    "l = [{\"href\" :\n",
    "      \"http://kids.athuman.com/robo/CI/Store/Synopsis/Search/\" + \\\n",
    "      \"?Search[Page][Offset]=1&Search[Page][DispNum]=1000&Store[store_text2]=\" + pref,\n",
    "      \"pref\" : pref, \"pref_not_check\" : True} for pref in pref_list]\n",
    "\n",
    "print(\"add count : \" + str(sum(list(map(check_school, l)))))"
   ]
  },
  {
   "cell_type": "markdown",
   "metadata": {
    "hidden": true,
    "lc_cell_meme": {
     "current": "b9151efe-1529-11e8-a91b-0242ac120002",
     "history": [
      {
       "current": "b9151efe-1529-11e8-a91b-0242ac120002",
       "next": "bdb1527e-1485-11e8-a91b-0242ac120002",
       "previous": "ea924aa4-fa69-11e7-82b9-0242ac110002"
      }
     ],
     "next": "bdb1527e-1485-11e8-a91b-0242ac120002",
     "previous": "bdb1527e-1485-11e8-a91b-0242ac120002"
    }
   },
   "source": [
    "[アーテック エジソンアカデミーロボットプログラミング教室のリスト](http://edisonacademy.artec-kk.co.jp/robot/search.php)から教室の情報を抽出し、市区町村リストに教室の有無情報を追記する。"
   ]
  },
  {
   "cell_type": "code",
   "execution_count": null,
   "metadata": {
    "hidden": true,
    "lc_cell_meme": {
     "current": "bdb1527e-1485-11e8-a91b-0242ac120002",
     "history": [
      {
       "current": "bdb1527e-1485-11e8-a91b-0242ac120002",
       "next": "ac3d91f4-fab5-11e7-82b9-0242ac110002",
       "previous": "ea924aa4-fa69-11e7-82b9-0242ac110002"
      },
      {
       "current": "bdb1527e-1485-11e8-a91b-0242ac120002",
       "next": "ac3d91f4-fab5-11e7-82b9-0242ac110002",
       "previous": "b9151efe-1529-11e8-a91b-0242ac120002"
      },
      {
       "current": "bdb1527e-1485-11e8-a91b-0242ac120002",
       "next": "240e604e-1543-11e8-a91b-0242ac120002",
       "previous": "b9151efe-1529-11e8-a91b-0242ac120002"
      },
      {
       "current": "bdb1527e-1485-11e8-a91b-0242ac120002",
       "next": "ac3d91f4-fab5-11e7-82b9-0242ac110002",
       "previous": "b9151efe-1529-11e8-a91b-0242ac120002"
      },
      {
       "current": "bdb1527e-1485-11e8-a91b-0242ac120002",
       "next": "ac3d91f4-fab5-11e7-82b9-0242ac110002",
       "previous": "bdb1527e-1485-11e8-a91b-0242ac120002"
      }
     ],
     "next": "ac3d91f4-fab5-11e7-82b9-0242ac110002",
     "previous": "b9151efe-1529-11e8-a91b-0242ac120002"
    },
    "pinned_outputs": [
     {
      "execution_count": 25,
      "outputs": [
       {
        "name": "stdout",
        "output_type": "stream",
        "text": "2 logs recorded\n\npath: /home/jovyan/sig4ng2018/.log/20180221/20180221-083132-0234.log\nstart time: 2018-02-21 08:31:32(UTC)\nend time: 2018-02-21 08:32:59(UTC)\noutput size: 1391 bytes\n\npath: /home/jovyan/sig4ng2018/.log/20180221/20180221-083259-0742.log\nstart time: 2018-02-21 08:32:59(UTC)\nend time: 2018-02-21 08:33:33(UTC)\noutput size: 1223 bytes\n0 chunks with matched keywords or errors\n----\n北海道 : \n\n青森県 : \n\n岩手県 : \n\n宮城県 : \n\n秋田県 : \n\n山形県 : \n\n福島県 : \n\n茨城県 : \n\n栃木県 : \n\n群馬県 : \n\n...\n\n高知県 : \n\n福岡県 : \n\n佐賀県 : \n\n長崎県 : \n\n熊本県 : \n\n大分県 : \n\n宮崎県 : \n\n鹿児島県 : \n\n沖縄県 : \n糸満市, \nadd count : 3"
       }
      ]
     }
    ]
   },
   "outputs": [],
   "source": [
    "l = [{\"href\" : \"http://edisonacademy.artec-kk.co.jp/robot/search_city.php?pref_id=\" + \\\n",
    "      \"{0:02d}\".format(i + 1),\n",
    "      \"pref\" : pref_list[i], \"pref_not_check\" : True} for i in range(47)]\n",
    "\n",
    "print(\"add count : \" + str(sum(list(map(check_school, l)))))"
   ]
  },
  {
   "cell_type": "markdown",
   "metadata": {
    "hidden": true,
    "lc_cell_meme": {
     "current": "ac3d91f4-fab5-11e7-82b9-0242ac110002",
     "history": [
      {
       "current": "ac3d91f4-fab5-11e7-82b9-0242ac110002",
       "next": "db5a8756-fa80-11e7-82b9-0242ac110002",
       "previous": "ea924aa4-fa69-11e7-82b9-0242ac110002"
      },
      {
       "current": "ac3d91f4-fab5-11e7-82b9-0242ac110002",
       "next": "db5a8756-fa80-11e7-82b9-0242ac110002",
       "previous": "bdb1527e-1485-11e8-a91b-0242ac120002"
      },
      {
       "current": "ac3d91f4-fab5-11e7-82b9-0242ac110002",
       "next": "db5a8756-fa80-11e7-82b9-0242ac110002",
       "previous": "240e604e-1543-11e8-a91b-0242ac120002"
      }
     ],
     "next": "db5a8756-fa80-11e7-82b9-0242ac110002",
     "previous": "bdb1527e-1485-11e8-a91b-0242ac120002"
    }
   },
   "source": [
    "独自に用意した Hour of Code 2017 日本国内会場のリスト（主催が外国人コミュニティではないと考えられるもののみ抽出）から開催地の情報を抽出し、市区町村リストに教室の有無情報を追記する。"
   ]
  },
  {
   "cell_type": "markdown",
   "metadata": {
    "hidden": true,
    "lc_cell_meme": {
     "current": "db5a8756-fa80-11e7-82b9-0242ac110002",
     "history": [
      {
       "current": "db5a8756-fa80-11e7-82b9-0242ac110002",
       "next": null,
       "previous": "2e70ed56-fa7f-11e7-82b9-0242ac110002"
      },
      {
       "current": "db5a8756-fa80-11e7-82b9-0242ac110002",
       "next": "2e70ed56-fa7f-11e7-82b9-0242ac110002",
       "previous": "ea924aa4-fa69-11e7-82b9-0242ac110002"
      },
      {
       "current": "db5a8756-fa80-11e7-82b9-0242ac110002",
       "next": "db5a8756-fa80-11e7-82b9-0242ac110002",
       "previous": "ea924aa4-fa69-11e7-82b9-0242ac110002"
      },
      {
       "current": "db5a8756-fa80-11e7-82b9-0242ac110002",
       "next": "db5a8756-fa80-11e7-82b9-0242ac110002",
       "previous": "ac3d91f4-fab5-11e7-82b9-0242ac110002"
      }
     ],
     "next": "f3c2a640-fab5-11e7-82b9-0242ac110002",
     "previous": "ac3d91f4-fab5-11e7-82b9-0242ac110002"
    },
    "pinned_outputs": [
     {
      "execution_count": 20,
      "outputs": [
       {
        "name": "stdout",
        "output_type": "stream",
        "text": "      団体コード  市区町村名        かな 都道府県名    MEA  school\n0      1100    札幌市     サッポロシ   北海道   1100       1\n5      1206    釧路市      クシロシ   北海道   1206       1\n6      1207    帯広市     オビヒロシ   北海道   1207       1\n7      1208    北見市      キタミシ   北海道   1208       1\n16     1217    江別市      エベツシ   北海道   1100       1\n29     1230    登別市    ノボリベツシ   北海道   1205       1\n33     1235    石狩市     イシカリシ   北海道   1100       1\n62     1400   倶知安町  クッチャンチョウ   北海道   1400       1\n126    1549   訓子府町  クンネップチョウ   北海道   1208       1\n143    1601    日高町    ヒダカチョウ   北海道      0       1\n150    1631    音更町   オトフケチョウ   北海道   1207       1\n177    1693    標津町    シベツチョウ   北海道      0       1\n179    2201    青森市     アオモリシ   青森県   2201       1\n180    2202    弘前市     ヒロサキシ   青森県   2202       1\n181    2203    八戸市     ハチノヘシ   青森県   2203       1\n183    2205  五所川原市   ゴショガワラシ   青森県   2205       1\n219    3201    盛岡市     モリオカシ   岩手県   3201       1\n223    3206    北上市     キタカミシ   岩手県   3206       1\n226    3209    一関市    イチノセキシ   岩手県   3209       1\n237    3322    矢巾町    ヤハバチョウ   岩手県   3201       1\n245    3484   田野畑村    タノハタムラ   岩手県      0       1\n252    4100    仙台市     センダイシ   宮城県   4100       1\n253    4202    石巻市    イシノマキシ   宮城県   4202       1\n256    4206    白石市     シロイシシ   宮城県   4206       1\n257    4207    名取市      ナトリシ   宮城県   4100       1\n258    4208    角田市      カクダシ   宮城県      0       1\n260    4211    岩沼市     イワヌマシ   宮城県   4100       1\n261    4212    登米市       トメシ   宮城県      0       1\n264    4215    大崎市     オオサキシ   宮城県   4215       1\n270    4323    柴田町     シバタマチ   宮城県   4100       1\n...     ...    ...       ...   ...    ...     ...\n1603  43501     錦町     ニシキマチ   熊本県  43203       1\n1613  44201    大分市     オオイタシ   大分県  44201       1\n1614  44202    別府市      ベップシ   大分県  44201       1\n1615  44203    中津市      ナカツシ   大分県  44203       1\n1616  44204    日田市       ヒタシ   大分県  44204       1\n1623  44211    宇佐市       ウサシ   大分県  44203       1\n1631  45201    宮崎市     ミヤザキシ   宮崎県  45201       1\n1632  45202    都城市  ミヤコノジョウシ   宮崎県  45202       1\n1633  45203    延岡市     ノベオカシ   宮崎県  45203       1\n1634  45204    日南市     ニチナンシ   宮崎県  45204       1\n1636  45206    日向市     ヒュウガシ   宮崎県  45206       1\n1642  45382    国富町   クニトミチョウ   宮崎県  45201       1\n1657  46201   鹿児島市     カゴシマシ  鹿児島県  46201       1\n1658  46203    鹿屋市      カノヤシ  鹿児島県  46203       1\n1661  46208    出水市      イズミシ  鹿児島県      0       1\n1665  46215  薩摩川内市  サツマセンダイシ  鹿児島県  46215       1\n1666  46216    日置市      ヒオキシ  鹿児島県  46201       1\n1668  46218    霧島市     キリシマシ  鹿児島県  46218       1\n1675  46225    姶良市      アイラシ  鹿児島県  46201       1\n1681  46468    大崎町   オオサキチョウ  鹿児島県  46203       1\n1700  47201    那覇市       ナハシ   沖縄県  47201       1\n1701  47205   宜野湾市     ギノワンシ   沖縄県  47201       1\n1702  47207    石垣市     イシガキシ   沖縄県  47207       1\n1703  47208    浦添市     ウラソエシ   沖縄県  47201       1\n1704  47209    名護市       ナゴシ   沖縄県  47209       1\n1706  47211    沖縄市     オキナワシ   沖縄県  47211       1\n1707  47212   豊見城市    トミグスクシ   沖縄県  47201       1\n1708  47213   うるま市      ウルマシ   沖縄県  47211       1\n1721  47325   嘉手納町    カデナチョウ   沖縄県  47211       1\n1727  47350   南風原町   ハエバルチョウ   沖縄県  47201       1\n\n[618 rows x 6 columns]\n"
       }
      ]
     }
    ]
   },
   "source": [
    "### HoCは定常的な体験機会を作らないので、外すことにした\n",
    "### csvの読み取り\n",
    "df= pd.read_csv(\"hoc2017jp.csv\", encoding=\"cp932\")\n",
    "\n",
    "for row in df.itertuples():\n",
    "    t = municipality_list[municipality_list[\"都道府県名\"] == row.都道府県]\n",
    "    c = t[t[\"市区町村名\"] == row.市区町村].reset_index()\n",
    "    municipality_list.loc[municipality_list[\"団体コード\"] == c.団体コード[0], \"school\"] = 1\n",
    "\n",
    "print(municipality_list[municipality_list[\"school\"] == 1])"
   ]
  },
  {
   "cell_type": "markdown",
   "metadata": {
    "hidden": true,
    "lc_cell_meme": {
     "current": "f3c2a640-fab5-11e7-82b9-0242ac110002",
     "next": "db5a8756-fa80-11e7-82b9-0242ac110002",
     "previous": "db5a8756-fa80-11e7-82b9-0242ac110002"
    }
   },
   "source": [
    "独自に用意した Coder Dojo 日本国内会場のリストから開催地の情報を抽出し、市区町村リストに教室の有無情報を追記する。（リスト内に、ここまでのリスト以外に別途確認できた体験機会を追記した）"
   ]
  },
  {
   "cell_type": "code",
   "execution_count": null,
   "metadata": {
    "hidden": true,
    "lc_cell_meme": {
     "current": "db5a8756-fa80-11e7-82b9-0242ac110002",
     "history": [
      {
       "current": "db5a8756-fa80-11e7-82b9-0242ac110002",
       "next": null,
       "previous": "2e70ed56-fa7f-11e7-82b9-0242ac110002"
      },
      {
       "current": "db5a8756-fa80-11e7-82b9-0242ac110002",
       "next": "2e70ed56-fa7f-11e7-82b9-0242ac110002",
       "previous": "ea924aa4-fa69-11e7-82b9-0242ac110002"
      },
      {
       "current": "db5a8756-fa80-11e7-82b9-0242ac110002",
       "next": "2e70ed56-fa7f-11e7-82b9-0242ac110002",
       "previous": "db5a8756-fa80-11e7-82b9-0242ac110002"
      }
     ],
     "next": "f3c2a758-fab5-11e7-82b9-0242ac110002",
     "previous": "f3c2a640-fab5-11e7-82b9-0242ac110002"
    },
    "pinned_outputs": [
     {
      "execution_count": 26,
      "outputs": [
       {
        "name": "stdout",
        "output_type": "stream",
        "text": "1 logs recorded\n\npath: /home/jovyan/sig4ng2018/.log/20180221/20180221-083333-0482.log\nstart time: 2018-02-21 08:33:33(UTC)\nend time: 2018-02-21 08:33:34(UTC)\noutput size: 651 bytes\n0 chunks with matched keywords or errors\n----\n"
       }
      ]
     }
    ]
   },
   "outputs": [],
   "source": [
    "# csvの読み取り\n",
    "df= pd.read_csv(\"cd2018.csv\", encoding=\"cp932\")\n",
    "\n",
    "for row in df.itertuples():\n",
    "    t = municipality_list[municipality_list[\"都道府県名\"] == row.都道府県]\n",
    "    c = t[t[\"市区町村名\"] == row.市区町村].reset_index()\n",
    "    municipality_list.loc[municipality_list[\"団体コード\"] == c.団体コード[0], \"school\"] = 1"
   ]
  },
  {
   "cell_type": "markdown",
   "metadata": {
    "hidden": true,
    "lc_cell_meme": {
     "current": "f3c2a758-fab5-11e7-82b9-0242ac110002",
     "history": [
      {
       "current": "f3c2a758-fab5-11e7-82b9-0242ac110002",
       "next": "2e70ed56-fa7f-11e7-82b9-0242ac110002",
       "previous": "db5a8756-fa80-11e7-82b9-0242ac110002"
      },
      {
       "current": "f3c2a758-fab5-11e7-82b9-0242ac110002",
       "next": "11dc2722-fab7-11e7-82b9-0242ac110002",
       "previous": "db5a8756-fa80-11e7-82b9-0242ac110002"
      }
     ],
     "next": "2e70ed56-fa7f-11e7-82b9-0242ac110002",
     "previous": "db5a8756-fa80-11e7-82b9-0242ac110002"
    }
   },
   "source": [
    "同じ都市雇用圏に属する市区町村に体験機会がある場合、その市区町村にも体験機会があると見なし、市区町村リストに教室の有無情報を追記する。"
   ]
  },
  {
   "cell_type": "code",
   "execution_count": null,
   "metadata": {
    "hidden": true,
    "lc_cell_meme": {
     "current": "2e70ed56-fa7f-11e7-82b9-0242ac110002",
     "history": [
      {
       "current": "2e70ed56-fa7f-11e7-82b9-0242ac110002",
       "next": null,
       "previous": "ea924aa4-fa69-11e7-82b9-0242ac110002"
      },
      {
       "current": "2e70ed56-fa7f-11e7-82b9-0242ac110002",
       "next": "db5a8756-fa80-11e7-82b9-0242ac110002",
       "previous": "ea924aa4-fa69-11e7-82b9-0242ac110002"
      },
      {
       "current": "2e70ed56-fa7f-11e7-82b9-0242ac110002",
       "next": null,
       "previous": "db5a8756-fa80-11e7-82b9-0242ac110002"
      },
      {
       "current": "2e70ed56-fa7f-11e7-82b9-0242ac110002",
       "next": "719a312c-fa99-11e7-82b9-0242ac110002",
       "previous": "db5a8756-fa80-11e7-82b9-0242ac110002"
      },
      {
       "current": "2e70ed56-fa7f-11e7-82b9-0242ac110002",
       "next": "719a312c-fa99-11e7-82b9-0242ac110002",
       "previous": "f3c2a758-fab5-11e7-82b9-0242ac110002"
      },
      {
       "current": "2e70ed56-fa7f-11e7-82b9-0242ac110002",
       "next": "82d255ec-fab6-11e7-82b9-0242ac110002",
       "previous": "f3c2a758-fab5-11e7-82b9-0242ac110002"
      },
      {
       "current": "2e70ed56-fa7f-11e7-82b9-0242ac110002",
       "next": "11dc2722-fab7-11e7-82b9-0242ac110002",
       "previous": "f3c2a758-fab5-11e7-82b9-0242ac110002"
      },
      {
       "current": "2e70ed56-fa7f-11e7-82b9-0242ac110002",
       "next": "c5e53304-1546-11e8-a91b-0242ac120002",
       "previous": "f3c2a758-fab5-11e7-82b9-0242ac110002"
      },
      {
       "current": "2e70ed56-fa7f-11e7-82b9-0242ac110002",
       "next": "53d8f9b8-16c1-11e8-a91b-0242ac120002",
       "previous": "f3c2a758-fab5-11e7-82b9-0242ac110002"
      },
      {
       "current": "2e70ed56-fa7f-11e7-82b9-0242ac110002",
       "next": "2a6c68ac-16c2-11e8-a91b-0242ac120002",
       "previous": "f3c2a758-fab5-11e7-82b9-0242ac110002"
      }
     ],
     "next": "53d8f9b8-16c1-11e8-a91b-0242ac120002",
     "previous": "f3c2a758-fab5-11e7-82b9-0242ac110002"
    },
    "pinned_outputs": [
     {
      "execution_count": 27,
      "outputs": [
       {
        "name": "stdout",
        "output_type": "stream",
        "text": "1 logs recorded\n\npath: /home/jovyan/sig4ng2018/.log/20180221/20180221-083334-0162.log\nstart time: 2018-02-21 08:33:34(UTC)\nend time: 2018-02-21 08:33:36(UTC)\noutput size: 467 bytes\n0 chunks with matched keywords or errors\n----\n"
       }
      ]
     }
    ],
    "scrolled": true
   },
   "outputs": [],
   "source": [
    "t = municipality_list[municipality_list[\"MEA\"] != 0]\n",
    "for mea in t[t[\"school\"] == 1][\"MEA\"] :\n",
    "    municipality_list.loc[municipality_list[\"MEA\"] == mea, \"school\"] = 1"
   ]
  },
  {
   "cell_type": "markdown",
   "metadata": {
    "heading_collapsed": true,
    "lc_cell_meme": {
     "current": "53d8f9b8-16c1-11e8-a91b-0242ac120002",
     "history": [
      {
       "current": "53d8f9b8-16c1-11e8-a91b-0242ac120002",
       "next": "c5e53304-1546-11e8-a91b-0242ac120002",
       "previous": "2e70ed56-fa7f-11e7-82b9-0242ac110002"
      },
      {
       "current": "53d8f9b8-16c1-11e8-a91b-0242ac120002",
       "next": "c5e53304-1546-11e8-a91b-0242ac120002",
       "previous": "2a6c68ac-16c2-11e8-a91b-0242ac120002"
      }
     ],
     "next": "c5e53304-1546-11e8-a91b-0242ac120002",
     "previous": "2e70ed56-fa7f-11e7-82b9-0242ac110002"
    }
   },
   "source": [
    "## 体験機会のない中心都市の分析\n",
    "\n",
    "体験機会のない中心都市を抽出し、圏内の小中学生総数を求める。"
   ]
  },
  {
   "cell_type": "code",
   "execution_count": null,
   "metadata": {
    "hidden": true,
    "lc_cell_meme": {
     "current": "c5e53304-1546-11e8-a91b-0242ac120002",
     "history": [
      {
       "current": "c5e53304-1546-11e8-a91b-0242ac120002",
       "next": "11dc2722-fab7-11e7-82b9-0242ac110002",
       "previous": "2e70ed56-fa7f-11e7-82b9-0242ac110002"
      },
      {
       "current": "c5e53304-1546-11e8-a91b-0242ac120002",
       "next": "54ed9a8c-1547-11e8-a91b-0242ac120002",
       "previous": "2e70ed56-fa7f-11e7-82b9-0242ac110002"
      },
      {
       "current": "c5e53304-1546-11e8-a91b-0242ac120002",
       "next": "54ed9a8c-1547-11e8-a91b-0242ac120002",
       "previous": "53d8f9b8-16c1-11e8-a91b-0242ac120002"
      },
      {
       "current": "c5e53304-1546-11e8-a91b-0242ac120002",
       "next": "900d1f84-16c3-11e8-a91b-0242ac120002",
       "previous": "53d8f9b8-16c1-11e8-a91b-0242ac120002"
      },
      {
       "current": "c5e53304-1546-11e8-a91b-0242ac120002",
       "next": "11dc2722-fab7-11e7-82b9-0242ac110002",
       "previous": "53d8f9b8-16c1-11e8-a91b-0242ac120002"
      }
     ],
     "next": "9b1e4144-16d4-11e8-a91b-0242ac120002",
     "previous": "53d8f9b8-16c1-11e8-a91b-0242ac120002"
    },
    "pinned_outputs": [
     {
      "execution_count": 28,
      "outputs": [
       {
        "name": "stdout",
        "output_type": "stream",
        "text": "1 logs recorded\n\npath: /home/jovyan/sig4ng2018/.log/20180221/20180221-083336-0517.log\nstart time: 2018-02-21 08:33:36(UTC)\nend time: 2018-02-21 08:33:40(UTC)\noutput size: 7845 bytes\n18 chunks with matched keywords or errors\n----\n/opt/conda/lib/python3.6/site-packages/ipykernel_launcher.py:5: SettingWithCopyWarning: \nA value is trying to be set on a copy of a slice from a DataFrame.\nTry using .loc[row_indexer,col_indexer] = value instead\n\nSee the caveats in the documentation: http://pandas.pydata.org/pandas-docs/stable/indexing.html#indexing-view-versus-copy\n  \"\"\"\n/opt/conda/lib/python3.6/site-packages/ipykernel_launcher.py:6: SettingWithCopyWarning: \nA value is trying to be set on a copy of a slice from a DataFrame.\nTry using .loc[row_indexer,col_indexer] = value instead\n\nSee the caveats in the documentation: http://pandas.pydata.org/pandas-docs/stable/indexing.html#indexing-view-versus-copy\n  \n/opt/conda/lib/python3.6/site-packages/pandas/core/indexing.py:537: SettingWithCopyWarning: \nA value is trying to be set on a copy of a slice from a DataFrame.\nTry using .loc[row_indexer,col_indexer] = value instead\n\nSee the caveats in the documentation: http://pandas.pydata.org/pandas-docs/stable/indexing.html#indexing-view-versus-copy\n  self.obj[item] = s\n      団体コード  市区町村名         カナ 都道府県名   小中学生    MEA  school  圏内小中学生  圏内自治体数\n3      1204    旭川市     アサヒカワシ   北海道  26789   1204       0   30371       7\n...\n\u001b[0;31m/opt/conda/lib/python3.6/site-packages/ipykernel_launcher.py:5: SettingWithCopyWarning: \u001b[0m\n\u001b[0;31mA value is trying to be set on a copy of a slice from a DataFrame.\u001b[0m\n\u001b[0;31mTry using .loc[row_indexer,col_indexer] = value instead\u001b[0m\n\u001b[0;31m\u001b[0m\n\u001b[0;31mSee the caveats in the documentation: http://pandas.pydata.org/pandas-docs/stable/indexing.html#indexing-view-versus-copy\u001b[0m\n\u001b[0;31m  \"\"\"\u001b[0m\n\u001b[0;31m/opt/conda/lib/python3.6/site-packages/ipykernel_launcher.py:6: SettingWithCopyWarning: \u001b[0m\n\u001b[0;31mA value is trying to be set on a copy of a slice from a DataFrame.\u001b[0m\n\u001b[0;31mTry using .loc[row_indexer,col_indexer] = value instead\u001b[0m\n\u001b[0;31m\u001b[0m\n\u001b[0;31mSee the caveats in the documentation: http://pandas.pydata.org/pandas-docs/stable/indexing.html#indexing-view-versus-copy\u001b[0m\n\u001b[0;31m  \u001b[0m\n\u001b[0;31m/opt/conda/lib/python3.6/site-packages/pandas/core/indexing.py:537: SettingWithCopyWarning: \u001b[0m\n\u001b[0;31mA value is trying to be set on a copy of a slice from a DataFrame.\u001b[0m\n\u001b[0;31mTry using .loc[row_indexer,col_indexer] = value instead\u001b[0m\n\u001b[0;31m\u001b[0m\n\u001b[0;31mSee the caveats in the documentation: http://pandas.pydata.org/pandas-docs/stable/indexing.html#indexing-view-versus-copy\u001b[0m\n\u001b[0;31m  self.obj[item] = s\u001b[0m\n...\n1416  38204   八幡浜市     ヤワタハマシ   愛媛県   2515  38204       0    3077       2\n10     1211    網走市      アバシリシ   北海道   3034   1211       0    3034       1\n1556  42211    五島市       ゴトウシ   長崎県   2893  42211       0    2893       1\n676   13303    瑞穂町      ミズホマチ   東京都   2879  13303       0    2879       1\n13     1214    稚内市     ワッカナイシ   北海道   2777   1214       0    2777       1\n1572  43205    水俣市      ミナマタシ   熊本県   2023  43205       0    2390       2\n149    1610  新ひだか町   シンヒダカチョウ   北海道   1837   1610       0    2341       2\n28     1229   富良野市       フラノシ   北海道   1864   1229       0    2340       2\n20     1221    名寄市       ナヨロシ   北海道   2232   1221       0    2232       1\n22     1223    根室市       ネムロシ   北海道   2031   1223       0    2031       1\n11     1212    留萌市       ルモイシ   北海道   1503   1212       0    1993       3\n62     1400   倶知安町   クッチャンチョウ   北海道   1377   1400       0    1791       2\n27     1228    深川市      フカガワシ   北海道   1358   1228       0    1694       3\n19     1220    士別市       シベツシ   北海道   1435   1220       0    1671       2\n1659  46204    枕崎市     マクラザキシ  鹿児島県   1661  46204       0    1661       1\n129    1555    遠軽町    エンガルチョウ   北海道   1644   1555       0    1644       1\n121    1543    美幌町     ビホロチョウ   北海道   1610   1543       0    1610       1\n18     1219    紋別市      モンベツシ   北海道   1584   1219       0    1584       1\n64     1402    岩内町    イワナイチョウ   北海道    943   1402       0    1551       3\n14     1215    美唄市       ビバイシ   北海道   1355   1215       0    1355       1"
       }
      ]
     }
    ]
   },
   "outputs": [],
   "source": [
    "target_municipality_list = municipality_list[(municipality_list[\"school\"] == 0)\n",
    "                                             & (municipality_list[\"MEA\"] == \\\n",
    "                                                municipality_list[\"団体コード\"])]\n",
    "\n",
    "target_municipality_list[\"圏内小中学生\"] = 0\n",
    "target_municipality_list[\"圏内自治体数\"] = 0\n",
    "\n",
    "for target in target_municipality_list.itertuples() :\n",
    "    family = municipality_list[municipality_list[\"MEA\"] == target.MEA]\n",
    "    target_municipality_list.loc[target_municipality_list[\"団体コード\"] == target.団体コード,\n",
    "                                \"圏内小中学生\"] = sum(family[\"小中学生\"])\n",
    "    target_municipality_list.loc[target_municipality_list[\"団体コード\"] == target.団体コード,\n",
    "                                \"圏内自治体数\"] = len(family.index)\n",
    "\n",
    "print(target_municipality_list.sort_values(by=\"圏内小中学生\", ascending=False))"
   ]
  },
  {
   "cell_type": "markdown",
   "metadata": {
    "heading_collapsed": true,
    "lc_cell_meme": {
     "current": "9b1e4144-16d4-11e8-a91b-0242ac120002",
     "history": [
      {
       "current": "9b1e4144-16d4-11e8-a91b-0242ac120002",
       "next": "11dc2722-fab7-11e7-82b9-0242ac110002",
       "previous": "c5e53304-1546-11e8-a91b-0242ac120002"
      }
     ],
     "next": "719a312c-fa99-11e7-82b9-0242ac110002",
     "previous": "c5e53304-1546-11e8-a91b-0242ac120002"
    }
   },
   "source": [
    "## 地図作成\n",
    "\n",
    "都市雇用圏による修正を加えて、市区町村毎に体験機会の有無データを生成できたので、地図に示す。体験機会のない市区町村は赤塗で表現される。\n",
    "\n",
    "北海道。"
   ]
  },
  {
   "cell_type": "code",
   "execution_count": null,
   "metadata": {
    "hidden": true,
    "lc_cell_meme": {
     "current": "719a312c-fa99-11e7-82b9-0242ac110002",
     "history": [
      {
       "current": "719a312c-fa99-11e7-82b9-0242ac110002",
       "next": null,
       "previous": "2e70ed56-fa7f-11e7-82b9-0242ac110002"
      },
      {
       "current": "719a312c-fa99-11e7-82b9-0242ac110002",
       "next": "8fb0b81a-fa9a-11e7-82b9-0242ac110002",
       "previous": "2e70ed56-fa7f-11e7-82b9-0242ac110002"
      },
      {
       "current": "719a312c-fa99-11e7-82b9-0242ac110002",
       "next": "8fb0b81a-fa9a-11e7-82b9-0242ac110002",
       "previous": "82d255ec-fab6-11e7-82b9-0242ac110002"
      },
      {
       "current": "719a312c-fa99-11e7-82b9-0242ac110002",
       "next": "ca562088-fab6-11e7-82b9-0242ac110002",
       "previous": "82d255ec-fab6-11e7-82b9-0242ac110002"
      },
      {
       "current": "719a312c-fa99-11e7-82b9-0242ac110002",
       "next": "ca562088-fab6-11e7-82b9-0242ac110002",
       "previous": "11dc2722-fab7-11e7-82b9-0242ac110002"
      },
      {
       "current": "719a312c-fa99-11e7-82b9-0242ac110002",
       "next": "ca562088-fab6-11e7-82b9-0242ac110002",
       "previous": "0c579680-16c1-11e8-a91b-0242ac120002"
      },
      {
       "current": "719a312c-fa99-11e7-82b9-0242ac110002",
       "next": "ca562088-fab6-11e7-82b9-0242ac110002",
       "previous": "11dc2722-fab7-11e7-82b9-0242ac110002"
      }
     ],
     "next": "ca562088-fab6-11e7-82b9-0242ac110002",
     "previous": "9b1e4144-16d4-11e8-a91b-0242ac120002"
    },
    "pinned_outputs": [
     {
      "execution_count": 29,
      "outputs": [
       {
        "name": "stdout",
        "output_type": "stream",
        "text": "1 logs recorded\n\npath: /home/jovyan/sig4ng2018/.log/20180221/20180221-083340-0572.log\nstart time: 2018-02-21 08:33:40(UTC)\nend time: 2018-02-21 08:33:40(UTC)\noutput size: 3541 bytes\n0 chunks with matched keywords or errors\n----\nhttp://map.olp.yahooapis.jp/OpenLocalPlatform/V1/static?&width=2000&height=2000&lat=43.5&lon=142.2&z=10&appid=dj00aiZpPXRVRTJKRFRGb3dLeSZzPWNvbnN1bWVyc2VjcmV0Jng9MWU-&mode=blankmap&style=bm.p.01204:FF0000|bm.p.01209:FF0000|bm.p.01210:FF0000|bm.p.01211:FF0000|bm.p.01212:FF0000|bm.p.01213:FF0000|bm.p.01214:FF0000|bm.p.01215:FF0000|bm.p.01216:FF0000|bm.p.01218:FF0000|bm.p.01219:FF0000|bm.p.01220:FF0000|bm.p.01221:FF0000|bm.p.01222:FF0000|bm.p.01223:FF0000|bm.p.01225:FF0000|bm.p.01226:FF0000|bm.p.01227:FF0000|bm.p.01228:FF0000|bm.p.01229:FF0000|bm.p.01304:FF0000|bm.p.01331:FF0000|bm.p.01332:FF0000|bm.p.01333:FF0000|bm.p.01334:FF0000|bm.p.01343:FF0000|bm.p.01345:FF0000|bm.p.01346:FF0000|bm.p.01347:FF0000|bm.p.01361:FF0000|bm.p.01362:FF0000|bm.p.01363:FF0000|bm.p.01364:FF0000|bm.p.01367:FF0000|bm.p.01370:FF0000|bm.p.01371:FF0000|bm.p.01391:FF0000|bm.p.01392:FF0000|bm.p.01393:FF0000|bm.p.01394:FF0000|bm.p.01395:FF0000|bm.p.01396:FF0000|bm.p.01397:FF0000|bm.p.01398:FF0000|bm.p.01399:FF0000|bm.p.01400:FF0000|bm.p.01401:FF0000|bm.p.01402:FF0000|bm.p.01403:FF0000|bm.p.01404:FF0000|bm.p.01405:FF0000|bm.p.01406:FF0000|bm.p.01409:FF0000|bm.p.01424:FF0000|bm.p.01425:FF0000|bm.p.01427:FF0000|bm.p.01428:FF0000|bm.p.01429:FF0000|bm.p.01430:FF0000|bm.p.01431:FF0000|bm.p.01432:FF0000|bm.p.01433:FF0000|bm.p.01434:FF0000|bm.p.01436:FF0000|bm.p.01437:FF0000|bm.p.01438:FF0000|bm.p.01452:FF0000|bm.p.01453:FF0000|bm.p.01454:FF0000|bm.p.01455:FF0000|bm.p.01456:FF0000|bm.p.01457:FF0000|bm.p.01458:FF0000|bm.p.01459:FF0000|bm.p.01460:FF0000|bm.p.01461:FF0000|bm.p.01462:FF0000|bm.p.01463:FF0000|bm.p.01464:FF0000|bm.p.01465:FF0000|bm.p.01468:FF0000|bm.p.01469:FF0000|bm.p.01470:FF0000|bm.p.01471:FF0000|bm.p.01472:FF0000|bm.p.01481:FF0000|bm.p.01482:FF0000|bm.p.01483:FF0000|bm.p.01484:FF0000|bm.p.01485:FF0000|bm.p.01486:FF0000|bm.p.01487:FF0000|bm.p.01511:FF0000|bm.p.01512:FF0000|bm.p.01513:FF0000|bm.p.01514:FF0000|bm.p.01516:FF0000|bm.p.01517:FF0000|bm.p.01518:FF0000|bm.p.01519:FF0000|bm.p.01520:FF0000|bm.p.01543:FF0000|bm.p.01544:FF0000|bm.p.01545:FF0000|bm.p.01546:FF0000|bm.p.01547:FF0000|bm.p.01550:FF0000|bm.p.01552:FF0000|bm.p.01555:FF0000|bm.p.01559:FF0000|bm.p.01560:FF0000|bm.p.01561:FF0000|bm.p.01562:FF0000|bm.p.01563:FF0000|bm.p.01564:FF0000|bm.p.01578:FF0000|bm.p.01581:FF0000|bm.p.01586:FF0000|bm.p.01602:FF0000|bm.p.01604:FF0000|bm.p.01607:FF0000|bm.p.01608:FF0000|bm.p.01609:FF0000|bm.p.01610:FF0000|bm.p.01632:FF0000|bm.p.01633:FF0000|bm.p.01634:FF0000|bm.p.01635:FF0000|bm.p.01636:FF0000|bm.p.01639:FF0000|bm.p.01641:FF0000|bm.p.01642:FF0000|bm.p.01644:FF0000|bm.p.01645:FF0000|bm.p.01646:FF0000|bm.p.01647:FF0000|bm.p.01648:FF0000|bm.p.01649:FF0000|bm.p.01662:FF0000|bm.p.01663:FF0000|bm.p.01664:FF0000|bm.p.01665:FF0000|bm.p.01691:FF0000|bm.p.01692:FF0000|bm.p.01694:FF0000|"
       }
      ]
     }
    ],
    "scrolled": true
   },
   "outputs": [],
   "source": [
    "url = \"http://map.olp.yahooapis.jp/OpenLocalPlatform/V1/static?\" + \\\n",
    "    \"&width=2000&height=2000&lat=43.5&lon=142.2&z=10&\" + \\\n",
    "    \"appid=dj00aiZpPXRVRTJKRFRGb3dLeSZzPWNvbnN1bWVyc2VjcmV0Jng9MWU-&mode=blankmap&style=\"\n",
    "for row in municipality_list[municipality_list[\"school\"] == 0].itertuples() :\n",
    "    if math.floor(row.団体コード / 1000) == 1 :\n",
    "        url = url + \"bm.p.\" + '{0:05d}'.format(row.団体コード) + \":FF0000|\"\n",
    "\n",
    "print(url)"
   ]
  },
  {
   "cell_type": "markdown",
   "metadata": {
    "hidden": true,
    "lc_cell_meme": {
     "current": "ca562088-fab6-11e7-82b9-0242ac110002",
     "next": "8fb0b81a-fa9a-11e7-82b9-0242ac110002",
     "previous": "719a312c-fa99-11e7-82b9-0242ac110002"
    }
   },
   "source": [
    "東北。"
   ]
  },
  {
   "cell_type": "code",
   "execution_count": null,
   "metadata": {
    "hidden": true,
    "lc_cell_meme": {
     "current": "8fb0b81a-fa9a-11e7-82b9-0242ac110002",
     "history": [
      {
       "current": "8fb0b81a-fa9a-11e7-82b9-0242ac110002",
       "next": null,
       "previous": "719a312c-fa99-11e7-82b9-0242ac110002"
      },
      {
       "current": "8fb0b81a-fa9a-11e7-82b9-0242ac110002",
       "next": "8f6d957c-faad-11e7-82b9-0242ac110002",
       "previous": "719a312c-fa99-11e7-82b9-0242ac110002"
      }
     ],
     "next": "ca562218-fab6-11e7-82b9-0242ac110002",
     "previous": "ca562088-fab6-11e7-82b9-0242ac110002"
    },
    "pinned_outputs": [
     {
      "execution_count": 30,
      "outputs": [
       {
        "name": "stdout",
        "output_type": "stream",
        "text": "1 logs recorded\n\npath: /home/jovyan/sig4ng2018/.log/20180221/20180221-083340-0660.log\nstart time: 2018-02-21 08:33:40(UTC)\nend time: 2018-02-21 08:33:40(UTC)\noutput size: 3338 bytes\n0 chunks with matched keywords or errors\n----\nhttp://map.olp.yahooapis.jp/OpenLocalPlatform/V1/static?&width=2000&height=2000&lat=39.5&lon=140.2&z=10&appid=dj00aiZpPXRVRTJKRFRGb3dLeSZzPWNvbnN1bWVyc2VjcmV0Jng9MWU-&mode=blankmap&style=bm.p.02206:FF0000|bm.p.02207:FF0000|bm.p.02208:FF0000|bm.p.02321:FF0000|bm.p.02323:FF0000|bm.p.02401:FF0000|bm.p.02402:FF0000|bm.p.02405:FF0000|bm.p.02406:FF0000|bm.p.02408:FF0000|bm.p.02411:FF0000|bm.p.02423:FF0000|bm.p.02424:FF0000|bm.p.02425:FF0000|bm.p.02426:FF0000|bm.p.02441:FF0000|bm.p.02443:FF0000|bm.p.03202:FF0000|bm.p.03203:FF0000|bm.p.03207:FF0000|bm.p.03208:FF0000|bm.p.03210:FF0000|bm.p.03211:FF0000|bm.p.03213:FF0000|bm.p.03302:FF0000|bm.p.03366:FF0000|bm.p.03441:FF0000|bm.p.03461:FF0000|bm.p.03482:FF0000|bm.p.03483:FF0000|bm.p.03484:FF0000|bm.p.03485:FF0000|bm.p.03501:FF0000|bm.p.03503:FF0000|bm.p.03506:FF0000|bm.p.03524:FF0000|bm.p.04341:FF0000|bm.p.05202:FF0000|bm.p.05204:FF0000|bm.p.05209:FF0000|bm.p.05210:FF0000|bm.p.05212:FF0000|bm.p.05214:FF0000|bm.p.05215:FF0000|bm.p.05303:FF0000|bm.p.05327:FF0000|bm.p.05346:FF0000|bm.p.05348:FF0000|bm.p.05349:FF0000|bm.p.05368:FF0000|bm.p.05434:FF0000|bm.p.06205:FF0000|bm.p.06212:FF0000|bm.p.06361:FF0000|bm.p.06362:FF0000|bm.p.06363:FF0000|bm.p.06364:FF0000|bm.p.06365:FF0000|bm.p.06366:FF0000|bm.p.06367:FF0000|bm.p.06401:FF0000|bm.p.07209:FF0000|bm.p.07212:FF0000|bm.p.07362:FF0000|bm.p.07364:FF0000|bm.p.07367:FF0000|bm.p.07368:FF0000|bm.p.07405:FF0000|bm.p.07408:FF0000|bm.p.07444:FF0000|bm.p.07445:FF0000|bm.p.07446:FF0000|bm.p.07482:FF0000|bm.p.07501:FF0000|bm.p.07503:FF0000|bm.p.07505:FF0000|bm.p.07542:FF0000|bm.p.07543:FF0000|bm.p.07544:FF0000|bm.p.07545:FF0000|bm.p.07546:FF0000|bm.p.07547:FF0000|bm.p.07548:FF0000|bm.p.07561:FF0000|bm.p.07564:FF0000|bm.p.08227:FF0000|bm.p.08229:FF0000|bm.p.08231:FF0000|bm.p.08233:FF0000|bm.p.08234:FF0000|bm.p.08364:FF0000|bm.p.10366:FF0000|bm.p.10367:FF0000|bm.p.10424:FF0000|bm.p.10425:FF0000|bm.p.10426:FF0000|bm.p.10428:FF0000|bm.p.10429:FF0000|bm.p.11326:FF0000|bm.p.11327:FF0000|bm.p.11343:FF0000|bm.p.11349:FF0000|bm.p.11369:FF0000|bm.p.12205:FF0000|bm.p.12215:FF0000|bm.p.12218:FF0000|bm.p.12234:FF0000|bm.p.12235:FF0000|bm.p.12239:FF0000|bm.p.12410:FF0000|bm.p.12441:FF0000|bm.p.12463:FF0000|bm.p.13303:FF0000|bm.p.13361:FF0000|bm.p.13362:FF0000|bm.p.13363:FF0000|bm.p.13364:FF0000|bm.p.13381:FF0000|bm.p.13382:FF0000|bm.p.13401:FF0000|bm.p.13402:FF0000|bm.p.13421:FF0000|bm.p.14382:FF0000|bm.p.15212:FF0000|bm.p.15216:FF0000|bm.p.15225:FF0000|bm.p.15226:FF0000|bm.p.15385:FF0000|bm.p.15461:FF0000|bm.p.15581:FF0000|bm.p.15586:FF0000|"
       }
      ]
     }
    ]
   },
   "outputs": [],
   "source": [
    "url = \"http://map.olp.yahooapis.jp/OpenLocalPlatform/V1/static?\" + \\\n",
    "    \"&width=2000&height=2000&lat=39.5&lon=140.2&z=10&\" + \\\n",
    "    \"appid=dj00aiZpPXRVRTJKRFRGb3dLeSZzPWNvbnN1bWVyc2VjcmV0Jng9MWU-&mode=blankmap&style=\"\n",
    "for row in municipality_list[municipality_list[\"school\"] == 0].itertuples() :\n",
    "    if math.floor(row.団体コード / 1000) >= 2 and math.floor(row.団体コード / 1000) <= 16 :\n",
    "        url = url + \"bm.p.\" + '{0:05d}'.format(row.団体コード) + \":FF0000|\"\n",
    "\n",
    "print(url)"
   ]
  },
  {
   "cell_type": "markdown",
   "metadata": {
    "hidden": true,
    "lc_cell_meme": {
     "current": "ca562218-fab6-11e7-82b9-0242ac110002",
     "next": "8f6d957c-faad-11e7-82b9-0242ac110002",
     "previous": "8fb0b81a-fa9a-11e7-82b9-0242ac110002"
    }
   },
   "source": [
    "関東甲信越、北陸、中部。"
   ]
  },
  {
   "cell_type": "code",
   "execution_count": null,
   "metadata": {
    "hidden": true,
    "lc_cell_meme": {
     "current": "8f6d957c-faad-11e7-82b9-0242ac110002",
     "history": [
      {
       "current": "8f6d957c-faad-11e7-82b9-0242ac110002",
       "next": null,
       "previous": "8fb0b81a-fa9a-11e7-82b9-0242ac110002"
      },
      {
       "current": "8f6d957c-faad-11e7-82b9-0242ac110002",
       "next": "1eb281f2-faae-11e7-82b9-0242ac110002",
       "previous": "8fb0b81a-fa9a-11e7-82b9-0242ac110002"
      }
     ],
     "next": "ca5622b8-fab6-11e7-82b9-0242ac110002",
     "previous": "ca562218-fab6-11e7-82b9-0242ac110002"
    },
    "pinned_outputs": [
     {
      "execution_count": 31,
      "outputs": [
       {
        "name": "stdout",
        "output_type": "stream",
        "text": "1 logs recorded\n\npath: /home/jovyan/sig4ng2018/.log/20180221/20180221-083340-0739.log\nstart time: 2018-02-21 08:33:40(UTC)\nend time: 2018-02-21 08:33:40(UTC)\noutput size: 3752 bytes\n0 chunks with matched keywords or errors\n----\nhttp://map.olp.yahooapis.jp/OpenLocalPlatform/V1/static?&width=2000&height=2000&lat=35.5&lon=138.2&z=10&appid=dj00aiZpPXRVRTJKRFRGb3dLeSZzPWNvbnN1bWVyc2VjcmV0Jng9MWU-&mode=blankmap&style=bm.p.07209:FF0000|bm.p.07212:FF0000|bm.p.07362:FF0000|bm.p.07364:FF0000|bm.p.07367:FF0000|bm.p.07368:FF0000|bm.p.07405:FF0000|bm.p.07408:FF0000|bm.p.07444:FF0000|bm.p.07445:FF0000|bm.p.07446:FF0000|bm.p.07482:FF0000|bm.p.07501:FF0000|bm.p.07503:FF0000|bm.p.07505:FF0000|bm.p.07542:FF0000|bm.p.07543:FF0000|bm.p.07544:FF0000|bm.p.07545:FF0000|bm.p.07546:FF0000|bm.p.07547:FF0000|bm.p.07548:FF0000|bm.p.07561:FF0000|bm.p.07564:FF0000|bm.p.08227:FF0000|bm.p.08229:FF0000|bm.p.08231:FF0000|bm.p.08233:FF0000|bm.p.08234:FF0000|bm.p.08364:FF0000|bm.p.10366:FF0000|bm.p.10367:FF0000|bm.p.10424:FF0000|bm.p.10425:FF0000|bm.p.10426:FF0000|bm.p.10428:FF0000|bm.p.10429:FF0000|bm.p.11326:FF0000|bm.p.11327:FF0000|bm.p.11343:FF0000|bm.p.11349:FF0000|bm.p.11369:FF0000|bm.p.12205:FF0000|bm.p.12215:FF0000|bm.p.12218:FF0000|bm.p.12234:FF0000|bm.p.12235:FF0000|bm.p.12239:FF0000|bm.p.12410:FF0000|bm.p.12441:FF0000|bm.p.12463:FF0000|bm.p.13303:FF0000|bm.p.13361:FF0000|bm.p.13362:FF0000|bm.p.13363:FF0000|bm.p.13364:FF0000|bm.p.13381:FF0000|bm.p.13382:FF0000|bm.p.13401:FF0000|bm.p.13402:FF0000|bm.p.13421:FF0000|bm.p.14382:FF0000|bm.p.15212:FF0000|bm.p.15216:FF0000|bm.p.15225:FF0000|bm.p.15226:FF0000|bm.p.15385:FF0000|bm.p.15461:FF0000|bm.p.15581:FF0000|bm.p.15586:FF0000|bm.p.17202:FF0000|bm.p.17204:FF0000|bm.p.17205:FF0000|bm.p.17384:FF0000|bm.p.17407:FF0000|bm.p.17461:FF0000|bm.p.17463:FF0000|bm.p.18202:FF0000|bm.p.18442:FF0000|bm.p.18481:FF0000|bm.p.19204:FF0000|bm.p.19206:FF0000|bm.p.19209:FF0000|bm.p.19364:FF0000|bm.p.19365:FF0000|bm.p.19422:FF0000|bm.p.19442:FF0000|bm.p.20212:FF0000|bm.p.20213:FF0000|bm.p.20304:FF0000|bm.p.20305:FF0000|bm.p.20321:FF0000|bm.p.20409:FF0000|bm.p.20410:FF0000|bm.p.20417:FF0000|bm.p.20422:FF0000|bm.p.20423:FF0000|bm.p.20429:FF0000|bm.p.20430:FF0000|bm.p.20432:FF0000|bm.p.20485:FF0000|bm.p.20486:FF0000|bm.p.20563:FF0000|bm.p.20602:FF0000|bm.p.21210:FF0000|bm.p.21219:FF0000|bm.p.21220:FF0000|bm.p.21506:FF0000|bm.p.21507:FF0000|bm.p.21604:FF0000|bm.p.22208:FF0000|bm.p.22209:FF0000|bm.p.22219:FF0000|bm.p.22226:FF0000|bm.p.22301:FF0000|bm.p.22302:FF0000|bm.p.22304:FF0000|bm.p.22305:FF0000|bm.p.22306:FF0000|bm.p.22424:FF0000|bm.p.22429:FF0000|bm.p.23561:FF0000|bm.p.23563:FF0000|bm.p.24212:FF0000|bm.p.24215:FF0000|bm.p.24561:FF0000|bm.p.26202:FF0000|bm.p.26212:FF0000|bm.p.26463:FF0000|bm.p.28213:FF0000|bm.p.28225:FF0000|bm.p.28365:FF0000|bm.p.28501:FF0000|bm.p.28586:FF0000|bm.p.29207:FF0000|bm.p.29441:FF0000|bm.p.29444:FF0000|bm.p.29446:FF0000|bm.p.29447:FF0000|bm.p.29449:FF0000|bm.p.29450:FF0000|bm.p.29451:FF0000|bm.p.29452:FF0000|bm.p.29453:FF0000|bm.p.30344:FF0000|bm.p.30362:FF0000|bm.p.30381:FF0000|bm.p.30382:FF0000|bm.p.30383:FF0000|bm.p.30390:FF0000|bm.p.30392:FF0000|bm.p.30424:FF0000|bm.p.30427:FF0000|bm.p.30428:FF0000|"
       }
      ]
     }
    ]
   },
   "outputs": [],
   "source": [
    "url = \"http://map.olp.yahooapis.jp/OpenLocalPlatform/V1/static?\" + \\\n",
    "    \"&width=2000&height=2000&lat=35.5&lon=138.2&z=10&\" + \\\n",
    "    \"appid=dj00aiZpPXRVRTJKRFRGb3dLeSZzPWNvbnN1bWVyc2VjcmV0Jng9MWU-&mode=blankmap&style=\"\n",
    "for row in municipality_list[municipality_list[\"school\"] == 0].itertuples() :\n",
    "    if math.floor(row.団体コード / 1000) >= 7 and math.floor(row.団体コード / 1000) <= 30 :\n",
    "        url = url + \"bm.p.\" + '{0:05d}'.format(row.団体コード) + \":FF0000|\"\n",
    "\n",
    "print(url)"
   ]
  },
  {
   "cell_type": "markdown",
   "metadata": {
    "hidden": true,
    "lc_cell_meme": {
     "current": "ca5622b8-fab6-11e7-82b9-0242ac110002",
     "next": "1eb281f2-faae-11e7-82b9-0242ac110002",
     "previous": "8f6d957c-faad-11e7-82b9-0242ac110002"
    }
   },
   "source": [
    "近畿、中国、四国。"
   ]
  },
  {
   "cell_type": "code",
   "execution_count": null,
   "metadata": {
    "hidden": true,
    "lc_cell_meme": {
     "current": "1eb281f2-faae-11e7-82b9-0242ac110002",
     "history": [
      {
       "current": "1eb281f2-faae-11e7-82b9-0242ac110002",
       "next": null,
       "previous": "8f6d957c-faad-11e7-82b9-0242ac110002"
      },
      {
       "current": "1eb281f2-faae-11e7-82b9-0242ac110002",
       "next": "ad866254-faae-11e7-82b9-0242ac110002",
       "previous": "8f6d957c-faad-11e7-82b9-0242ac110002"
      },
      {
       "current": "1eb281f2-faae-11e7-82b9-0242ac110002",
       "next": "5aae17b4-fab0-11e7-82b9-0242ac110002",
       "previous": "8f6d957c-faad-11e7-82b9-0242ac110002"
      },
      {
       "current": "1eb281f2-faae-11e7-82b9-0242ac110002",
       "next": "5aae17b4-fab0-11e7-82b9-0242ac110002",
       "previous": "ca5622b8-fab6-11e7-82b9-0242ac110002"
      }
     ],
     "next": "11dc28bc-fab7-11e7-82b9-0242ac110002",
     "previous": "ca5622b8-fab6-11e7-82b9-0242ac110002"
    },
    "pinned_outputs": [
     {
      "execution_count": 32,
      "outputs": [
       {
        "name": "stdout",
        "output_type": "stream",
        "text": "1 logs recorded\n\npath: /home/jovyan/sig4ng2018/.log/20180221/20180221-083340-0822.log\nstart time: 2018-02-21 08:33:40(UTC)\nend time: 2018-02-21 08:33:40(UTC)\noutput size: 5049 bytes\n0 chunks with matched keywords or errors\n----\nhttp://map.olp.yahooapis.jp/OpenLocalPlatform/V1/static?&width=2000&height=2000&lat=33.5&lon=132.9&z=10&appid=dj00aiZpPXRVRTJKRFRGb3dLeSZzPWNvbnN1bWVyc2VjcmV0Jng9MWU-&mode=blankmap&style=bm.p.18202:FF0000|bm.p.18442:FF0000|bm.p.18481:FF0000|bm.p.19204:FF0000|bm.p.19206:FF0000|bm.p.19209:FF0000|bm.p.19364:FF0000|bm.p.19365:FF0000|bm.p.19422:FF0000|bm.p.19442:FF0000|bm.p.20212:FF0000|bm.p.20213:FF0000|bm.p.20304:FF0000|bm.p.20305:FF0000|bm.p.20321:FF0000|bm.p.20409:FF0000|bm.p.20410:FF0000|bm.p.20417:FF0000|bm.p.20422:FF0000|bm.p.20423:FF0000|bm.p.20429:FF0000|bm.p.20430:FF0000|bm.p.20432:FF0000|bm.p.20485:FF0000|bm.p.20486:FF0000|bm.p.20563:FF0000|bm.p.20602:FF0000|bm.p.21210:FF0000|bm.p.21219:FF0000|bm.p.21220:FF0000|bm.p.21506:FF0000|bm.p.21507:FF0000|bm.p.21604:FF0000|bm.p.22208:FF0000|bm.p.22209:FF0000|bm.p.22219:FF0000|bm.p.22226:FF0000|bm.p.22301:FF0000|bm.p.22302:FF0000|bm.p.22304:FF0000|bm.p.22305:FF0000|bm.p.22306:FF0000|bm.p.22424:FF0000|bm.p.22429:FF0000|bm.p.23561:FF0000|bm.p.23563:FF0000|bm.p.24212:FF0000|bm.p.24215:FF0000|bm.p.24561:FF0000|bm.p.26202:FF0000|bm.p.26212:FF0000|bm.p.26463:FF0000|bm.p.28213:FF0000|bm.p.28225:FF0000|bm.p.28365:FF0000|bm.p.28501:FF0000|bm.p.28586:FF0000|bm.p.29207:FF0000|bm.p.29441:FF0000|bm.p.29444:FF0000|bm.p.29446:FF0000|bm.p.29447:FF0000|bm.p.29449:FF0000|bm.p.29450:FF0000|bm.p.29451:FF0000|bm.p.29452:FF0000|bm.p.29453:FF0000|bm.p.30344:FF0000|bm.p.30362:FF0000|bm.p.30381:FF0000|bm.p.30382:FF0000|bm.p.30383:FF0000|bm.p.30390:FF0000|bm.p.30392:FF0000|bm.p.30424:FF0000|bm.p.30427:FF0000|bm.p.30428:FF0000|bm.p.31401:FF0000|bm.p.32205:FF0000|bm.p.32343:FF0000|bm.p.32386:FF0000|bm.p.32441:FF0000|bm.p.32448:FF0000|bm.p.32449:FF0000|bm.p.32525:FF0000|bm.p.32526:FF0000|bm.p.32527:FF0000|bm.p.32528:FF0000|bm.p.33209:FF0000|bm.p.33210:FF0000|bm.p.33214:FF0000|bm.p.33586:FF0000|bm.p.34209:FF0000|bm.p.34210:FF0000|bm.p.34214:FF0000|bm.p.34215:FF0000|bm.p.34369:FF0000|bm.p.34431:FF0000|bm.p.34462:FF0000|bm.p.34545:FF0000|bm.p.35211:FF0000|bm.p.35213:FF0000|bm.p.35305:FF0000|bm.p.35341:FF0000|bm.p.35344:FF0000|bm.p.36207:FF0000|bm.p.36302:FF0000|bm.p.36383:FF0000|bm.p.36388:FF0000|bm.p.36468:FF0000|bm.p.36489:FF0000|bm.p.37208:FF0000|bm.p.37322:FF0000|bm.p.37324:FF0000|bm.p.37364:FF0000|bm.p.38202:FF0000|bm.p.38203:FF0000|bm.p.38204:FF0000|bm.p.38207:FF0000|bm.p.38213:FF0000|bm.p.38214:FF0000|bm.p.38386:FF0000|bm.p.38422:FF0000|bm.p.38442:FF0000|bm.p.38484:FF0000|bm.p.38488:FF0000|bm.p.38506:FF0000|bm.p.39202:FF0000|bm.p.39203:FF0000|bm.p.39206:FF0000|bm.p.39208:FF0000|bm.p.39209:FF0000|bm.p.39210:FF0000|bm.p.39301:FF0000|bm.p.39302:FF0000|bm.p.39303:FF0000|bm.p.39304:FF0000|bm.p.39305:FF0000|bm.p.39306:FF0000|bm.p.39307:FF0000|bm.p.39341:FF0000|bm.p.39344:FF0000|bm.p.39363:FF0000|bm.p.39364:FF0000|bm.p.39387:FF0000|bm.p.39401:FF0000|bm.p.39405:FF0000|bm.p.39411:FF0000|bm.p.39412:FF0000|bm.p.39424:FF0000|bm.p.39427:FF0000|bm.p.39428:FF0000|bm.p.40206:FF0000|bm.p.40448:FF0000|bm.p.40601:FF0000|bm.p.40602:FF0000|bm.p.40604:FF0000|bm.p.40605:FF0000|bm.p.40608:FF0000|bm.p.40609:FF0000|bm.p.40610:FF0000|bm.p.41209:FF0000|bm.p.41441:FF0000|bm.p.42207:FF0000|bm.p.42208:FF0000|bm.p.42210:FF0000|bm.p.42211:FF0000|bm.p.42212:FF0000|bm.p.42383:FF0000|bm.p.42411:FF0000|bm.p.43205:FF0000|bm.p.43212:FF0000|bm.p.43423:FF0000|bm.p.43424:FF0000|bm.p.43425:FF0000|bm.p.43428:FF0000|bm.p.43433:FF0000|bm.p.43447:FF0000|bm.p.43482:FF0000|bm.p.43484:FF0000|bm.p.43511:FF0000|bm.p.44205:FF0000|bm.p.44207:FF0000|bm.p.44208:FF0000|bm.p.44210:FF0000|bm.p.44214:FF0000|bm.p.44322:FF0000|bm.p.44461:FF0000|bm.p.44462:FF0000|bm.p.45205:FF0000|bm.p.45207:FF0000|bm.p.45209:FF0000|bm.p.45403:FF0000|bm.p.45405:FF0000|bm.p.45406:FF0000|bm.p.45429:FF0000|bm.p.45430:FF0000|bm.p.45442:FF0000|bm.p.45443:FF0000|bm.p.46204:FF0000|bm.p.46206:FF0000|bm.p.46210:FF0000|bm.p.46213:FF0000|bm.p.46214:FF0000|bm.p.46220:FF0000|bm.p.46222:FF0000|bm.p.46223:FF0000|bm.p.46224:FF0000|bm.p.46303:FF0000|bm.p.46304:FF0000|bm.p.46404:FF0000|bm.p.46491:FF0000|bm.p.46501:FF0000|bm.p.46502:FF0000|bm.p.46505:FF0000|bm.p.46523:FF0000|bm.p.46524:FF0000|bm.p.46525:FF0000|bm.p.46527:FF0000|bm.p.46529:FF0000|bm.p.46530:FF0000|bm.p.46531:FF0000|bm.p.46532:FF0000|bm.p.46533:FF0000|bm.p.46534:FF0000|bm.p.46535:FF0000|"
       }
      ]
     }
    ]
   },
   "outputs": [],
   "source": [
    "url = \"http://map.olp.yahooapis.jp/OpenLocalPlatform/V1/static?\" + \\\n",
    "    \"&width=2000&height=2000&lat=33.5&lon=132.9&z=10&\" + \\\n",
    "    \"appid=dj00aiZpPXRVRTJKRFRGb3dLeSZzPWNvbnN1bWVyc2VjcmV0Jng9MWU-&mode=blankmap&style=\"\n",
    "for row in municipality_list[municipality_list[\"school\"] == 0].itertuples() :\n",
    "    if math.floor(row.団体コード / 1000) >= 18 and math.floor(row.団体コード / 1000) <= 46 :\n",
    "        url = url + \"bm.p.\" + '{0:05d}'.format(row.団体コード) + \":FF0000|\"\n",
    "\n",
    "print(url)"
   ]
  },
  {
   "cell_type": "markdown",
   "metadata": {
    "hidden": true,
    "lc_cell_meme": {
     "current": "11dc28bc-fab7-11e7-82b9-0242ac110002",
     "next": "5aae17b4-fab0-11e7-82b9-0242ac110002",
     "previous": "1eb281f2-faae-11e7-82b9-0242ac110002"
    }
   },
   "source": [
    "九州。"
   ]
  },
  {
   "cell_type": "code",
   "execution_count": null,
   "metadata": {
    "hidden": true,
    "lc_cell_meme": {
     "current": "5aae17b4-fab0-11e7-82b9-0242ac110002",
     "history": [
      {
       "current": "5aae17b4-fab0-11e7-82b9-0242ac110002",
       "next": "ad866254-faae-11e7-82b9-0242ac110002",
       "previous": "1eb281f2-faae-11e7-82b9-0242ac110002"
      }
     ],
     "next": "11dc2984-fab7-11e7-82b9-0242ac110002",
     "previous": "11dc28bc-fab7-11e7-82b9-0242ac110002"
    },
    "pinned_outputs": [
     {
      "execution_count": 33,
      "outputs": [
       {
        "name": "stdout",
        "output_type": "stream",
        "text": "1 logs recorded\n\npath: /home/jovyan/sig4ng2018/.log/20180221/20180221-083340-0880.log\nstart time: 2018-02-21 08:33:40(UTC)\nend time: 2018-02-21 08:33:40(UTC)\noutput size: 3393 bytes\n0 chunks with matched keywords or errors\n----\nhttp://map.olp.yahooapis.jp/OpenLocalPlatform/V1/static?&width=2000&height=2000&lat=32.0&lon=130.0&z=10&appid=dj00aiZpPXRVRTJKRFRGb3dLeSZzPWNvbnN1bWVyc2VjcmV0Jng9MWU-&mode=blankmap&style=bm.p.34209:FF0000|bm.p.34210:FF0000|bm.p.34214:FF0000|bm.p.34215:FF0000|bm.p.34369:FF0000|bm.p.34431:FF0000|bm.p.34462:FF0000|bm.p.34545:FF0000|bm.p.35211:FF0000|bm.p.35213:FF0000|bm.p.35305:FF0000|bm.p.35341:FF0000|bm.p.35344:FF0000|bm.p.36207:FF0000|bm.p.36302:FF0000|bm.p.36383:FF0000|bm.p.36388:FF0000|bm.p.36468:FF0000|bm.p.36489:FF0000|bm.p.37208:FF0000|bm.p.37322:FF0000|bm.p.37324:FF0000|bm.p.37364:FF0000|bm.p.38202:FF0000|bm.p.38203:FF0000|bm.p.38204:FF0000|bm.p.38207:FF0000|bm.p.38213:FF0000|bm.p.38214:FF0000|bm.p.38386:FF0000|bm.p.38422:FF0000|bm.p.38442:FF0000|bm.p.38484:FF0000|bm.p.38488:FF0000|bm.p.38506:FF0000|bm.p.39202:FF0000|bm.p.39203:FF0000|bm.p.39206:FF0000|bm.p.39208:FF0000|bm.p.39209:FF0000|bm.p.39210:FF0000|bm.p.39301:FF0000|bm.p.39302:FF0000|bm.p.39303:FF0000|bm.p.39304:FF0000|bm.p.39305:FF0000|bm.p.39306:FF0000|bm.p.39307:FF0000|bm.p.39341:FF0000|bm.p.39344:FF0000|bm.p.39363:FF0000|bm.p.39364:FF0000|bm.p.39387:FF0000|bm.p.39401:FF0000|bm.p.39405:FF0000|bm.p.39411:FF0000|bm.p.39412:FF0000|bm.p.39424:FF0000|bm.p.39427:FF0000|bm.p.39428:FF0000|bm.p.40206:FF0000|bm.p.40448:FF0000|bm.p.40601:FF0000|bm.p.40602:FF0000|bm.p.40604:FF0000|bm.p.40605:FF0000|bm.p.40608:FF0000|bm.p.40609:FF0000|bm.p.40610:FF0000|bm.p.41209:FF0000|bm.p.41441:FF0000|bm.p.42207:FF0000|bm.p.42208:FF0000|bm.p.42210:FF0000|bm.p.42211:FF0000|bm.p.42212:FF0000|bm.p.42383:FF0000|bm.p.42411:FF0000|bm.p.43205:FF0000|bm.p.43212:FF0000|bm.p.43423:FF0000|bm.p.43424:FF0000|bm.p.43425:FF0000|bm.p.43428:FF0000|bm.p.43433:FF0000|bm.p.43447:FF0000|bm.p.43482:FF0000|bm.p.43484:FF0000|bm.p.43511:FF0000|bm.p.44205:FF0000|bm.p.44207:FF0000|bm.p.44208:FF0000|bm.p.44210:FF0000|bm.p.44214:FF0000|bm.p.44322:FF0000|bm.p.44461:FF0000|bm.p.44462:FF0000|bm.p.45205:FF0000|bm.p.45207:FF0000|bm.p.45209:FF0000|bm.p.45403:FF0000|bm.p.45405:FF0000|bm.p.45406:FF0000|bm.p.45429:FF0000|bm.p.45430:FF0000|bm.p.45442:FF0000|bm.p.45443:FF0000|bm.p.46204:FF0000|bm.p.46206:FF0000|bm.p.46210:FF0000|bm.p.46213:FF0000|bm.p.46214:FF0000|bm.p.46220:FF0000|bm.p.46222:FF0000|bm.p.46223:FF0000|bm.p.46224:FF0000|bm.p.46303:FF0000|bm.p.46304:FF0000|bm.p.46404:FF0000|bm.p.46491:FF0000|bm.p.46501:FF0000|bm.p.46502:FF0000|bm.p.46505:FF0000|bm.p.46523:FF0000|bm.p.46524:FF0000|bm.p.46525:FF0000|bm.p.46527:FF0000|bm.p.46529:FF0000|bm.p.46530:FF0000|bm.p.46531:FF0000|bm.p.46532:FF0000|bm.p.46533:FF0000|bm.p.46534:FF0000|bm.p.46535:FF0000|"
       }
      ]
     }
    ]
   },
   "outputs": [],
   "source": [
    "url = \"http://map.olp.yahooapis.jp/OpenLocalPlatform/V1/static?\" + \\\n",
    "    \"&width=2000&height=2000&lat=32.0&lon=130.0&z=10&\" + \\\n",
    "    \"appid=dj00aiZpPXRVRTJKRFRGb3dLeSZzPWNvbnN1bWVyc2VjcmV0Jng9MWU-&mode=blankmap&style=\"\n",
    "for row in municipality_list[municipality_list[\"school\"] == 0].itertuples() :\n",
    "    if math.floor(row.団体コード / 1000) >= 34 and math.floor(row.団体コード / 1000) <= 46 :\n",
    "        url = url + \"bm.p.\" + '{0:05d}'.format(row.団体コード) + \":FF0000|\"\n",
    "\n",
    "print(url)"
   ]
  },
  {
   "cell_type": "markdown",
   "metadata": {
    "hidden": true,
    "lc_cell_meme": {
     "current": "11dc2984-fab7-11e7-82b9-0242ac110002",
     "next": "ad866254-faae-11e7-82b9-0242ac110002",
     "previous": "5aae17b4-fab0-11e7-82b9-0242ac110002"
    }
   },
   "source": [
    "沖縄。"
   ]
  },
  {
   "cell_type": "code",
   "execution_count": null,
   "metadata": {
    "hidden": true,
    "lc_cell_meme": {
     "current": "ad866254-faae-11e7-82b9-0242ac110002",
     "history": [
      {
       "current": "ad866254-faae-11e7-82b9-0242ac110002",
       "next": null,
       "previous": "1eb281f2-faae-11e7-82b9-0242ac110002"
      },
      {
       "current": "ad866254-faae-11e7-82b9-0242ac110002",
       "next": "cba2571a-faaf-11e7-82b9-0242ac110002",
       "previous": "1eb281f2-faae-11e7-82b9-0242ac110002"
      },
      {
       "current": "ad866254-faae-11e7-82b9-0242ac110002",
       "next": "cba2571a-faaf-11e7-82b9-0242ac110002",
       "previous": "5aae17b4-fab0-11e7-82b9-0242ac110002"
      },
      {
       "current": "ad866254-faae-11e7-82b9-0242ac110002",
       "next": "cba2571a-faaf-11e7-82b9-0242ac110002",
       "previous": "11dc2984-fab7-11e7-82b9-0242ac110002"
      },
      {
       "current": "ad866254-faae-11e7-82b9-0242ac110002",
       "next": "59638b94-fab7-11e7-82b9-0242ac110002",
       "previous": "11dc2984-fab7-11e7-82b9-0242ac110002"
      },
      {
       "current": "ad866254-faae-11e7-82b9-0242ac110002",
       "next": "262ada88-fac7-11e7-9374-02420aff0004",
       "previous": "11dc2984-fab7-11e7-82b9-0242ac110002"
      }
     ],
     "next": "11dc2722-fab7-11e7-82b9-0242ac110002",
     "previous": "11dc2984-fab7-11e7-82b9-0242ac110002"
    },
    "pinned_outputs": [
     {
      "execution_count": 34,
      "outputs": [
       {
        "name": "stdout",
        "output_type": "stream",
        "text": "1 logs recorded\n\npath: /home/jovyan/sig4ng2018/.log/20180221/20180221-083340-0925.log\nstart time: 2018-02-21 08:33:40(UTC)\nend time: 2018-02-21 08:33:40(UTC)\noutput size: 1902 bytes\n0 chunks with matched keywords or errors\n----\nhttp://map.olp.yahooapis.jp/OpenLocalPlatform/V1/static?&width=2000&height=2000&lat=27.0&lon=126.0&z=9&appid=dj00aiZpPXRVRTJKRFRGb3dLeSZzPWNvbnN1bWVyc2VjcmV0Jng9MWU-&mode=blankmap&style=bm.p.45205:FF0000|bm.p.45207:FF0000|bm.p.45209:FF0000|bm.p.45403:FF0000|bm.p.45405:FF0000|bm.p.45406:FF0000|bm.p.45429:FF0000|bm.p.45430:FF0000|bm.p.45442:FF0000|bm.p.45443:FF0000|bm.p.46204:FF0000|bm.p.46206:FF0000|bm.p.46210:FF0000|bm.p.46213:FF0000|bm.p.46214:FF0000|bm.p.46220:FF0000|bm.p.46222:FF0000|bm.p.46223:FF0000|bm.p.46224:FF0000|bm.p.46303:FF0000|bm.p.46304:FF0000|bm.p.46404:FF0000|bm.p.46491:FF0000|bm.p.46501:FF0000|bm.p.46502:FF0000|bm.p.46505:FF0000|bm.p.46523:FF0000|bm.p.46524:FF0000|bm.p.46525:FF0000|bm.p.46527:FF0000|bm.p.46529:FF0000|bm.p.46530:FF0000|bm.p.46531:FF0000|bm.p.46532:FF0000|bm.p.46533:FF0000|bm.p.46534:FF0000|bm.p.46535:FF0000|bm.p.47301:FF0000|bm.p.47311:FF0000|bm.p.47314:FF0000|bm.p.47315:FF0000|bm.p.47324:FF0000|bm.p.47353:FF0000|bm.p.47354:FF0000|bm.p.47355:FF0000|bm.p.47356:FF0000|bm.p.47357:FF0000|bm.p.47358:FF0000|bm.p.47359:FF0000|bm.p.47360:FF0000|bm.p.47361:FF0000|bm.p.47375:FF0000|bm.p.47381:FF0000|bm.p.47382:FF0000|"
       }
      ]
     }
    ]
   },
   "outputs": [],
   "source": [
    "url = \"http://map.olp.yahooapis.jp/OpenLocalPlatform/V1/static?\" + \\\n",
    "    \"&width=2000&height=2000&lat=27.0&lon=126.0&z=9&\" + \\\n",
    "    \"appid=dj00aiZpPXRVRTJKRFRGb3dLeSZzPWNvbnN1bWVyc2VjcmV0Jng9MWU-&mode=blankmap&style=\"\n",
    "for row in municipality_list[municipality_list[\"school\"] == 0].itertuples() :\n",
    "    if math.floor(row.団体コード / 1000) >= 45 :\n",
    "        url = url + \"bm.p.\" + '{0:05d}'.format(row.団体コード) + \":FF0000|\"\n",
    "\n",
    "print(url)"
   ]
  },
  {
   "cell_type": "markdown",
   "metadata": {
    "lc_cell_meme": {
     "current": "11dc2722-fab7-11e7-82b9-0242ac110002",
     "history": [
      {
       "current": "11dc2722-fab7-11e7-82b9-0242ac110002",
       "next": "82d255ec-fab6-11e7-82b9-0242ac110002",
       "previous": "f3c2a758-fab5-11e7-82b9-0242ac110002"
      },
      {
       "current": "11dc2722-fab7-11e7-82b9-0242ac110002",
       "next": "719a312c-fa99-11e7-82b9-0242ac110002",
       "previous": "2e70ed56-fa7f-11e7-82b9-0242ac110002"
      },
      {
       "current": "11dc2722-fab7-11e7-82b9-0242ac110002",
       "next": "719a312c-fa99-11e7-82b9-0242ac110002",
       "previous": "c5e53304-1546-11e8-a91b-0242ac120002"
      },
      {
       "current": "11dc2722-fab7-11e7-82b9-0242ac110002",
       "next": "719a312c-fa99-11e7-82b9-0242ac110002",
       "previous": "54ed9a8c-1547-11e8-a91b-0242ac120002"
      },
      {
       "current": "11dc2722-fab7-11e7-82b9-0242ac110002",
       "next": "719a312c-fa99-11e7-82b9-0242ac110002",
       "previous": "801a5456-15e3-11e8-a91b-0242ac120002"
      },
      {
       "current": "11dc2722-fab7-11e7-82b9-0242ac110002",
       "next": "0c579680-16c1-11e8-a91b-0242ac120002",
       "previous": "801a5456-15e3-11e8-a91b-0242ac120002"
      },
      {
       "current": "11dc2722-fab7-11e7-82b9-0242ac110002",
       "next": "0c579680-16c1-11e8-a91b-0242ac120002",
       "previous": "c5e53304-1546-11e8-a91b-0242ac120002"
      },
      {
       "current": "11dc2722-fab7-11e7-82b9-0242ac110002",
       "next": "0c579680-16c1-11e8-a91b-0242ac120002",
       "previous": "9b1e4144-16d4-11e8-a91b-0242ac120002"
      }
     ],
     "next": "0c579680-16c1-11e8-a91b-0242ac120002",
     "previous": "ad866254-faae-11e7-82b9-0242ac110002"
    }
   },
   "source": [
    "## 分析結果\n",
    "\n",
    "体験機会のない市区町村。"
   ]
  },
  {
   "cell_type": "code",
   "execution_count": null,
   "metadata": {
    "lc_cell_meme": {
     "current": "0c579680-16c1-11e8-a91b-0242ac120002",
     "history": [
      {
       "current": "0c579680-16c1-11e8-a91b-0242ac120002",
       "next": "719a312c-fa99-11e7-82b9-0242ac110002",
       "previous": "11dc2722-fab7-11e7-82b9-0242ac110002"
      },
      {
       "current": "0c579680-16c1-11e8-a91b-0242ac120002",
       "next": "53d8fc06-16c1-11e8-a91b-0242ac120002",
       "previous": "11dc2722-fab7-11e7-82b9-0242ac110002"
      }
     ],
     "next": "e376a634-16d4-11e8-a91b-0242ac120002",
     "previous": "11dc2722-fab7-11e7-82b9-0242ac110002"
    },
    "pinned_outputs": [
     {
      "execution_count": 35,
      "outputs": [
       {
        "name": "stdout",
        "output_type": "stream",
        "text": "1 logs recorded\n\npath: /home/jovyan/sig4ng2018/.log/20180221/20180221-083340-0991.log\nstart time: 2018-02-21 08:33:40(UTC)\nend time: 2018-02-21 08:33:41(UTC)\noutput size: 5440 bytes\n0 chunks with matched keywords or errors\n----\n      団体コード 市区町村名         カナ 都道府県名   小中学生    MEA  school\n3      1204   旭川市     アサヒカワシ   北海道  26789   1204       0\n8      1209   夕張市      ユウバリシ   北海道    350      0       0\n9      1210  岩見沢市     イワミザワシ   北海道   6305   1210       0\n10     1211   網走市      アバシリシ   北海道   3034   1211       0\n11     1212   留萌市       ルモイシ   北海道   1503   1212       0\n12     1213  苫小牧市     トマコマイシ   北海道  15395   1213       0\n13     1214   稚内市     ワッカナイシ   北海道   2777   1214       0\n14     1215   美唄市       ビバイシ   北海道   1355   1215       0\n15     1216   芦別市      アシベツシ   北海道    743      0       0\n17     1218   赤平市      アカビラシ   北海道    587   1225       0\n18     1219   紋別市      モンベツシ   北海道   1584   1219       0\n19     1220   士別市       シベツシ   北海道   1435   1220       0\n20     1221   名寄市       ナヨロシ   北海道   2232   1221       0\n21     1222   三笠市       ミカサシ   北海道    485   1210       0\n22     1223   根室市       ネムロシ   北海道   2031   1223       0\n24     1225   滝川市      タキカワシ   北海道   3073   1225       0\n25     1226   砂川市      スナガワシ   北海道   1267   1225       0\n26     1227  歌志内市     ウタシナイシ   北海道    159   1225       0\n27     1228   深川市      フカガワシ   北海道   1358   1228       0\n...\n1699  46535   与論町     ヨロンチョウ  鹿児島県    538      0       0\n1711  47301   国頭村     クニガミソン   沖縄県    448      0       0\n1716  47311   恩納村      オンナソン   沖縄県   1094      0       0\n1718  47314   金武町      キンチョウ   沖縄県   1333      0       0\n1719  47315   伊江村       イエソン   沖縄県    414      0       0\n1720  47324   読谷村     ヨミタンソン   沖縄県   5037  47324       0\n1728  47353  渡嘉敷村     トカシキソン   沖縄県     84      0       0\n1729  47354  座間味村      ザマミソン   沖縄県    106      0       0\n1730  47355   粟国村      アグニソン   沖縄県     63      0       0\n1731  47356  渡名喜村      トナキソン   沖縄県     25      0       0\n1732  47357  南大東村  ミナミダイトウソン   沖縄県    142      0       0\n1733  47358  北大東村   キタダイトウソン   沖縄県     62      0       0\n1734  47359  伊平屋村      イヘヤソン   沖縄県    158      0       0\n1735  47360  伊是名村      イゼナソン   沖縄県    139      0       0\n1736  47361  久米島町    クメジマチョウ   沖縄県    796      0       0\n1738  47375  多良間村      タラマソン   沖縄県    132      0       0\n1739  47381   竹富町    タケトミチョウ   沖縄県    447      0       0\n1740  47382  与那国町    ヨナグニチョウ   沖縄県    186      0       0\n\n[526 rows x 7 columns]"
       }
      ]
     }
    ]
   },
   "outputs": [],
   "source": [
    "print(municipality_list[municipality_list[\"school\"] == 0])"
   ]
  },
  {
   "cell_type": "markdown",
   "metadata": {
    "lc_cell_meme": {
     "current": "e376a634-16d4-11e8-a91b-0242ac120002",
     "next": "53d8fc06-16c1-11e8-a91b-0242ac120002",
     "previous": "0c579680-16c1-11e8-a91b-0242ac120002"
    }
   },
   "source": [
    "千葉県と大分県と岡山県。"
   ]
  },
  {
   "cell_type": "code",
   "execution_count": null,
   "metadata": {
    "lc_cell_meme": {
     "current": "53d8fc06-16c1-11e8-a91b-0242ac120002",
     "history": [
      {
       "current": "53d8fc06-16c1-11e8-a91b-0242ac120002",
       "next": "53d8fd00-16c1-11e8-a91b-0242ac120002",
       "previous": "0c579680-16c1-11e8-a91b-0242ac120002"
      },
      {
       "current": "53d8fc06-16c1-11e8-a91b-0242ac120002",
       "next": "11dc2722-fab7-11e7-82b9-0242ac110002",
       "previous": "0c579680-16c1-11e8-a91b-0242ac120002"
      }
     ],
     "next": "e376a90e-16d4-11e8-a91b-0242ac120002",
     "previous": "e376a634-16d4-11e8-a91b-0242ac120002"
    },
    "pinned_outputs": [
     {
      "execution_count": 36,
      "outputs": [
       {
        "name": "stdout",
        "output_type": "stream",
        "text": "1 logs recorded\n\npath: /home/jovyan/sig4ng2018/.log/20180221/20180221-083341-0050.log\nstart time: 2018-02-21 08:33:41(UTC)\nend time: 2018-02-21 08:33:41(UTC)\noutput size: 2635 bytes\n0 chunks with matched keywords or errors\n----\n     団体コード  市区町村名         カナ 都道府県名  小中学生    MEA  school\n577  12205    館山市      タテヤマシ   千葉県  3613  12205       0\n585  12215     旭市       アサヒシ   千葉県  5627      0       0\n588  12218    勝浦市      カツウラシ   千葉県  1000      0       0\n604  12234   南房総市   ミナミボウソウシ   千葉県  2599  12205       0\n605  12235    匝瑳市       ソウサシ   千葉県  2919      0       0\n609  12239  大網白里市  オオアミシラサトシ   千葉県  4027      0       0\n617  12410   横芝光町  ヨコシバヒカリマチ   千葉県  1840      0       0\n624  12441   大多喜町     オオタキマチ   千葉県   609      0       0\n626  12463    鋸南町     キヨナンマチ   千葉県   441  12205       0\n      団体コード 市区町村名      カナ 都道府県名  小中学生    MEA  school\n1617  44205   佐伯市    サイキシ   大分県  5556  44205       0\n1619  44207  津久見市    ツクミシ   大分県  1256      0       0\n1620  44208   竹田市    タケタシ   大分県  1433      0       0\n1622  44210   杵築市    キツキシ   大分県  2399      0       0\n1626  44214   国東市   クニサキシ   大分県  1959      0       0\n1627  44322   姫島村  ヒメシマムラ   大分県   116      0       0\n1629  44461   九重町  ココノエマチ   大分県   710      0       0\n1630  44462   玖珠町    クスマチ   大分県  1284      0       0\n      団体コード 市区町村名       カナ 都道府県名  小中学生  MEA  school\n1310  33209   高梁市    タカハシシ   岡山県  2131    0       0\n1311  33210   新見市     ニイミシ   岡山県  2332    0       0\n1315  33214   真庭市     マニワシ   岡山県  3788    0       0\n1322  33586   新庄村  シンジヨウソン   岡山県    68    0       0"
       }
      ]
     }
    ]
   },
   "outputs": [],
   "source": [
    "print(municipality_list[(municipality_list[\"school\"] == 0)\n",
    "                        & (municipality_list[\"都道府県名\"] == \"千葉県\")])\n",
    "print(municipality_list[(municipality_list[\"school\"] == 0)\n",
    "                        & (municipality_list[\"都道府県名\"] == \"大分県\")])\n",
    "print(municipality_list[(municipality_list[\"school\"] == 0)\n",
    "                        & (municipality_list[\"都道府県名\"] == \"岡山県\")])"
   ]
  },
  {
   "cell_type": "markdown",
   "metadata": {
    "lc_cell_meme": {
     "current": "e376a90e-16d4-11e8-a91b-0242ac120002",
     "next": "11dc2722-fab7-11e7-82b9-0242ac110002",
     "previous": "53d8fc06-16c1-11e8-a91b-0242ac120002"
    }
   },
   "source": [
    "体験のない雇用圏。"
   ]
  },
  {
   "cell_type": "code",
   "execution_count": null,
   "metadata": {
    "lc_cell_meme": {
     "current": "11dc2722-fab7-11e7-82b9-0242ac110002",
     "history": [
      {
       "current": "11dc2722-fab7-11e7-82b9-0242ac110002",
       "next": "82d255ec-fab6-11e7-82b9-0242ac110002",
       "previous": "f3c2a758-fab5-11e7-82b9-0242ac110002"
      },
      {
       "current": "11dc2722-fab7-11e7-82b9-0242ac110002",
       "next": "719a312c-fa99-11e7-82b9-0242ac110002",
       "previous": "2e70ed56-fa7f-11e7-82b9-0242ac110002"
      },
      {
       "current": "11dc2722-fab7-11e7-82b9-0242ac110002",
       "next": "719a312c-fa99-11e7-82b9-0242ac110002",
       "previous": "c5e53304-1546-11e8-a91b-0242ac120002"
      },
      {
       "current": "11dc2722-fab7-11e7-82b9-0242ac110002",
       "next": "719a312c-fa99-11e7-82b9-0242ac110002",
       "previous": "54ed9a8c-1547-11e8-a91b-0242ac120002"
      },
      {
       "current": "11dc2722-fab7-11e7-82b9-0242ac110002",
       "next": "719a312c-fa99-11e7-82b9-0242ac110002",
       "previous": "801a5456-15e3-11e8-a91b-0242ac120002"
      },
      {
       "current": "11dc2722-fab7-11e7-82b9-0242ac110002",
       "next": "0c579680-16c1-11e8-a91b-0242ac120002",
       "previous": "801a5456-15e3-11e8-a91b-0242ac120002"
      },
      {
       "current": "11dc2722-fab7-11e7-82b9-0242ac110002",
       "next": "719a312c-fa99-11e7-82b9-0242ac110002",
       "previous": "53d8fd00-16c1-11e8-a91b-0242ac120002"
      },
      {
       "current": "11dc2722-fab7-11e7-82b9-0242ac110002",
       "next": "719a312c-fa99-11e7-82b9-0242ac110002",
       "previous": "53d8fc06-16c1-11e8-a91b-0242ac120002"
      },
      {
       "current": "11dc2722-fab7-11e7-82b9-0242ac110002",
       "next": "11dc2722-fab7-11e7-82b9-0242ac110002",
       "previous": "53d8fc06-16c1-11e8-a91b-0242ac120002"
      }
     ],
     "next": "11dc2722-fab7-11e7-82b9-0242ac110002",
     "previous": "e376a90e-16d4-11e8-a91b-0242ac120002"
    },
    "pinned_outputs": [
     {
      "execution_count": 37,
      "outputs": [
       {
        "name": "stdout",
        "output_type": "stream",
        "text": "1 logs recorded\n\npath: /home/jovyan/sig4ng2018/.log/20180221/20180221-083341-0129.log\nstart time: 2018-02-21 08:33:41(UTC)\nend time: 2018-02-21 08:33:41(UTC)\noutput size: 5963 bytes\n0 chunks with matched keywords or errors\n----\n      団体コード  市区町村名         カナ 都道府県名   小中学生    MEA  school  圏内小中学生  圏内自治体数\n3      1204    旭川市     アサヒカワシ   北海道  26789   1204       0   30371       7\n12     1213   苫小牧市     トマコマイシ   北海道  15395   1213       0   16453       2\n1414  38202    今治市      イマバリシ   愛媛県  13229  38202       0   13229       1\n428    8227    筑西市      チクセイシ   茨城県   8967   8227       0   12491       2\n1473  40206    田川市       タガワシ   福岡県   4429  40206       0   11212       8\n296    5212    大仙市      ダイセンシ   秋田県   6062   5212       0    9435       3\n956   22209    島田市       シマダシ   静岡県   8902  22209       0    9247       2\n1088  26202    舞鶴市      マイヅルシ   京都府   7649  26202       0    8602       2\n357    7212   南相馬市    ミナミソウマシ   福島県   4777   7212       0    8579       3\n294    5210  由利本荘市   ユリホンジョウシ   秋田県   6104   5210       0    8101       2\n1421  38213  四国中央市  シコクチュウオウシ   愛媛県   7550  38213       0    7550       1\n184    2206   十和田市       トワダシ   青森県   5119   2206       0    7205       3\n787   18202    敦賀市       ツルガシ   福井県   6277  18202       0    6996       2\n1415  38203   宇和島市      ウワジマシ   愛媛県   5917  38203       0    6962       3\n971   22226   牧之原市     マキノハラシ   静岡県   3897  22226       0    6832       2\n9      1210   岩見沢市     イワミザワシ   北海道   6305   1210       0    6790       2\n577   12205    館山市      タテヤマシ   千葉県   3613  12205       0    6653       3\n316    6205    新庄市     シンジョウシ   山形県   3174   6205       0    6233       8\n955   22208    伊東市       イトウシ   静岡県   4888  22208       0    6197       3\n...\n1416  38204   八幡浜市     ヤワタハマシ   愛媛県   2515  38204       0    3077       2\n10     1211    網走市      アバシリシ   北海道   3034   1211       0    3034       1\n1556  42211    五島市       ゴトウシ   長崎県   2893  42211       0    2893       1\n676   13303    瑞穂町      ミズホマチ   東京都   2879  13303       0    2879       1\n13     1214    稚内市     ワッカナイシ   北海道   2777   1214       0    2777       1\n1572  43205    水俣市      ミナマタシ   熊本県   2023  43205       0    2390       2\n149    1610  新ひだか町   シンヒダカチョウ   北海道   1837   1610       0    2341       2\n28     1229   富良野市       フラノシ   北海道   1864   1229       0    2340       2\n20     1221    名寄市       ナヨロシ   北海道   2232   1221       0    2232       1\n22     1223    根室市       ネムロシ   北海道   2031   1223       0    2031       1\n11     1212    留萌市       ルモイシ   北海道   1503   1212       0    1993       3\n62     1400   倶知安町   クッチャンチョウ   北海道   1377   1400       0    1791       2\n27     1228    深川市      フカガワシ   北海道   1358   1228       0    1694       3\n19     1220    士別市       シベツシ   北海道   1435   1220       0    1671       2\n1659  46204    枕崎市     マクラザキシ  鹿児島県   1661  46204       0    1661       1\n129    1555    遠軽町    エンガルチョウ   北海道   1644   1555       0    1644       1\n121    1543    美幌町     ビホロチョウ   北海道   1610   1543       0    1610       1\n18     1219    紋別市      モンベツシ   北海道   1584   1219       0    1584       1\n64     1402    岩内町    イワナイチョウ   北海道    943   1402       0    1551       3\n14     1215    美唄市       ビバイシ   北海道   1355   1215       0    1355       1"
       }
      ]
     }
    ]
   },
   "outputs": [],
   "source": [
    "print(target_municipality_list.sort_values(by=\"圏内小中学生\", ascending=False))"
   ]
  },
  {
   "cell_type": "markdown",
   "metadata": {
    "lc_cell_meme": {
     "current": "11dc2722-fab7-11e7-82b9-0242ac110002",
     "history": [
      {
       "current": "11dc2722-fab7-11e7-82b9-0242ac110002",
       "next": "82d255ec-fab6-11e7-82b9-0242ac110002",
       "previous": "f3c2a758-fab5-11e7-82b9-0242ac110002"
      },
      {
       "current": "11dc2722-fab7-11e7-82b9-0242ac110002",
       "next": "719a312c-fa99-11e7-82b9-0242ac110002",
       "previous": "2e70ed56-fa7f-11e7-82b9-0242ac110002"
      },
      {
       "current": "11dc2722-fab7-11e7-82b9-0242ac110002",
       "next": "719a312c-fa99-11e7-82b9-0242ac110002",
       "previous": "c5e53304-1546-11e8-a91b-0242ac120002"
      },
      {
       "current": "11dc2722-fab7-11e7-82b9-0242ac110002",
       "next": "719a312c-fa99-11e7-82b9-0242ac110002",
       "previous": "54ed9a8c-1547-11e8-a91b-0242ac120002"
      },
      {
       "current": "11dc2722-fab7-11e7-82b9-0242ac110002",
       "next": "719a312c-fa99-11e7-82b9-0242ac110002",
       "previous": "801a5456-15e3-11e8-a91b-0242ac120002"
      },
      {
       "current": "11dc2722-fab7-11e7-82b9-0242ac110002",
       "next": "0c579680-16c1-11e8-a91b-0242ac120002",
       "previous": "801a5456-15e3-11e8-a91b-0242ac120002"
      },
      {
       "current": "11dc2722-fab7-11e7-82b9-0242ac110002",
       "next": "719a312c-fa99-11e7-82b9-0242ac110002",
       "previous": "53d8fd00-16c1-11e8-a91b-0242ac120002"
      },
      {
       "current": "11dc2722-fab7-11e7-82b9-0242ac110002",
       "next": "719a312c-fa99-11e7-82b9-0242ac110002",
       "previous": "53d8fc06-16c1-11e8-a91b-0242ac120002"
      },
      {
       "current": "11dc2722-fab7-11e7-82b9-0242ac110002",
       "next": "719a312c-fa99-11e7-82b9-0242ac110002",
       "previous": "11dc2722-fab7-11e7-82b9-0242ac110002"
      }
     ],
     "next": "262ada88-fac7-11e7-9374-02420aff0004",
     "previous": "11dc2722-fab7-11e7-82b9-0242ac110002"
    }
   },
   "source": [
    "地図。"
   ]
  },
  {
   "cell_type": "markdown",
   "metadata": {
    "lc_cell_meme": {
     "current": "262ada88-fac7-11e7-9374-02420aff0004",
     "history": [
      {
       "current": "262ada88-fac7-11e7-9374-02420aff0004",
       "next": "59638b94-fab7-11e7-82b9-0242ac110002",
       "previous": "ad866254-faae-11e7-82b9-0242ac110002"
      }
     ],
     "next": "59638b94-fab7-11e7-82b9-0242ac110002",
     "previous": "11dc2722-fab7-11e7-82b9-0242ac110002"
    }
   },
   "source": [
    "![北海道](hokkaido.png)\n",
    "![東北](tohoku.png)\n",
    "![関東](kanto.png)\n",
    "![関西](kansai.png)\n",
    "![九州](kyushu.png)\n",
    "![沖縄](okinawa.png)"
   ]
  },
  {
   "cell_type": "markdown",
   "metadata": {
    "lc_cell_meme": {
     "current": "59638b94-fab7-11e7-82b9-0242ac110002",
     "history": [
      {
       "current": "59638b94-fab7-11e7-82b9-0242ac110002",
       "next": null,
       "previous": "ad866254-faae-11e7-82b9-0242ac110002"
      },
      {
       "current": "59638b94-fab7-11e7-82b9-0242ac110002",
       "next": null,
       "previous": "ad866254-faae-11e7-82b9-0242ac110002"
      },
      {
       "current": "59638b94-fab7-11e7-82b9-0242ac110002",
       "next": null,
       "previous": "262ada88-fac7-11e7-9374-02420aff0004"
      }
     ],
     "next": null,
     "previous": "262ada88-fac7-11e7-9374-02420aff0004"
    }
   },
   "source": [
    "## さいごに\n",
    "\n",
    "教室リストの網羅精度をより高めれば、空白地帯を把握することが可能になると思われるが、現在の結果を見るところ、少し精度が低い。\n",
    "\n",
    "この結果を手掛かりに、地方での体験機会創出に繋げたい。\n",
    "\n",
    "# まだ見ぬあなたへ\n",
    "\n",
    "![まだ見ぬあなたへ](https://auctions.c.yimg.jp/images.auctions.yahoo.co.jp/image/dr187/auc0303/users/5/0/2/6/rumors_r-img313x600-1433922746s8qdny14106.jpg)"
   ]
  }
 ],
 "metadata": {
  "kernelspec": {
   "display_name": "Python 3 (LC_wrapper)",
   "language": "python",
   "name": "python3-wrapper"
  },
  "language_info": {
   "file_extension": ".py",
   "mimetype": "text/x-python",
   "name": "python",
   "nbconvert_exporter": "python",
   "pygments_lexer": "ipython3",
   "version": "3.6.3"
  },
  "lc_notebook_meme": {
   "current": "35a81da2-f29f-11e7-b919-0242ac130002",
   "lc_server_signature": {
    "current": {
     "notebook_dir": "/home/jovyan",
     "notebook_path": "/sig4ng2018",
     "server_url": "http://localhost:8888/",
     "signature_id": "4910d2ac-16e0-11e8-91d9-0242ac120002"
    },
    "history": [
     {
      "notebook_dir": "/home/jovyan",
      "notebook_path": "/",
      "server_url": "http://localhost:8888/",
      "signature_id": "e7c9a7a4-f29e-11e7-b919-0242ac130002"
     },
     {
      "notebook_dir": "/home/jovyan",
      "notebook_path": "/",
      "server_url": "http://localhost:8888/",
      "signature_id": "3b14f2fc-f415-11e7-95ed-0242ac130002"
     },
     {
      "notebook_dir": "/home/jovyan",
      "notebook_path": "/",
      "server_url": "http://localhost:8888/",
      "signature_id": "46d4b118-f433-11e7-aa5d-0242ac130002"
     },
     {
      "notebook_dir": "/home/jovyan",
      "notebook_path": "/",
      "server_url": "http://localhost:8888/",
      "signature_id": "8a8db270-f9dc-11e7-ab82-0242ac110002"
     },
     {
      "notebook_dir": "/home/jovyan",
      "notebook_path": "/sig4ng2018",
      "server_url": "http://ip172-18-0-14-b9f01dcrl5h000dcu090-8888.direct.labs.play-with-docker.com/",
      "signature_id": "df1a55c8-fac2-11e7-9374-02420aff0004"
     },
     {
      "notebook_dir": "/home/jovyan",
      "notebook_path": "/sig4ng2018",
      "server_url": "http://localhost:8888/",
      "signature_id": "cedfd3f0-147f-11e8-a91b-0242ac120002"
     }
    ]
   }
  },
  "toc": {
   "nav_menu": {},
   "number_sections": true,
   "sideBar": true,
   "skip_h1_title": false,
   "title_cell": "Table of Contents",
   "title_sidebar": "Contents",
   "toc_cell": false,
   "toc_position": {
    "height": "calc(100% - 180px)",
    "left": "10px",
    "top": "150px",
    "width": "207px"
   },
   "toc_section_display": true,
   "toc_window_display": false
  }
 },
 "nbformat": 4,
 "nbformat_minor": 2
}
