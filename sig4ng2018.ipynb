{
 "cells": [
  {
   "cell_type": "markdown",
   "metadata": {
    "lc_cell_meme": {
     "current": "2ff68b48-fab8-11e7-82b9-0242ac110002",
     "next": "7b5a1412-fab1-11e7-82b9-0242ac110002",
     "previous": null
    }
   },
   "source": [
    "# IGDA日本 SIG-for NextGeneration\n",
    "\n",
    "```\n",
    "正世話人：長久勝\n",
    "副世話人：尾形美幸\n",
    "　　　　　後藤誠\n",
    "　　　　　湊和久\n",
    "```\n",
    "\n",
    "## ミッション\n",
    "\n",
    "ゲーム開発者が、<font color=\"Red\">次世代を担う若者・子供たち</font>に対して、ゲームタイトルの提供以外にできることを考え、実践する。プロのゲーム開発者との交流、ゲーム業界を支える人材の育成、ゲーム開発を通じたモノづくりや協働の体験提供などを通じ、ゲーム開発者の知見を、<font color=\"Red\">未来の社会に還元</font>する。\n",
    "\n",
    "## スカラーシップ\n",
    "\n",
    "![スカラーシップ](https://i2.wp.com/www.igda.jp/wp-content/uploads/2017/09/20170830-DSC_0323.jpg)\n",
    "\n",
    "CESAなどの支援を受け、CEDECおよびTGSでスカラーシップを提供。合わせてスタジオツアー（株式会社Aiming、株式会社サイバード、ジープラ株式会社、あまた株式会社、株式会社ディー・エヌ・エー）も実施。\n",
    "\n",
    "## ワークショップ\n",
    "\n",
    "![ワークショップ](https://i1.wp.com/www.igda.jp/wp-content/uploads/2017/12/20171103-DSC_0040.jpg)\n",
    "\n",
    "中山隼雄科学技術文化財団などの支援を受け、日本全国に向けた取り組みを実施。今年度は、東京都文京区、山口県周南市、神奈川県逗子市（2/11予定）の3ヶ所。\n",
    "\n",
    "## まだ見ぬあなたへ\n",
    "\n",
    "![まだ見ぬあなたへ](https://auctions.c.yimg.jp/images.auctions.yahoo.co.jp/image/dr187/auc0303/users/5/0/2/6/rumors_r-img313x600-1433922746s8qdny14106.jpg)\n"
   ]
  },
  {
   "cell_type": "markdown",
   "metadata": {
    "lc_cell_meme": {
     "current": "7b5a1412-fab1-11e7-82b9-0242ac110002",
     "history": [
      {
       "current": "7b5a1412-fab1-11e7-82b9-0242ac110002",
       "next": "98b17368-f415-11e7-95ed-0242ac130002",
       "previous": null
      }
     ],
     "next": "98b17368-f415-11e7-95ed-0242ac130002",
     "previous": "2ff68b48-fab8-11e7-82b9-0242ac110002"
    }
   },
   "source": [
    "# 都市雇用圏を用いたデジタルワークショップ体験機会格差の分析\n",
    "\n",
    "中心都市とその都市に通勤する者が一定割合いる周辺地域を合わせたものを「都市雇用圏」と呼ぶ。この都市圏は、雇用のみならず、経済的な結び付き、通学など含めた生活圏を実態として良く表していると考えられる。\n",
    "\n",
    "都市雇用圏は市区町村の集合として定義されており、圏内の市区町村でデジタルワークショップを体験する機会が提供されていれば、開催地の市区町村のみならず、圏内全域に対して機会提供されていると考えることができる。\n",
    "\n",
    "そこで、子供向けプログラミング教室の全国的なリストをいくつか用いて、都市雇用圏ベースでの体験機会空白地特定を試みる。"
   ]
  },
  {
   "cell_type": "markdown",
   "metadata": {
    "heading_collapsed": true,
    "lc_cell_meme": {
     "current": "98b17368-f415-11e7-95ed-0242ac130002",
     "history": [
      {
       "current": "98b17368-f415-11e7-95ed-0242ac130002",
       "next": "35a81ee2-f29f-11e7-b919-0242ac130002",
       "previous": null
      }
     ],
     "next": "35a81ee2-f29f-11e7-b919-0242ac130002",
     "previous": "7b5a1412-fab1-11e7-82b9-0242ac110002"
    }
   },
   "source": [
    "## 都市雇用圏および市区町村のリストを取得\n",
    "\n",
    "\n",
    "\n",
    "大都市雇用圏2010年基準\n",
    "\n",
    "郊外市町村"
   ]
  },
  {
   "cell_type": "code",
   "execution_count": null,
   "metadata": {
    "hidden": true,
    "lc_cell_meme": {
     "current": "35a81ee2-f29f-11e7-b919-0242ac130002",
     "history": [
      {
       "current": "35a81ee2-f29f-11e7-b919-0242ac130002",
       "next": null,
       "previous": null
      },
      {
       "current": "35a81ee2-f29f-11e7-b919-0242ac130002",
       "next": "7ccc6af8-f29f-11e7-b919-0242ac130002",
       "previous": null
      },
      {
       "current": "35a81ee2-f29f-11e7-b919-0242ac130002",
       "next": "7ccc6af8-f29f-11e7-b919-0242ac130002",
       "previous": "98b17368-f415-11e7-95ed-0242ac130002"
      }
     ],
     "next": "27b53f36-f416-11e7-95ed-0242ac130002",
     "previous": "98b17368-f415-11e7-95ed-0242ac130002"
    },
    "pinned_outputs": []
   },
   "outputs": [],
   "source": [
    "!wget http://www.csis.u-tokyo.ac.jp/UEA/MEA2010.csv"
   ]
  },
  {
   "cell_type": "markdown",
   "metadata": {
    "hidden": true,
    "lc_cell_meme": {
     "current": "27b53f36-f416-11e7-95ed-0242ac130002",
     "next": "7ccc6af8-f29f-11e7-b919-0242ac130002",
     "previous": "35a81ee2-f29f-11e7-b919-0242ac130002"
    }
   },
   "source": [
    "中心市町村"
   ]
  },
  {
   "cell_type": "code",
   "execution_count": null,
   "metadata": {
    "hidden": true,
    "lc_cell_meme": {
     "current": "7ccc6af8-f29f-11e7-b919-0242ac130002",
     "history": [
      {
       "current": "7ccc6af8-f29f-11e7-b919-0242ac130002",
       "next": "7ccc6d0a-f29f-11e7-b919-0242ac130002",
       "previous": "35a81ee2-f29f-11e7-b919-0242ac130002"
      }
     ],
     "next": "27b5403a-f416-11e7-95ed-0242ac130002",
     "previous": "27b53f36-f416-11e7-95ed-0242ac130002"
    },
    "pinned_outputs": []
   },
   "outputs": [],
   "source": [
    "!wget http://www.csis.u-tokyo.ac.jp/UEA/MEA2010C.csv"
   ]
  },
  {
   "cell_type": "markdown",
   "metadata": {
    "hidden": true,
    "lc_cell_meme": {
     "current": "27b5403a-f416-11e7-95ed-0242ac130002",
     "next": "7ccc6d0a-f29f-11e7-b919-0242ac130002",
     "previous": "7ccc6af8-f29f-11e7-b919-0242ac130002"
    }
   },
   "source": [
    "小都市雇用圏2010年基準\n",
    "\n",
    "郊外市町村"
   ]
  },
  {
   "cell_type": "code",
   "execution_count": null,
   "metadata": {
    "hidden": true,
    "lc_cell_meme": {
     "current": "7ccc6d0a-f29f-11e7-b919-0242ac130002",
     "history": [
      {
       "current": "7ccc6d0a-f29f-11e7-b919-0242ac130002",
       "next": null,
       "previous": "7ccc6af8-f29f-11e7-b919-0242ac130002"
      },
      {
       "current": "7ccc6d0a-f29f-11e7-b919-0242ac130002",
       "next": "c4b46604-f29f-11e7-b919-0242ac130002",
       "previous": "7ccc6af8-f29f-11e7-b919-0242ac130002"
      },
      {
       "current": "7ccc6d0a-f29f-11e7-b919-0242ac130002",
       "next": "c4b46604-f29f-11e7-b919-0242ac130002",
       "previous": "27b5403a-f416-11e7-95ed-0242ac130002"
      }
     ],
     "next": "6f5f2946-f416-11e7-95ed-0242ac130002",
     "previous": "27b5403a-f416-11e7-95ed-0242ac130002"
    },
    "pinned_outputs": []
   },
   "outputs": [],
   "source": [
    "!wget http://www.csis.u-tokyo.ac.jp/UEA/MCEA2010.csv"
   ]
  },
  {
   "cell_type": "markdown",
   "metadata": {
    "hidden": true,
    "lc_cell_meme": {
     "current": "6f5f2946-f416-11e7-95ed-0242ac130002",
     "next": "c4b46604-f29f-11e7-b919-0242ac130002",
     "previous": "7ccc6d0a-f29f-11e7-b919-0242ac130002"
    }
   },
   "source": [
    "中心市町村"
   ]
  },
  {
   "cell_type": "code",
   "execution_count": null,
   "metadata": {
    "hidden": true,
    "lc_cell_meme": {
     "current": "c4b46604-f29f-11e7-b919-0242ac130002",
     "history": [
      {
       "current": "c4b46604-f29f-11e7-b919-0242ac130002",
       "next": "c4b46712-f29f-11e7-b919-0242ac130002",
       "previous": "7ccc6d0a-f29f-11e7-b919-0242ac130002"
      }
     ],
     "next": "6f5f2a4a-f416-11e7-95ed-0242ac130002",
     "previous": "6f5f2946-f416-11e7-95ed-0242ac130002"
    },
    "pinned_outputs": []
   },
   "outputs": [],
   "source": [
    "!wget http://www.csis.u-tokyo.ac.jp/UEA/MCEA2010C.csv"
   ]
  },
  {
   "cell_type": "markdown",
   "metadata": {
    "hidden": true,
    "lc_cell_meme": {
     "current": "6f5f2a4a-f416-11e7-95ed-0242ac130002",
     "next": "c4b46712-f29f-11e7-b919-0242ac130002",
     "previous": "c4b46604-f29f-11e7-b919-0242ac130002"
    }
   },
   "source": [
    "都市圏人口（大都市雇用圏）"
   ]
  },
  {
   "cell_type": "code",
   "execution_count": null,
   "metadata": {
    "hidden": true,
    "lc_cell_meme": {
     "current": "c4b46712-f29f-11e7-b919-0242ac130002",
     "history": [
      {
       "current": "c4b46712-f29f-11e7-b919-0242ac130002",
       "next": "c4b467a8-f29f-11e7-b919-0242ac130002",
       "previous": "c4b46604-f29f-11e7-b919-0242ac130002"
      },
      {
       "current": "c4b46712-f29f-11e7-b919-0242ac130002",
       "next": "c4b467a8-f29f-11e7-b919-0242ac130002",
       "previous": "6f5f2a4a-f416-11e7-95ed-0242ac130002"
      }
     ],
     "next": "b6c2b6a4-f416-11e7-95ed-0242ac130002",
     "previous": "6f5f2a4a-f416-11e7-95ed-0242ac130002"
    },
    "pinned_outputs": []
   },
   "outputs": [],
   "source": [
    "!wget http://www.csis.u-tokyo.ac.jp/UEA/MEA2010P.csv"
   ]
  },
  {
   "cell_type": "markdown",
   "metadata": {
    "hidden": true,
    "lc_cell_meme": {
     "current": "b6c2b6a4-f416-11e7-95ed-0242ac130002",
     "next": "c4b467a8-f29f-11e7-b919-0242ac130002",
     "previous": "c4b46712-f29f-11e7-b919-0242ac130002"
    }
   },
   "source": [
    "都市圏人口（小都市雇用圏）"
   ]
  },
  {
   "cell_type": "code",
   "execution_count": null,
   "metadata": {
    "hidden": true,
    "lc_cell_meme": {
     "current": "c4b467a8-f29f-11e7-b919-0242ac130002",
     "history": [
      {
       "current": "c4b467a8-f29f-11e7-b919-0242ac130002",
       "next": "c4b4682a-f29f-11e7-b919-0242ac130002",
       "previous": "c4b46712-f29f-11e7-b919-0242ac130002"
      }
     ],
     "next": "b6c2b7a8-f416-11e7-95ed-0242ac130002",
     "previous": "b6c2b6a4-f416-11e7-95ed-0242ac130002"
    },
    "pinned_outputs": []
   },
   "outputs": [],
   "source": [
    "!wget http://www.csis.u-tokyo.ac.jp/UEA/MCEA2010P.csv"
   ]
  },
  {
   "cell_type": "markdown",
   "metadata": {
    "hidden": true,
    "lc_cell_meme": {
     "current": "b6c2b7a8-f416-11e7-95ed-0242ac130002",
     "next": "c4b4682a-f29f-11e7-b919-0242ac130002",
     "previous": "c4b467a8-f29f-11e7-b919-0242ac130002"
    }
   },
   "source": [
    "大都市雇用圏統計データ"
   ]
  },
  {
   "cell_type": "code",
   "execution_count": null,
   "metadata": {
    "hidden": true,
    "lc_cell_meme": {
     "current": "c4b4682a-f29f-11e7-b919-0242ac130002",
     "history": [
      {
       "current": "c4b4682a-f29f-11e7-b919-0242ac130002",
       "next": null,
       "previous": "c4b467a8-f29f-11e7-b919-0242ac130002"
      },
      {
       "current": "c4b4682a-f29f-11e7-b919-0242ac130002",
       "next": "0c3d8d70-f2a0-11e7-b919-0242ac130002",
       "previous": "c4b467a8-f29f-11e7-b919-0242ac130002"
      },
      {
       "current": "c4b4682a-f29f-11e7-b919-0242ac130002",
       "next": "98b1758e-f415-11e7-95ed-0242ac130002",
       "previous": "c4b467a8-f29f-11e7-b919-0242ac130002"
      }
     ],
     "next": "b6c2b834-f416-11e7-95ed-0242ac130002",
     "previous": "b6c2b7a8-f416-11e7-95ed-0242ac130002"
    },
    "pinned_outputs": []
   },
   "outputs": [],
   "source": [
    "!wget http://www.csis.u-tokyo.ac.jp/UEA/MEASTAT2010.csv"
   ]
  },
  {
   "cell_type": "markdown",
   "metadata": {
    "hidden": true,
    "lc_cell_meme": {
     "current": "b6c2b834-f416-11e7-95ed-0242ac130002",
     "next": "98b1758e-f415-11e7-95ed-0242ac130002",
     "previous": "c4b4682a-f29f-11e7-b919-0242ac130002"
    }
   },
   "source": [
    "市区町村コード"
   ]
  },
  {
   "cell_type": "code",
   "execution_count": null,
   "metadata": {
    "hidden": true,
    "lc_cell_meme": {
     "current": "98b1758e-f415-11e7-95ed-0242ac130002",
     "history": [
      {
       "current": "98b1758e-f415-11e7-95ed-0242ac130002",
       "next": "0c3d8d70-f2a0-11e7-b919-0242ac130002",
       "previous": "c4b4682a-f29f-11e7-b919-0242ac130002"
      },
      {
       "current": "98b1758e-f415-11e7-95ed-0242ac130002",
       "next": "0c3d8d70-f2a0-11e7-b919-0242ac130002",
       "previous": "b6c2b834-f416-11e7-95ed-0242ac130002"
      },
      {
       "current": "98b1758e-f415-11e7-95ed-0242ac130002",
       "next": "fe49fc44-f416-11e7-95ed-0242ac130002",
       "previous": "b6c2b834-f416-11e7-95ed-0242ac130002"
      }
     ],
     "next": "d0636ccc-16ab-11e8-a91b-0242ac120002",
     "previous": "b6c2b834-f416-11e7-95ed-0242ac130002"
    },
    "pinned_outputs": []
   },
   "outputs": [],
   "source": [
    "!wget http://www.soumu.go.jp/main_content/000442937.xls"
   ]
  },
  {
   "cell_type": "markdown",
   "metadata": {
    "hidden": true,
    "lc_cell_meme": {
     "current": "d0636ccc-16ab-11e8-a91b-0242ac120002",
     "next": "d0636eac-16ab-11e8-a91b-0242ac120002",
     "previous": "98b1758e-f415-11e7-95ed-0242ac130002"
    }
   },
   "source": [
    "【総計】平成29年住民基本台帳年齢階級別人口(市区町村別)"
   ]
  },
  {
   "cell_type": "code",
   "execution_count": null,
   "metadata": {
    "hidden": true,
    "lc_cell_meme": {
     "current": "d0636eac-16ab-11e8-a91b-0242ac120002",
     "next": "fe49fc44-f416-11e7-95ed-0242ac130002",
     "previous": "d0636ccc-16ab-11e8-a91b-0242ac120002"
    },
    "pinned_outputs": []
   },
   "outputs": [],
   "source": [
    "!wget http://www.soumu.go.jp/main_content/000494086.xls"
   ]
  },
  {
   "cell_type": "markdown",
   "metadata": {
    "heading_collapsed": true,
    "lc_cell_meme": {
     "current": "fe49fc44-f416-11e7-95ed-0242ac130002",
     "history": [
      {
       "current": "fe49fc44-f416-11e7-95ed-0242ac130002",
       "next": "9ae6f73c-f2a0-11e7-b919-0242ac130002",
       "previous": "98b1758e-f415-11e7-95ed-0242ac130002"
      }
     ],
     "next": "9ae6f73c-f2a0-11e7-b919-0242ac130002",
     "previous": "d0636eac-16ab-11e8-a91b-0242ac120002"
    }
   },
   "source": [
    "## データ分析準備\n",
    "\n",
    "pandas他の必要なモジュールをインストールする。"
   ]
  },
  {
   "cell_type": "code",
   "execution_count": null,
   "metadata": {
    "hidden": true,
    "lc_cell_meme": {
     "current": "9ae6f73c-f2a0-11e7-b919-0242ac130002",
     "history": [
      {
       "current": "9ae6f73c-f2a0-11e7-b919-0242ac130002",
       "next": "9ae6fa34-f2a0-11e7-b919-0242ac130002",
       "previous": "0c3d8d70-f2a0-11e7-b919-0242ac130002"
      },
      {
       "current": "9ae6f73c-f2a0-11e7-b919-0242ac130002",
       "next": "fe49ff0a-f416-11e7-95ed-0242ac130002",
       "previous": "fe49fc44-f416-11e7-95ed-0242ac130002"
      }
     ],
     "next": "ff1456b2-fab3-11e7-82b9-0242ac110002",
     "previous": "fe49fc44-f416-11e7-95ed-0242ac130002"
    },
    "pinned_outputs": []
   },
   "outputs": [],
   "source": [
    "!pip install pandas xlrd jaconv beautifulsoup4 lxml chardet"
   ]
  },
  {
   "cell_type": "markdown",
   "metadata": {
    "hidden": true,
    "lc_cell_meme": {
     "current": "ff1456b2-fab3-11e7-82b9-0242ac110002",
     "next": "fe49ff0a-f416-11e7-95ed-0242ac130002",
     "previous": "9ae6f73c-f2a0-11e7-b919-0242ac130002"
    }
   },
   "source": [
    "市区町村リストを読み込む。"
   ]
  },
  {
   "cell_type": "code",
   "execution_count": null,
   "metadata": {
    "hidden": true,
    "lc_cell_meme": {
     "current": "fe49ff0a-f416-11e7-95ed-0242ac130002",
     "history": [
      {
       "current": "fe49ff0a-f416-11e7-95ed-0242ac130002",
       "next": "9ae6fa34-f2a0-11e7-b919-0242ac130002",
       "previous": "9ae6f73c-f2a0-11e7-b919-0242ac130002"
      },
      {
       "current": "fe49ff0a-f416-11e7-95ed-0242ac130002",
       "next": "ff145856-fab3-11e7-82b9-0242ac110002",
       "previous": "ff1456b2-fab3-11e7-82b9-0242ac110002"
      }
     ],
     "next": "17ebe038-16ac-11e8-a91b-0242ac120002",
     "previous": "ff1456b2-fab3-11e7-82b9-0242ac110002"
    },
    "pinned_outputs": []
   },
   "outputs": [],
   "source": [
    "import pandas as pd\n",
    "import jaconv\n",
    "import math\n",
    "\n",
    "file = pd.ExcelFile(\"000442937.xls\")\n",
    "df = file.parse(file.sheet_names[0])\n",
    "\n",
    "df = df.rename(columns={\n",
    "    \"都道府県名\\n（漢字）\": \"都道府県名\",\n",
    "    \"市区町村名\\n（漢字）\": \"市区町村名\",\n",
    "    \"市区町村名\\n（カナ）\": \"カナ\"\n",
    "})\n",
    "df = df.drop(columns=[\"都道府県名\\n（カナ）\"])\n",
    "df = df.loc[:,[\"団体コード\",\"市区町村名\",\"カナ\",\"都道府県名\"]]\n",
    "df = df[df[\"市区町村名\"].isnull() == False].reset_index(drop=True)\n",
    "df[\"カナ\"] = df[\"カナ\"].map(jaconv.h2z)\n",
    "df[\"団体コード\"] = df[\"団体コード\"].map(lambda x: math.floor(x / 10))\n",
    "\n",
    "municipality_list = df\n",
    "\n",
    "print(municipality_list)"
   ]
  },
  {
   "cell_type": "markdown",
   "metadata": {
    "hidden": true,
    "lc_cell_meme": {
     "current": "17ebe038-16ac-11e8-a91b-0242ac120002",
     "next": "17ebe38a-16ac-11e8-a91b-0242ac120002",
     "previous": "fe49ff0a-f416-11e7-95ed-0242ac130002"
    }
   },
   "source": [
    "年齢階級別人口を読み込み、市区町村リストに情報を追記する。"
   ]
  },
  {
   "cell_type": "code",
   "execution_count": null,
   "metadata": {
    "hidden": true,
    "lc_cell_meme": {
     "current": "17ebe38a-16ac-11e8-a91b-0242ac120002",
     "next": "ff145856-fab3-11e7-82b9-0242ac110002",
     "previous": "17ebe038-16ac-11e8-a91b-0242ac120002"
    },
    "pinned_outputs": []
   },
   "outputs": [],
   "source": [
    "file = pd.ExcelFile(\"000494086.xls\")\n",
    "df = file.parse(file.sheet_names[0], skiprows=[0,2,3,4])\n",
    "df = df.drop_duplicates(subset=[\"団体コード\"])\n",
    "df = df.rename(columns={\n",
    "    \"5～9\": \"five\",\n",
    "    \"10～14\": \"ten\"\n",
    "})\n",
    "df[\"団体コード\"] = df[\"団体コード\"].map(lambda x: math.floor(x / 10))\n",
    "\n",
    "municipality_list[\"小中学生\"] = 0\n",
    "for row in df.itertuples():\n",
    "    municipality_list.loc[\n",
    "        municipality_list[\"団体コード\"] == row.団体コード, \"小中学生\"] = row.five + row.ten\n",
    "\n",
    "print(municipality_list)"
   ]
  },
  {
   "cell_type": "markdown",
   "metadata": {
    "hidden": true,
    "lc_cell_meme": {
     "current": "ff145856-fab3-11e7-82b9-0242ac110002",
     "history": [
      {
       "current": "ff145856-fab3-11e7-82b9-0242ac110002",
       "next": "9ae6fa34-f2a0-11e7-b919-0242ac130002",
       "previous": "fe49ff0a-f416-11e7-95ed-0242ac130002"
      }
     ],
     "next": "9ae6fa34-f2a0-11e7-b919-0242ac130002",
     "previous": "17ebe38a-16ac-11e8-a91b-0242ac120002"
    }
   },
   "source": [
    "大都市雇用圏の中心都市リストを読み込み、市区町村リストに情報を追記する。"
   ]
  },
  {
   "cell_type": "code",
   "execution_count": null,
   "metadata": {
    "hidden": true,
    "lc_cell_meme": {
     "current": "9ae6fa34-f2a0-11e7-b919-0242ac130002",
     "history": [
      {
       "current": "9ae6fa34-f2a0-11e7-b919-0242ac130002",
       "next": null,
       "previous": "9ae6f73c-f2a0-11e7-b919-0242ac130002"
      },
      {
       "current": "9ae6fa34-f2a0-11e7-b919-0242ac130002",
       "next": "29f4a406-f2a1-11e7-b919-0242ac130002",
       "previous": "9ae6f73c-f2a0-11e7-b919-0242ac130002"
      },
      {
       "current": "9ae6fa34-f2a0-11e7-b919-0242ac130002",
       "next": "29f4a406-f2a1-11e7-b919-0242ac130002",
       "previous": "fe49ff0a-f416-11e7-95ed-0242ac130002"
      },
      {
       "current": "9ae6fa34-f2a0-11e7-b919-0242ac130002",
       "next": "36e919e2-f9e2-11e7-82b9-0242ac110002",
       "previous": "fe49ff0a-f416-11e7-95ed-0242ac130002"
      },
      {
       "current": "9ae6fa34-f2a0-11e7-b919-0242ac130002",
       "next": "36e919e2-f9e2-11e7-82b9-0242ac110002",
       "previous": "ff145856-fab3-11e7-82b9-0242ac110002"
      }
     ],
     "next": "469ad3da-fab4-11e7-82b9-0242ac110002",
     "previous": "ff145856-fab3-11e7-82b9-0242ac110002"
    },
    "pinned_outputs": []
   },
   "outputs": [],
   "source": [
    "# csvの読み取り\n",
    "df= pd.read_csv(\"MEA2010C.csv\", encoding=\"cp932\")\n",
    "\n",
    "municipality_list[\"MEA\"] = 0\n",
    "for row in df.itertuples():\n",
    "    municipality_list.loc[municipality_list[\"団体コード\"] == row.center, \"MEA\"] = row.MEA\n",
    "    print(municipality_list.loc[municipality_list[\"団体コード\"] == row.center])"
   ]
  },
  {
   "cell_type": "markdown",
   "metadata": {
    "hidden": true,
    "lc_cell_meme": {
     "current": "469ad3da-fab4-11e7-82b9-0242ac110002",
     "next": "36e919e2-f9e2-11e7-82b9-0242ac110002",
     "previous": "9ae6fa34-f2a0-11e7-b919-0242ac130002"
    }
   },
   "source": [
    "小都市雇用圏の中心都市リストを読み込み、市区町村リストに情報を追記する。"
   ]
  },
  {
   "cell_type": "code",
   "execution_count": null,
   "metadata": {
    "hidden": true,
    "lc_cell_meme": {
     "current": "36e919e2-f9e2-11e7-82b9-0242ac110002",
     "history": [
      {
       "current": "36e919e2-f9e2-11e7-82b9-0242ac110002",
       "next": "29f4a406-f2a1-11e7-b919-0242ac130002",
       "previous": "9ae6fa34-f2a0-11e7-b919-0242ac130002"
      },
      {
       "current": "36e919e2-f9e2-11e7-82b9-0242ac110002",
       "next": "c0771ca6-f2a6-11e7-b919-0242ac130002",
       "previous": "9ae6fa34-f2a0-11e7-b919-0242ac130002"
      }
     ],
     "next": "469ad556-fab4-11e7-82b9-0242ac110002",
     "previous": "469ad3da-fab4-11e7-82b9-0242ac110002"
    },
    "pinned_outputs": []
   },
   "outputs": [],
   "source": [
    "# csvの読み取り\n",
    "df= pd.read_csv(\"MCEA2010C.csv\", encoding=\"cp932\")\n",
    "\n",
    "for row in df.itertuples():\n",
    "    municipality_list.loc[municipality_list[\"団体コード\"] == row.center, \"MEA\"] = row.UEA\n",
    "    print(municipality_list.loc[municipality_list[\"団体コード\"] == row.center])"
   ]
  },
  {
   "cell_type": "markdown",
   "metadata": {
    "hidden": true,
    "lc_cell_meme": {
     "current": "469ad556-fab4-11e7-82b9-0242ac110002",
     "next": "c0771ca6-f2a6-11e7-b919-0242ac130002",
     "previous": "36e919e2-f9e2-11e7-82b9-0242ac110002"
    }
   },
   "source": [
    "大都市雇用圏の郊外都市リストを読み込み、市区町村リストに情報を追記する。"
   ]
  },
  {
   "cell_type": "code",
   "execution_count": null,
   "metadata": {
    "hidden": true,
    "lc_cell_meme": {
     "current": "c0771ca6-f2a6-11e7-b919-0242ac130002",
     "history": [
      {
       "current": "c0771ca6-f2a6-11e7-b919-0242ac130002",
       "next": null,
       "previous": "8f955ade-f2a2-11e7-b919-0242ac130002"
      },
      {
       "current": "c0771ca6-f2a6-11e7-b919-0242ac130002",
       "next": "98acab0a-f9ea-11e7-82b9-0242ac110002",
       "previous": "36e919e2-f9e2-11e7-82b9-0242ac110002"
      }
     ],
     "next": "469ad628-fab4-11e7-82b9-0242ac110002",
     "previous": "469ad556-fab4-11e7-82b9-0242ac110002"
    },
    "pinned_outputs": []
   },
   "outputs": [],
   "source": [
    "# csvの読み取り\n",
    "df= pd.read_csv(\"MEA2010.csv\", encoding=\"cp932\")\n",
    "\n",
    "for row in df.itertuples():\n",
    "    municipality_list.loc[municipality_list[\"団体コード\"] == row.suburb, \"MEA\"] = row.MEA\n",
    "    print(municipality_list.loc[municipality_list[\"団体コード\"] == row.suburb])\n",
    "    municipality_list.loc[municipality_list[\"団体コード\"] == row.suburb2, \"MEA\"] = row.MEA\n",
    "    print(municipality_list.loc[municipality_list[\"団体コード\"] == row.suburb2])\n",
    "    municipality_list.loc[municipality_list[\"団体コード\"] == row.suburb3, \"MEA\"] = row.MEA\n",
    "    print(municipality_list.loc[municipality_list[\"団体コード\"] == row.suburb3])\n",
    "    municipality_list.loc[municipality_list[\"団体コード\"] == row.suburb4, \"MEA\"] = row.MEA\n",
    "    print(municipality_list.loc[municipality_list[\"団体コード\"] == row.suburb4])"
   ]
  },
  {
   "cell_type": "markdown",
   "metadata": {
    "hidden": true,
    "lc_cell_meme": {
     "current": "469ad628-fab4-11e7-82b9-0242ac110002",
     "next": "98acab0a-f9ea-11e7-82b9-0242ac110002",
     "previous": "c0771ca6-f2a6-11e7-b919-0242ac130002"
    }
   },
   "source": [
    "小都市雇用圏の郊外都市リストを読み込み、市区町村リストに情報を追記する。"
   ]
  },
  {
   "cell_type": "code",
   "execution_count": null,
   "metadata": {
    "hidden": true,
    "lc_cell_meme": {
     "current": "98acab0a-f9ea-11e7-82b9-0242ac110002",
     "history": [
      {
       "current": "98acab0a-f9ea-11e7-82b9-0242ac110002",
       "next": null,
       "previous": "c0771ca6-f2a6-11e7-b919-0242ac130002"
      },
      {
       "current": "98acab0a-f9ea-11e7-82b9-0242ac110002",
       "next": "1c68fe2e-f9ed-11e7-82b9-0242ac110002",
       "previous": "c0771ca6-f2a6-11e7-b919-0242ac130002"
      },
      {
       "current": "98acab0a-f9ea-11e7-82b9-0242ac110002",
       "next": "1c68fe2e-f9ed-11e7-82b9-0242ac110002",
       "previous": "469ad628-fab4-11e7-82b9-0242ac110002"
      }
     ],
     "next": "8e2340a2-fab4-11e7-82b9-0242ac110002",
     "previous": "469ad628-fab4-11e7-82b9-0242ac110002"
    },
    "pinned_outputs": []
   },
   "outputs": [],
   "source": [
    "# csvの読み取り\n",
    "df= pd.read_csv(\"MCEA2010.csv\", encoding=\"cp932\")\n",
    "\n",
    "for row in df.itertuples():\n",
    "    municipality_list.loc[municipality_list[\"団体コード\"] == row.suburb, \"MEA\"] = row.MEA\n",
    "    print(municipality_list.loc[municipality_list[\"団体コード\"] == row.suburb])\n",
    "    municipality_list.loc[municipality_list[\"団体コード\"] == row.suburb2, \"MEA\"] = row.MEA\n",
    "    print(municipality_list.loc[municipality_list[\"団体コード\"] == row.suburb2])\n",
    "    municipality_list.loc[municipality_list[\"団体コード\"] == row.suburb3, \"MEA\"] = row.MEA\n",
    "    print(municipality_list.loc[municipality_list[\"団体コード\"] == row.suburb3])\n",
    "    municipality_list.loc[municipality_list[\"団体コード\"] == row.suburb4, \"MEA\"] = row.MEA\n",
    "    print(municipality_list.loc[municipality_list[\"団体コード\"] == row.suburb4])"
   ]
  },
  {
   "cell_type": "markdown",
   "metadata": {
    "hidden": true,
    "lc_cell_meme": {
     "current": "8e2340a2-fab4-11e7-82b9-0242ac110002",
     "next": "1c68fe2e-f9ed-11e7-82b9-0242ac110002",
     "previous": "98acab0a-f9ea-11e7-82b9-0242ac110002"
    }
   },
   "source": [
    "都市雇用圏コードが実数になってしまうので整数型に変換する。（原因は不明なので気が向いたら調査）"
   ]
  },
  {
   "cell_type": "code",
   "execution_count": null,
   "metadata": {
    "hidden": true,
    "lc_cell_meme": {
     "current": "1c68fe2e-f9ed-11e7-82b9-0242ac110002",
     "history": [
      {
       "current": "1c68fe2e-f9ed-11e7-82b9-0242ac110002",
       "next": null,
       "previous": "98acab0a-f9ea-11e7-82b9-0242ac110002"
      },
      {
       "current": "1c68fe2e-f9ed-11e7-82b9-0242ac110002",
       "next": "76ca6148-f9f0-11e7-82b9-0242ac110002",
       "previous": "98acab0a-f9ea-11e7-82b9-0242ac110002"
      },
      {
       "current": "1c68fe2e-f9ed-11e7-82b9-0242ac110002",
       "next": "76ca6148-f9f0-11e7-82b9-0242ac110002",
       "previous": "8e2340a2-fab4-11e7-82b9-0242ac110002"
      }
     ],
     "next": "d5a80dae-fab4-11e7-82b9-0242ac110002",
     "previous": "8e2340a2-fab4-11e7-82b9-0242ac110002"
    },
    "pinned_outputs": []
   },
   "outputs": [],
   "source": [
    "import numpy as np\n",
    "municipality_list[\"MEA\"] = municipality_list[\"MEA\"].astype(np.int64)\n",
    "\n",
    "print(municipality_list)"
   ]
  },
  {
   "cell_type": "markdown",
   "metadata": {
    "hidden": true,
    "lc_cell_meme": {
     "current": "d5a80dae-fab4-11e7-82b9-0242ac110002",
     "next": "76ca6148-f9f0-11e7-82b9-0242ac110002",
     "previous": "1c68fe2e-f9ed-11e7-82b9-0242ac110002"
    }
   },
   "source": [
    "都市雇用圏に入らない独立した市区町村も存在する。"
   ]
  },
  {
   "cell_type": "code",
   "execution_count": null,
   "metadata": {
    "hidden": true,
    "lc_cell_meme": {
     "current": "76ca6148-f9f0-11e7-82b9-0242ac110002",
     "history": [
      {
       "current": "76ca6148-f9f0-11e7-82b9-0242ac110002",
       "next": null,
       "previous": "1c68fe2e-f9ed-11e7-82b9-0242ac110002"
      },
      {
       "current": "76ca6148-f9f0-11e7-82b9-0242ac110002",
       "next": "be3df292-f9f0-11e7-82b9-0242ac110002",
       "previous": "1c68fe2e-f9ed-11e7-82b9-0242ac110002"
      }
     ],
     "next": "d5a80f48-fab4-11e7-82b9-0242ac110002",
     "previous": "d5a80dae-fab4-11e7-82b9-0242ac110002"
    },
    "pinned_outputs": []
   },
   "outputs": [],
   "source": [
    "print(municipality_list[municipality_list[\"MEA\"] == 0])"
   ]
  },
  {
   "cell_type": "markdown",
   "metadata": {
    "heading_collapsed": true,
    "lc_cell_meme": {
     "current": "d5a80f48-fab4-11e7-82b9-0242ac110002",
     "history": [
      {
       "current": "d5a80f48-fab4-11e7-82b9-0242ac110002",
       "next": "be3df292-f9f0-11e7-82b9-0242ac110002",
       "previous": "76ca6148-f9f0-11e7-82b9-0242ac110002"
      },
      {
       "current": "d5a80f48-fab4-11e7-82b9-0242ac110002",
       "next": "6935e5ae-15fa-11e8-a91b-0242ac120002",
       "previous": "76ca6148-f9f0-11e7-82b9-0242ac110002"
      }
     ],
     "next": "be3df292-f9f0-11e7-82b9-0242ac110002",
     "previous": "76ca6148-f9f0-11e7-82b9-0242ac110002"
    }
   },
   "source": [
    "## データ分析\n",
    "\n",
    "市区町村リストに市区町村リストに教室の有無情報を入れるカラムを追加する。都道府県リストも作っておく。"
   ]
  },
  {
   "cell_type": "code",
   "execution_count": null,
   "metadata": {
    "hidden": true,
    "lc_cell_meme": {
     "current": "be3df292-f9f0-11e7-82b9-0242ac110002",
     "history": [
      {
       "current": "be3df292-f9f0-11e7-82b9-0242ac110002",
       "next": null,
       "previous": "76ca6148-f9f0-11e7-82b9-0242ac110002"
      },
      {
       "current": "be3df292-f9f0-11e7-82b9-0242ac110002",
       "next": "ead8049e-fa56-11e7-82b9-0242ac110002",
       "previous": "76ca6148-f9f0-11e7-82b9-0242ac110002"
      },
      {
       "current": "be3df292-f9f0-11e7-82b9-0242ac110002",
       "next": "ead8049e-fa56-11e7-82b9-0242ac110002",
       "previous": "d5a80f48-fab4-11e7-82b9-0242ac110002"
      },
      {
       "current": "be3df292-f9f0-11e7-82b9-0242ac110002",
       "next": "1d303386-fab5-11e7-82b9-0242ac110002",
       "previous": "d5a80f48-fab4-11e7-82b9-0242ac110002"
      },
      {
       "current": "be3df292-f9f0-11e7-82b9-0242ac110002",
       "next": "1d303386-fab5-11e7-82b9-0242ac110002",
       "previous": "6935ea90-15fa-11e8-a91b-0242ac120002"
      },
      {
       "current": "be3df292-f9f0-11e7-82b9-0242ac110002",
       "next": "6935ea90-15fa-11e8-a91b-0242ac120002",
       "previous": "d5a80f48-fab4-11e7-82b9-0242ac110002"
      }
     ],
     "next": "1d303386-fab5-11e7-82b9-0242ac110002",
     "previous": "d5a80f48-fab4-11e7-82b9-0242ac110002"
    },
    "pinned_outputs": []
   },
   "outputs": [],
   "source": [
    "import re\n",
    "import requests\n",
    "from bs4 import BeautifulSoup\n",
    "\n",
    "municipality_list[\"school\"] = 0\n",
    "\n",
    "pref_list = municipality_list[\"都道府県名\"].drop_duplicates().reset_index(drop=True)\n",
    "\n",
    "def check_school(link) :\n",
    "    print(link[\"pref\"] + \" : \", end=\"\")\n",
    "    if \"pref_not_check\" not in link :\n",
    "        link[\"pref_not_check\"] = False\n",
    "    count = 0\n",
    "    resp = requests.get(link[\"href\"])\n",
    "    resp.encoding = resp.apparent_encoding\n",
    "    body_lines = resp.text.splitlines()\n",
    "    for text in body_lines :\n",
    "        target_municipality_list = municipality_list[\n",
    "            (municipality_list[\"school\"] == 0)\n",
    "            & (municipality_list[\"都道府県名\"] == link[\"pref\"])\n",
    "        ]\n",
    "        for row in target_municipality_list.itertuples():\n",
    "            if text.find(\"一覧\") == -1 \\\n",
    "                and text.find(row.市区町村名) != -1 \\\n",
    "                and (link[\"pref_not_check\"] or text.find(link[\"pref\"]) != -1) :\n",
    "                municipality_list.loc[municipality_list[\"団体コード\"] == row.団体コード,\n",
    "                                      \"school\"] = 1\n",
    "                count = count + 1\n",
    "                print(row.市区町村名 + \", \", end=\"\")\n",
    "    print(\"\")\n",
    "    return count"
   ]
  },
  {
   "cell_type": "markdown",
   "metadata": {
    "hidden": true,
    "lc_cell_meme": {
     "current": "1d303386-fab5-11e7-82b9-0242ac110002",
     "next": "ead8049e-fa56-11e7-82b9-0242ac110002",
     "previous": "be3df292-f9f0-11e7-82b9-0242ac110002"
    }
   },
   "source": [
    "[子供向けロボット・プログラミング教室ガイド](http://xn--9ckk2d5c4051a8fm.xyz/sitemap.html#jyuusyo)から教室の情報を抽出し、市区町村リストに教室の有無情報を追記する。"
   ]
  },
  {
   "cell_type": "code",
   "execution_count": null,
   "metadata": {
    "hidden": true,
    "lc_cell_meme": {
     "current": "ead8049e-fa56-11e7-82b9-0242ac110002",
     "history": [
      {
       "current": "ead8049e-fa56-11e7-82b9-0242ac110002",
       "next": null,
       "previous": "be3df292-f9f0-11e7-82b9-0242ac110002"
      },
      {
       "current": "ead8049e-fa56-11e7-82b9-0242ac110002",
       "next": "35f928d4-fa63-11e7-82b9-0242ac110002",
       "previous": "be3df292-f9f0-11e7-82b9-0242ac110002"
      },
      {
       "current": "ead8049e-fa56-11e7-82b9-0242ac110002",
       "next": "ea924aa4-fa69-11e7-82b9-0242ac110002",
       "previous": "be3df292-f9f0-11e7-82b9-0242ac110002"
      },
      {
       "current": "ead8049e-fa56-11e7-82b9-0242ac110002",
       "next": "ea924aa4-fa69-11e7-82b9-0242ac110002",
       "previous": "1d303386-fab5-11e7-82b9-0242ac110002"
      },
      {
       "current": "ead8049e-fa56-11e7-82b9-0242ac110002",
       "next": "64b5d422-fab5-11e7-82b9-0242ac110002",
       "previous": "1d303386-fab5-11e7-82b9-0242ac110002"
      },
      {
       "current": "ead8049e-fa56-11e7-82b9-0242ac110002",
       "next": "ead8049e-fa56-11e7-82b9-0242ac110002",
       "previous": "1d303386-fab5-11e7-82b9-0242ac110002"
      },
      {
       "current": "ead8049e-fa56-11e7-82b9-0242ac110002",
       "next": "64b5d422-fab5-11e7-82b9-0242ac110002",
       "previous": "1d303386-fab5-11e7-82b9-0242ac110002"
      },
      {
       "current": "ead8049e-fa56-11e7-82b9-0242ac110002",
       "next": "6935ea90-15fa-11e8-a91b-0242ac120002",
       "previous": "1d303386-fab5-11e7-82b9-0242ac110002"
      },
      {
       "current": "ead8049e-fa56-11e7-82b9-0242ac110002",
       "next": "e8407778-163c-11e8-a91b-0242ac120002",
       "previous": "1d303386-fab5-11e7-82b9-0242ac110002"
      }
     ],
     "next": "2fc12fca-163d-11e8-a91b-0242ac120002",
     "previous": "1d303386-fab5-11e7-82b9-0242ac110002"
    },
    "pinned_outputs": [],
    "scrolled": true
   },
   "outputs": [],
   "source": [
    "def check_school_guide(link) :\n",
    "    if link[\"pref\"].find(\"沖縄\") != -1 :\n",
    "        link[\"pref\"] = \"沖縄県\"\n",
    "    soup = BeautifulSoup(requests.get(link[\"href\"]).content, \"lxml\")\n",
    "    count = 0\n",
    "    for end_link in soup.find_all(\"a\") :\n",
    "        if \"href\" in end_link.attrs.keys() \\\n",
    "            and end_link[\"href\"].find(\".html\") != -1 \\\n",
    "            and end_link[\"href\"].find(\"プログラミングスクール\") == -1 \\\n",
    "            and end_link[\"href\"].find(\"index\") == -1 :\n",
    "                if end_link[\"href\"] == \"sitemap.html\" :\n",
    "                    return count\n",
    "                target_municipality_list = municipality_list[\n",
    "                    (municipality_list[\"school\"] == 0)\n",
    "                    & (municipality_list[\"都道府県名\"] == link[\"pref\"])\n",
    "                ]\n",
    "                f = True\n",
    "                for row in target_municipality_list.itertuples():\n",
    "                    if end_link.get_text() == row.市区町村名 :\n",
    "                        municipality_list.loc[municipality_list[\"団体コード\"] == row.団体コード,\n",
    "                                              \"school\"] = 1\n",
    "                        count = count + 1\n",
    "                        print(link[\"pref\"] + row.市区町村名 + \", \")\n",
    "                        f = False\n",
    "                        break\n",
    "                if f :\n",
    "                    count = count + check_school(\n",
    "                        {\n",
    "                            \"href\" : \"http://xn--9ckk2d5c4051a8fm.xyz/\" + end_link[\"href\"],\n",
    "                            \"pref\" : link[\"pref\"]\n",
    "                        }\n",
    "                    )\n",
    "    return count\n",
    "\n",
    "base_url = \"http://xn--9ckk2d5c4051a8fm.xyz/sitemap.html\"\n",
    "soup = BeautifulSoup(requests.get(base_url).content, \"lxml\")\n",
    "l = [{\"href\" : \"http://xn--9ckk2d5c4051a8fm.xyz/\" + link.find(\"a\")[\"href\"],\n",
    "      \"pref\" : link.find(\"a\").get_text()} for link in soup.find_all(\"p\") \\\n",
    "         if \"style\" in link.attrs.keys() and link[\"style\"].find(\"text-align : left;\") != -1]\n",
    "\n",
    "print(\"add count : \" + str(sum(list(map(check_school_guide, l)))))"
   ]
  },
  {
   "cell_type": "markdown",
   "metadata": {
    "hidden": true,
    "lc_cell_meme": {
     "current": "2fc12fca-163d-11e8-a91b-0242ac120002",
     "next": "2fc131d2-163d-11e8-a91b-0242ac120002",
     "previous": "ead8049e-fa56-11e7-82b9-0242ac110002"
    }
   },
   "source": [
    "補完（一部の記載内容が形式的によろしくないので）"
   ]
  },
  {
   "cell_type": "code",
   "execution_count": null,
   "metadata": {
    "hidden": true,
    "lc_cell_meme": {
     "current": "2fc131d2-163d-11e8-a91b-0242ac120002",
     "history": [
      {
       "current": "2fc131d2-163d-11e8-a91b-0242ac120002",
       "next": "e8407778-163c-11e8-a91b-0242ac120002",
       "previous": "2fc12fca-163d-11e8-a91b-0242ac120002"
      }
     ],
     "next": "6935ea90-15fa-11e8-a91b-0242ac120002",
     "previous": "2fc12fca-163d-11e8-a91b-0242ac120002"
    },
    "pinned_outputs": []
   },
   "outputs": [],
   "source": [
    "municipality_list.loc[municipality_list[\"カナ\"] == \"シオガマシ\", \"school\"] = 1\n",
    "municipality_list.loc[municipality_list[\"カナ\"] == \"ミキチョウ\", \"school\"] = 1\n",
    "\n",
    "print(municipality_list[(municipality_list[\"カナ\"] == \"シオガマシ\")\n",
    "                        | (municipality_list[\"カナ\"] == \"ミキチョウ\")])"
   ]
  },
  {
   "cell_type": "markdown",
   "metadata": {
    "hidden": true,
    "lc_cell_meme": {
     "current": "6935ea90-15fa-11e8-a91b-0242ac120002",
     "history": [
      {
       "current": "6935ea90-15fa-11e8-a91b-0242ac120002",
       "next": "be3df292-f9f0-11e7-82b9-0242ac110002",
       "previous": "6935e5ae-15fa-11e8-a91b-0242ac120002"
      },
      {
       "current": "6935ea90-15fa-11e8-a91b-0242ac120002",
       "next": "be3df292-f9f0-11e7-82b9-0242ac110002",
       "previous": "be3df292-f9f0-11e7-82b9-0242ac110002"
      },
      {
       "current": "6935ea90-15fa-11e8-a91b-0242ac120002",
       "next": "be3df292-f9f0-11e7-82b9-0242ac110002",
       "previous": "ead8049e-fa56-11e7-82b9-0242ac110002"
      },
      {
       "current": "6935ea90-15fa-11e8-a91b-0242ac120002",
       "next": "be3df292-f9f0-11e7-82b9-0242ac110002",
       "previous": "e8407778-163c-11e8-a91b-0242ac120002"
      }
     ],
     "next": "be3df292-f9f0-11e7-82b9-0242ac110002",
     "previous": "2fc131d2-163d-11e8-a91b-0242ac120002"
    }
   },
   "source": [
    "[こどものミライ](http://kodomomirai.com/schools/)から教室の情報を抽出し、市区町村リストに教室の有無情報を追記する。"
   ]
  },
  {
   "cell_type": "code",
   "execution_count": null,
   "metadata": {
    "hidden": true,
    "lc_cell_meme": {
     "current": "be3df292-f9f0-11e7-82b9-0242ac110002",
     "history": [
      {
       "current": "be3df292-f9f0-11e7-82b9-0242ac110002",
       "next": null,
       "previous": "76ca6148-f9f0-11e7-82b9-0242ac110002"
      },
      {
       "current": "be3df292-f9f0-11e7-82b9-0242ac110002",
       "next": "ead8049e-fa56-11e7-82b9-0242ac110002",
       "previous": "76ca6148-f9f0-11e7-82b9-0242ac110002"
      },
      {
       "current": "be3df292-f9f0-11e7-82b9-0242ac110002",
       "next": "ead8049e-fa56-11e7-82b9-0242ac110002",
       "previous": "d5a80f48-fab4-11e7-82b9-0242ac110002"
      },
      {
       "current": "be3df292-f9f0-11e7-82b9-0242ac110002",
       "next": "1d303386-fab5-11e7-82b9-0242ac110002",
       "previous": "d5a80f48-fab4-11e7-82b9-0242ac110002"
      },
      {
       "current": "be3df292-f9f0-11e7-82b9-0242ac110002",
       "next": "1d303386-fab5-11e7-82b9-0242ac110002",
       "previous": "6935ea90-15fa-11e8-a91b-0242ac120002"
      }
     ],
     "next": "64b5d422-fab5-11e7-82b9-0242ac110002",
     "previous": "6935ea90-15fa-11e8-a91b-0242ac120002"
    },
    "pinned_outputs": []
   },
   "outputs": [],
   "source": [
    "def check_school(link) :\n",
    "    print(link[\"pref\"] + \" : \", end=\"\")\n",
    "    if \"pref_not_check\" not in link :\n",
    "        link[\"pref_not_check\"] = False\n",
    "    count = 0\n",
    "    resp = requests.get(link[\"href\"])\n",
    "    resp.encoding = resp.apparent_encoding\n",
    "    body_lines = resp.text.splitlines()\n",
    "    for text in body_lines :\n",
    "        target_municipality_list = municipality_list[\n",
    "            (municipality_list[\"school\"] == 0)\n",
    "            & (municipality_list[\"都道府県名\"] == link[\"pref\"])\n",
    "        ]\n",
    "        for row in target_municipality_list.itertuples():\n",
    "            if text.find(row.市区町村名) != -1 \\\n",
    "                and (link[\"pref_not_check\"] or text.find(link[\"pref\"]) != -1) :\n",
    "                municipality_list.loc[municipality_list[\"団体コード\"] == row.団体コード,\n",
    "                                      \"school\"] = 1\n",
    "                count = count + 1\n",
    "                print(row.市区町村名 + \", \", end=\"\")\n",
    "    print(\"\")\n",
    "    return count\n",
    "\n",
    "base_url = \"http://kodomomirai.com/schools/\"\n",
    "soup = BeautifulSoup(requests.get(base_url).content, \"lxml\")\n",
    "l = [{\"href\" : \"http://kodomomirai.com\" + link[\"href\"],\n",
    "      \"pref\" : re.sub(\"\\([0-9]+\\)\", \"\", link.get_text()),\n",
    "     \"pref_not_check\" : True}\n",
    "     for link in soup.find_all(\"a\") if link[\"href\"].find(\"prefecture\") != -1]\n",
    "\n",
    "print(\"add count : \" + str(sum(list(map(check_school, l)))))"
   ]
  },
  {
   "cell_type": "markdown",
   "metadata": {
    "hidden": true,
    "lc_cell_meme": {
     "current": "64b5d422-fab5-11e7-82b9-0242ac110002",
     "history": [
      {
       "current": "64b5d422-fab5-11e7-82b9-0242ac110002",
       "next": "ea924aa4-fa69-11e7-82b9-0242ac110002",
       "previous": "ead8049e-fa56-11e7-82b9-0242ac110002"
      },
      {
       "current": "64b5d422-fab5-11e7-82b9-0242ac110002",
       "next": "bc4e36d4-15e5-11e8-a91b-0242ac120002",
       "previous": "ead8049e-fa56-11e7-82b9-0242ac110002"
      },
      {
       "current": "64b5d422-fab5-11e7-82b9-0242ac110002",
       "next": "ea924aa4-fa69-11e7-82b9-0242ac110002",
       "previous": "ead8049e-fa56-11e7-82b9-0242ac110002"
      }
     ],
     "next": "ea924aa4-fa69-11e7-82b9-0242ac110002",
     "previous": "be3df292-f9f0-11e7-82b9-0242ac110002"
    }
   },
   "source": [
    "[子供向けプログラミング教室のリスト](https://list.open-code.club/%E5%AD%90%E4%BE%9B%E5%90%91%E3%81%91%E3%83%97%E3%83%AD%E3%82%B0%E3%83%A9%E3%83%9F%E3%83%B3%E3%82%B0%E6%95%99%E5%AE%A4%E3%81%AE%E3%83%AA%E3%82%B9%E3%83%88/)から教室の情報を抽出し、市区町村リストに教室の有無情報を追記する。"
   ]
  },
  {
   "cell_type": "code",
   "execution_count": null,
   "metadata": {
    "hidden": true,
    "lc_cell_meme": {
     "current": "ea924aa4-fa69-11e7-82b9-0242ac110002",
     "history": [
      {
       "current": "ea924aa4-fa69-11e7-82b9-0242ac110002",
       "next": null,
       "previous": "35f928d4-fa63-11e7-82b9-0242ac110002"
      },
      {
       "current": "ea924aa4-fa69-11e7-82b9-0242ac110002",
       "next": null,
       "previous": "ead8049e-fa56-11e7-82b9-0242ac110002"
      },
      {
       "current": "ea924aa4-fa69-11e7-82b9-0242ac110002",
       "next": "2e70ed56-fa7f-11e7-82b9-0242ac110002",
       "previous": "ead8049e-fa56-11e7-82b9-0242ac110002"
      },
      {
       "current": "ea924aa4-fa69-11e7-82b9-0242ac110002",
       "next": "db5a8756-fa80-11e7-82b9-0242ac110002",
       "previous": "ead8049e-fa56-11e7-82b9-0242ac110002"
      },
      {
       "current": "ea924aa4-fa69-11e7-82b9-0242ac110002",
       "next": "db5a8756-fa80-11e7-82b9-0242ac110002",
       "previous": "64b5d422-fab5-11e7-82b9-0242ac110002"
      },
      {
       "current": "ea924aa4-fa69-11e7-82b9-0242ac110002",
       "next": "ac3d91f4-fab5-11e7-82b9-0242ac110002",
       "previous": "64b5d422-fab5-11e7-82b9-0242ac110002"
      },
      {
       "current": "ea924aa4-fa69-11e7-82b9-0242ac110002",
       "next": "bdb1527e-1485-11e8-a91b-0242ac120002",
       "previous": "64b5d422-fab5-11e7-82b9-0242ac110002"
      },
      {
       "current": "ea924aa4-fa69-11e7-82b9-0242ac110002",
       "next": "b9151efe-1529-11e8-a91b-0242ac120002",
       "previous": "64b5d422-fab5-11e7-82b9-0242ac110002"
      },
      {
       "current": "ea924aa4-fa69-11e7-82b9-0242ac110002",
       "next": "b9151efe-1529-11e8-a91b-0242ac120002",
       "previous": "bc4e36d4-15e5-11e8-a91b-0242ac120002"
      }
     ],
     "next": "b9151efe-1529-11e8-a91b-0242ac120002",
     "previous": "64b5d422-fab5-11e7-82b9-0242ac110002"
    },
    "pinned_outputs": []
   },
   "outputs": [],
   "source": [
    "l = [{\"href\" : \"https://list.open-code.club/子供向けプログラミング教室のリスト/\" + pref + \"/\",\n",
    "      \"pref\" : pref} for pref in pref_list]\n",
    "\n",
    "print(\"add count : \" + str(sum(list(map(check_school, l)))))"
   ]
  },
  {
   "cell_type": "markdown",
   "metadata": {
    "hidden": true,
    "lc_cell_meme": {
     "current": "b9151efe-1529-11e8-a91b-0242ac120002",
     "next": "bdb1527e-1485-11e8-a91b-0242ac120002",
     "previous": "ea924aa4-fa69-11e7-82b9-0242ac110002"
    }
   },
   "source": [
    "[ヒューマンアカデミーロボット教室のリスト](http://kids.athuman.com/robo/CI/Store/Synopsis2/)から教室の情報を抽出し、市区町村リストに教室の有無情報を追記する。"
   ]
  },
  {
   "cell_type": "code",
   "execution_count": null,
   "metadata": {
    "hidden": true,
    "lc_cell_meme": {
     "current": "bdb1527e-1485-11e8-a91b-0242ac120002",
     "history": [
      {
       "current": "bdb1527e-1485-11e8-a91b-0242ac120002",
       "next": "ac3d91f4-fab5-11e7-82b9-0242ac110002",
       "previous": "ea924aa4-fa69-11e7-82b9-0242ac110002"
      },
      {
       "current": "bdb1527e-1485-11e8-a91b-0242ac120002",
       "next": "ac3d91f4-fab5-11e7-82b9-0242ac110002",
       "previous": "b9151efe-1529-11e8-a91b-0242ac120002"
      },
      {
       "current": "bdb1527e-1485-11e8-a91b-0242ac120002",
       "next": "240e604e-1543-11e8-a91b-0242ac120002",
       "previous": "b9151efe-1529-11e8-a91b-0242ac120002"
      },
      {
       "current": "bdb1527e-1485-11e8-a91b-0242ac120002",
       "next": "ac3d91f4-fab5-11e7-82b9-0242ac110002",
       "previous": "b9151efe-1529-11e8-a91b-0242ac120002"
      },
      {
       "current": "bdb1527e-1485-11e8-a91b-0242ac120002",
       "next": "ac3d91f4-fab5-11e7-82b9-0242ac110002",
       "previous": "bdb1527e-1485-11e8-a91b-0242ac120002"
      },
      {
       "current": "bdb1527e-1485-11e8-a91b-0242ac120002",
       "next": "ac3d91f4-fab5-11e7-82b9-0242ac110002",
       "previous": "b9151efe-1529-11e8-a91b-0242ac120002"
      }
     ],
     "next": "b9151efe-1529-11e8-a91b-0242ac120002",
     "previous": "b9151efe-1529-11e8-a91b-0242ac120002"
    },
    "pinned_outputs": []
   },
   "outputs": [],
   "source": [
    "l = [{\"href\" :\n",
    "      \"http://kids.athuman.com/robo/CI/Store/Synopsis/Search/\" + \\\n",
    "      \"?Search[Page][Offset]=1&Search[Page][DispNum]=1000&Store[store_text2]=\" + pref,\n",
    "      \"pref\" : pref, \"pref_not_check\" : True} for pref in pref_list]\n",
    "\n",
    "print(\"add count : \" + str(sum(list(map(check_school, l)))))"
   ]
  },
  {
   "cell_type": "markdown",
   "metadata": {
    "hidden": true,
    "lc_cell_meme": {
     "current": "b9151efe-1529-11e8-a91b-0242ac120002",
     "history": [
      {
       "current": "b9151efe-1529-11e8-a91b-0242ac120002",
       "next": "bdb1527e-1485-11e8-a91b-0242ac120002",
       "previous": "ea924aa4-fa69-11e7-82b9-0242ac110002"
      }
     ],
     "next": "bdb1527e-1485-11e8-a91b-0242ac120002",
     "previous": "bdb1527e-1485-11e8-a91b-0242ac120002"
    }
   },
   "source": [
    "[アーテック エジソンアカデミーロボットプログラミング教室のリスト](http://edisonacademy.artec-kk.co.jp/robot/search.php)から教室の情報を抽出し、市区町村リストに教室の有無情報を追記する。"
   ]
  },
  {
   "cell_type": "code",
   "execution_count": null,
   "metadata": {
    "hidden": true,
    "lc_cell_meme": {
     "current": "bdb1527e-1485-11e8-a91b-0242ac120002",
     "history": [
      {
       "current": "bdb1527e-1485-11e8-a91b-0242ac120002",
       "next": "ac3d91f4-fab5-11e7-82b9-0242ac110002",
       "previous": "ea924aa4-fa69-11e7-82b9-0242ac110002"
      },
      {
       "current": "bdb1527e-1485-11e8-a91b-0242ac120002",
       "next": "ac3d91f4-fab5-11e7-82b9-0242ac110002",
       "previous": "b9151efe-1529-11e8-a91b-0242ac120002"
      },
      {
       "current": "bdb1527e-1485-11e8-a91b-0242ac120002",
       "next": "240e604e-1543-11e8-a91b-0242ac120002",
       "previous": "b9151efe-1529-11e8-a91b-0242ac120002"
      },
      {
       "current": "bdb1527e-1485-11e8-a91b-0242ac120002",
       "next": "ac3d91f4-fab5-11e7-82b9-0242ac110002",
       "previous": "b9151efe-1529-11e8-a91b-0242ac120002"
      },
      {
       "current": "bdb1527e-1485-11e8-a91b-0242ac120002",
       "next": "ac3d91f4-fab5-11e7-82b9-0242ac110002",
       "previous": "bdb1527e-1485-11e8-a91b-0242ac120002"
      }
     ],
     "next": "ac3d91f4-fab5-11e7-82b9-0242ac110002",
     "previous": "b9151efe-1529-11e8-a91b-0242ac120002"
    },
    "pinned_outputs": []
   },
   "outputs": [],
   "source": [
    "l = [{\"href\" : \"http://edisonacademy.artec-kk.co.jp/robot/search_city.php?pref_id=\" + \\\n",
    "      \"{0:02d}\".format(i + 1),\n",
    "      \"pref\" : pref_list[i], \"pref_not_check\" : True} for i in range(47)]\n",
    "\n",
    "print(\"add count : \" + str(sum(list(map(check_school, l)))))"
   ]
  },
  {
   "cell_type": "markdown",
   "metadata": {
    "hidden": true,
    "lc_cell_meme": {
     "current": "ac3d91f4-fab5-11e7-82b9-0242ac110002",
     "history": [
      {
       "current": "ac3d91f4-fab5-11e7-82b9-0242ac110002",
       "next": "db5a8756-fa80-11e7-82b9-0242ac110002",
       "previous": "ea924aa4-fa69-11e7-82b9-0242ac110002"
      },
      {
       "current": "ac3d91f4-fab5-11e7-82b9-0242ac110002",
       "next": "db5a8756-fa80-11e7-82b9-0242ac110002",
       "previous": "bdb1527e-1485-11e8-a91b-0242ac120002"
      },
      {
       "current": "ac3d91f4-fab5-11e7-82b9-0242ac110002",
       "next": "db5a8756-fa80-11e7-82b9-0242ac110002",
       "previous": "240e604e-1543-11e8-a91b-0242ac120002"
      }
     ],
     "next": "db5a8756-fa80-11e7-82b9-0242ac110002",
     "previous": "bdb1527e-1485-11e8-a91b-0242ac120002"
    }
   },
   "source": [
    "独自に用意した Hour of Code 2017 日本国内会場のリスト（主催が外国人コミュニティではないと考えられるもののみ抽出）から開催地の情報を抽出し、市区町村リストに教室の有無情報を追記する。"
   ]
  },
  {
   "cell_type": "markdown",
   "metadata": {
    "hidden": true,
    "lc_cell_meme": {
     "current": "db5a8756-fa80-11e7-82b9-0242ac110002",
     "history": [
      {
       "current": "db5a8756-fa80-11e7-82b9-0242ac110002",
       "next": null,
       "previous": "2e70ed56-fa7f-11e7-82b9-0242ac110002"
      },
      {
       "current": "db5a8756-fa80-11e7-82b9-0242ac110002",
       "next": "2e70ed56-fa7f-11e7-82b9-0242ac110002",
       "previous": "ea924aa4-fa69-11e7-82b9-0242ac110002"
      },
      {
       "current": "db5a8756-fa80-11e7-82b9-0242ac110002",
       "next": "db5a8756-fa80-11e7-82b9-0242ac110002",
       "previous": "ea924aa4-fa69-11e7-82b9-0242ac110002"
      },
      {
       "current": "db5a8756-fa80-11e7-82b9-0242ac110002",
       "next": "db5a8756-fa80-11e7-82b9-0242ac110002",
       "previous": "ac3d91f4-fab5-11e7-82b9-0242ac110002"
      }
     ],
     "next": "f3c2a640-fab5-11e7-82b9-0242ac110002",
     "previous": "ac3d91f4-fab5-11e7-82b9-0242ac110002"
    },
    "pinned_outputs": [
     {
      "execution_count": 20,
      "outputs": [
       {
        "name": "stdout",
        "output_type": "stream",
        "text": "      団体コード  市区町村名        かな 都道府県名    MEA  school\n0      1100    札幌市     サッポロシ   北海道   1100       1\n5      1206    釧路市      クシロシ   北海道   1206       1\n6      1207    帯広市     オビヒロシ   北海道   1207       1\n7      1208    北見市      キタミシ   北海道   1208       1\n16     1217    江別市      エベツシ   北海道   1100       1\n29     1230    登別市    ノボリベツシ   北海道   1205       1\n33     1235    石狩市     イシカリシ   北海道   1100       1\n62     1400   倶知安町  クッチャンチョウ   北海道   1400       1\n126    1549   訓子府町  クンネップチョウ   北海道   1208       1\n143    1601    日高町    ヒダカチョウ   北海道      0       1\n150    1631    音更町   オトフケチョウ   北海道   1207       1\n177    1693    標津町    シベツチョウ   北海道      0       1\n179    2201    青森市     アオモリシ   青森県   2201       1\n180    2202    弘前市     ヒロサキシ   青森県   2202       1\n181    2203    八戸市     ハチノヘシ   青森県   2203       1\n183    2205  五所川原市   ゴショガワラシ   青森県   2205       1\n219    3201    盛岡市     モリオカシ   岩手県   3201       1\n223    3206    北上市     キタカミシ   岩手県   3206       1\n226    3209    一関市    イチノセキシ   岩手県   3209       1\n237    3322    矢巾町    ヤハバチョウ   岩手県   3201       1\n245    3484   田野畑村    タノハタムラ   岩手県      0       1\n252    4100    仙台市     センダイシ   宮城県   4100       1\n253    4202    石巻市    イシノマキシ   宮城県   4202       1\n256    4206    白石市     シロイシシ   宮城県   4206       1\n257    4207    名取市      ナトリシ   宮城県   4100       1\n258    4208    角田市      カクダシ   宮城県      0       1\n260    4211    岩沼市     イワヌマシ   宮城県   4100       1\n261    4212    登米市       トメシ   宮城県      0       1\n264    4215    大崎市     オオサキシ   宮城県   4215       1\n270    4323    柴田町     シバタマチ   宮城県   4100       1\n...     ...    ...       ...   ...    ...     ...\n1603  43501     錦町     ニシキマチ   熊本県  43203       1\n1613  44201    大分市     オオイタシ   大分県  44201       1\n1614  44202    別府市      ベップシ   大分県  44201       1\n1615  44203    中津市      ナカツシ   大分県  44203       1\n1616  44204    日田市       ヒタシ   大分県  44204       1\n1623  44211    宇佐市       ウサシ   大分県  44203       1\n1631  45201    宮崎市     ミヤザキシ   宮崎県  45201       1\n1632  45202    都城市  ミヤコノジョウシ   宮崎県  45202       1\n1633  45203    延岡市     ノベオカシ   宮崎県  45203       1\n1634  45204    日南市     ニチナンシ   宮崎県  45204       1\n1636  45206    日向市     ヒュウガシ   宮崎県  45206       1\n1642  45382    国富町   クニトミチョウ   宮崎県  45201       1\n1657  46201   鹿児島市     カゴシマシ  鹿児島県  46201       1\n1658  46203    鹿屋市      カノヤシ  鹿児島県  46203       1\n1661  46208    出水市      イズミシ  鹿児島県      0       1\n1665  46215  薩摩川内市  サツマセンダイシ  鹿児島県  46215       1\n1666  46216    日置市      ヒオキシ  鹿児島県  46201       1\n1668  46218    霧島市     キリシマシ  鹿児島県  46218       1\n1675  46225    姶良市      アイラシ  鹿児島県  46201       1\n1681  46468    大崎町   オオサキチョウ  鹿児島県  46203       1\n1700  47201    那覇市       ナハシ   沖縄県  47201       1\n1701  47205   宜野湾市     ギノワンシ   沖縄県  47201       1\n1702  47207    石垣市     イシガキシ   沖縄県  47207       1\n1703  47208    浦添市     ウラソエシ   沖縄県  47201       1\n1704  47209    名護市       ナゴシ   沖縄県  47209       1\n1706  47211    沖縄市     オキナワシ   沖縄県  47211       1\n1707  47212   豊見城市    トミグスクシ   沖縄県  47201       1\n1708  47213   うるま市      ウルマシ   沖縄県  47211       1\n1721  47325   嘉手納町    カデナチョウ   沖縄県  47211       1\n1727  47350   南風原町   ハエバルチョウ   沖縄県  47201       1\n\n[618 rows x 6 columns]\n"
       }
      ]
     }
    ]
   },
   "source": [
    "### HoCは定常的な体験機会を作らないので、外すことにした\n",
    "### csvの読み取り\n",
    "df= pd.read_csv(\"hoc2017jp.csv\", encoding=\"cp932\")\n",
    "\n",
    "for row in df.itertuples():\n",
    "    t = municipality_list[municipality_list[\"都道府県名\"] == row.都道府県]\n",
    "    c = t[t[\"市区町村名\"] == row.市区町村].reset_index()\n",
    "    municipality_list.loc[municipality_list[\"団体コード\"] == c.団体コード[0], \"school\"] = 1\n",
    "\n",
    "print(municipality_list[municipality_list[\"school\"] == 1])"
   ]
  },
  {
   "cell_type": "markdown",
   "metadata": {
    "hidden": true,
    "lc_cell_meme": {
     "current": "f3c2a640-fab5-11e7-82b9-0242ac110002",
     "next": "db5a8756-fa80-11e7-82b9-0242ac110002",
     "previous": "db5a8756-fa80-11e7-82b9-0242ac110002"
    }
   },
   "source": [
    "独自に用意した Coder Dojo 日本国内会場のリストから開催地の情報を抽出し、市区町村リストに教室の有無情報を追記する。"
   ]
  },
  {
   "cell_type": "code",
   "execution_count": null,
   "metadata": {
    "hidden": true,
    "lc_cell_meme": {
     "current": "db5a8756-fa80-11e7-82b9-0242ac110002",
     "history": [
      {
       "current": "db5a8756-fa80-11e7-82b9-0242ac110002",
       "next": null,
       "previous": "2e70ed56-fa7f-11e7-82b9-0242ac110002"
      },
      {
       "current": "db5a8756-fa80-11e7-82b9-0242ac110002",
       "next": "2e70ed56-fa7f-11e7-82b9-0242ac110002",
       "previous": "ea924aa4-fa69-11e7-82b9-0242ac110002"
      },
      {
       "current": "db5a8756-fa80-11e7-82b9-0242ac110002",
       "next": "2e70ed56-fa7f-11e7-82b9-0242ac110002",
       "previous": "db5a8756-fa80-11e7-82b9-0242ac110002"
      },
      {
       "current": "db5a8756-fa80-11e7-82b9-0242ac110002",
       "next": "f3c2a758-fab5-11e7-82b9-0242ac110002",
       "previous": "f3c2a640-fab5-11e7-82b9-0242ac110002"
      }
     ],
     "next": "c0d849c8-170d-11e8-b3ff-02420aff0004",
     "previous": "f3c2a640-fab5-11e7-82b9-0242ac110002"
    },
    "pinned_outputs": []
   },
   "outputs": [],
   "source": [
    "# csvの読み取り\n",
    "df= pd.read_csv(\"cd2018.csv\", encoding=\"cp932\")\n",
    "\n",
    "for row in df.itertuples():\n",
    "    t = municipality_list[municipality_list[\"都道府県名\"] == row.都道府県]\n",
    "    c = t[t[\"市区町村名\"] == row.市区町村].reset_index()\n",
    "    municipality_list.loc[municipality_list[\"団体コード\"] == c.団体コード[0], \"school\"] = 1"
   ]
  },
  {
   "cell_type": "markdown",
   "metadata": {
    "hidden": true,
    "lc_cell_meme": {
     "current": "c0d849c8-170d-11e8-b3ff-02420aff0004",
     "history": [
      {
       "current": "c0d849c8-170d-11e8-b3ff-02420aff0004",
       "next": "f3c2a758-fab5-11e7-82b9-0242ac110002",
       "previous": "db5a8756-fa80-11e7-82b9-0242ac110002"
      }
     ],
     "next": "085fdca2-170e-11e8-b3ff-02420aff0004",
     "previous": "db5a8756-fa80-11e7-82b9-0242ac110002"
    }
   },
   "source": [
    "独自に用意した定期開催される教室やイベントの情報を、市区町村リストの教室の有無情報に追記する。"
   ]
  },
  {
   "cell_type": "code",
   "execution_count": null,
   "metadata": {
    "hidden": true,
    "lc_cell_meme": {
     "current": "085fdca2-170e-11e8-b3ff-02420aff0004",
     "next": "f3c2a758-fab5-11e7-82b9-0242ac110002",
     "previous": "c0d849c8-170d-11e8-b3ff-02420aff0004"
    }
   },
   "outputs": [],
   "source": [
    "# csvの読み取り\n",
    "df= pd.read_csv(\"add_schools.csv\", encoding=\"cp932\")\n",
    "\n",
    "for row in df.itertuples():\n",
    "    t = municipality_list[municipality_list[\"都道府県名\"] == row.都道府県]\n",
    "    c = t[t[\"市区町村名\"] == row.市区町村].reset_index()\n",
    "    municipality_list.loc[municipality_list[\"団体コード\"] == c.団体コード[0], \"school\"] = 1"
   ]
  },
  {
   "cell_type": "markdown",
   "metadata": {
    "hidden": true,
    "lc_cell_meme": {
     "current": "f3c2a758-fab5-11e7-82b9-0242ac110002",
     "history": [
      {
       "current": "f3c2a758-fab5-11e7-82b9-0242ac110002",
       "next": "2e70ed56-fa7f-11e7-82b9-0242ac110002",
       "previous": "db5a8756-fa80-11e7-82b9-0242ac110002"
      },
      {
       "current": "f3c2a758-fab5-11e7-82b9-0242ac110002",
       "next": "11dc2722-fab7-11e7-82b9-0242ac110002",
       "previous": "db5a8756-fa80-11e7-82b9-0242ac110002"
      },
      {
       "current": "f3c2a758-fab5-11e7-82b9-0242ac110002",
       "next": "2e70ed56-fa7f-11e7-82b9-0242ac110002",
       "previous": "db5a8756-fa80-11e7-82b9-0242ac110002"
      },
      {
       "current": "f3c2a758-fab5-11e7-82b9-0242ac110002",
       "next": "2e70ed56-fa7f-11e7-82b9-0242ac110002",
       "previous": "c0d849c8-170d-11e8-b3ff-02420aff0004"
      }
     ],
     "next": "2e70ed56-fa7f-11e7-82b9-0242ac110002",
     "previous": "085fdca2-170e-11e8-b3ff-02420aff0004"
    }
   },
   "source": [
    "同じ都市雇用圏に属する市区町村に体験機会がある場合、その市区町村にも体験機会があると見なし、市区町村リストに教室の有無情報を追記する。"
   ]
  },
  {
   "cell_type": "code",
   "execution_count": null,
   "metadata": {
    "hidden": true,
    "lc_cell_meme": {
     "current": "2e70ed56-fa7f-11e7-82b9-0242ac110002",
     "history": [
      {
       "current": "2e70ed56-fa7f-11e7-82b9-0242ac110002",
       "next": null,
       "previous": "ea924aa4-fa69-11e7-82b9-0242ac110002"
      },
      {
       "current": "2e70ed56-fa7f-11e7-82b9-0242ac110002",
       "next": "db5a8756-fa80-11e7-82b9-0242ac110002",
       "previous": "ea924aa4-fa69-11e7-82b9-0242ac110002"
      },
      {
       "current": "2e70ed56-fa7f-11e7-82b9-0242ac110002",
       "next": null,
       "previous": "db5a8756-fa80-11e7-82b9-0242ac110002"
      },
      {
       "current": "2e70ed56-fa7f-11e7-82b9-0242ac110002",
       "next": "719a312c-fa99-11e7-82b9-0242ac110002",
       "previous": "db5a8756-fa80-11e7-82b9-0242ac110002"
      },
      {
       "current": "2e70ed56-fa7f-11e7-82b9-0242ac110002",
       "next": "719a312c-fa99-11e7-82b9-0242ac110002",
       "previous": "f3c2a758-fab5-11e7-82b9-0242ac110002"
      },
      {
       "current": "2e70ed56-fa7f-11e7-82b9-0242ac110002",
       "next": "82d255ec-fab6-11e7-82b9-0242ac110002",
       "previous": "f3c2a758-fab5-11e7-82b9-0242ac110002"
      },
      {
       "current": "2e70ed56-fa7f-11e7-82b9-0242ac110002",
       "next": "11dc2722-fab7-11e7-82b9-0242ac110002",
       "previous": "f3c2a758-fab5-11e7-82b9-0242ac110002"
      },
      {
       "current": "2e70ed56-fa7f-11e7-82b9-0242ac110002",
       "next": "c5e53304-1546-11e8-a91b-0242ac120002",
       "previous": "f3c2a758-fab5-11e7-82b9-0242ac110002"
      },
      {
       "current": "2e70ed56-fa7f-11e7-82b9-0242ac110002",
       "next": "53d8f9b8-16c1-11e8-a91b-0242ac120002",
       "previous": "f3c2a758-fab5-11e7-82b9-0242ac110002"
      },
      {
       "current": "2e70ed56-fa7f-11e7-82b9-0242ac110002",
       "next": "2a6c68ac-16c2-11e8-a91b-0242ac120002",
       "previous": "f3c2a758-fab5-11e7-82b9-0242ac110002"
      }
     ],
     "next": "53d8f9b8-16c1-11e8-a91b-0242ac120002",
     "previous": "f3c2a758-fab5-11e7-82b9-0242ac110002"
    },
    "pinned_outputs": [],
    "scrolled": true
   },
   "outputs": [],
   "source": [
    "t = municipality_list[municipality_list[\"MEA\"] != 0]\n",
    "for mea in t[t[\"school\"] == 1][\"MEA\"] :\n",
    "    municipality_list.loc[municipality_list[\"MEA\"] == mea, \"school\"] = 1"
   ]
  },
  {
   "cell_type": "markdown",
   "metadata": {
    "heading_collapsed": true,
    "lc_cell_meme": {
     "current": "53d8f9b8-16c1-11e8-a91b-0242ac120002",
     "history": [
      {
       "current": "53d8f9b8-16c1-11e8-a91b-0242ac120002",
       "next": "c5e53304-1546-11e8-a91b-0242ac120002",
       "previous": "2e70ed56-fa7f-11e7-82b9-0242ac110002"
      },
      {
       "current": "53d8f9b8-16c1-11e8-a91b-0242ac120002",
       "next": "c5e53304-1546-11e8-a91b-0242ac120002",
       "previous": "2a6c68ac-16c2-11e8-a91b-0242ac120002"
      }
     ],
     "next": "c5e53304-1546-11e8-a91b-0242ac120002",
     "previous": "2e70ed56-fa7f-11e7-82b9-0242ac110002"
    }
   },
   "source": [
    "## 体験機会のない中心都市の分析\n",
    "\n",
    "体験機会のない中心都市を抽出し、圏内の小中学生総数を求める。"
   ]
  },
  {
   "cell_type": "code",
   "execution_count": null,
   "metadata": {
    "hidden": true,
    "lc_cell_meme": {
     "current": "c5e53304-1546-11e8-a91b-0242ac120002",
     "history": [
      {
       "current": "c5e53304-1546-11e8-a91b-0242ac120002",
       "next": "11dc2722-fab7-11e7-82b9-0242ac110002",
       "previous": "2e70ed56-fa7f-11e7-82b9-0242ac110002"
      },
      {
       "current": "c5e53304-1546-11e8-a91b-0242ac120002",
       "next": "54ed9a8c-1547-11e8-a91b-0242ac120002",
       "previous": "2e70ed56-fa7f-11e7-82b9-0242ac110002"
      },
      {
       "current": "c5e53304-1546-11e8-a91b-0242ac120002",
       "next": "54ed9a8c-1547-11e8-a91b-0242ac120002",
       "previous": "53d8f9b8-16c1-11e8-a91b-0242ac120002"
      },
      {
       "current": "c5e53304-1546-11e8-a91b-0242ac120002",
       "next": "900d1f84-16c3-11e8-a91b-0242ac120002",
       "previous": "53d8f9b8-16c1-11e8-a91b-0242ac120002"
      },
      {
       "current": "c5e53304-1546-11e8-a91b-0242ac120002",
       "next": "11dc2722-fab7-11e7-82b9-0242ac110002",
       "previous": "53d8f9b8-16c1-11e8-a91b-0242ac120002"
      }
     ],
     "next": "9b1e4144-16d4-11e8-a91b-0242ac120002",
     "previous": "53d8f9b8-16c1-11e8-a91b-0242ac120002"
    },
    "pinned_outputs": []
   },
   "outputs": [],
   "source": [
    "target_municipality_list = municipality_list[(municipality_list[\"school\"] == 0)\n",
    "                                             & (municipality_list[\"MEA\"] == \\\n",
    "                                                municipality_list[\"団体コード\"])]\n",
    "\n",
    "target_municipality_list[\"圏内小中学生\"] = 0\n",
    "target_municipality_list[\"圏内自治体数\"] = 0\n",
    "\n",
    "for target in target_municipality_list.itertuples() :\n",
    "    family = municipality_list[municipality_list[\"MEA\"] == target.MEA]\n",
    "    target_municipality_list.loc[target_municipality_list[\"団体コード\"] == target.団体コード,\n",
    "                                \"圏内小中学生\"] = sum(family[\"小中学生\"])\n",
    "    target_municipality_list.loc[target_municipality_list[\"団体コード\"] == target.団体コード,\n",
    "                                \"圏内自治体数\"] = len(family.index)\n",
    "\n",
    "print(target_municipality_list.sort_values(by=\"圏内小中学生\", ascending=False))"
   ]
  },
  {
   "cell_type": "markdown",
   "metadata": {
    "heading_collapsed": true,
    "lc_cell_meme": {
     "current": "9b1e4144-16d4-11e8-a91b-0242ac120002",
     "history": [
      {
       "current": "9b1e4144-16d4-11e8-a91b-0242ac120002",
       "next": "11dc2722-fab7-11e7-82b9-0242ac110002",
       "previous": "c5e53304-1546-11e8-a91b-0242ac120002"
      }
     ],
     "next": "719a312c-fa99-11e7-82b9-0242ac110002",
     "previous": "c5e53304-1546-11e8-a91b-0242ac120002"
    }
   },
   "source": [
    "## 地図作成\n",
    "\n",
    "都市雇用圏による修正を加えて、市区町村毎に体験機会の有無データを生成できたので、地図に示す。体験機会のない市区町村は赤塗で表現される。\n",
    "\n",
    "北海道。"
   ]
  },
  {
   "cell_type": "code",
   "execution_count": null,
   "metadata": {
    "hidden": true,
    "lc_cell_meme": {
     "current": "719a312c-fa99-11e7-82b9-0242ac110002",
     "history": [
      {
       "current": "719a312c-fa99-11e7-82b9-0242ac110002",
       "next": null,
       "previous": "2e70ed56-fa7f-11e7-82b9-0242ac110002"
      },
      {
       "current": "719a312c-fa99-11e7-82b9-0242ac110002",
       "next": "8fb0b81a-fa9a-11e7-82b9-0242ac110002",
       "previous": "2e70ed56-fa7f-11e7-82b9-0242ac110002"
      },
      {
       "current": "719a312c-fa99-11e7-82b9-0242ac110002",
       "next": "8fb0b81a-fa9a-11e7-82b9-0242ac110002",
       "previous": "82d255ec-fab6-11e7-82b9-0242ac110002"
      },
      {
       "current": "719a312c-fa99-11e7-82b9-0242ac110002",
       "next": "ca562088-fab6-11e7-82b9-0242ac110002",
       "previous": "82d255ec-fab6-11e7-82b9-0242ac110002"
      },
      {
       "current": "719a312c-fa99-11e7-82b9-0242ac110002",
       "next": "ca562088-fab6-11e7-82b9-0242ac110002",
       "previous": "11dc2722-fab7-11e7-82b9-0242ac110002"
      },
      {
       "current": "719a312c-fa99-11e7-82b9-0242ac110002",
       "next": "ca562088-fab6-11e7-82b9-0242ac110002",
       "previous": "0c579680-16c1-11e8-a91b-0242ac120002"
      },
      {
       "current": "719a312c-fa99-11e7-82b9-0242ac110002",
       "next": "ca562088-fab6-11e7-82b9-0242ac110002",
       "previous": "11dc2722-fab7-11e7-82b9-0242ac110002"
      }
     ],
     "next": "ca562088-fab6-11e7-82b9-0242ac110002",
     "previous": "9b1e4144-16d4-11e8-a91b-0242ac120002"
    },
    "pinned_outputs": [],
    "scrolled": true
   },
   "outputs": [],
   "source": [
    "url = \"http://map.olp.yahooapis.jp/OpenLocalPlatform/V1/static?\" + \\\n",
    "    \"&width=2000&height=2000&lat=43.5&lon=142.2&z=10&\" + \\\n",
    "    \"appid=dj00aiZpPXRVRTJKRFRGb3dLeSZzPWNvbnN1bWVyc2VjcmV0Jng9MWU-&mode=blankmap&style=\"\n",
    "for row in municipality_list[municipality_list[\"school\"] == 0].itertuples() :\n",
    "    if math.floor(row.団体コード / 1000) == 1 :\n",
    "        url = url + \"bm.p.\" + '{0:05d}'.format(row.団体コード) + \":FF0000|\"\n",
    "\n",
    "print(url)"
   ]
  },
  {
   "cell_type": "markdown",
   "metadata": {
    "hidden": true,
    "lc_cell_meme": {
     "current": "ca562088-fab6-11e7-82b9-0242ac110002",
     "next": "8fb0b81a-fa9a-11e7-82b9-0242ac110002",
     "previous": "719a312c-fa99-11e7-82b9-0242ac110002"
    }
   },
   "source": [
    "東北。"
   ]
  },
  {
   "cell_type": "code",
   "execution_count": null,
   "metadata": {
    "hidden": true,
    "lc_cell_meme": {
     "current": "8fb0b81a-fa9a-11e7-82b9-0242ac110002",
     "history": [
      {
       "current": "8fb0b81a-fa9a-11e7-82b9-0242ac110002",
       "next": null,
       "previous": "719a312c-fa99-11e7-82b9-0242ac110002"
      },
      {
       "current": "8fb0b81a-fa9a-11e7-82b9-0242ac110002",
       "next": "8f6d957c-faad-11e7-82b9-0242ac110002",
       "previous": "719a312c-fa99-11e7-82b9-0242ac110002"
      }
     ],
     "next": "ca562218-fab6-11e7-82b9-0242ac110002",
     "previous": "ca562088-fab6-11e7-82b9-0242ac110002"
    },
    "pinned_outputs": []
   },
   "outputs": [],
   "source": [
    "url = \"http://map.olp.yahooapis.jp/OpenLocalPlatform/V1/static?\" + \\\n",
    "    \"&width=2000&height=2000&lat=39.5&lon=140.2&z=10&\" + \\\n",
    "    \"appid=dj00aiZpPXRVRTJKRFRGb3dLeSZzPWNvbnN1bWVyc2VjcmV0Jng9MWU-&mode=blankmap&style=\"\n",
    "for row in municipality_list[municipality_list[\"school\"] == 0].itertuples() :\n",
    "    if math.floor(row.団体コード / 1000) >= 2 and math.floor(row.団体コード / 1000) <= 16 :\n",
    "        url = url + \"bm.p.\" + '{0:05d}'.format(row.団体コード) + \":FF0000|\"\n",
    "\n",
    "print(url)"
   ]
  },
  {
   "cell_type": "markdown",
   "metadata": {
    "hidden": true,
    "lc_cell_meme": {
     "current": "ca562218-fab6-11e7-82b9-0242ac110002",
     "next": "8f6d957c-faad-11e7-82b9-0242ac110002",
     "previous": "8fb0b81a-fa9a-11e7-82b9-0242ac110002"
    }
   },
   "source": [
    "関東甲信越、北陸、中部。"
   ]
  },
  {
   "cell_type": "code",
   "execution_count": null,
   "metadata": {
    "hidden": true,
    "lc_cell_meme": {
     "current": "8f6d957c-faad-11e7-82b9-0242ac110002",
     "history": [
      {
       "current": "8f6d957c-faad-11e7-82b9-0242ac110002",
       "next": null,
       "previous": "8fb0b81a-fa9a-11e7-82b9-0242ac110002"
      },
      {
       "current": "8f6d957c-faad-11e7-82b9-0242ac110002",
       "next": "1eb281f2-faae-11e7-82b9-0242ac110002",
       "previous": "8fb0b81a-fa9a-11e7-82b9-0242ac110002"
      }
     ],
     "next": "ca5622b8-fab6-11e7-82b9-0242ac110002",
     "previous": "ca562218-fab6-11e7-82b9-0242ac110002"
    },
    "pinned_outputs": []
   },
   "outputs": [],
   "source": [
    "url = \"http://map.olp.yahooapis.jp/OpenLocalPlatform/V1/static?\" + \\\n",
    "    \"&width=2000&height=2000&lat=35.5&lon=138.2&z=10&\" + \\\n",
    "    \"appid=dj00aiZpPXRVRTJKRFRGb3dLeSZzPWNvbnN1bWVyc2VjcmV0Jng9MWU-&mode=blankmap&style=\"\n",
    "for row in municipality_list[municipality_list[\"school\"] == 0].itertuples() :\n",
    "    if math.floor(row.団体コード / 1000) >= 7 and math.floor(row.団体コード / 1000) <= 30 :\n",
    "        url = url + \"bm.p.\" + '{0:05d}'.format(row.団体コード) + \":FF0000|\"\n",
    "\n",
    "print(url)"
   ]
  },
  {
   "cell_type": "markdown",
   "metadata": {
    "hidden": true,
    "lc_cell_meme": {
     "current": "ca5622b8-fab6-11e7-82b9-0242ac110002",
     "next": "1eb281f2-faae-11e7-82b9-0242ac110002",
     "previous": "8f6d957c-faad-11e7-82b9-0242ac110002"
    }
   },
   "source": [
    "近畿、中国、四国。"
   ]
  },
  {
   "cell_type": "code",
   "execution_count": null,
   "metadata": {
    "hidden": true,
    "lc_cell_meme": {
     "current": "1eb281f2-faae-11e7-82b9-0242ac110002",
     "history": [
      {
       "current": "1eb281f2-faae-11e7-82b9-0242ac110002",
       "next": null,
       "previous": "8f6d957c-faad-11e7-82b9-0242ac110002"
      },
      {
       "current": "1eb281f2-faae-11e7-82b9-0242ac110002",
       "next": "ad866254-faae-11e7-82b9-0242ac110002",
       "previous": "8f6d957c-faad-11e7-82b9-0242ac110002"
      },
      {
       "current": "1eb281f2-faae-11e7-82b9-0242ac110002",
       "next": "5aae17b4-fab0-11e7-82b9-0242ac110002",
       "previous": "8f6d957c-faad-11e7-82b9-0242ac110002"
      },
      {
       "current": "1eb281f2-faae-11e7-82b9-0242ac110002",
       "next": "5aae17b4-fab0-11e7-82b9-0242ac110002",
       "previous": "ca5622b8-fab6-11e7-82b9-0242ac110002"
      }
     ],
     "next": "11dc28bc-fab7-11e7-82b9-0242ac110002",
     "previous": "ca5622b8-fab6-11e7-82b9-0242ac110002"
    },
    "pinned_outputs": []
   },
   "outputs": [],
   "source": [
    "url = \"http://map.olp.yahooapis.jp/OpenLocalPlatform/V1/static?\" + \\\n",
    "    \"&width=2000&height=2000&lat=33.5&lon=132.9&z=10&\" + \\\n",
    "    \"appid=dj00aiZpPXRVRTJKRFRGb3dLeSZzPWNvbnN1bWVyc2VjcmV0Jng9MWU-&mode=blankmap&style=\"\n",
    "for row in municipality_list[municipality_list[\"school\"] == 0].itertuples() :\n",
    "    if math.floor(row.団体コード / 1000) >= 18 and math.floor(row.団体コード / 1000) <= 46 :\n",
    "        url = url + \"bm.p.\" + '{0:05d}'.format(row.団体コード) + \":FF0000|\"\n",
    "\n",
    "print(url)"
   ]
  },
  {
   "cell_type": "markdown",
   "metadata": {
    "hidden": true,
    "lc_cell_meme": {
     "current": "11dc28bc-fab7-11e7-82b9-0242ac110002",
     "next": "5aae17b4-fab0-11e7-82b9-0242ac110002",
     "previous": "1eb281f2-faae-11e7-82b9-0242ac110002"
    }
   },
   "source": [
    "九州。"
   ]
  },
  {
   "cell_type": "code",
   "execution_count": null,
   "metadata": {
    "hidden": true,
    "lc_cell_meme": {
     "current": "5aae17b4-fab0-11e7-82b9-0242ac110002",
     "history": [
      {
       "current": "5aae17b4-fab0-11e7-82b9-0242ac110002",
       "next": "ad866254-faae-11e7-82b9-0242ac110002",
       "previous": "1eb281f2-faae-11e7-82b9-0242ac110002"
      }
     ],
     "next": "11dc2984-fab7-11e7-82b9-0242ac110002",
     "previous": "11dc28bc-fab7-11e7-82b9-0242ac110002"
    },
    "pinned_outputs": []
   },
   "outputs": [],
   "source": [
    "url = \"http://map.olp.yahooapis.jp/OpenLocalPlatform/V1/static?\" + \\\n",
    "    \"&width=2000&height=2000&lat=32.0&lon=130.0&z=10&\" + \\\n",
    "    \"appid=dj00aiZpPXRVRTJKRFRGb3dLeSZzPWNvbnN1bWVyc2VjcmV0Jng9MWU-&mode=blankmap&style=\"\n",
    "for row in municipality_list[municipality_list[\"school\"] == 0].itertuples() :\n",
    "    if math.floor(row.団体コード / 1000) >= 34 and math.floor(row.団体コード / 1000) <= 46 :\n",
    "        url = url + \"bm.p.\" + '{0:05d}'.format(row.団体コード) + \":FF0000|\"\n",
    "\n",
    "print(url)"
   ]
  },
  {
   "cell_type": "markdown",
   "metadata": {
    "hidden": true,
    "lc_cell_meme": {
     "current": "11dc2984-fab7-11e7-82b9-0242ac110002",
     "next": "ad866254-faae-11e7-82b9-0242ac110002",
     "previous": "5aae17b4-fab0-11e7-82b9-0242ac110002"
    }
   },
   "source": [
    "沖縄。"
   ]
  },
  {
   "cell_type": "code",
   "execution_count": null,
   "metadata": {
    "hidden": true,
    "lc_cell_meme": {
     "current": "ad866254-faae-11e7-82b9-0242ac110002",
     "history": [
      {
       "current": "ad866254-faae-11e7-82b9-0242ac110002",
       "next": null,
       "previous": "1eb281f2-faae-11e7-82b9-0242ac110002"
      },
      {
       "current": "ad866254-faae-11e7-82b9-0242ac110002",
       "next": "cba2571a-faaf-11e7-82b9-0242ac110002",
       "previous": "1eb281f2-faae-11e7-82b9-0242ac110002"
      },
      {
       "current": "ad866254-faae-11e7-82b9-0242ac110002",
       "next": "cba2571a-faaf-11e7-82b9-0242ac110002",
       "previous": "5aae17b4-fab0-11e7-82b9-0242ac110002"
      },
      {
       "current": "ad866254-faae-11e7-82b9-0242ac110002",
       "next": "cba2571a-faaf-11e7-82b9-0242ac110002",
       "previous": "11dc2984-fab7-11e7-82b9-0242ac110002"
      },
      {
       "current": "ad866254-faae-11e7-82b9-0242ac110002",
       "next": "59638b94-fab7-11e7-82b9-0242ac110002",
       "previous": "11dc2984-fab7-11e7-82b9-0242ac110002"
      },
      {
       "current": "ad866254-faae-11e7-82b9-0242ac110002",
       "next": "262ada88-fac7-11e7-9374-02420aff0004",
       "previous": "11dc2984-fab7-11e7-82b9-0242ac110002"
      }
     ],
     "next": "11dc2722-fab7-11e7-82b9-0242ac110002",
     "previous": "11dc2984-fab7-11e7-82b9-0242ac110002"
    },
    "pinned_outputs": []
   },
   "outputs": [],
   "source": [
    "url = \"http://map.olp.yahooapis.jp/OpenLocalPlatform/V1/static?\" + \\\n",
    "    \"&width=2000&height=2000&lat=27.0&lon=126.0&z=9&\" + \\\n",
    "    \"appid=dj00aiZpPXRVRTJKRFRGb3dLeSZzPWNvbnN1bWVyc2VjcmV0Jng9MWU-&mode=blankmap&style=\"\n",
    "for row in municipality_list[municipality_list[\"school\"] == 0].itertuples() :\n",
    "    if math.floor(row.団体コード / 1000) >= 45 :\n",
    "        url = url + \"bm.p.\" + '{0:05d}'.format(row.団体コード) + \":FF0000|\"\n",
    "\n",
    "print(url)"
   ]
  },
  {
   "cell_type": "markdown",
   "metadata": {
    "lc_cell_meme": {
     "current": "11dc2722-fab7-11e7-82b9-0242ac110002",
     "history": [
      {
       "current": "11dc2722-fab7-11e7-82b9-0242ac110002",
       "next": "82d255ec-fab6-11e7-82b9-0242ac110002",
       "previous": "f3c2a758-fab5-11e7-82b9-0242ac110002"
      },
      {
       "current": "11dc2722-fab7-11e7-82b9-0242ac110002",
       "next": "719a312c-fa99-11e7-82b9-0242ac110002",
       "previous": "2e70ed56-fa7f-11e7-82b9-0242ac110002"
      },
      {
       "current": "11dc2722-fab7-11e7-82b9-0242ac110002",
       "next": "719a312c-fa99-11e7-82b9-0242ac110002",
       "previous": "c5e53304-1546-11e8-a91b-0242ac120002"
      },
      {
       "current": "11dc2722-fab7-11e7-82b9-0242ac110002",
       "next": "719a312c-fa99-11e7-82b9-0242ac110002",
       "previous": "54ed9a8c-1547-11e8-a91b-0242ac120002"
      },
      {
       "current": "11dc2722-fab7-11e7-82b9-0242ac110002",
       "next": "719a312c-fa99-11e7-82b9-0242ac110002",
       "previous": "801a5456-15e3-11e8-a91b-0242ac120002"
      },
      {
       "current": "11dc2722-fab7-11e7-82b9-0242ac110002",
       "next": "0c579680-16c1-11e8-a91b-0242ac120002",
       "previous": "801a5456-15e3-11e8-a91b-0242ac120002"
      },
      {
       "current": "11dc2722-fab7-11e7-82b9-0242ac110002",
       "next": "0c579680-16c1-11e8-a91b-0242ac120002",
       "previous": "c5e53304-1546-11e8-a91b-0242ac120002"
      },
      {
       "current": "11dc2722-fab7-11e7-82b9-0242ac110002",
       "next": "0c579680-16c1-11e8-a91b-0242ac120002",
       "previous": "9b1e4144-16d4-11e8-a91b-0242ac120002"
      }
     ],
     "next": "0c579680-16c1-11e8-a91b-0242ac120002",
     "previous": "ad866254-faae-11e7-82b9-0242ac110002"
    }
   },
   "source": [
    "## 分析結果\n",
    "\n",
    "体験機会のない市区町村。"
   ]
  },
  {
   "cell_type": "code",
   "execution_count": null,
   "metadata": {
    "lc_cell_meme": {
     "current": "0c579680-16c1-11e8-a91b-0242ac120002",
     "history": [
      {
       "current": "0c579680-16c1-11e8-a91b-0242ac120002",
       "next": "719a312c-fa99-11e7-82b9-0242ac110002",
       "previous": "11dc2722-fab7-11e7-82b9-0242ac110002"
      },
      {
       "current": "0c579680-16c1-11e8-a91b-0242ac120002",
       "next": "53d8fc06-16c1-11e8-a91b-0242ac120002",
       "previous": "11dc2722-fab7-11e7-82b9-0242ac110002"
      }
     ],
     "next": "e376a634-16d4-11e8-a91b-0242ac120002",
     "previous": "11dc2722-fab7-11e7-82b9-0242ac110002"
    },
    "pinned_outputs": []
   },
   "outputs": [],
   "source": [
    "print(municipality_list[municipality_list[\"school\"] == 0])"
   ]
  },
  {
   "cell_type": "markdown",
   "metadata": {
    "lc_cell_meme": {
     "current": "e376a634-16d4-11e8-a91b-0242ac120002",
     "next": "53d8fc06-16c1-11e8-a91b-0242ac120002",
     "previous": "0c579680-16c1-11e8-a91b-0242ac120002"
    }
   },
   "source": [
    "千葉県と大分県と岡山県。"
   ]
  },
  {
   "cell_type": "code",
   "execution_count": null,
   "metadata": {
    "lc_cell_meme": {
     "current": "53d8fc06-16c1-11e8-a91b-0242ac120002",
     "history": [
      {
       "current": "53d8fc06-16c1-11e8-a91b-0242ac120002",
       "next": "53d8fd00-16c1-11e8-a91b-0242ac120002",
       "previous": "0c579680-16c1-11e8-a91b-0242ac120002"
      },
      {
       "current": "53d8fc06-16c1-11e8-a91b-0242ac120002",
       "next": "11dc2722-fab7-11e7-82b9-0242ac110002",
       "previous": "0c579680-16c1-11e8-a91b-0242ac120002"
      }
     ],
     "next": "e376a90e-16d4-11e8-a91b-0242ac120002",
     "previous": "e376a634-16d4-11e8-a91b-0242ac120002"
    },
    "pinned_outputs": []
   },
   "outputs": [],
   "source": [
    "print(municipality_list[(municipality_list[\"school\"] == 0)\n",
    "                        & (municipality_list[\"都道府県名\"] == \"千葉県\")])\n",
    "print(municipality_list[(municipality_list[\"school\"] == 0)\n",
    "                        & (municipality_list[\"都道府県名\"] == \"大分県\")])\n",
    "print(municipality_list[(municipality_list[\"school\"] == 0)\n",
    "                        & (municipality_list[\"都道府県名\"] == \"岡山県\")])"
   ]
  },
  {
   "cell_type": "markdown",
   "metadata": {
    "lc_cell_meme": {
     "current": "e376a90e-16d4-11e8-a91b-0242ac120002",
     "next": "11dc2722-fab7-11e7-82b9-0242ac110002",
     "previous": "53d8fc06-16c1-11e8-a91b-0242ac120002"
    }
   },
   "source": [
    "体験のない雇用圏。"
   ]
  },
  {
   "cell_type": "code",
   "execution_count": null,
   "metadata": {
    "lc_cell_meme": {
     "current": "11dc2722-fab7-11e7-82b9-0242ac110002",
     "history": [
      {
       "current": "11dc2722-fab7-11e7-82b9-0242ac110002",
       "next": "82d255ec-fab6-11e7-82b9-0242ac110002",
       "previous": "f3c2a758-fab5-11e7-82b9-0242ac110002"
      },
      {
       "current": "11dc2722-fab7-11e7-82b9-0242ac110002",
       "next": "719a312c-fa99-11e7-82b9-0242ac110002",
       "previous": "2e70ed56-fa7f-11e7-82b9-0242ac110002"
      },
      {
       "current": "11dc2722-fab7-11e7-82b9-0242ac110002",
       "next": "719a312c-fa99-11e7-82b9-0242ac110002",
       "previous": "c5e53304-1546-11e8-a91b-0242ac120002"
      },
      {
       "current": "11dc2722-fab7-11e7-82b9-0242ac110002",
       "next": "719a312c-fa99-11e7-82b9-0242ac110002",
       "previous": "54ed9a8c-1547-11e8-a91b-0242ac120002"
      },
      {
       "current": "11dc2722-fab7-11e7-82b9-0242ac110002",
       "next": "719a312c-fa99-11e7-82b9-0242ac110002",
       "previous": "801a5456-15e3-11e8-a91b-0242ac120002"
      },
      {
       "current": "11dc2722-fab7-11e7-82b9-0242ac110002",
       "next": "0c579680-16c1-11e8-a91b-0242ac120002",
       "previous": "801a5456-15e3-11e8-a91b-0242ac120002"
      },
      {
       "current": "11dc2722-fab7-11e7-82b9-0242ac110002",
       "next": "719a312c-fa99-11e7-82b9-0242ac110002",
       "previous": "53d8fd00-16c1-11e8-a91b-0242ac120002"
      },
      {
       "current": "11dc2722-fab7-11e7-82b9-0242ac110002",
       "next": "719a312c-fa99-11e7-82b9-0242ac110002",
       "previous": "53d8fc06-16c1-11e8-a91b-0242ac120002"
      },
      {
       "current": "11dc2722-fab7-11e7-82b9-0242ac110002",
       "next": "11dc2722-fab7-11e7-82b9-0242ac110002",
       "previous": "53d8fc06-16c1-11e8-a91b-0242ac120002"
      }
     ],
     "next": "11dc2722-fab7-11e7-82b9-0242ac110002",
     "previous": "e376a90e-16d4-11e8-a91b-0242ac120002"
    },
    "pinned_outputs": []
   },
   "outputs": [],
   "source": [
    "print(target_municipality_list.sort_values(by=\"圏内小中学生\", ascending=False))"
   ]
  },
  {
   "cell_type": "markdown",
   "metadata": {
    "lc_cell_meme": {
     "current": "11dc2722-fab7-11e7-82b9-0242ac110002",
     "history": [
      {
       "current": "11dc2722-fab7-11e7-82b9-0242ac110002",
       "next": "82d255ec-fab6-11e7-82b9-0242ac110002",
       "previous": "f3c2a758-fab5-11e7-82b9-0242ac110002"
      },
      {
       "current": "11dc2722-fab7-11e7-82b9-0242ac110002",
       "next": "719a312c-fa99-11e7-82b9-0242ac110002",
       "previous": "2e70ed56-fa7f-11e7-82b9-0242ac110002"
      },
      {
       "current": "11dc2722-fab7-11e7-82b9-0242ac110002",
       "next": "719a312c-fa99-11e7-82b9-0242ac110002",
       "previous": "c5e53304-1546-11e8-a91b-0242ac120002"
      },
      {
       "current": "11dc2722-fab7-11e7-82b9-0242ac110002",
       "next": "719a312c-fa99-11e7-82b9-0242ac110002",
       "previous": "54ed9a8c-1547-11e8-a91b-0242ac120002"
      },
      {
       "current": "11dc2722-fab7-11e7-82b9-0242ac110002",
       "next": "719a312c-fa99-11e7-82b9-0242ac110002",
       "previous": "801a5456-15e3-11e8-a91b-0242ac120002"
      },
      {
       "current": "11dc2722-fab7-11e7-82b9-0242ac110002",
       "next": "0c579680-16c1-11e8-a91b-0242ac120002",
       "previous": "801a5456-15e3-11e8-a91b-0242ac120002"
      },
      {
       "current": "11dc2722-fab7-11e7-82b9-0242ac110002",
       "next": "719a312c-fa99-11e7-82b9-0242ac110002",
       "previous": "53d8fd00-16c1-11e8-a91b-0242ac120002"
      },
      {
       "current": "11dc2722-fab7-11e7-82b9-0242ac110002",
       "next": "719a312c-fa99-11e7-82b9-0242ac110002",
       "previous": "53d8fc06-16c1-11e8-a91b-0242ac120002"
      },
      {
       "current": "11dc2722-fab7-11e7-82b9-0242ac110002",
       "next": "719a312c-fa99-11e7-82b9-0242ac110002",
       "previous": "11dc2722-fab7-11e7-82b9-0242ac110002"
      }
     ],
     "next": "262ada88-fac7-11e7-9374-02420aff0004",
     "previous": "11dc2722-fab7-11e7-82b9-0242ac110002"
    }
   },
   "source": [
    "地図。"
   ]
  },
  {
   "cell_type": "markdown",
   "metadata": {
    "lc_cell_meme": {
     "current": "262ada88-fac7-11e7-9374-02420aff0004",
     "history": [
      {
       "current": "262ada88-fac7-11e7-9374-02420aff0004",
       "next": "59638b94-fab7-11e7-82b9-0242ac110002",
       "previous": "ad866254-faae-11e7-82b9-0242ac110002"
      }
     ],
     "next": "59638b94-fab7-11e7-82b9-0242ac110002",
     "previous": "11dc2722-fab7-11e7-82b9-0242ac110002"
    }
   },
   "source": [
    "![北海道](hokkaido.png)\n",
    "![東北](tohoku.png)\n",
    "![関東](kanto.png)\n",
    "![関西](kansai.png)\n",
    "![九州](kyushu.png)\n",
    "![沖縄](okinawa.png)"
   ]
  },
  {
   "cell_type": "markdown",
   "metadata": {
    "lc_cell_meme": {
     "current": "59638b94-fab7-11e7-82b9-0242ac110002",
     "history": [
      {
       "current": "59638b94-fab7-11e7-82b9-0242ac110002",
       "next": null,
       "previous": "ad866254-faae-11e7-82b9-0242ac110002"
      },
      {
       "current": "59638b94-fab7-11e7-82b9-0242ac110002",
       "next": null,
       "previous": "ad866254-faae-11e7-82b9-0242ac110002"
      },
      {
       "current": "59638b94-fab7-11e7-82b9-0242ac110002",
       "next": null,
       "previous": "262ada88-fac7-11e7-9374-02420aff0004"
      }
     ],
     "next": null,
     "previous": "262ada88-fac7-11e7-9374-02420aff0004"
    }
   },
   "source": [
    "## さいごに\n",
    "\n",
    "教室リストの網羅精度をより高めれば、空白地帯を把握することが可能になると思われるが、現在の結果を見るところ、少し精度が低い。\n",
    "\n",
    "この結果を手掛かりに、地方での体験機会創出に繋げたい。\n",
    "\n",
    "# まだ見ぬあなたへ\n",
    "\n",
    "![まだ見ぬあなたへ](https://auctions.c.yimg.jp/images.auctions.yahoo.co.jp/image/dr187/auc0303/users/5/0/2/6/rumors_r-img313x600-1433922746s8qdny14106.jpg)"
   ]
  }
 ],
 "metadata": {
  "kernelspec": {
   "display_name": "Python 3 (LC_wrapper)",
   "language": "python",
   "name": "python3-wrapper"
  },
  "language_info": {
   "file_extension": ".py",
   "mimetype": "text/x-python",
   "name": "python",
   "nbconvert_exporter": "python",
   "pygments_lexer": "ipython3",
   "version": "3.6.3"
  },
  "lc_notebook_meme": {
   "current": "35a81da2-f29f-11e7-b919-0242ac130002",
   "lc_server_signature": {
    "current": {
     "notebook_dir": "/home/jovyan",
     "notebook_path": "/sig4ng2018",
     "server_url": "http://ip172-18-0-21-ba6llnf8h51g00b5eai0-8888.direct.labs.play-with-docker.com/",
     "signature_id": "3f1e6ec8-16fc-11e8-b3ff-02420aff0004"
    },
    "history": [
     {
      "notebook_dir": "/home/jovyan",
      "notebook_path": "/",
      "server_url": "http://localhost:8888/",
      "signature_id": "e7c9a7a4-f29e-11e7-b919-0242ac130002"
     },
     {
      "notebook_dir": "/home/jovyan",
      "notebook_path": "/",
      "server_url": "http://localhost:8888/",
      "signature_id": "3b14f2fc-f415-11e7-95ed-0242ac130002"
     },
     {
      "notebook_dir": "/home/jovyan",
      "notebook_path": "/",
      "server_url": "http://localhost:8888/",
      "signature_id": "46d4b118-f433-11e7-aa5d-0242ac130002"
     },
     {
      "notebook_dir": "/home/jovyan",
      "notebook_path": "/",
      "server_url": "http://localhost:8888/",
      "signature_id": "8a8db270-f9dc-11e7-ab82-0242ac110002"
     },
     {
      "notebook_dir": "/home/jovyan",
      "notebook_path": "/sig4ng2018",
      "server_url": "http://ip172-18-0-14-b9f01dcrl5h000dcu090-8888.direct.labs.play-with-docker.com/",
      "signature_id": "df1a55c8-fac2-11e7-9374-02420aff0004"
     },
     {
      "notebook_dir": "/home/jovyan",
      "notebook_path": "/sig4ng2018",
      "server_url": "http://localhost:8888/",
      "signature_id": "cedfd3f0-147f-11e8-a91b-0242ac120002"
     },
     {
      "notebook_dir": "/home/jovyan",
      "notebook_path": "/sig4ng2018",
      "server_url": "http://localhost:8888/",
      "signature_id": "4910d2ac-16e0-11e8-91d9-0242ac120002"
     }
    ]
   }
  },
  "toc": {
   "nav_menu": {},
   "number_sections": true,
   "sideBar": true,
   "skip_h1_title": false,
   "title_cell": "Table of Contents",
   "title_sidebar": "Contents",
   "toc_cell": false,
   "toc_position": {
    "height": "calc(100% - 180px)",
    "left": "10px",
    "top": "150px",
    "width": "207px"
   },
   "toc_section_display": true,
   "toc_window_display": false
  }
 },
 "nbformat": 4,
 "nbformat_minor": 2
}
